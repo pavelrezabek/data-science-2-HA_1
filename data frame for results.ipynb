{
 "cells": [
  {
   "cell_type": "code",
   "execution_count": 26,
   "id": "9edf5205",
   "metadata": {},
   "outputs": [],
   "source": [
    "import pandas as pd\n",
    "from itertools import product\n",
    "import math\n",
    "\n"
   ]
  },
  {
   "cell_type": "code",
   "execution_count": 3,
   "id": "993b87d2",
   "metadata": {},
   "outputs": [
    {
     "name": "stdout",
     "output_type": "stream",
     "text": [
      "     eta  max_depth  lambda\n",
      "0   0.05          3     0.0\n",
      "1   0.05          3     0.1\n",
      "2   0.05          3     1.0\n",
      "3   0.05          3    10.0\n",
      "4   0.05          4     0.0\n",
      "5   0.05          4     0.1\n",
      "6   0.05          4     1.0\n",
      "7   0.05          4    10.0\n",
      "8   0.05          5     0.0\n",
      "9   0.05          5     0.1\n",
      "10  0.05          5     1.0\n",
      "11  0.05          5    10.0\n",
      "12  0.10          3     0.0\n",
      "13  0.10          3     0.1\n",
      "14  0.10          3     1.0\n",
      "15  0.10          3    10.0\n",
      "16  0.10          4     0.0\n",
      "17  0.10          4     0.1\n",
      "18  0.10          4     1.0\n",
      "19  0.10          4    10.0\n",
      "20  0.10          5     0.0\n",
      "21  0.10          5     0.1\n",
      "22  0.10          5     1.0\n",
      "23  0.10          5    10.0\n",
      "24  0.20          3     0.0\n",
      "25  0.20          3     0.1\n",
      "26  0.20          3     1.0\n",
      "27  0.20          3    10.0\n",
      "28  0.20          4     0.0\n",
      "29  0.20          4     0.1\n",
      "30  0.20          4     1.0\n",
      "31  0.20          4    10.0\n",
      "32  0.20          5     0.0\n",
      "33  0.20          5     0.1\n",
      "34  0.20          5     1.0\n",
      "35  0.20          5    10.0\n",
      "36  0.30          3     0.0\n",
      "37  0.30          3     0.1\n",
      "38  0.30          3     1.0\n",
      "39  0.30          3    10.0\n",
      "40  0.30          4     0.0\n",
      "41  0.30          4     0.1\n",
      "42  0.30          4     1.0\n",
      "43  0.30          4    10.0\n",
      "44  0.30          5     0.0\n",
      "45  0.30          5     0.1\n",
      "46  0.30          5     1.0\n",
      "47  0.30          5    10.0\n",
      "48  0.40          3     0.0\n",
      "49  0.40          3     0.1\n",
      "50  0.40          3     1.0\n",
      "51  0.40          3    10.0\n",
      "52  0.40          4     0.0\n",
      "53  0.40          4     0.1\n",
      "54  0.40          4     1.0\n",
      "55  0.40          4    10.0\n",
      "56  0.40          5     0.0\n",
      "57  0.40          5     0.1\n",
      "58  0.40          5     1.0\n",
      "59  0.40          5    10.0\n"
     ]
    }
   ],
   "source": [
    "params_gs = {\n",
    "    'eta': [0.05, 0.1, 0.2, 0.3, 0.4],\n",
    "    'max_depth': [3, 4, 5],\n",
    "    'lambda': [0, 0.1, 1, 10]\n",
    "}\n",
    "\n",
    "# create all combinations of parameters\n",
    "param_combinations = list(product(*params_gs.values()))\n",
    "\n",
    "# create a DataFrame with the parameter combinations\n",
    "param_df = pd.DataFrame(param_combinations, columns=params_gs.keys())\n",
    "\n",
    "# print the DataFrame\n",
    "print(param_df)\n"
   ]
  },
  {
   "cell_type": "code",
   "execution_count": 19,
   "id": "76965ca6",
   "metadata": {},
   "outputs": [
    {
     "name": "stdout",
     "output_type": "stream",
     "text": [
      "   A  C\n",
      "0  1  7\n",
      "1  2  8\n",
      "2  3  9\n"
     ]
    }
   ],
   "source": [
    "df = pd.DataFrame({'A': [1, 2, 3], 'B': [4, 5, 6], 'C': [7, 8, 9]})\n",
    "\n",
    "aaa = ['A', 'C']\n",
    "bbb = ['A', 'C']\n",
    "ccc = ['A', 'C']\n",
    "\n",
    "predictor_set_list = [aaa,bbb,ccc]\n",
    "\n",
    "# select columns 'A' and 'C'\n",
    "selected_columns = df[ddd[0]]\n",
    "\n",
    "# print the selected columns\n",
    "print(selected_columns)"
   ]
  },
  {
   "cell_type": "code",
   "execution_count": null,
   "id": "d04c5554",
   "metadata": {},
   "outputs": [],
   "source": []
  },
  {
   "cell_type": "code",
   "execution_count": 36,
   "id": "0e4631c5",
   "metadata": {},
   "outputs": [
    {
     "name": "stdout",
     "output_type": "stream",
     "text": [
      "          0          1          2          3          4          5   \\\n",
      "0   0.0(0.0)   0.0(0.0)   0.0(0.0)   0.0(0.0)   0.0(0.0)   0.0(0.0)   \n",
      "1  0.05(0.0)  0.05(0.0)  0.05(0.0)  0.05(0.0)  0.05(0.0)  0.05(0.0)   \n",
      "2   0.1(0.0)   0.1(0.0)   0.1(0.0)   0.1(0.0)   0.1(0.0)   0.1(0.0)   \n",
      "\n",
      "          6          7          8          9   ...        50        51  \\\n",
      "0   0.0(0.0)   0.0(0.0)   0.0(0.0)   0.0(0.0)  ...  0.0(0.0)  0.0(0.0)   \n",
      "1  0.05(0.0)  0.05(0.0)  0.05(0.0)  0.05(0.0)  ...  0.4(0.0)  0.4(0.0)   \n",
      "2   0.1(0.0)   0.1(0.0)   0.1(0.0)   0.1(0.0)  ...  0.8(0.0)  0.8(0.0)   \n",
      "\n",
      "         52        53        54        55        56        57        58  \\\n",
      "0  0.0(0.0)  0.0(0.0)  0.0(0.0)  0.0(0.0)  0.0(0.0)  0.0(0.0)  0.0(0.0)   \n",
      "1  0.4(0.0)  0.4(0.0)  0.4(0.0)  0.4(0.0)  0.4(0.0)  0.4(0.0)  0.4(0.0)   \n",
      "2  0.8(0.0)  0.8(0.0)  0.8(0.0)  0.8(0.0)  0.8(0.0)  0.8(0.0)  0.8(0.0)   \n",
      "\n",
      "         59  \n",
      "0  0.0(0.0)  \n",
      "1  0.4(0.0)  \n",
      "2  0.8(0.0)  \n",
      "\n",
      "[3 rows x 60 columns]\n"
     ]
    }
   ],
   "source": [
    "# Initialize the first row and first column values\n",
    "first_row = list(range(0, 60))\n",
    "first_col = list(range(0, 3))\n",
    "\n",
    "# Create an empty data frame with the given row and column labels\n",
    "df = pd.DataFrame(index=first_col, columns=first_row)\n",
    "\n",
    "# Fill the data frame with the product of the row and column values\n",
    "for row in first_col:\n",
    "    for col in first_row:\n",
    "        list_of_results=[]\n",
    "        for i in range(5):\n",
    "            ETA = param_df.iloc[col, 0]\n",
    "            max_depth = param_df.iloc[col, 1]\n",
    "            MY_lambda = param_df.iloc[col, 2]\n",
    "            \n",
    "            predictor_set = predictor_set_list[row]\n",
    "            \n",
    "            \n",
    "            #here we should put the function with the specifications:\n",
    "            AUC = row * ETA\n",
    "            \n",
    "            \n",
    "            list_of_results.append(AUC)\n",
    "            \n",
    "        average = sum(list_of_results) / len(list_of_results)\n",
    "        var_res = math.sqrt(sum((xi - average) ** 2 for xi in list_of_results) / len(list_of_results))\n",
    "\n",
    "        result = str(average) + \"(\" + str(var_res) + \")\"\n",
    "        df.at[row, col] = result\n",
    "\n",
    "print(df)"
   ]
  },
  {
   "cell_type": "code",
   "execution_count": null,
   "id": "fb60a798",
   "metadata": {},
   "outputs": [],
   "source": []
  },
  {
   "cell_type": "code",
   "execution_count": null,
   "id": "28769b70",
   "metadata": {},
   "outputs": [],
   "source": []
  },
  {
   "cell_type": "code",
   "execution_count": null,
   "id": "14d42ba5",
   "metadata": {},
   "outputs": [],
   "source": []
  },
  {
   "cell_type": "code",
   "execution_count": null,
   "id": "8e502a55",
   "metadata": {},
   "outputs": [],
   "source": []
  }
 ],
 "metadata": {
  "kernelspec": {
   "display_name": "Python 3 (ipykernel)",
   "language": "python",
   "name": "python3"
  },
  "language_info": {
   "codemirror_mode": {
    "name": "ipython",
    "version": 3
   },
   "file_extension": ".py",
   "mimetype": "text/x-python",
   "name": "python",
   "nbconvert_exporter": "python",
   "pygments_lexer": "ipython3",
   "version": "3.8.12"
  }
 },
 "nbformat": 4,
 "nbformat_minor": 5
}
