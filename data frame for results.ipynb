{
 "cells": [
  {
   "cell_type": "code",
   "execution_count": 2,
   "id": "9edf5205",
   "metadata": {},
   "outputs": [],
   "source": [
    "import pandas as pd"
   ]
  },
  {
   "cell_type": "code",
   "execution_count": 18,
   "id": "0e4631c5",
   "metadata": {},
   "outputs": [
    {
     "name": "stdout",
     "output_type": "stream",
     "text": [
      "    2     3     4     5     6     7     8     9     10    11    12\n",
      "1  2.0   3.0   4.0   5.0   6.0   7.0   8.0   9.0  10.0  11.0  12.0\n",
      "2  4.0   6.0   8.0  10.0  12.0  14.0  16.0  18.0  20.0  22.0  24.0\n",
      "3  6.0   9.0  12.0  15.0  18.0  21.0  24.0  27.0  30.0  33.0  36.0\n",
      "4  8.0  12.0  16.0  20.0  24.0  28.0  32.0  36.0  40.0  44.0  48.0\n"
     ]
    }
   ],
   "source": [
    "# Initialize the first row and first column values\n",
    "first_row = list(range(2, 13))\n",
    "first_col = list(range(1, 5))\n",
    "\n",
    "# Create an empty data frame with the given row and column labels\n",
    "df = pd.DataFrame(index=first_col, columns=first_row)\n",
    "\n",
    "# Fill the data frame with the product of the row and column values\n",
    "for row in first_col:\n",
    "    for col in first_row:\n",
    "        list_of_results=[]\n",
    "        for i in range(5):\n",
    "            \n",
    "            #here we should put the function with the specifications:\n",
    "            AUC = row * col\n",
    "            \n",
    "            \n",
    "            list_of_results.append(AUC)\n",
    "            \n",
    "        average = sum(list_of_results) / len(list_of_results) \n",
    "        df.at[row, col] = average\n",
    "\n",
    "print(df)"
   ]
  },
  {
   "cell_type": "code",
   "execution_count": 7,
   "id": "fb60a798",
   "metadata": {},
   "outputs": [],
   "source": []
  },
  {
   "cell_type": "code",
   "execution_count": null,
   "id": "28769b70",
   "metadata": {},
   "outputs": [],
   "source": []
  }
 ],
 "metadata": {
  "kernelspec": {
   "display_name": "Python 3 (ipykernel)",
   "language": "python",
   "name": "python3"
  },
  "language_info": {
   "codemirror_mode": {
    "name": "ipython",
    "version": 3
   },
   "file_extension": ".py",
   "mimetype": "text/x-python",
   "name": "python",
   "nbconvert_exporter": "python",
   "pygments_lexer": "ipython3",
   "version": "3.8.12"
  }
 },
 "nbformat": 4,
 "nbformat_minor": 5
}
