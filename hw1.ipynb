{
 "cells": [
  {
   "cell_type": "code",
   "execution_count": 1,
   "metadata": {
    "ExecuteTime": {
     "end_time": "2023-04-18T07:34:55.663017Z",
     "start_time": "2023-04-18T07:34:45.850004Z"
    }
   },
   "outputs": [],
   "source": [
    "import numpy as np\n",
    "import pandas as pd\n",
    "import matplotlib.pyplot as plt\n",
    "import seaborn as sns\n",
    "import datetime\n",
    "import pickle\n",
    "from tqdm.notebook import tqdm\n",
    "\n",
    "from sklearn.model_selection import train_test_split, KFold\n",
    "from sklearn.metrics import roc_auc_score, roc_curve\n",
    "from sklearn.linear_model import LogisticRegression\n",
    "from sklearn.inspection import permutation_importance\n",
    "import xgboost as xgb"
   ]
  },
  {
   "cell_type": "markdown",
   "metadata": {},
   "source": [
    "# Data"
   ]
  },
  {
   "cell_type": "code",
   "execution_count": 156,
   "metadata": {
    "ExecuteTime": {
     "end_time": "2023-04-17T13:22:18.686627Z",
     "start_time": "2023-04-17T13:22:18.561478Z"
    }
   },
   "outputs": [],
   "source": [
    "data = pd.read_csv('2023_DS2_HW1_data_train.csv', sep = ',', decimal = '.', index_col = 'Booking_ID')"
   ]
  },
  {
   "cell_type": "code",
   "execution_count": 157,
   "metadata": {
    "ExecuteTime": {
     "end_time": "2023-04-17T13:22:19.069891Z",
     "start_time": "2023-04-17T13:22:19.021158Z"
    }
   },
   "outputs": [
    {
     "data": {
      "text/html": [
       "<div>\n",
       "<style scoped>\n",
       "    .dataframe tbody tr th:only-of-type {\n",
       "        vertical-align: middle;\n",
       "    }\n",
       "\n",
       "    .dataframe tbody tr th {\n",
       "        vertical-align: top;\n",
       "    }\n",
       "\n",
       "    .dataframe thead th {\n",
       "        text-align: right;\n",
       "    }\n",
       "</style>\n",
       "<table border=\"1\" class=\"dataframe\">\n",
       "  <thead>\n",
       "    <tr style=\"text-align: right;\">\n",
       "      <th></th>\n",
       "      <th>no_of_adults</th>\n",
       "      <th>no_of_children</th>\n",
       "      <th>no_of_weekend_nights</th>\n",
       "      <th>no_of_week_nights</th>\n",
       "      <th>type_of_meal_plan</th>\n",
       "      <th>required_car_parking_space</th>\n",
       "      <th>room_type_reserved</th>\n",
       "      <th>lead_time</th>\n",
       "      <th>arrival_year</th>\n",
       "      <th>arrival_month</th>\n",
       "      <th>arrival_date</th>\n",
       "      <th>market_segment_type</th>\n",
       "      <th>repeated_guest</th>\n",
       "      <th>no_of_previous_cancellations</th>\n",
       "      <th>no_of_previous_bookings_not_canceled</th>\n",
       "      <th>avg_price_per_room</th>\n",
       "      <th>no_of_special_requests</th>\n",
       "      <th>booking_status</th>\n",
       "    </tr>\n",
       "    <tr>\n",
       "      <th>Booking_ID</th>\n",
       "      <th></th>\n",
       "      <th></th>\n",
       "      <th></th>\n",
       "      <th></th>\n",
       "      <th></th>\n",
       "      <th></th>\n",
       "      <th></th>\n",
       "      <th></th>\n",
       "      <th></th>\n",
       "      <th></th>\n",
       "      <th></th>\n",
       "      <th></th>\n",
       "      <th></th>\n",
       "      <th></th>\n",
       "      <th></th>\n",
       "      <th></th>\n",
       "      <th></th>\n",
       "      <th></th>\n",
       "    </tr>\n",
       "  </thead>\n",
       "  <tbody>\n",
       "    <tr>\n",
       "      <th>INN10204</th>\n",
       "      <td>NaN</td>\n",
       "      <td>NaN</td>\n",
       "      <td>NaN</td>\n",
       "      <td>2.0</td>\n",
       "      <td>Meal Plan 2</td>\n",
       "      <td>NaN</td>\n",
       "      <td>Room_Type 6</td>\n",
       "      <td>NaN</td>\n",
       "      <td>2018.0</td>\n",
       "      <td>9.0</td>\n",
       "      <td>NaN</td>\n",
       "      <td>Online</td>\n",
       "      <td>0.0</td>\n",
       "      <td>0.0</td>\n",
       "      <td>NaN</td>\n",
       "      <td>NaN</td>\n",
       "      <td>1.0</td>\n",
       "      <td>0.0</td>\n",
       "    </tr>\n",
       "    <tr>\n",
       "      <th>INN20020</th>\n",
       "      <td>NaN</td>\n",
       "      <td>NaN</td>\n",
       "      <td>NaN</td>\n",
       "      <td>2.0</td>\n",
       "      <td>Meal Plan 1</td>\n",
       "      <td>NaN</td>\n",
       "      <td>NaN</td>\n",
       "      <td>NaN</td>\n",
       "      <td>NaN</td>\n",
       "      <td>12.0</td>\n",
       "      <td>NaN</td>\n",
       "      <td>Online</td>\n",
       "      <td>0.0</td>\n",
       "      <td>0.0</td>\n",
       "      <td>0.0</td>\n",
       "      <td>NaN</td>\n",
       "      <td>NaN</td>\n",
       "      <td>0.0</td>\n",
       "    </tr>\n",
       "    <tr>\n",
       "      <th>INN16435</th>\n",
       "      <td>1.0</td>\n",
       "      <td>NaN</td>\n",
       "      <td>NaN</td>\n",
       "      <td>2.0</td>\n",
       "      <td>NaN</td>\n",
       "      <td>0.0</td>\n",
       "      <td>Room_Type 1</td>\n",
       "      <td>NaN</td>\n",
       "      <td>2018.0</td>\n",
       "      <td>11.0</td>\n",
       "      <td>NaN</td>\n",
       "      <td>NaN</td>\n",
       "      <td>0.0</td>\n",
       "      <td>0.0</td>\n",
       "      <td>NaN</td>\n",
       "      <td>NaN</td>\n",
       "      <td>1.0</td>\n",
       "      <td>0.0</td>\n",
       "    </tr>\n",
       "    <tr>\n",
       "      <th>INN07143</th>\n",
       "      <td>3.0</td>\n",
       "      <td>NaN</td>\n",
       "      <td>NaN</td>\n",
       "      <td>3.0</td>\n",
       "      <td>NaN</td>\n",
       "      <td>NaN</td>\n",
       "      <td>NaN</td>\n",
       "      <td>100.0</td>\n",
       "      <td>2018.0</td>\n",
       "      <td>5.0</td>\n",
       "      <td>NaN</td>\n",
       "      <td>Online</td>\n",
       "      <td>0.0</td>\n",
       "      <td>0.0</td>\n",
       "      <td>NaN</td>\n",
       "      <td>NaN</td>\n",
       "      <td>2.0</td>\n",
       "      <td>0.0</td>\n",
       "    </tr>\n",
       "    <tr>\n",
       "      <th>INN20511</th>\n",
       "      <td>1.0</td>\n",
       "      <td>0.0</td>\n",
       "      <td>1.0</td>\n",
       "      <td>1.0</td>\n",
       "      <td>Meal Plan 1</td>\n",
       "      <td>0.0</td>\n",
       "      <td>NaN</td>\n",
       "      <td>NaN</td>\n",
       "      <td>2018.0</td>\n",
       "      <td>11.0</td>\n",
       "      <td>NaN</td>\n",
       "      <td>NaN</td>\n",
       "      <td>0.0</td>\n",
       "      <td>0.0</td>\n",
       "      <td>0.0</td>\n",
       "      <td>150.0</td>\n",
       "      <td>NaN</td>\n",
       "      <td>1.0</td>\n",
       "    </tr>\n",
       "    <tr>\n",
       "      <th>...</th>\n",
       "      <td>...</td>\n",
       "      <td>...</td>\n",
       "      <td>...</td>\n",
       "      <td>...</td>\n",
       "      <td>...</td>\n",
       "      <td>...</td>\n",
       "      <td>...</td>\n",
       "      <td>...</td>\n",
       "      <td>...</td>\n",
       "      <td>...</td>\n",
       "      <td>...</td>\n",
       "      <td>...</td>\n",
       "      <td>...</td>\n",
       "      <td>...</td>\n",
       "      <td>...</td>\n",
       "      <td>...</td>\n",
       "      <td>...</td>\n",
       "      <td>...</td>\n",
       "    </tr>\n",
       "    <tr>\n",
       "      <th>INN16851</th>\n",
       "      <td>2.0</td>\n",
       "      <td>NaN</td>\n",
       "      <td>NaN</td>\n",
       "      <td>NaN</td>\n",
       "      <td>Meal Plan 1</td>\n",
       "      <td>NaN</td>\n",
       "      <td>NaN</td>\n",
       "      <td>43.0</td>\n",
       "      <td>2017.0</td>\n",
       "      <td>12.0</td>\n",
       "      <td>26.0</td>\n",
       "      <td>Offline</td>\n",
       "      <td>NaN</td>\n",
       "      <td>0.0</td>\n",
       "      <td>0.0</td>\n",
       "      <td>NaN</td>\n",
       "      <td>2.0</td>\n",
       "      <td>0.0</td>\n",
       "    </tr>\n",
       "    <tr>\n",
       "      <th>INN06266</th>\n",
       "      <td>1.0</td>\n",
       "      <td>NaN</td>\n",
       "      <td>NaN</td>\n",
       "      <td>2.0</td>\n",
       "      <td>Meal Plan 2</td>\n",
       "      <td>0.0</td>\n",
       "      <td>Room_Type 1</td>\n",
       "      <td>102.0</td>\n",
       "      <td>2017.0</td>\n",
       "      <td>10.0</td>\n",
       "      <td>NaN</td>\n",
       "      <td>Online</td>\n",
       "      <td>NaN</td>\n",
       "      <td>0.0</td>\n",
       "      <td>NaN</td>\n",
       "      <td>80.0</td>\n",
       "      <td>NaN</td>\n",
       "      <td>1.0</td>\n",
       "    </tr>\n",
       "    <tr>\n",
       "      <th>INN11285</th>\n",
       "      <td>2.0</td>\n",
       "      <td>NaN</td>\n",
       "      <td>NaN</td>\n",
       "      <td>2.0</td>\n",
       "      <td>NaN</td>\n",
       "      <td>NaN</td>\n",
       "      <td>NaN</td>\n",
       "      <td>NaN</td>\n",
       "      <td>2018.0</td>\n",
       "      <td>5.0</td>\n",
       "      <td>NaN</td>\n",
       "      <td>Corporate</td>\n",
       "      <td>0.0</td>\n",
       "      <td>0.0</td>\n",
       "      <td>0.0</td>\n",
       "      <td>NaN</td>\n",
       "      <td>1.0</td>\n",
       "      <td>0.0</td>\n",
       "    </tr>\n",
       "    <tr>\n",
       "      <th>INN00861</th>\n",
       "      <td>2.0</td>\n",
       "      <td>NaN</td>\n",
       "      <td>NaN</td>\n",
       "      <td>3.0</td>\n",
       "      <td>Meal Plan 1</td>\n",
       "      <td>0.0</td>\n",
       "      <td>NaN</td>\n",
       "      <td>NaN</td>\n",
       "      <td>2018.0</td>\n",
       "      <td>6.0</td>\n",
       "      <td>NaN</td>\n",
       "      <td>Online</td>\n",
       "      <td>NaN</td>\n",
       "      <td>0.0</td>\n",
       "      <td>NaN</td>\n",
       "      <td>NaN</td>\n",
       "      <td>0.0</td>\n",
       "      <td>1.0</td>\n",
       "    </tr>\n",
       "    <tr>\n",
       "      <th>INN15796</th>\n",
       "      <td>2.0</td>\n",
       "      <td>NaN</td>\n",
       "      <td>NaN</td>\n",
       "      <td>2.0</td>\n",
       "      <td>NaN</td>\n",
       "      <td>NaN</td>\n",
       "      <td>NaN</td>\n",
       "      <td>14.0</td>\n",
       "      <td>2018.0</td>\n",
       "      <td>9.0</td>\n",
       "      <td>15.0</td>\n",
       "      <td>Online</td>\n",
       "      <td>NaN</td>\n",
       "      <td>0.0</td>\n",
       "      <td>NaN</td>\n",
       "      <td>NaN</td>\n",
       "      <td>NaN</td>\n",
       "      <td>0.0</td>\n",
       "    </tr>\n",
       "  </tbody>\n",
       "</table>\n",
       "<p>32647 rows × 18 columns</p>\n",
       "</div>"
      ],
      "text/plain": [
       "            no_of_adults  no_of_children  no_of_weekend_nights  \\\n",
       "Booking_ID                                                       \n",
       "INN10204             NaN             NaN                   NaN   \n",
       "INN20020             NaN             NaN                   NaN   \n",
       "INN16435             1.0             NaN                   NaN   \n",
       "INN07143             3.0             NaN                   NaN   \n",
       "INN20511             1.0             0.0                   1.0   \n",
       "...                  ...             ...                   ...   \n",
       "INN16851             2.0             NaN                   NaN   \n",
       "INN06266             1.0             NaN                   NaN   \n",
       "INN11285             2.0             NaN                   NaN   \n",
       "INN00861             2.0             NaN                   NaN   \n",
       "INN15796             2.0             NaN                   NaN   \n",
       "\n",
       "            no_of_week_nights type_of_meal_plan  required_car_parking_space  \\\n",
       "Booking_ID                                                                    \n",
       "INN10204                  2.0       Meal Plan 2                         NaN   \n",
       "INN20020                  2.0       Meal Plan 1                         NaN   \n",
       "INN16435                  2.0               NaN                         0.0   \n",
       "INN07143                  3.0               NaN                         NaN   \n",
       "INN20511                  1.0       Meal Plan 1                         0.0   \n",
       "...                       ...               ...                         ...   \n",
       "INN16851                  NaN       Meal Plan 1                         NaN   \n",
       "INN06266                  2.0       Meal Plan 2                         0.0   \n",
       "INN11285                  2.0               NaN                         NaN   \n",
       "INN00861                  3.0       Meal Plan 1                         0.0   \n",
       "INN15796                  2.0               NaN                         NaN   \n",
       "\n",
       "           room_type_reserved  lead_time  arrival_year  arrival_month  \\\n",
       "Booking_ID                                                              \n",
       "INN10204          Room_Type 6        NaN        2018.0            9.0   \n",
       "INN20020                  NaN        NaN           NaN           12.0   \n",
       "INN16435          Room_Type 1        NaN        2018.0           11.0   \n",
       "INN07143                  NaN      100.0        2018.0            5.0   \n",
       "INN20511                  NaN        NaN        2018.0           11.0   \n",
       "...                       ...        ...           ...            ...   \n",
       "INN16851                  NaN       43.0        2017.0           12.0   \n",
       "INN06266          Room_Type 1      102.0        2017.0           10.0   \n",
       "INN11285                  NaN        NaN        2018.0            5.0   \n",
       "INN00861                  NaN        NaN        2018.0            6.0   \n",
       "INN15796                  NaN       14.0        2018.0            9.0   \n",
       "\n",
       "            arrival_date market_segment_type  repeated_guest  \\\n",
       "Booking_ID                                                     \n",
       "INN10204             NaN              Online             0.0   \n",
       "INN20020             NaN              Online             0.0   \n",
       "INN16435             NaN                 NaN             0.0   \n",
       "INN07143             NaN              Online             0.0   \n",
       "INN20511             NaN                 NaN             0.0   \n",
       "...                  ...                 ...             ...   \n",
       "INN16851            26.0             Offline             NaN   \n",
       "INN06266             NaN              Online             NaN   \n",
       "INN11285             NaN           Corporate             0.0   \n",
       "INN00861             NaN              Online             NaN   \n",
       "INN15796            15.0              Online             NaN   \n",
       "\n",
       "            no_of_previous_cancellations  \\\n",
       "Booking_ID                                 \n",
       "INN10204                             0.0   \n",
       "INN20020                             0.0   \n",
       "INN16435                             0.0   \n",
       "INN07143                             0.0   \n",
       "INN20511                             0.0   \n",
       "...                                  ...   \n",
       "INN16851                             0.0   \n",
       "INN06266                             0.0   \n",
       "INN11285                             0.0   \n",
       "INN00861                             0.0   \n",
       "INN15796                             0.0   \n",
       "\n",
       "            no_of_previous_bookings_not_canceled  avg_price_per_room  \\\n",
       "Booking_ID                                                             \n",
       "INN10204                                     NaN                 NaN   \n",
       "INN20020                                     0.0                 NaN   \n",
       "INN16435                                     NaN                 NaN   \n",
       "INN07143                                     NaN                 NaN   \n",
       "INN20511                                     0.0               150.0   \n",
       "...                                          ...                 ...   \n",
       "INN16851                                     0.0                 NaN   \n",
       "INN06266                                     NaN                80.0   \n",
       "INN11285                                     0.0                 NaN   \n",
       "INN00861                                     NaN                 NaN   \n",
       "INN15796                                     NaN                 NaN   \n",
       "\n",
       "            no_of_special_requests  booking_status  \n",
       "Booking_ID                                          \n",
       "INN10204                       1.0             0.0  \n",
       "INN20020                       NaN             0.0  \n",
       "INN16435                       1.0             0.0  \n",
       "INN07143                       2.0             0.0  \n",
       "INN20511                       NaN             1.0  \n",
       "...                            ...             ...  \n",
       "INN16851                       2.0             0.0  \n",
       "INN06266                       NaN             1.0  \n",
       "INN11285                       1.0             0.0  \n",
       "INN00861                       0.0             1.0  \n",
       "INN15796                       NaN             0.0  \n",
       "\n",
       "[32647 rows x 18 columns]"
      ]
     },
     "execution_count": 157,
     "metadata": {},
     "output_type": "execute_result"
    }
   ],
   "source": [
    "data"
   ]
  },
  {
   "cell_type": "code",
   "execution_count": 158,
   "metadata": {
    "ExecuteTime": {
     "end_time": "2023-04-17T13:22:19.403543Z",
     "start_time": "2023-04-17T13:22:19.388923Z"
    }
   },
   "outputs": [
    {
     "ename": "SyntaxError",
     "evalue": "invalid syntax (<ipython-input-158-e2e9abcf1ad0>, line 1)",
     "output_type": "error",
     "traceback": [
      "\u001b[1;36m  File \u001b[1;32m\"<ipython-input-158-e2e9abcf1ad0>\"\u001b[1;36m, line \u001b[1;32m1\u001b[0m\n\u001b[1;33m    Booking_ID: unique identifier of each booking\u001b[0m\n\u001b[1;37m                       ^\u001b[0m\n\u001b[1;31mSyntaxError\u001b[0m\u001b[1;31m:\u001b[0m invalid syntax\n"
     ]
    }
   ],
   "source": [
    "Booking_ID: unique identifier of each booking\n",
    "no_of_adults: Number of adults\n",
    "no_of_children: Number of Children\n",
    "no_of_weekend_nights: Number of weekend nights (Saturday or Sunday) the guest stayed or booked to stay at the hotel\n",
    "no_of_week_nights: Number of week nights (Monday to Friday) the guest stayed or booked to stay at the hotel\n",
    "type_of_meal_plan: Type of meal plan booked by the customer:\n",
    "required_car_parking_space: Does the customer require a car parking space? (0 - No, 1- Yes)\n",
    "room_type_reserved: Type of room reserved by the customer. The values are ciphered (encoded) by INN Hotels.\n",
    "lead_time: Number of days between the date of booking and the arrival date\n",
    "arrival_year: Year of arrival date\n",
    "arrival_month: Month of arrival date\n",
    "arrival_date: Date of the month\n",
    "market_segment_type: Market segment designation.\n",
    "repeated_guest: Is the customer a repeated guest? (0 - No, 1- Yes)\n",
    "no_of_previous_cancellations: Number of previous bookings that were canceled by the customer prior to the current booking\n",
    "no_of_previous_bookings_not_canceled: Number of previous bookings not canceled by the customer prior to the current booking\n",
    "avg_price_per_room: Average price per day of the reservation; prices of the rooms are dynamic. (in euros)\n",
    "no_of_special_requests: Total number of special requests made by the customer (e.g. high floor, view from the room, etc)\n",
    "booking_status: Flag indicating if the booking was canceled or not."
   ]
  },
  {
   "cell_type": "code",
   "execution_count": 159,
   "metadata": {
    "ExecuteTime": {
     "end_time": "2023-04-17T13:22:19.616314Z",
     "start_time": "2023-04-17T13:22:19.609314Z"
    }
   },
   "outputs": [],
   "source": [
    "# define list of predictors\n",
    "cols_pred = list(data.columns[0:-1])\n",
    "\n",
    "# define list of numerical predictors\n",
    "cols_pred_num = [col for col in cols_pred if data[col].dtype != 'O']\n",
    "# define list of categorical predictors\n",
    "cols_pred_cat = [col for col in cols_pred if data[col].dtype == 'O']\n"
   ]
  },
  {
   "cell_type": "code",
   "execution_count": 160,
   "metadata": {
    "ExecuteTime": {
     "end_time": "2023-04-17T13:22:20.211271Z",
     "start_time": "2023-04-17T13:22:20.192268Z"
    }
   },
   "outputs": [
    {
     "data": {
      "text/plain": [
       "0.0    21774\n",
       "1.0    10521\n",
       "Name: booking_status, dtype: int64"
      ]
     },
     "execution_count": 160,
     "metadata": {},
     "output_type": "execute_result"
    }
   ],
   "source": [
    "data = data.dropna(subset=['booking_status'])\n",
    "data.booking_status.value_counts(dropna=False)"
   ]
  },
  {
   "cell_type": "code",
   "execution_count": 161,
   "metadata": {
    "ExecuteTime": {
     "end_time": "2023-04-17T13:22:20.952673Z",
     "start_time": "2023-04-17T13:22:20.635874Z"
    }
   },
   "outputs": [
    {
     "name": "stderr",
     "output_type": "stream",
     "text": [
      "C:\\Users\\jakub\\anaconda3\\lib\\site-packages\\pandas\\core\\indexing.py:1598: SettingWithCopyWarning: \n",
      "A value is trying to be set on a copy of a slice from a DataFrame.\n",
      "Try using .loc[row_indexer,col_indexer] = value instead\n",
      "\n",
      "See the caveats in the documentation: https://pandas.pydata.org/pandas-docs/stable/user_guide/indexing.html#returning-a-view-versus-a-copy\n",
      "  self.obj[key] = infer_fill_value(value)\n",
      "C:\\Users\\jakub\\anaconda3\\lib\\site-packages\\pandas\\core\\indexing.py:1719: SettingWithCopyWarning: \n",
      "A value is trying to be set on a copy of a slice from a DataFrame.\n",
      "Try using .loc[row_indexer,col_indexer] = value instead\n",
      "\n",
      "See the caveats in the documentation: https://pandas.pydata.org/pandas-docs/stable/user_guide/indexing.html#returning-a-view-versus-a-copy\n",
      "  self._setitem_single_column(loc, value, pi)\n",
      "C:\\Users\\jakub\\anaconda3\\lib\\site-packages\\pandas\\core\\indexing.py:1719: SettingWithCopyWarning: \n",
      "A value is trying to be set on a copy of a slice from a DataFrame.\n",
      "Try using .loc[row_indexer,col_indexer] = value instead\n",
      "\n",
      "See the caveats in the documentation: https://pandas.pydata.org/pandas-docs/stable/user_guide/indexing.html#returning-a-view-versus-a-copy\n",
      "  self._setitem_single_column(loc, value, pi)\n"
     ]
    }
   ],
   "source": [
    "#Kdybychom chteli stratify taky podle no_of_special_requests, museli bychom zlikvidovat unavailable data\n",
    "data_train, data_rest = train_test_split(data, test_size=0.4, random_state = 12, stratify = (data[[\"booking_status\"]]))\n",
    "data.loc[data_train.index, 'sample'] = 'train'\n",
    "# use train_test_split to split the rest into valid and test (don't forget seed); use stratification\n",
    "data_valid, data_test = train_test_split(data_rest, test_size=0.5, random_state = 12, stratify = (data_rest[[\"booking_status\"]]))\n",
    "data.loc[data_valid.index, 'sample'] = 'valid'\n",
    "data.loc[data_test.index, 'sample'] = 'test'"
   ]
  },
  {
   "cell_type": "code",
   "execution_count": 162,
   "metadata": {
    "ExecuteTime": {
     "end_time": "2023-04-17T13:22:23.332978Z",
     "start_time": "2023-04-17T13:22:23.304975Z"
    }
   },
   "outputs": [],
   "source": [
    "train_mask = (data['sample'] == 'train')\n",
    "valid_mask = (data['sample'] == 'valid')\n",
    "test_mask = (data['sample'] == 'test')"
   ]
  },
  {
   "cell_type": "code",
   "execution_count": 163,
   "metadata": {
    "ExecuteTime": {
     "end_time": "2023-04-17T13:22:23.778799Z",
     "start_time": "2023-04-17T13:22:23.765105Z"
    }
   },
   "outputs": [],
   "source": [
    "# define function to plot default rate in time for different samples\n",
    "def default_rate_in_time_per_sample(dt, col_target, col_month, col_sample):\n",
    "    # group by over month and sample\n",
    "    dt_grp = dt.groupby([col_month, col_sample]).agg(\n",
    "        def_rt = (col_target, np.mean)\n",
    "    ).reset_index()\n",
    "    \n",
    "    # pivot sample values to columns\n",
    "    dt_grp_pivot = dt_grp.pivot(index = col_month, columns = col_sample, values = 'def_rt')\n",
    "\n",
    "    # plot default rate in time\n",
    "    lines = plt.plot(range(len(dt_grp_pivot)), dt_grp_pivot, marker = 'o')\n",
    "    plt.xticks(range(len(dt_grp_pivot)), dt_grp_pivot.index, rotation = 90)\n",
    "    # set legend\n",
    "    plt.legend(iter(lines), tuple(dt_grp_pivot.columns), loc='best', bbox_to_anchor=(1.05, 1))\n",
    "    \n",
    "    plt.ylim([0, 1])\n",
    "    plt.ylabel('default rate')\n",
    "    plt.xlabel('month')\n",
    "    plt.show()"
   ]
  },
  {
   "cell_type": "code",
   "execution_count": 164,
   "metadata": {
    "ExecuteTime": {
     "end_time": "2023-04-17T13:22:24.385654Z",
     "start_time": "2023-04-17T13:22:24.132555Z"
    }
   },
   "outputs": [
    {
     "data": {
      "image/png": "[encoded data removed]",
      "text/plain": [
       "<Figure size 432x288 with 1 Axes>"
      ]
     },
     "metadata": {
      "needs_background": "light"
     },
     "output_type": "display_data"
    }
   ],
   "source": [
    "col_target = \"booking_status\"\n",
    "\n",
    "default_rate_in_time_per_sample(data,col_target, 'arrival_month','sample')"
   ]
  },
  {
   "cell_type": "markdown",
   "metadata": {},
   "source": [
    "# Data processing"
   ]
  },
  {
   "cell_type": "code",
   "execution_count": 165,
   "metadata": {
    "ExecuteTime": {
     "end_time": "2023-04-17T13:22:24.779660Z",
     "start_time": "2023-04-17T13:22:24.751490Z"
    }
   },
   "outputs": [
    {
     "name": "stdout",
     "output_type": "stream",
     "text": [
      "No other columns with infinity values\n"
     ]
    }
   ],
   "source": [
    "# find columns with infinity values\n",
    "cols_with_inf = []\n",
    "for col in cols_pred_num:\n",
    "    if np.any(np.isinf(data[col])):\n",
    "        cols_with_inf.append(col)\n",
    "        print(f'Column {col} includes infinity values.')\n",
    "\n",
    "# find columns with negative infinity values\n",
    "cols_with_neginf = []\n",
    "for col in cols_pred_num:\n",
    "    if np.any(np.isneginf(data[col])):\n",
    "        cols_with_neginf.append(col)\n",
    "        print(f'Column {col} includes negative infinity values.')\n",
    "print(\"No other columns with infinity values\")"
   ]
  },
  {
   "cell_type": "markdown",
   "metadata": {},
   "source": [
    "# categorical variables ecoding"
   ]
  },
  {
   "cell_type": "code",
   "execution_count": 166,
   "metadata": {
    "ExecuteTime": {
     "end_time": "2023-04-17T13:22:25.919899Z",
     "start_time": "2023-04-17T13:22:25.907901Z"
    }
   },
   "outputs": [],
   "source": [
    "def mean_target_encoding(dt, predictor, target, alpha = 0.01):\n",
    "    total_cnt = len(dt)\n",
    "    total_dr = np.mean(dt[target])\n",
    "    dt_grp = dt.groupby(predictor).agg(\n",
    "        categ_dr = (target, np.mean),\n",
    "        categ_cnt = (target, len)\n",
    "    )\n",
    "    \n",
    "    dt_grp['categ_freq'] = dt_grp['categ_cnt'] / total_cnt\n",
    "    dt_grp['categ_encoding'] = (dt_grp['categ_freq'] * dt_grp['categ_dr'] + alpha * total_dr) / (dt_grp['categ_freq'] + alpha)\n",
    "    \n",
    "    return dt_grp[['categ_encoding']].to_dict()['categ_encoding']"
   ]
  },
  {
   "cell_type": "code",
   "execution_count": 167,
   "metadata": {
    "ExecuteTime": {
     "end_time": "2023-04-17T13:22:26.815494Z",
     "start_time": "2023-04-17T13:22:26.613555Z"
    }
   },
   "outputs": [
    {
     "data": {
      "application/vnd.jupyter.widget-view+json": {
       "model_id": "8bb3568fc5ad43ef879658d7fb21a845",
       "version_major": 2,
       "version_minor": 0
      },
      "text/plain": [
       "  0%|          | 0/3 [00:00<?, ?it/s]"
      ]
     },
     "metadata": {},
     "output_type": "display_data"
    },
    {
     "name": "stderr",
     "output_type": "stream",
     "text": [
      "<ipython-input-167-745e7e0deb1d>:37: SettingWithCopyWarning: \n",
      "A value is trying to be set on a copy of a slice from a DataFrame.\n",
      "Try using .loc[row_indexer,col_indexer] = value instead\n",
      "\n",
      "See the caveats in the documentation: https://pandas.pydata.org/pandas-docs/stable/user_guide/indexing.html#returning-a-view-versus-a-copy\n",
      "  data['MTE_' + pred] = data[pred].replace(new_vals)\n"
     ]
    }
   ],
   "source": [
    "total_dr = np.mean(data[train_mask][col_target])\n",
    "\n",
    "# encode categorical predictors\n",
    "for pred in tqdm(cols_pred_cat):\n",
    "    if len(data[pred].unique()) < 5:\n",
    "        dummies = pd.get_dummies(\n",
    "            data[pred], \n",
    "            prefix = pred,\n",
    "            prefix_sep = '_',\n",
    "            dummy_na = True if data[pred].isnull().sum() > 0 else False,\n",
    "            drop_first = False\n",
    "        )\n",
    "        \n",
    "        for d in dummies.columns:\n",
    "            if d in data.columns:\n",
    "                del data[d]\n",
    "                \n",
    "        data = data.join(dummies)\n",
    "        \n",
    "        for col in dummies.columns:\n",
    "            if col not in cols_pred:\n",
    "                cols_pred.append(col)\n",
    "        \n",
    "        if pred in cols_pred:\n",
    "            cols_pred.remove(pred)\n",
    "    else:\n",
    "        new_vals = mean_target_encoding(\n",
    "            dt=data[train_mask], \n",
    "            predictor=pred, \n",
    "            target=col_target\n",
    "        )\n",
    "\n",
    "        additional_values = set(data[data[pred].notnull()][pred].unique()) - set(new_vals.keys())\n",
    "        for p in additional_values:\n",
    "            new_vals[p] = total_dr\n",
    "\n",
    "        data['MTE_' + pred] = data[pred].replace(new_vals)\n",
    "        \n",
    "        if 'MTE_' + pred not in cols_pred:\n",
    "            cols_pred.append('MTE_' + pred)\n",
    "        \n",
    "        if pred in cols_pred:\n",
    "            cols_pred.remove(pred)"
   ]
  },
  {
   "cell_type": "markdown",
   "metadata": {},
   "source": [
    "# Model"
   ]
  },
  {
   "cell_type": "code",
   "execution_count": 168,
   "metadata": {
    "ExecuteTime": {
     "end_time": "2023-04-17T13:22:31.670252Z",
     "start_time": "2023-04-17T13:22:30.559553Z"
    }
   },
   "outputs": [
    {
     "name": "stdout",
     "output_type": "stream",
     "text": [
      "[0]\ttrain-auc:0.75479\ttest-auc:0.74260\tvalid-auc:0.75516\n",
      "[1]\ttrain-auc:0.77766\ttest-auc:0.76341\tvalid-auc:0.78225\n",
      "[2]\ttrain-auc:0.78554\ttest-auc:0.77463\tvalid-auc:0.78640\n",
      "[3]\ttrain-auc:0.79332\ttest-auc:0.78151\tvalid-auc:0.79053\n",
      "[4]\ttrain-auc:0.79841\ttest-auc:0.78475\tvalid-auc:0.79244\n",
      "[5]\ttrain-auc:0.80293\ttest-auc:0.78793\tvalid-auc:0.79706\n",
      "[6]\ttrain-auc:0.80753\ttest-auc:0.79181\tvalid-auc:0.80129\n",
      "[7]\ttrain-auc:0.81076\ttest-auc:0.79487\tvalid-auc:0.80431\n",
      "[8]\ttrain-auc:0.81249\ttest-auc:0.79567\tvalid-auc:0.80522\n",
      "[9]\ttrain-auc:0.81357\ttest-auc:0.79734\tvalid-auc:0.80630\n",
      "[10]\ttrain-auc:0.81649\ttest-auc:0.79877\tvalid-auc:0.80766\n",
      "[11]\ttrain-auc:0.81904\ttest-auc:0.79919\tvalid-auc:0.80879\n",
      "[12]\ttrain-auc:0.82040\ttest-auc:0.80004\tvalid-auc:0.80949\n",
      "[13]\ttrain-auc:0.82138\ttest-auc:0.80106\tvalid-auc:0.81014\n",
      "[14]\ttrain-auc:0.82522\ttest-auc:0.80073\tvalid-auc:0.81125\n",
      "[15]\ttrain-auc:0.82666\ttest-auc:0.80179\tvalid-auc:0.81189\n",
      "[16]\ttrain-auc:0.82792\ttest-auc:0.80238\tvalid-auc:0.81213\n",
      "[17]\ttrain-auc:0.82874\ttest-auc:0.80383\tvalid-auc:0.81306\n",
      "[18]\ttrain-auc:0.83037\ttest-auc:0.80440\tvalid-auc:0.81403\n",
      "[19]\ttrain-auc:0.83353\ttest-auc:0.80532\tvalid-auc:0.81439\n",
      "[20]\ttrain-auc:0.83416\ttest-auc:0.80577\tvalid-auc:0.81434\n",
      "[21]\ttrain-auc:0.83445\ttest-auc:0.80596\tvalid-auc:0.81435\n",
      "[22]\ttrain-auc:0.83512\ttest-auc:0.80624\tvalid-auc:0.81425\n",
      "[23]\ttrain-auc:0.83602\ttest-auc:0.80631\tvalid-auc:0.81421\n",
      "[24]\ttrain-auc:0.83731\ttest-auc:0.80700\tvalid-auc:0.81433\n",
      "[25]\ttrain-auc:0.83863\ttest-auc:0.80739\tvalid-auc:0.81475\n",
      "[26]\ttrain-auc:0.83955\ttest-auc:0.80772\tvalid-auc:0.81498\n",
      "[27]\ttrain-auc:0.84132\ttest-auc:0.80764\tvalid-auc:0.81512\n",
      "[28]\ttrain-auc:0.84188\ttest-auc:0.80790\tvalid-auc:0.81511\n",
      "[29]\ttrain-auc:0.84203\ttest-auc:0.80810\tvalid-auc:0.81523\n",
      "[30]\ttrain-auc:0.84280\ttest-auc:0.80800\tvalid-auc:0.81522\n",
      "[31]\ttrain-auc:0.84282\ttest-auc:0.80809\tvalid-auc:0.81511\n",
      "[32]\ttrain-auc:0.84545\ttest-auc:0.80779\tvalid-auc:0.81509\n",
      "[33]\ttrain-auc:0.84830\ttest-auc:0.80767\tvalid-auc:0.81450\n",
      "[34]\ttrain-auc:0.84982\ttest-auc:0.80837\tvalid-auc:0.81463\n",
      "[35]\ttrain-auc:0.85038\ttest-auc:0.80826\tvalid-auc:0.81459\n",
      "[36]\ttrain-auc:0.85198\ttest-auc:0.80817\tvalid-auc:0.81482\n",
      "[37]\ttrain-auc:0.85281\ttest-auc:0.80851\tvalid-auc:0.81526\n",
      "[38]\ttrain-auc:0.85308\ttest-auc:0.80866\tvalid-auc:0.81535\n",
      "[39]\ttrain-auc:0.85416\ttest-auc:0.80836\tvalid-auc:0.81500\n",
      "[40]\ttrain-auc:0.85481\ttest-auc:0.80838\tvalid-auc:0.81480\n",
      "[41]\ttrain-auc:0.85546\ttest-auc:0.80809\tvalid-auc:0.81477\n",
      "[42]\ttrain-auc:0.85563\ttest-auc:0.80813\tvalid-auc:0.81489\n",
      "[43]\ttrain-auc:0.85615\ttest-auc:0.80829\tvalid-auc:0.81496\n",
      "[44]\ttrain-auc:0.85624\ttest-auc:0.80823\tvalid-auc:0.81494\n",
      "[45]\ttrain-auc:0.85657\ttest-auc:0.80832\tvalid-auc:0.81496\n",
      "[46]\ttrain-auc:0.85877\ttest-auc:0.80907\tvalid-auc:0.81559\n",
      "[47]\ttrain-auc:0.86029\ttest-auc:0.80963\tvalid-auc:0.81593\n",
      "[48]\ttrain-auc:0.86137\ttest-auc:0.80992\tvalid-auc:0.81627\n",
      "[49]\ttrain-auc:0.86257\ttest-auc:0.81012\tvalid-auc:0.81614\n",
      "[50]\ttrain-auc:0.86280\ttest-auc:0.81008\tvalid-auc:0.81617\n",
      "[51]\ttrain-auc:0.86312\ttest-auc:0.81014\tvalid-auc:0.81598\n",
      "[52]\ttrain-auc:0.86478\ttest-auc:0.81009\tvalid-auc:0.81537\n",
      "[53]\ttrain-auc:0.86531\ttest-auc:0.80991\tvalid-auc:0.81512\n",
      "[54]\ttrain-auc:0.86697\ttest-auc:0.80972\tvalid-auc:0.81520\n",
      "[55]\ttrain-auc:0.86700\ttest-auc:0.80964\tvalid-auc:0.81513\n",
      "[56]\ttrain-auc:0.86823\ttest-auc:0.80909\tvalid-auc:0.81470\n",
      "[57]\ttrain-auc:0.86882\ttest-auc:0.80927\tvalid-auc:0.81497\n",
      "[58]\ttrain-auc:0.86961\ttest-auc:0.80927\tvalid-auc:0.81507\n"
     ]
    }
   ],
   "source": [
    "# set best parameters to be used in XGBoost\n",
    "params = {    \n",
    "   # 'max_depth': 4,\n",
    "    \n",
    "    'objective': 'binary:logistic',\n",
    "    'eval_metric': 'auc',\n",
    "}\n",
    "\n",
    "evals_result = {}\n",
    "booster = xgb.train(\n",
    "    params = params,\n",
    "    dtrain = xgb.DMatrix(data[train_mask][cols_pred], data[train_mask][col_target]),\n",
    "    num_boost_round = 1000,\n",
    "    evals = (\n",
    "        (xgb.DMatrix(data[train_mask][cols_pred], data[train_mask][col_target]), 'train'),\n",
    "        (xgb.DMatrix(data[test_mask][cols_pred], data[test_mask][col_target]), 'test'),\n",
    "        (xgb.DMatrix(data[valid_mask][cols_pred], data[valid_mask][col_target]), 'valid')\n",
    "    ),\n",
    "    evals_result = evals_result,\n",
    "    early_stopping_rounds = 10\n",
    ")"
   ]
  },
  {
   "cell_type": "code",
   "execution_count": 169,
   "metadata": {
    "ExecuteTime": {
     "end_time": "2023-04-17T13:22:33.934839Z",
     "start_time": "2023-04-17T13:22:33.669388Z"
    }
   },
   "outputs": [
    {
     "data": {
      "image/png": "[encoded data removed]",
      "text/plain": [
       "<Figure size 432x360 with 1 Axes>"
      ]
     },
     "metadata": {
      "needs_background": "light"
     },
     "output_type": "display_data"
    }
   ],
   "source": [
    "metric = 'auc'\n",
    "\n",
    "fig = plt.figure(figsize=(6,5))\n",
    "total_iteration_count = len(evals_result[list(evals_result.keys())[0]][metric])\n",
    "for sample, vals in evals_result.items():\n",
    "    plt.plot(\n",
    "        range(1, total_iteration_count + 1), \n",
    "        vals[metric],\n",
    "        label=sample\n",
    "    )\n",
    "\n",
    "best_score = booster.best_score\n",
    "best_iteration = booster.best_iteration+1\n",
    "\n",
    "plt.plot([1, total_iteration_count], [best_score, best_score], color='black', ls='--', lw=1)\n",
    "plt.scatter([best_iteration], [best_score], color = 'black')\n",
    "plt.annotate(\n",
    "    '{:d}; {:0.3f}'.format(best_iteration, best_score), \n",
    "    xy = (best_iteration, best_score), \n",
    "    xytext = (best_iteration,best_score+0.005),\n",
    "#     textcoords = 'offset points'\n",
    ")\n",
    "plt.xlabel('iteration')\n",
    "plt.ylabel(metric)\n",
    "plt.legend(loc='best')\n",
    "plt.title(f'{metric} curves')\n",
    "plt.show()"
   ]
  },
  {
   "cell_type": "code",
   "execution_count": 170,
   "metadata": {
    "ExecuteTime": {
     "end_time": "2023-04-17T13:22:35.187234Z",
     "start_time": "2023-04-17T13:22:35.159232Z"
    }
   },
   "outputs": [
    {
     "name": "stdout",
     "output_type": "stream",
     "text": [
      "no_of_adults                            13.574857\n",
      "no_of_children                          84.554885\n",
      "no_of_weekend_nights                    76.312123\n",
      "no_of_week_nights                       25.626258\n",
      "type_of_meal_plan                       49.326521\n",
      "required_car_parking_space              45.273262\n",
      "room_type_reserved                      65.183465\n",
      "lead_time                               78.783093\n",
      "arrival_year                             9.180988\n",
      "arrival_month                            2.774423\n",
      "arrival_date                            83.303917\n",
      "market_segment_type                     43.229602\n",
      "repeated_guest                          76.528874\n",
      "no_of_previous_cancellations             0.213655\n",
      "no_of_previous_bookings_not_canceled    44.790215\n",
      "avg_price_per_room                      72.237188\n",
      "no_of_special_requests                  22.799195\n",
      "booking_status                           0.000000\n",
      "sample                                   0.000000\n",
      "MTE_type_of_meal_plan                   49.326521\n",
      "MTE_room_type_reserved                  65.183465\n",
      "MTE_market_segment_type                 43.229602\n",
      "dtype: float64\n",
      "[ 0.          0.          0.21365536  2.77442329  9.18098777 13.57485679\n",
      " 22.79919492 25.62625793 43.22960211 43.22960211 44.7902152  45.27326211\n",
      " 49.32652113 49.32652113 65.18346493 65.18346493 72.23718842 76.31212262\n",
      " 76.52887444 78.78309336 83.30391702 84.55488466]\n"
     ]
    }
   ],
   "source": [
    "percent_nan_in_each_col = (data.isna().sum()/(len(data))*100)\n",
    "print(percent_nan_in_each_col)\n",
    "print(np.sort(percent_nan_in_each_col))"
   ]
  },
  {
   "cell_type": "code",
   "execution_count": 171,
   "metadata": {
    "ExecuteTime": {
     "end_time": "2023-04-17T13:22:36.160429Z",
     "start_time": "2023-04-17T13:22:35.867109Z"
    }
   },
   "outputs": [
    {
     "name": "stdout",
     "output_type": "stream",
     "text": [
      "                               predictor   strength\n",
      "0                           arrival_year  28.121881\n",
      "1                 no_of_special_requests  19.803751\n",
      "2                MTE_market_segment_type  11.727921\n",
      "3                          arrival_month  11.489817\n",
      "4                              lead_time  10.405925\n",
      "5   no_of_previous_bookings_not_canceled   5.925127\n",
      "6                           no_of_adults   5.918131\n",
      "7                  MTE_type_of_meal_plan   5.343829\n",
      "8                     avg_price_per_room   5.280331\n",
      "9             required_car_parking_space   5.013137\n",
      "10                     no_of_week_nights   4.749138\n",
      "11                  no_of_weekend_nights   4.220304\n",
      "12                          arrival_date   3.221134\n",
      "13                        repeated_guest   3.157902\n",
      "14                        no_of_children   3.013383\n",
      "15                MTE_room_type_reserved   3.000659\n",
      "16          no_of_previous_cancellations   2.485701\n"
     ]
    },
    {
     "data": {
      "image/png": "[encoded data removed]",
      "text/plain": [
       "<Figure size 432x360 with 1 Axes>"
      ]
     },
     "metadata": {
      "needs_background": "light"
     },
     "output_type": "display_data"
    }
   ],
   "source": [
    "importance_type = 'gain'\n",
    "\n",
    "predictor_strength = sorted([(k, v) for k,v in booster.get_score(importance_type = importance_type).items()], key = lambda x: x[1], reverse = True)\n",
    "predictor_strength = pd.DataFrame(predictor_strength, columns = ['predictor', 'strength'])\n",
    "fig = plt.figure(figsize=(6,5))\n",
    "print(predictor_strength)\n",
    "n_strongest = 16\n",
    "plt.barh(range(n_strongest, 0, -1), predictor_strength['strength'].iloc[0:16])\n",
    "plt.yticks(range(n_strongest, 0, -1), predictor_strength['predictor'].iloc[0:16])\n",
    "plt.xlabel(importance_type)\n",
    "plt.title('Predictor importance')\n",
    "plt.show()"
   ]
  },
  {
   "cell_type": "markdown",
   "metadata": {},
   "source": [
    "Arrival date je blbost a ma maly vliv ,tak ho muzu vyhodt.\n",
    "\n",
    "Number of children,repeated guest,no_of_weekend_nights, a room type reserved ma hodne unavailable a ma maly vliv, tak ho vyhodim\n",
    "\n",
    "S otaznikem zustava\n",
    "avg_price_per_room                      72.237188\n",
    "MTE_type_of_meal_plan                   49.326521\n",
    "required_car_parking_space              45.273262\n",
    "no_of_previous_bookings_not_canceled    44.790215\n",
    "\n",
    "nizky vliv ma take no_of_previous_cancellations   1.826715, asi proto, ze tam jsou vsechny pozorovani skoro stejny, tka to klidne muzu vyhodit, ale tim spis nechat no of previous not canceled.\n",
    "\n",
    "\n",
    "\n",
    "no_of_previous cancelations ma fakt malo NAN a je docela uzitecne. mohlo by se pouzit pro stratifikaci. jenze ma taky skoro vzdy odpoved 0, takze zas tak zajimavy neni. Dal by se zvazit pocet mesicu.\n",
    "lead_time ma hodne NaN, ale i tak je vcelku logicky uzitecny\n",
    "\n",
    "no_of_adults: Number of adults\n",
    "no_of_children: Number of Children\n",
    "no_of_weekend_nights: Number of weekend nights (Saturday or Sunday) the guest stayed or booked to stay at the hotel\n",
    "no_of_week_nights: Number of week nights (Monday to Friday) the guest stayed or booked to stay at the hotel\n",
    "type_of_meal_plan: Type of meal plan booked by the customer:\n",
    "required_car_parking_space: Does the customer require a car parking space? (0 - No, 1- Yes)\n",
    "room_type_reserved: Type of room reserved by the customer. The values are ciphered (encoded) by INN Hotels.\n",
    "lead_time: Number of days between the date of booking and the arrival date\n",
    "arrival_year: Year of arrival date\n",
    "arrival_month: Month of arrival date\n",
    "arrival_date: Date of the month\n",
    "market_segment_type: Market segment designation.\n",
    "repeated_guest: Is the customer a repeated guest? (0 - No, 1- Yes)\n",
    "no_of_previous_cancellations: Number of previous bookings that were canceled by the customer prior to the current booking\n",
    "no_of_previous_bookings_not_canceled: Number of previous bookings not canceled by the customer prior to the current booking\n",
    "avg_price_per_room: Average price per day of the reservation; prices of the rooms are dynamic. (in euros)\n",
    "no_of_special_requests: Total number of special requests made by the customer (e.g. high floor, view from the room, etc)\n"
   ]
  },
  {
   "cell_type": "code",
   "execution_count": 172,
   "metadata": {
    "ExecuteTime": {
     "end_time": "2023-04-17T13:22:37.799725Z",
     "start_time": "2023-04-17T13:22:37.786721Z"
    }
   },
   "outputs": [
    {
     "data": {
      "text/plain": [
       "['no_of_adults',\n",
       " 'no_of_children',\n",
       " 'no_of_weekend_nights',\n",
       " 'no_of_week_nights',\n",
       " 'required_car_parking_space',\n",
       " 'lead_time',\n",
       " 'arrival_year',\n",
       " 'arrival_month',\n",
       " 'arrival_date',\n",
       " 'repeated_guest',\n",
       " 'no_of_previous_cancellations',\n",
       " 'no_of_previous_bookings_not_canceled',\n",
       " 'avg_price_per_room',\n",
       " 'no_of_special_requests',\n",
       " 'MTE_type_of_meal_plan',\n",
       " 'MTE_room_type_reserved',\n",
       " 'MTE_market_segment_type']"
      ]
     },
     "execution_count": 172,
     "metadata": {},
     "output_type": "execute_result"
    }
   ],
   "source": [
    "cols_pred"
   ]
  },
  {
   "cell_type": "code",
   "execution_count": 176,
   "metadata": {
    "ExecuteTime": {
     "end_time": "2023-04-17T13:28:02.102017Z",
     "start_time": "2023-04-17T13:28:02.085013Z"
    }
   },
   "outputs": [],
   "source": [
    "#cols_pred.remove(['arrival_date','no_of_children','no_of_weekend_nights','MTE_room_type_reserved','repeated_guest','no_of_previous_cancellations'])\n",
    "cols_pred = [e for e in cols_pred if e not in ('arrival_date','no_of_children','no_of_weekend_nights','MTE_room_type_reserved','repeated_guest','no_of_previous_cancellations')]\n",
    "cols_pred\n",
    "\n",
    "\n",
    "# define list of numerical predictors\n",
    "cols_pred_num = [col for col in cols_pred if data[col].dtype != 'O']\n",
    "# define list of categorical predictors\n",
    "cols_pred_cat = [col for col in cols_pred if data[col].dtype == 'O']\n"
   ]
  },
  {
   "cell_type": "code",
   "execution_count": 177,
   "metadata": {
    "ExecuteTime": {
     "end_time": "2023-04-17T13:28:30.706731Z",
     "start_time": "2023-04-17T13:28:28.647512Z"
    }
   },
   "outputs": [
    {
     "name": "stdout",
     "output_type": "stream",
     "text": [
      "[0]\ttrain-auc:0.68766\ttest-auc:0.67843\tvalid-auc:0.69111\n",
      "[1]\ttrain-auc:0.71790\ttest-auc:0.71327\tvalid-auc:0.72575\n",
      "[2]\ttrain-auc:0.73349\ttest-auc:0.73155\tvalid-auc:0.74211\n",
      "[3]\ttrain-auc:0.75114\ttest-auc:0.74508\tvalid-auc:0.75411\n",
      "[4]\ttrain-auc:0.75979\ttest-auc:0.75433\tvalid-auc:0.76012\n",
      "[5]\ttrain-auc:0.76768\ttest-auc:0.75927\tvalid-auc:0.77082\n",
      "[6]\ttrain-auc:0.77015\ttest-auc:0.76064\tvalid-auc:0.77074\n",
      "[7]\ttrain-auc:0.77439\ttest-auc:0.76693\tvalid-auc:0.77798\n",
      "[8]\ttrain-auc:0.77519\ttest-auc:0.76896\tvalid-auc:0.77931\n",
      "[9]\ttrain-auc:0.77966\ttest-auc:0.77167\tvalid-auc:0.78351\n",
      "[10]\ttrain-auc:0.78253\ttest-auc:0.77419\tvalid-auc:0.78668\n",
      "[11]\ttrain-auc:0.78646\ttest-auc:0.77731\tvalid-auc:0.79080\n",
      "[12]\ttrain-auc:0.78840\ttest-auc:0.77839\tvalid-auc:0.79182\n",
      "[13]\ttrain-auc:0.79056\ttest-auc:0.78119\tvalid-auc:0.79343\n",
      "[14]\ttrain-auc:0.79216\ttest-auc:0.78241\tvalid-auc:0.79458\n",
      "[15]\ttrain-auc:0.79292\ttest-auc:0.78354\tvalid-auc:0.79539\n",
      "[16]\ttrain-auc:0.79350\ttest-auc:0.78497\tvalid-auc:0.79613\n",
      "[17]\ttrain-auc:0.79435\ttest-auc:0.78594\tvalid-auc:0.79641\n",
      "[18]\ttrain-auc:0.79511\ttest-auc:0.78693\tvalid-auc:0.79707\n",
      "[19]\ttrain-auc:0.79613\ttest-auc:0.78773\tvalid-auc:0.79837\n",
      "[20]\ttrain-auc:0.79666\ttest-auc:0.78810\tvalid-auc:0.79899\n",
      "[21]\ttrain-auc:0.79807\ttest-auc:0.78956\tvalid-auc:0.79969\n",
      "[22]\ttrain-auc:0.79888\ttest-auc:0.79021\tvalid-auc:0.80033\n",
      "[23]\ttrain-auc:0.79893\ttest-auc:0.79046\tvalid-auc:0.80050\n",
      "[24]\ttrain-auc:0.79915\ttest-auc:0.79059\tvalid-auc:0.80041\n",
      "[25]\ttrain-auc:0.79980\ttest-auc:0.79155\tvalid-auc:0.80089\n",
      "[26]\ttrain-auc:0.80022\ttest-auc:0.79170\tvalid-auc:0.80134\n",
      "[27]\ttrain-auc:0.80127\ttest-auc:0.79177\tvalid-auc:0.80164\n",
      "[28]\ttrain-auc:0.80154\ttest-auc:0.79203\tvalid-auc:0.80182\n",
      "[29]\ttrain-auc:0.80197\ttest-auc:0.79288\tvalid-auc:0.80247\n",
      "[30]\ttrain-auc:0.80297\ttest-auc:0.79319\tvalid-auc:0.80271\n",
      "[31]\ttrain-auc:0.80325\ttest-auc:0.79346\tvalid-auc:0.80299\n",
      "[32]\ttrain-auc:0.80351\ttest-auc:0.79359\tvalid-auc:0.80288\n",
      "[33]\ttrain-auc:0.80356\ttest-auc:0.79367\tvalid-auc:0.80298\n",
      "[34]\ttrain-auc:0.80442\ttest-auc:0.79438\tvalid-auc:0.80288\n",
      "[35]\ttrain-auc:0.80488\ttest-auc:0.79456\tvalid-auc:0.80357\n",
      "[36]\ttrain-auc:0.80606\ttest-auc:0.79567\tvalid-auc:0.80391\n",
      "[37]\ttrain-auc:0.80619\ttest-auc:0.79582\tvalid-auc:0.80404\n",
      "[38]\ttrain-auc:0.80653\ttest-auc:0.79599\tvalid-auc:0.80417\n",
      "[39]\ttrain-auc:0.80709\ttest-auc:0.79619\tvalid-auc:0.80455\n",
      "[40]\ttrain-auc:0.80732\ttest-auc:0.79633\tvalid-auc:0.80465\n",
      "[41]\ttrain-auc:0.80736\ttest-auc:0.79644\tvalid-auc:0.80469\n",
      "[42]\ttrain-auc:0.80797\ttest-auc:0.79669\tvalid-auc:0.80525\n",
      "[43]\ttrain-auc:0.80796\ttest-auc:0.79664\tvalid-auc:0.80520\n",
      "[44]\ttrain-auc:0.80837\ttest-auc:0.79693\tvalid-auc:0.80529\n",
      "[45]\ttrain-auc:0.80878\ttest-auc:0.79723\tvalid-auc:0.80528\n",
      "[46]\ttrain-auc:0.80902\ttest-auc:0.79738\tvalid-auc:0.80553\n",
      "[47]\ttrain-auc:0.80953\ttest-auc:0.79766\tvalid-auc:0.80551\n",
      "[48]\ttrain-auc:0.80961\ttest-auc:0.79783\tvalid-auc:0.80565\n",
      "[49]\ttrain-auc:0.80980\ttest-auc:0.79787\tvalid-auc:0.80576\n",
      "[50]\ttrain-auc:0.80985\ttest-auc:0.79797\tvalid-auc:0.80585\n",
      "[51]\ttrain-auc:0.81000\ttest-auc:0.79801\tvalid-auc:0.80585\n",
      "[52]\ttrain-auc:0.81026\ttest-auc:0.79792\tvalid-auc:0.80586\n",
      "[53]\ttrain-auc:0.81024\ttest-auc:0.79797\tvalid-auc:0.80587\n",
      "[54]\ttrain-auc:0.81125\ttest-auc:0.79878\tvalid-auc:0.80675\n",
      "[55]\ttrain-auc:0.81144\ttest-auc:0.79874\tvalid-auc:0.80688\n",
      "[56]\ttrain-auc:0.81170\ttest-auc:0.79866\tvalid-auc:0.80702\n",
      "[57]\ttrain-auc:0.81210\ttest-auc:0.79905\tvalid-auc:0.80710\n",
      "[58]\ttrain-auc:0.81212\ttest-auc:0.79907\tvalid-auc:0.80713\n",
      "[59]\ttrain-auc:0.81214\ttest-auc:0.79903\tvalid-auc:0.80687\n",
      "[60]\ttrain-auc:0.81223\ttest-auc:0.79898\tvalid-auc:0.80690\n",
      "[61]\ttrain-auc:0.81256\ttest-auc:0.79897\tvalid-auc:0.80666\n",
      "[62]\ttrain-auc:0.81265\ttest-auc:0.79888\tvalid-auc:0.80666\n",
      "[63]\ttrain-auc:0.81281\ttest-auc:0.79912\tvalid-auc:0.80679\n",
      "[64]\ttrain-auc:0.81306\ttest-auc:0.79909\tvalid-auc:0.80658\n",
      "[65]\ttrain-auc:0.81373\ttest-auc:0.79890\tvalid-auc:0.80666\n",
      "[66]\ttrain-auc:0.81418\ttest-auc:0.79926\tvalid-auc:0.80700\n",
      "[67]\ttrain-auc:0.81471\ttest-auc:0.79961\tvalid-auc:0.80713\n",
      "[68]\ttrain-auc:0.81540\ttest-auc:0.80015\tvalid-auc:0.80751\n",
      "[69]\ttrain-auc:0.81608\ttest-auc:0.80034\tvalid-auc:0.80760\n",
      "[70]\ttrain-auc:0.81625\ttest-auc:0.80050\tvalid-auc:0.80773\n",
      "[71]\ttrain-auc:0.81628\ttest-auc:0.80050\tvalid-auc:0.80777\n",
      "[72]\ttrain-auc:0.81628\ttest-auc:0.80048\tvalid-auc:0.80780\n",
      "[73]\ttrain-auc:0.81661\ttest-auc:0.80067\tvalid-auc:0.80805\n",
      "[74]\ttrain-auc:0.81664\ttest-auc:0.80066\tvalid-auc:0.80817\n",
      "[75]\ttrain-auc:0.81721\ttest-auc:0.80119\tvalid-auc:0.80844\n",
      "[76]\ttrain-auc:0.81748\ttest-auc:0.80112\tvalid-auc:0.80843\n",
      "[77]\ttrain-auc:0.81776\ttest-auc:0.80108\tvalid-auc:0.80835\n",
      "[78]\ttrain-auc:0.81832\ttest-auc:0.80133\tvalid-auc:0.80842\n",
      "[79]\ttrain-auc:0.81886\ttest-auc:0.80180\tvalid-auc:0.80863\n",
      "[80]\ttrain-auc:0.81922\ttest-auc:0.80209\tvalid-auc:0.80913\n",
      "[81]\ttrain-auc:0.81963\ttest-auc:0.80233\tvalid-auc:0.80919\n",
      "[82]\ttrain-auc:0.81992\ttest-auc:0.80246\tvalid-auc:0.80924\n",
      "[83]\ttrain-auc:0.82035\ttest-auc:0.80249\tvalid-auc:0.80916\n",
      "[84]\ttrain-auc:0.82046\ttest-auc:0.80239\tvalid-auc:0.80907\n",
      "[85]\ttrain-auc:0.82058\ttest-auc:0.80235\tvalid-auc:0.80923\n",
      "[86]\ttrain-auc:0.82100\ttest-auc:0.80217\tvalid-auc:0.80889\n",
      "[87]\ttrain-auc:0.82106\ttest-auc:0.80222\tvalid-auc:0.80889\n",
      "[88]\ttrain-auc:0.82115\ttest-auc:0.80234\tvalid-auc:0.80895\n",
      "[89]\ttrain-auc:0.82171\ttest-auc:0.80291\tvalid-auc:0.80966\n",
      "[90]\ttrain-auc:0.82209\ttest-auc:0.80318\tvalid-auc:0.80974\n",
      "[91]\ttrain-auc:0.82218\ttest-auc:0.80323\tvalid-auc:0.80990\n",
      "[92]\ttrain-auc:0.82218\ttest-auc:0.80325\tvalid-auc:0.80993\n",
      "[93]\ttrain-auc:0.82245\ttest-auc:0.80314\tvalid-auc:0.81000\n",
      "[94]\ttrain-auc:0.82259\ttest-auc:0.80325\tvalid-auc:0.81004\n",
      "[95]\ttrain-auc:0.82264\ttest-auc:0.80317\tvalid-auc:0.81002\n",
      "[96]\ttrain-auc:0.82268\ttest-auc:0.80320\tvalid-auc:0.81005\n",
      "[97]\ttrain-auc:0.82277\ttest-auc:0.80344\tvalid-auc:0.81020\n",
      "[98]\ttrain-auc:0.82312\ttest-auc:0.80368\tvalid-auc:0.81053\n",
      "[99]\ttrain-auc:0.82328\ttest-auc:0.80356\tvalid-auc:0.81053\n",
      "[100]\ttrain-auc:0.82368\ttest-auc:0.80375\tvalid-auc:0.81070\n",
      "[101]\ttrain-auc:0.82393\ttest-auc:0.80387\tvalid-auc:0.81060\n",
      "[102]\ttrain-auc:0.82406\ttest-auc:0.80388\tvalid-auc:0.81067\n",
      "[103]\ttrain-auc:0.82447\ttest-auc:0.80383\tvalid-auc:0.81077\n",
      "[104]\ttrain-auc:0.82491\ttest-auc:0.80393\tvalid-auc:0.81098\n",
      "[105]\ttrain-auc:0.82492\ttest-auc:0.80385\tvalid-auc:0.81086\n",
      "[106]\ttrain-auc:0.82495\ttest-auc:0.80376\tvalid-auc:0.81083\n",
      "[107]\ttrain-auc:0.82511\ttest-auc:0.80373\tvalid-auc:0.81082\n",
      "[108]\ttrain-auc:0.82545\ttest-auc:0.80344\tvalid-auc:0.81088\n",
      "[109]\ttrain-auc:0.82581\ttest-auc:0.80345\tvalid-auc:0.81072\n",
      "[110]\ttrain-auc:0.82591\ttest-auc:0.80345\tvalid-auc:0.81065\n",
      "[111]\ttrain-auc:0.82629\ttest-auc:0.80369\tvalid-auc:0.81088\n",
      "[112]\ttrain-auc:0.82653\ttest-auc:0.80347\tvalid-auc:0.81108\n",
      "[113]\ttrain-auc:0.82678\ttest-auc:0.80344\tvalid-auc:0.81104\n",
      "[114]\ttrain-auc:0.82702\ttest-auc:0.80344\tvalid-auc:0.81115\n",
      "[115]\ttrain-auc:0.82704\ttest-auc:0.80336\tvalid-auc:0.81114\n",
      "[116]\ttrain-auc:0.82724\ttest-auc:0.80343\tvalid-auc:0.81111\n",
      "[117]\ttrain-auc:0.82726\ttest-auc:0.80348\tvalid-auc:0.81109\n",
      "[118]\ttrain-auc:0.82727\ttest-auc:0.80347\tvalid-auc:0.81108\n",
      "[119]\ttrain-auc:0.82729\ttest-auc:0.80343\tvalid-auc:0.81107\n",
      "[120]\ttrain-auc:0.82733\ttest-auc:0.80343\tvalid-auc:0.81112\n",
      "[121]\ttrain-auc:0.82754\ttest-auc:0.80355\tvalid-auc:0.81134\n",
      "[122]\ttrain-auc:0.82767\ttest-auc:0.80360\tvalid-auc:0.81139\n",
      "[123]\ttrain-auc:0.82799\ttest-auc:0.80371\tvalid-auc:0.81129\n",
      "[124]\ttrain-auc:0.82812\ttest-auc:0.80378\tvalid-auc:0.81131\n",
      "[125]\ttrain-auc:0.82846\ttest-auc:0.80354\tvalid-auc:0.81122\n",
      "[126]\ttrain-auc:0.82853\ttest-auc:0.80360\tvalid-auc:0.81119\n",
      "[127]\ttrain-auc:0.82910\ttest-auc:0.80386\tvalid-auc:0.81143\n",
      "[128]\ttrain-auc:0.82937\ttest-auc:0.80407\tvalid-auc:0.81176\n",
      "[129]\ttrain-auc:0.82948\ttest-auc:0.80406\tvalid-auc:0.81168\n",
      "[130]\ttrain-auc:0.82975\ttest-auc:0.80447\tvalid-auc:0.81175\n",
      "[131]\ttrain-auc:0.83012\ttest-auc:0.80439\tvalid-auc:0.81163\n",
      "[132]\ttrain-auc:0.83028\ttest-auc:0.80445\tvalid-auc:0.81174\n",
      "[133]\ttrain-auc:0.83031\ttest-auc:0.80437\tvalid-auc:0.81160\n",
      "[134]\ttrain-auc:0.83047\ttest-auc:0.80451\tvalid-auc:0.81187\n",
      "[135]\ttrain-auc:0.83071\ttest-auc:0.80460\tvalid-auc:0.81195\n",
      "[136]\ttrain-auc:0.83077\ttest-auc:0.80461\tvalid-auc:0.81196\n",
      "[137]\ttrain-auc:0.83098\ttest-auc:0.80477\tvalid-auc:0.81225\n",
      "[138]\ttrain-auc:0.83134\ttest-auc:0.80473\tvalid-auc:0.81206\n",
      "[139]\ttrain-auc:0.83171\ttest-auc:0.80475\tvalid-auc:0.81224\n",
      "[140]\ttrain-auc:0.83185\ttest-auc:0.80483\tvalid-auc:0.81231\n"
     ]
    },
    {
     "name": "stdout",
     "output_type": "stream",
     "text": [
      "[141]\ttrain-auc:0.83191\ttest-auc:0.80493\tvalid-auc:0.81233\n",
      "[142]\ttrain-auc:0.83223\ttest-auc:0.80500\tvalid-auc:0.81245\n",
      "[143]\ttrain-auc:0.83233\ttest-auc:0.80497\tvalid-auc:0.81239\n",
      "[144]\ttrain-auc:0.83240\ttest-auc:0.80502\tvalid-auc:0.81248\n",
      "[145]\ttrain-auc:0.83249\ttest-auc:0.80507\tvalid-auc:0.81241\n",
      "[146]\ttrain-auc:0.83276\ttest-auc:0.80491\tvalid-auc:0.81216\n",
      "[147]\ttrain-auc:0.83291\ttest-auc:0.80490\tvalid-auc:0.81215\n",
      "[148]\ttrain-auc:0.83293\ttest-auc:0.80494\tvalid-auc:0.81218\n",
      "[149]\ttrain-auc:0.83298\ttest-auc:0.80487\tvalid-auc:0.81219\n",
      "[150]\ttrain-auc:0.83311\ttest-auc:0.80476\tvalid-auc:0.81203\n",
      "[151]\ttrain-auc:0.83317\ttest-auc:0.80478\tvalid-auc:0.81204\n",
      "[152]\ttrain-auc:0.83331\ttest-auc:0.80478\tvalid-auc:0.81216\n",
      "[153]\ttrain-auc:0.83347\ttest-auc:0.80486\tvalid-auc:0.81212\n"
     ]
    }
   ],
   "source": [
    "\n",
    "\n",
    "# set best parameters to be used in XGBoost\n",
    "params = {    \n",
    "     'max_depth': 3,\n",
    "    \n",
    "    'objective': 'binary:logistic',\n",
    "    'eval_metric': 'auc',\n",
    "}\n",
    "\n",
    "evals_result = {}\n",
    "booster = xgb.train(\n",
    "    params = params,\n",
    "    dtrain = xgb.DMatrix(data[train_mask][cols_pred], data[train_mask][col_target]),\n",
    "    num_boost_round = 1000,\n",
    "    evals = (\n",
    "        (xgb.DMatrix(data[train_mask][cols_pred], data[train_mask][col_target]), 'train'),\n",
    "        (xgb.DMatrix(data[test_mask][cols_pred], data[test_mask][col_target]), 'test'),\n",
    "        (xgb.DMatrix(data[valid_mask][cols_pred], data[valid_mask][col_target]), 'valid')\n",
    "    ),\n",
    "    evals_result = evals_result,\n",
    "    early_stopping_rounds = 10\n",
    ")"
   ]
  },
  {
   "cell_type": "code",
   "execution_count": 178,
   "metadata": {
    "ExecuteTime": {
     "end_time": "2023-04-17T13:29:11.673946Z",
     "start_time": "2023-04-17T13:29:11.392261Z"
    }
   },
   "outputs": [
    {
     "data": {
      "image/png": "[encoded data removed]",
      "text/plain": [
       "<Figure size 432x360 with 1 Axes>"
      ]
     },
     "metadata": {
      "needs_background": "light"
     },
     "output_type": "display_data"
    }
   ],
   "source": [
    "metric = 'auc'\n",
    "\n",
    "fig = plt.figure(figsize=(6,5))\n",
    "total_iteration_count = len(evals_result[list(evals_result.keys())[0]][metric])\n",
    "for sample, vals in evals_result.items():\n",
    "    plt.plot(\n",
    "        range(1, total_iteration_count + 1), \n",
    "        vals[metric],\n",
    "        label=sample\n",
    "    )\n",
    "\n",
    "best_score = booster.best_score\n",
    "best_iteration = booster.best_iteration+1\n",
    "\n",
    "plt.plot([1, total_iteration_count], [best_score, best_score], color='black', ls='--', lw=1)\n",
    "plt.scatter([best_iteration], [best_score], color = 'black')\n",
    "plt.annotate(\n",
    "    '{:d}; {:0.3f}'.format(best_iteration, best_score), \n",
    "    xy = (best_iteration, best_score), \n",
    "    xytext = (best_iteration,best_score+0.005),\n",
    "#     textcoords = 'offset points'\n",
    ")\n",
    "plt.xlabel('iteration')\n",
    "plt.ylabel(metric)\n",
    "plt.legend(loc='best')\n",
    "plt.title(f'{metric} curves')\n",
    "plt.show()"
   ]
  },
  {
   "cell_type": "code",
   "execution_count": 180,
   "metadata": {
    "ExecuteTime": {
     "end_time": "2023-04-17T13:31:49.934033Z",
     "start_time": "2023-04-17T13:31:49.680647Z"
    }
   },
   "outputs": [
    {
     "name": "stdout",
     "output_type": "stream",
     "text": [
      "                               predictor   strength\n",
      "0                           arrival_year  38.879046\n",
      "1                 no_of_special_requests  31.019988\n",
      "2                MTE_market_segment_type  17.546655\n",
      "3                          arrival_month  16.346513\n",
      "4                              lead_time  12.702463\n",
      "5   no_of_previous_bookings_not_canceled   8.377751\n",
      "6                           no_of_adults   7.913584\n",
      "7             required_car_parking_space   7.818197\n",
      "8                      no_of_week_nights   7.157498\n",
      "9                  MTE_type_of_meal_plan   7.096951\n",
      "10                    avg_price_per_room   5.505131\n"
     ]
    },
    {
     "data": {
      "image/png": "[encoded data removed]",
      "text/plain": [
       "<Figure size 432x360 with 1 Axes>"
      ]
     },
     "metadata": {
      "needs_background": "light"
     },
     "output_type": "display_data"
    }
   ],
   "source": [
    "importance_type = 'gain'\n",
    "\n",
    "predictor_strength = sorted([(k, v) for k,v in booster.get_score(importance_type = importance_type).items()], key = lambda x: x[1], reverse = True)\n",
    "predictor_strength = pd.DataFrame(predictor_strength, columns = ['predictor', 'strength'])\n",
    "fig = plt.figure(figsize=(6,5))\n",
    "print(predictor_strength)\n",
    "n_strongest = 10\n",
    "plt.barh(range(n_strongest, 0, -1), predictor_strength['strength'].iloc[0:10])\n",
    "plt.yticks(range(n_strongest, 0, -1), predictor_strength['predictor'].iloc[0:10])\n",
    "plt.xlabel(importance_type)\n",
    "plt.title('Predictor importance')\n",
    "plt.show()"
   ]
  },
  {
   "cell_type": "code",
   "execution_count": null,
   "metadata": {},
   "outputs": [],
   "source": []
  },
  {
   "cell_type": "code",
   "execution_count": 63,
   "metadata": {
    "ExecuteTime": {
     "end_time": "2023-04-17T12:37:34.678280Z",
     "start_time": "2023-04-17T12:37:33.569204Z"
    }
   },
   "outputs": [
    {
     "name": "stdout",
     "output_type": "stream",
     "text": [
      "[0]\tvalidation_0-auc:0.75479\tvalidation_1-auc:0.74260\tvalidation_2-auc:0.75516\n",
      "[1]\tvalidation_0-auc:0.77766\tvalidation_1-auc:0.76341\tvalidation_2-auc:0.78225\n",
      "[2]\tvalidation_0-auc:0.78554\tvalidation_1-auc:0.77463\tvalidation_2-auc:0.78640\n",
      "[3]\tvalidation_0-auc:0.79332\tvalidation_1-auc:0.78151\tvalidation_2-auc:0.79053\n",
      "[4]\tvalidation_0-auc:0.79841\tvalidation_1-auc:0.78475\tvalidation_2-auc:0.79244\n",
      "[5]\tvalidation_0-auc:0.80293\tvalidation_1-auc:0.78793\tvalidation_2-auc:0.79706\n",
      "[6]\tvalidation_0-auc:0.80753\tvalidation_1-auc:0.79181\tvalidation_2-auc:0.80129\n",
      "[7]\tvalidation_0-auc:0.81076\tvalidation_1-auc:0.79487\tvalidation_2-auc:0.80431\n",
      "[8]\tvalidation_0-auc:0.81249\tvalidation_1-auc:0.79567\tvalidation_2-auc:0.80522\n",
      "[9]\tvalidation_0-auc:0.81357\tvalidation_1-auc:0.79734\tvalidation_2-auc:0.80630\n",
      "[10]\tvalidation_0-auc:0.81649\tvalidation_1-auc:0.79877\tvalidation_2-auc:0.80766\n",
      "[11]\tvalidation_0-auc:0.81904\tvalidation_1-auc:0.79919\tvalidation_2-auc:0.80879\n",
      "[12]\tvalidation_0-auc:0.82040\tvalidation_1-auc:0.80004\tvalidation_2-auc:0.80949\n",
      "[13]\tvalidation_0-auc:0.82138\tvalidation_1-auc:0.80106\tvalidation_2-auc:0.81014\n",
      "[14]\tvalidation_0-auc:0.82522\tvalidation_1-auc:0.80073\tvalidation_2-auc:0.81125\n",
      "[15]\tvalidation_0-auc:0.82666\tvalidation_1-auc:0.80179\tvalidation_2-auc:0.81189\n",
      "[16]\tvalidation_0-auc:0.82792\tvalidation_1-auc:0.80238\tvalidation_2-auc:0.81213\n",
      "[17]\tvalidation_0-auc:0.82874\tvalidation_1-auc:0.80383\tvalidation_2-auc:0.81306\n",
      "[18]\tvalidation_0-auc:0.83037\tvalidation_1-auc:0.80440\tvalidation_2-auc:0.81403\n",
      "[19]\tvalidation_0-auc:0.83353\tvalidation_1-auc:0.80532\tvalidation_2-auc:0.81439\n",
      "[20]\tvalidation_0-auc:0.83416\tvalidation_1-auc:0.80577\tvalidation_2-auc:0.81434\n",
      "[21]\tvalidation_0-auc:0.83445\tvalidation_1-auc:0.80596\tvalidation_2-auc:0.81435\n",
      "[22]\tvalidation_0-auc:0.83512\tvalidation_1-auc:0.80624\tvalidation_2-auc:0.81425\n",
      "[23]\tvalidation_0-auc:0.83602\tvalidation_1-auc:0.80631\tvalidation_2-auc:0.81421\n",
      "[24]\tvalidation_0-auc:0.83731\tvalidation_1-auc:0.80700\tvalidation_2-auc:0.81433\n",
      "[25]\tvalidation_0-auc:0.83863\tvalidation_1-auc:0.80739\tvalidation_2-auc:0.81475\n",
      "[26]\tvalidation_0-auc:0.83955\tvalidation_1-auc:0.80772\tvalidation_2-auc:0.81498\n",
      "[27]\tvalidation_0-auc:0.84132\tvalidation_1-auc:0.80764\tvalidation_2-auc:0.81512\n",
      "[28]\tvalidation_0-auc:0.84188\tvalidation_1-auc:0.80790\tvalidation_2-auc:0.81511\n",
      "[29]\tvalidation_0-auc:0.84203\tvalidation_1-auc:0.80810\tvalidation_2-auc:0.81523\n",
      "[30]\tvalidation_0-auc:0.84280\tvalidation_1-auc:0.80800\tvalidation_2-auc:0.81522\n",
      "[31]\tvalidation_0-auc:0.84282\tvalidation_1-auc:0.80809\tvalidation_2-auc:0.81511\n",
      "[32]\tvalidation_0-auc:0.84545\tvalidation_1-auc:0.80779\tvalidation_2-auc:0.81509\n",
      "[33]\tvalidation_0-auc:0.84830\tvalidation_1-auc:0.80767\tvalidation_2-auc:0.81450\n",
      "[34]\tvalidation_0-auc:0.84982\tvalidation_1-auc:0.80837\tvalidation_2-auc:0.81463\n",
      "[35]\tvalidation_0-auc:0.85038\tvalidation_1-auc:0.80826\tvalidation_2-auc:0.81459\n",
      "[36]\tvalidation_0-auc:0.85198\tvalidation_1-auc:0.80817\tvalidation_2-auc:0.81482\n",
      "[37]\tvalidation_0-auc:0.85281\tvalidation_1-auc:0.80851\tvalidation_2-auc:0.81526\n",
      "[38]\tvalidation_0-auc:0.85308\tvalidation_1-auc:0.80866\tvalidation_2-auc:0.81535\n",
      "[39]\tvalidation_0-auc:0.85416\tvalidation_1-auc:0.80836\tvalidation_2-auc:0.81500\n",
      "[40]\tvalidation_0-auc:0.85481\tvalidation_1-auc:0.80838\tvalidation_2-auc:0.81480\n",
      "[41]\tvalidation_0-auc:0.85546\tvalidation_1-auc:0.80809\tvalidation_2-auc:0.81477\n",
      "[42]\tvalidation_0-auc:0.85563\tvalidation_1-auc:0.80813\tvalidation_2-auc:0.81489\n",
      "[43]\tvalidation_0-auc:0.85615\tvalidation_1-auc:0.80829\tvalidation_2-auc:0.81496\n",
      "[44]\tvalidation_0-auc:0.85624\tvalidation_1-auc:0.80823\tvalidation_2-auc:0.81494\n",
      "[45]\tvalidation_0-auc:0.85657\tvalidation_1-auc:0.80832\tvalidation_2-auc:0.81496\n",
      "[46]\tvalidation_0-auc:0.85877\tvalidation_1-auc:0.80907\tvalidation_2-auc:0.81559\n",
      "[47]\tvalidation_0-auc:0.86029\tvalidation_1-auc:0.80963\tvalidation_2-auc:0.81593\n",
      "[48]\tvalidation_0-auc:0.86137\tvalidation_1-auc:0.80992\tvalidation_2-auc:0.81627\n",
      "[49]\tvalidation_0-auc:0.86257\tvalidation_1-auc:0.81012\tvalidation_2-auc:0.81614\n",
      "[50]\tvalidation_0-auc:0.86280\tvalidation_1-auc:0.81008\tvalidation_2-auc:0.81617\n",
      "[51]\tvalidation_0-auc:0.86312\tvalidation_1-auc:0.81014\tvalidation_2-auc:0.81598\n",
      "[52]\tvalidation_0-auc:0.86478\tvalidation_1-auc:0.81009\tvalidation_2-auc:0.81537\n",
      "[53]\tvalidation_0-auc:0.86531\tvalidation_1-auc:0.80991\tvalidation_2-auc:0.81512\n",
      "[54]\tvalidation_0-auc:0.86697\tvalidation_1-auc:0.80972\tvalidation_2-auc:0.81520\n",
      "[55]\tvalidation_0-auc:0.86700\tvalidation_1-auc:0.80964\tvalidation_2-auc:0.81513\n",
      "[56]\tvalidation_0-auc:0.86823\tvalidation_1-auc:0.80909\tvalidation_2-auc:0.81470\n",
      "[57]\tvalidation_0-auc:0.86882\tvalidation_1-auc:0.80927\tvalidation_2-auc:0.81497\n"
     ]
    },
    {
     "data": {
      "text/plain": [
       "XGBClassifier(base_score=0.5, booster='gbtree', colsample_bylevel=1,\n",
       "              colsample_bynode=1, colsample_bytree=1, eval_metric='auc',\n",
       "              gamma=0, gpu_id=-1, importance_type='gain',\n",
       "              interaction_constraints='', learning_rate=0.300000012,\n",
       "              max_delta_step=0, max_depth=6, min_child_weight=1, missing=nan,\n",
       "              monotone_constraints='()', n_estimators=100, n_jobs=8,\n",
       "              num_parallel_tree=1, random_state=12, reg_alpha=0, reg_lambda=1,\n",
       "              scale_pos_weight=1, subsample=1, tree_method='exact',\n",
       "              use_label_encoder=False, validate_parameters=1, verbosity=1)"
      ]
     },
     "execution_count": 63,
     "metadata": {},
     "output_type": "execute_result"
    }
   ],
   "source": [
    "booster_sklearn = xgb.XGBClassifier(\n",
    "    booster='gbtree',\n",
    "    objective='binary:logistic',\n",
    "    random_state=12,\n",
    "    verbosity=1,\n",
    "    eval_metric='auc',\n",
    "    use_label_encoder=False,    \n",
    ")\n",
    "\n",
    "booster_sklearn.fit(\n",
    "    data[train_mask][cols_pred].values, \n",
    "    data[train_mask][col_target].astype(int).values,\n",
    "    eval_set=[\n",
    "        (data[train_mask][cols_pred].values, data[train_mask][col_target].values),\n",
    "        (data[test_mask][cols_pred].values, data[test_mask][col_target].values),\n",
    "        (data[valid_mask][cols_pred].values, data[valid_mask][col_target].values),\n",
    "    ],\n",
    "    verbose=True,\n",
    "    early_stopping_rounds=10\n",
    ")"
   ]
  },
  {
   "cell_type": "code",
   "execution_count": 56,
   "metadata": {
    "ExecuteTime": {
     "end_time": "2023-04-17T12:20:51.945125Z",
     "start_time": "2023-04-17T12:20:51.885334Z"
    }
   },
   "outputs": [
    {
     "ename": "ValueError",
     "evalue": "feature_names mismatch: ['f0', 'f1', 'f2', 'f3', 'f4', 'f5', 'f6', 'f7', 'f8', 'f9', 'f10', 'f11', 'f12', 'f13', 'f14', 'f15', 'f16'] ['no_of_adults', 'no_of_children', 'no_of_weekend_nights', 'no_of_week_nights', 'required_car_parking_space', 'lead_time', 'arrival_year', 'arrival_month', 'arrival_date', 'repeated_guest', 'no_of_previous_cancellations', 'no_of_previous_bookings_not_canceled', 'avg_price_per_room', 'no_of_special_requests', 'MTE_type_of_meal_plan', 'MTE_room_type_reserved', 'MTE_market_segment_type']\nexpected f15, f12, f13, f5, f2, f6, f0, f10, f9, f3, f1, f7, f8, f14, f11, f4, f16 in input data\ntraining data did not have the following fields: arrival_month, no_of_previous_cancellations, no_of_adults, lead_time, no_of_previous_bookings_not_canceled, MTE_room_type_reserved, MTE_market_segment_type, arrival_year, no_of_week_nights, repeated_guest, no_of_children, required_car_parking_space, arrival_date, no_of_special_requests, no_of_weekend_nights, avg_price_per_room, MTE_type_of_meal_plan",
     "output_type": "error",
     "traceback": [
      "\u001b[1;31m---------------------------------------------------------------------------\u001b[0m",
      "\u001b[1;31mValueError\u001b[0m                                Traceback (most recent call last)",
      "\u001b[1;32m<ipython-input-56-7b5f619d69d0>\u001b[0m in \u001b[0;36m<module>\u001b[1;34m\u001b[0m\n\u001b[1;32m----> 1\u001b[1;33m \u001b[0mr\u001b[0m \u001b[1;33m=\u001b[0m \u001b[0mpermutation_importance\u001b[0m\u001b[1;33m(\u001b[0m\u001b[0mbooster_sklearn\u001b[0m\u001b[1;33m,\u001b[0m \u001b[0mdata\u001b[0m\u001b[1;33m[\u001b[0m\u001b[0mtest_mask\u001b[0m\u001b[1;33m]\u001b[0m\u001b[1;33m[\u001b[0m\u001b[0mcols_pred\u001b[0m\u001b[1;33m]\u001b[0m\u001b[1;33m,\u001b[0m \u001b[0mdata\u001b[0m\u001b[1;33m[\u001b[0m\u001b[0mtest_mask\u001b[0m\u001b[1;33m]\u001b[0m\u001b[1;33m[\u001b[0m\u001b[0mcol_target\u001b[0m\u001b[1;33m]\u001b[0m\u001b[1;33m,\u001b[0m \u001b[0mn_repeats\u001b[0m\u001b[1;33m=\u001b[0m\u001b[1;36m6\u001b[0m\u001b[1;33m)\u001b[0m\u001b[1;33m\u001b[0m\u001b[1;33m\u001b[0m\u001b[0m\n\u001b[0m",
      "\u001b[1;32m~\\anaconda3\\lib\\site-packages\\sklearn\\utils\\validation.py\u001b[0m in \u001b[0;36minner_f\u001b[1;34m(*args, **kwargs)\u001b[0m\n\u001b[0;32m     70\u001b[0m                           FutureWarning)\n\u001b[0;32m     71\u001b[0m         \u001b[0mkwargs\u001b[0m\u001b[1;33m.\u001b[0m\u001b[0mupdate\u001b[0m\u001b[1;33m(\u001b[0m\u001b[1;33m{\u001b[0m\u001b[0mk\u001b[0m\u001b[1;33m:\u001b[0m \u001b[0marg\u001b[0m \u001b[1;32mfor\u001b[0m \u001b[0mk\u001b[0m\u001b[1;33m,\u001b[0m \u001b[0marg\u001b[0m \u001b[1;32min\u001b[0m \u001b[0mzip\u001b[0m\u001b[1;33m(\u001b[0m\u001b[0msig\u001b[0m\u001b[1;33m.\u001b[0m\u001b[0mparameters\u001b[0m\u001b[1;33m,\u001b[0m \u001b[0margs\u001b[0m\u001b[1;33m)\u001b[0m\u001b[1;33m}\u001b[0m\u001b[1;33m)\u001b[0m\u001b[1;33m\u001b[0m\u001b[1;33m\u001b[0m\u001b[0m\n\u001b[1;32m---> 72\u001b[1;33m         \u001b[1;32mreturn\u001b[0m \u001b[0mf\u001b[0m\u001b[1;33m(\u001b[0m\u001b[1;33m**\u001b[0m\u001b[0mkwargs\u001b[0m\u001b[1;33m)\u001b[0m\u001b[1;33m\u001b[0m\u001b[1;33m\u001b[0m\u001b[0m\n\u001b[0m\u001b[0;32m     73\u001b[0m     \u001b[1;32mreturn\u001b[0m \u001b[0minner_f\u001b[0m\u001b[1;33m\u001b[0m\u001b[1;33m\u001b[0m\u001b[0m\n\u001b[0;32m     74\u001b[0m \u001b[1;33m\u001b[0m\u001b[0m\n",
      "\u001b[1;32m~\\anaconda3\\lib\\site-packages\\sklearn\\inspection\\_permutation_importance.py\u001b[0m in \u001b[0;36mpermutation_importance\u001b[1;34m(estimator, X, y, scoring, n_repeats, n_jobs, random_state)\u001b[0m\n\u001b[0;32m    131\u001b[0m \u001b[1;33m\u001b[0m\u001b[0m\n\u001b[0;32m    132\u001b[0m     \u001b[0mscorer\u001b[0m \u001b[1;33m=\u001b[0m \u001b[0mcheck_scoring\u001b[0m\u001b[1;33m(\u001b[0m\u001b[0mestimator\u001b[0m\u001b[1;33m,\u001b[0m \u001b[0mscoring\u001b[0m\u001b[1;33m=\u001b[0m\u001b[0mscoring\u001b[0m\u001b[1;33m)\u001b[0m\u001b[1;33m\u001b[0m\u001b[1;33m\u001b[0m\u001b[0m\n\u001b[1;32m--> 133\u001b[1;33m     \u001b[0mbaseline_score\u001b[0m \u001b[1;33m=\u001b[0m \u001b[0mscorer\u001b[0m\u001b[1;33m(\u001b[0m\u001b[0mestimator\u001b[0m\u001b[1;33m,\u001b[0m \u001b[0mX\u001b[0m\u001b[1;33m,\u001b[0m \u001b[0my\u001b[0m\u001b[1;33m)\u001b[0m\u001b[1;33m\u001b[0m\u001b[1;33m\u001b[0m\u001b[0m\n\u001b[0m\u001b[0;32m    134\u001b[0m \u001b[1;33m\u001b[0m\u001b[0m\n\u001b[0;32m    135\u001b[0m     scores = Parallel(n_jobs=n_jobs)(delayed(_calculate_permutation_scores)(\n",
      "\u001b[1;32m~\\anaconda3\\lib\\site-packages\\sklearn\\metrics\\_scorer.py\u001b[0m in \u001b[0;36m_passthrough_scorer\u001b[1;34m(estimator, *args, **kwargs)\u001b[0m\n\u001b[0;32m    370\u001b[0m \u001b[1;32mdef\u001b[0m \u001b[0m_passthrough_scorer\u001b[0m\u001b[1;33m(\u001b[0m\u001b[0mestimator\u001b[0m\u001b[1;33m,\u001b[0m \u001b[1;33m*\u001b[0m\u001b[0margs\u001b[0m\u001b[1;33m,\u001b[0m \u001b[1;33m**\u001b[0m\u001b[0mkwargs\u001b[0m\u001b[1;33m)\u001b[0m\u001b[1;33m:\u001b[0m\u001b[1;33m\u001b[0m\u001b[1;33m\u001b[0m\u001b[0m\n\u001b[0;32m    371\u001b[0m     \u001b[1;34m\"\"\"Function that wraps estimator.score\"\"\"\u001b[0m\u001b[1;33m\u001b[0m\u001b[1;33m\u001b[0m\u001b[0m\n\u001b[1;32m--> 372\u001b[1;33m     \u001b[1;32mreturn\u001b[0m \u001b[0mestimator\u001b[0m\u001b[1;33m.\u001b[0m\u001b[0mscore\u001b[0m\u001b[1;33m(\u001b[0m\u001b[1;33m*\u001b[0m\u001b[0margs\u001b[0m\u001b[1;33m,\u001b[0m \u001b[1;33m**\u001b[0m\u001b[0mkwargs\u001b[0m\u001b[1;33m)\u001b[0m\u001b[1;33m\u001b[0m\u001b[1;33m\u001b[0m\u001b[0m\n\u001b[0m\u001b[0;32m    373\u001b[0m \u001b[1;33m\u001b[0m\u001b[0m\n\u001b[0;32m    374\u001b[0m \u001b[1;33m\u001b[0m\u001b[0m\n",
      "\u001b[1;32m~\\anaconda3\\lib\\site-packages\\sklearn\\base.py\u001b[0m in \u001b[0;36mscore\u001b[1;34m(self, X, y, sample_weight)\u001b[0m\n\u001b[0;32m    497\u001b[0m         \"\"\"\n\u001b[0;32m    498\u001b[0m         \u001b[1;32mfrom\u001b[0m \u001b[1;33m.\u001b[0m\u001b[0mmetrics\u001b[0m \u001b[1;32mimport\u001b[0m \u001b[0maccuracy_score\u001b[0m\u001b[1;33m\u001b[0m\u001b[1;33m\u001b[0m\u001b[0m\n\u001b[1;32m--> 499\u001b[1;33m         \u001b[1;32mreturn\u001b[0m \u001b[0maccuracy_score\u001b[0m\u001b[1;33m(\u001b[0m\u001b[0my\u001b[0m\u001b[1;33m,\u001b[0m \u001b[0mself\u001b[0m\u001b[1;33m.\u001b[0m\u001b[0mpredict\u001b[0m\u001b[1;33m(\u001b[0m\u001b[0mX\u001b[0m\u001b[1;33m)\u001b[0m\u001b[1;33m,\u001b[0m \u001b[0msample_weight\u001b[0m\u001b[1;33m=\u001b[0m\u001b[0msample_weight\u001b[0m\u001b[1;33m)\u001b[0m\u001b[1;33m\u001b[0m\u001b[1;33m\u001b[0m\u001b[0m\n\u001b[0m\u001b[0;32m    500\u001b[0m \u001b[1;33m\u001b[0m\u001b[0m\n\u001b[0;32m    501\u001b[0m     \u001b[1;32mdef\u001b[0m \u001b[0m_more_tags\u001b[0m\u001b[1;33m(\u001b[0m\u001b[0mself\u001b[0m\u001b[1;33m)\u001b[0m\u001b[1;33m:\u001b[0m\u001b[1;33m\u001b[0m\u001b[1;33m\u001b[0m\u001b[0m\n",
      "\u001b[1;32m~\\anaconda3\\lib\\site-packages\\xgboost\\sklearn.py\u001b[0m in \u001b[0;36mpredict\u001b[1;34m(self, data, output_margin, ntree_limit, validate_features, base_margin)\u001b[0m\n\u001b[0;32m    968\u001b[0m         \u001b[1;32mif\u001b[0m \u001b[0mntree_limit\u001b[0m \u001b[1;32mis\u001b[0m \u001b[1;32mNone\u001b[0m\u001b[1;33m:\u001b[0m\u001b[1;33m\u001b[0m\u001b[1;33m\u001b[0m\u001b[0m\n\u001b[0;32m    969\u001b[0m             \u001b[0mntree_limit\u001b[0m \u001b[1;33m=\u001b[0m \u001b[0mgetattr\u001b[0m\u001b[1;33m(\u001b[0m\u001b[0mself\u001b[0m\u001b[1;33m,\u001b[0m \u001b[1;34m\"best_ntree_limit\"\u001b[0m\u001b[1;33m,\u001b[0m \u001b[1;36m0\u001b[0m\u001b[1;33m)\u001b[0m\u001b[1;33m\u001b[0m\u001b[1;33m\u001b[0m\u001b[0m\n\u001b[1;32m--> 970\u001b[1;33m         class_probs = self.get_booster().predict(\n\u001b[0m\u001b[0;32m    971\u001b[0m             \u001b[0mtest_dmatrix\u001b[0m\u001b[1;33m,\u001b[0m\u001b[1;33m\u001b[0m\u001b[1;33m\u001b[0m\u001b[0m\n\u001b[0;32m    972\u001b[0m             \u001b[0moutput_margin\u001b[0m\u001b[1;33m=\u001b[0m\u001b[0moutput_margin\u001b[0m\u001b[1;33m,\u001b[0m\u001b[1;33m\u001b[0m\u001b[1;33m\u001b[0m\u001b[0m\n",
      "\u001b[1;32m~\\anaconda3\\lib\\site-packages\\xgboost\\core.py\u001b[0m in \u001b[0;36mpredict\u001b[1;34m(self, data, output_margin, ntree_limit, pred_leaf, pred_contribs, approx_contribs, pred_interactions, validate_features, training)\u001b[0m\n\u001b[0;32m   1483\u001b[0m \u001b[1;33m\u001b[0m\u001b[0m\n\u001b[0;32m   1484\u001b[0m         \u001b[1;32mif\u001b[0m \u001b[0mvalidate_features\u001b[0m\u001b[1;33m:\u001b[0m\u001b[1;33m\u001b[0m\u001b[1;33m\u001b[0m\u001b[0m\n\u001b[1;32m-> 1485\u001b[1;33m             \u001b[0mself\u001b[0m\u001b[1;33m.\u001b[0m\u001b[0m_validate_features\u001b[0m\u001b[1;33m(\u001b[0m\u001b[0mdata\u001b[0m\u001b[1;33m)\u001b[0m\u001b[1;33m\u001b[0m\u001b[1;33m\u001b[0m\u001b[0m\n\u001b[0m\u001b[0;32m   1486\u001b[0m \u001b[1;33m\u001b[0m\u001b[0m\n\u001b[0;32m   1487\u001b[0m         \u001b[0mlength\u001b[0m \u001b[1;33m=\u001b[0m \u001b[0mc_bst_ulong\u001b[0m\u001b[1;33m(\u001b[0m\u001b[1;33m)\u001b[0m\u001b[1;33m\u001b[0m\u001b[1;33m\u001b[0m\u001b[0m\n",
      "\u001b[1;32m~\\anaconda3\\lib\\site-packages\\xgboost\\core.py\u001b[0m in \u001b[0;36m_validate_features\u001b[1;34m(self, data)\u001b[0m\n\u001b[0;32m   2058\u001b[0m                             ', '.join(str(s) for s in my_missing))\n\u001b[0;32m   2059\u001b[0m \u001b[1;33m\u001b[0m\u001b[0m\n\u001b[1;32m-> 2060\u001b[1;33m                 raise ValueError(msg.format(self.feature_names,\n\u001b[0m\u001b[0;32m   2061\u001b[0m                                             data.feature_names))\n\u001b[0;32m   2062\u001b[0m \u001b[1;33m\u001b[0m\u001b[0m\n",
      "\u001b[1;31mValueError\u001b[0m: feature_names mismatch: ['f0', 'f1', 'f2', 'f3', 'f4', 'f5', 'f6', 'f7', 'f8', 'f9', 'f10', 'f11', 'f12', 'f13', 'f14', 'f15', 'f16'] ['no_of_adults', 'no_of_children', 'no_of_weekend_nights', 'no_of_week_nights', 'required_car_parking_space', 'lead_time', 'arrival_year', 'arrival_month', 'arrival_date', 'repeated_guest', 'no_of_previous_cancellations', 'no_of_previous_bookings_not_canceled', 'avg_price_per_room', 'no_of_special_requests', 'MTE_type_of_meal_plan', 'MTE_room_type_reserved', 'MTE_market_segment_type']\nexpected f15, f12, f13, f5, f2, f6, f0, f10, f9, f3, f1, f7, f8, f14, f11, f4, f16 in input data\ntraining data did not have the following fields: arrival_month, no_of_previous_cancellations, no_of_adults, lead_time, no_of_previous_bookings_not_canceled, MTE_room_type_reserved, MTE_market_segment_type, arrival_year, no_of_week_nights, repeated_guest, no_of_children, required_car_parking_space, arrival_date, no_of_special_requests, no_of_weekend_nights, avg_price_per_room, MTE_type_of_meal_plan"
     ]
    }
   ],
   "source": [
    "r = permutation_importance(booster_sklearn, data[test_mask][cols_pred], data[test_mask][col_target], n_repeats=6)"
   ]
  },
  {
   "cell_type": "code",
   "execution_count": null,
   "metadata": {},
   "outputs": [],
   "source": []
  }
 ],
 "metadata": {
  "kernelspec": {
   "display_name": "Python 3",
   "language": "python",
   "name": "python3"
  },
  "language_info": {
   "codemirror_mode": {
    "name": "ipython",
    "version": 3
   },
   "file_extension": ".py",
   "mimetype": "text/x-python",
   "name": "python",
   "nbconvert_exporter": "python",
   "pygments_lexer": "ipython3",
   "version": "3.8.5"
  },
  "toc": {
   "base_numbering": 1,
   "nav_menu": {},
   "number_sections": true,
   "sideBar": true,
   "skip_h1_title": false,
   "title_cell": "Table of Contents",
   "title_sidebar": "Contents",
   "toc_cell": false,
   "toc_position": {},
   "toc_section_display": true,
   "toc_window_display": false
  },
  "varInspector": {
   "cols": {
    "lenName": 16,
    "lenType": 16,
    "lenVar": 40
   },
   "kernels_config": {
    "python": {
     "delete_cmd_postfix": "",
     "delete_cmd_prefix": "del ",
     "library": "var_list.py",
     "varRefreshCmd": "print(var_dic_list())"
    },
    "r": {
     "delete_cmd_postfix": ") ",
     "delete_cmd_prefix": "rm(",
     "library": "var_list.r",
     "varRefreshCmd": "cat(var_dic_list()) "
    }
   },
   "types_to_exclude": [
    "module",
    "function",
    "builtin_function_or_method",
    "instance",
    "_Feature"
   ],
   "window_display": false
  }
 },
 "nbformat": 4,
 "nbformat_minor": 4
}
