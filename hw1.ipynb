{
 "cells": [
  {
   "cell_type": "code",
   "execution_count": 15,
   "metadata": {
    "ExecuteTime": {
     "end_time": "2023-04-24T11:11:07.324366Z",
     "start_time": "2023-04-24T11:11:07.302571Z"
    }
   },
   "outputs": [
    {
     "ename": "ModuleNotFoundError",
     "evalue": "No module named 'xgboost'",
     "output_type": "error",
     "traceback": [
      "\u001b[0;31m---------------------------------------------------------------------------\u001b[0m",
      "\u001b[0;31mModuleNotFoundError\u001b[0m                       Traceback (most recent call last)",
      "Input \u001b[0;32mIn [15]\u001b[0m, in \u001b[0;36m<cell line: 13>\u001b[0;34m()\u001b[0m\n\u001b[1;32m     11\u001b[0m \u001b[38;5;28;01mfrom\u001b[39;00m \u001b[38;5;21;01msklearn\u001b[39;00m\u001b[38;5;21;01m.\u001b[39;00m\u001b[38;5;21;01mlinear_model\u001b[39;00m \u001b[38;5;28;01mimport\u001b[39;00m LogisticRegression\n\u001b[1;32m     12\u001b[0m \u001b[38;5;28;01mfrom\u001b[39;00m \u001b[38;5;21;01msklearn\u001b[39;00m\u001b[38;5;21;01m.\u001b[39;00m\u001b[38;5;21;01minspection\u001b[39;00m \u001b[38;5;28;01mimport\u001b[39;00m permutation_importance\n\u001b[0;32m---> 13\u001b[0m \u001b[38;5;28;01mimport\u001b[39;00m \u001b[38;5;21;01mxgboost\u001b[39;00m \u001b[38;5;28;01mas\u001b[39;00m \u001b[38;5;21;01mxgb\u001b[39;00m\n",
      "\u001b[0;31mModuleNotFoundError\u001b[0m: No module named 'xgboost'"
     ]
    }
   ],
   "source": [
    "import numpy as np\n",
    "import pandas as pd\n",
    "import matplotlib.pyplot as plt\n",
    "import seaborn as sns\n",
    "import datetime\n",
    "import pickle\n",
    "from tqdm.notebook import tqdm\n",
    "\n",
    "from sklearn.model_selection import train_test_split, KFold\n",
    "from sklearn.metrics import roc_auc_score, roc_curve\n",
    "from sklearn.linear_model import LogisticRegression\n",
    "from sklearn.inspection import permutation_importance\n",
    "import xgboost as xgb"
   ]
  },
  {
   "cell_type": "code",
   "execution_count": 2,
   "metadata": {},
   "outputs": [],
   "source": [
    "import pandas as pd\n",
    "from itertools import product\n",
    "import math"
   ]
  },
  {
   "cell_type": "markdown",
   "metadata": {},
   "source": [
    "# Data"
   ]
  },
  {
   "cell_type": "code",
   "execution_count": 16,
   "metadata": {
    "ExecuteTime": {
     "end_time": "2023-04-24T11:11:08.120906Z",
     "start_time": "2023-04-24T11:11:07.960667Z"
    }
   },
   "outputs": [],
   "source": [
    "data = pd.read_csv('2023_DS2_HW1_data_train.csv', sep = ',', decimal = '.', index_col = 'Booking_ID')"
   ]
  },
  {
   "cell_type": "code",
   "execution_count": 17,
   "metadata": {
    "ExecuteTime": {
     "end_time": "2023-04-24T11:11:08.578921Z",
     "start_time": "2023-04-24T11:11:08.495308Z"
    }
   },
   "outputs": [
    {
     "data": {
      "text/html": [
       "<div>\n",
       "<style scoped>\n",
       "    .dataframe tbody tr th:only-of-type {\n",
       "        vertical-align: middle;\n",
       "    }\n",
       "\n",
       "    .dataframe tbody tr th {\n",
       "        vertical-align: top;\n",
       "    }\n",
       "\n",
       "    .dataframe thead th {\n",
       "        text-align: right;\n",
       "    }\n",
       "</style>\n",
       "<table border=\"1\" class=\"dataframe\">\n",
       "  <thead>\n",
       "    <tr style=\"text-align: right;\">\n",
       "      <th></th>\n",
       "      <th>no_of_adults</th>\n",
       "      <th>no_of_children</th>\n",
       "      <th>no_of_weekend_nights</th>\n",
       "      <th>no_of_week_nights</th>\n",
       "      <th>type_of_meal_plan</th>\n",
       "      <th>required_car_parking_space</th>\n",
       "      <th>room_type_reserved</th>\n",
       "      <th>lead_time</th>\n",
       "      <th>arrival_year</th>\n",
       "      <th>arrival_month</th>\n",
       "      <th>arrival_date</th>\n",
       "      <th>market_segment_type</th>\n",
       "      <th>repeated_guest</th>\n",
       "      <th>no_of_previous_cancellations</th>\n",
       "      <th>no_of_previous_bookings_not_canceled</th>\n",
       "      <th>avg_price_per_room</th>\n",
       "      <th>no_of_special_requests</th>\n",
       "      <th>booking_status</th>\n",
       "    </tr>\n",
       "    <tr>\n",
       "      <th>Booking_ID</th>\n",
       "      <th></th>\n",
       "      <th></th>\n",
       "      <th></th>\n",
       "      <th></th>\n",
       "      <th></th>\n",
       "      <th></th>\n",
       "      <th></th>\n",
       "      <th></th>\n",
       "      <th></th>\n",
       "      <th></th>\n",
       "      <th></th>\n",
       "      <th></th>\n",
       "      <th></th>\n",
       "      <th></th>\n",
       "      <th></th>\n",
       "      <th></th>\n",
       "      <th></th>\n",
       "      <th></th>\n",
       "    </tr>\n",
       "  </thead>\n",
       "  <tbody>\n",
       "    <tr>\n",
       "      <th>INN10204</th>\n",
       "      <td>NaN</td>\n",
       "      <td>NaN</td>\n",
       "      <td>NaN</td>\n",
       "      <td>2.0</td>\n",
       "      <td>Meal Plan 2</td>\n",
       "      <td>NaN</td>\n",
       "      <td>Room_Type 6</td>\n",
       "      <td>NaN</td>\n",
       "      <td>2018.0</td>\n",
       "      <td>9.0</td>\n",
       "      <td>NaN</td>\n",
       "      <td>Online</td>\n",
       "      <td>0.0</td>\n",
       "      <td>0.0</td>\n",
       "      <td>NaN</td>\n",
       "      <td>NaN</td>\n",
       "      <td>1.0</td>\n",
       "      <td>0.0</td>\n",
       "    </tr>\n",
       "    <tr>\n",
       "      <th>INN20020</th>\n",
       "      <td>NaN</td>\n",
       "      <td>NaN</td>\n",
       "      <td>NaN</td>\n",
       "      <td>2.0</td>\n",
       "      <td>Meal Plan 1</td>\n",
       "      <td>NaN</td>\n",
       "      <td>NaN</td>\n",
       "      <td>NaN</td>\n",
       "      <td>NaN</td>\n",
       "      <td>12.0</td>\n",
       "      <td>NaN</td>\n",
       "      <td>Online</td>\n",
       "      <td>0.0</td>\n",
       "      <td>0.0</td>\n",
       "      <td>0.0</td>\n",
       "      <td>NaN</td>\n",
       "      <td>NaN</td>\n",
       "      <td>0.0</td>\n",
       "    </tr>\n",
       "    <tr>\n",
       "      <th>INN16435</th>\n",
       "      <td>1.0</td>\n",
       "      <td>NaN</td>\n",
       "      <td>NaN</td>\n",
       "      <td>2.0</td>\n",
       "      <td>NaN</td>\n",
       "      <td>0.0</td>\n",
       "      <td>Room_Type 1</td>\n",
       "      <td>NaN</td>\n",
       "      <td>2018.0</td>\n",
       "      <td>11.0</td>\n",
       "      <td>NaN</td>\n",
       "      <td>NaN</td>\n",
       "      <td>0.0</td>\n",
       "      <td>0.0</td>\n",
       "      <td>NaN</td>\n",
       "      <td>NaN</td>\n",
       "      <td>1.0</td>\n",
       "      <td>0.0</td>\n",
       "    </tr>\n",
       "    <tr>\n",
       "      <th>INN07143</th>\n",
       "      <td>3.0</td>\n",
       "      <td>NaN</td>\n",
       "      <td>NaN</td>\n",
       "      <td>3.0</td>\n",
       "      <td>NaN</td>\n",
       "      <td>NaN</td>\n",
       "      <td>NaN</td>\n",
       "      <td>100.0</td>\n",
       "      <td>2018.0</td>\n",
       "      <td>5.0</td>\n",
       "      <td>NaN</td>\n",
       "      <td>Online</td>\n",
       "      <td>0.0</td>\n",
       "      <td>0.0</td>\n",
       "      <td>NaN</td>\n",
       "      <td>NaN</td>\n",
       "      <td>2.0</td>\n",
       "      <td>0.0</td>\n",
       "    </tr>\n",
       "    <tr>\n",
       "      <th>INN20511</th>\n",
       "      <td>1.0</td>\n",
       "      <td>0.0</td>\n",
       "      <td>1.0</td>\n",
       "      <td>1.0</td>\n",
       "      <td>Meal Plan 1</td>\n",
       "      <td>0.0</td>\n",
       "      <td>NaN</td>\n",
       "      <td>NaN</td>\n",
       "      <td>2018.0</td>\n",
       "      <td>11.0</td>\n",
       "      <td>NaN</td>\n",
       "      <td>NaN</td>\n",
       "      <td>0.0</td>\n",
       "      <td>0.0</td>\n",
       "      <td>0.0</td>\n",
       "      <td>150.0</td>\n",
       "      <td>NaN</td>\n",
       "      <td>1.0</td>\n",
       "    </tr>\n",
       "    <tr>\n",
       "      <th>...</th>\n",
       "      <td>...</td>\n",
       "      <td>...</td>\n",
       "      <td>...</td>\n",
       "      <td>...</td>\n",
       "      <td>...</td>\n",
       "      <td>...</td>\n",
       "      <td>...</td>\n",
       "      <td>...</td>\n",
       "      <td>...</td>\n",
       "      <td>...</td>\n",
       "      <td>...</td>\n",
       "      <td>...</td>\n",
       "      <td>...</td>\n",
       "      <td>...</td>\n",
       "      <td>...</td>\n",
       "      <td>...</td>\n",
       "      <td>...</td>\n",
       "      <td>...</td>\n",
       "    </tr>\n",
       "    <tr>\n",
       "      <th>INN16851</th>\n",
       "      <td>2.0</td>\n",
       "      <td>NaN</td>\n",
       "      <td>NaN</td>\n",
       "      <td>NaN</td>\n",
       "      <td>Meal Plan 1</td>\n",
       "      <td>NaN</td>\n",
       "      <td>NaN</td>\n",
       "      <td>43.0</td>\n",
       "      <td>2017.0</td>\n",
       "      <td>12.0</td>\n",
       "      <td>26.0</td>\n",
       "      <td>Offline</td>\n",
       "      <td>NaN</td>\n",
       "      <td>0.0</td>\n",
       "      <td>0.0</td>\n",
       "      <td>NaN</td>\n",
       "      <td>2.0</td>\n",
       "      <td>0.0</td>\n",
       "    </tr>\n",
       "    <tr>\n",
       "      <th>INN06266</th>\n",
       "      <td>1.0</td>\n",
       "      <td>NaN</td>\n",
       "      <td>NaN</td>\n",
       "      <td>2.0</td>\n",
       "      <td>Meal Plan 2</td>\n",
       "      <td>0.0</td>\n",
       "      <td>Room_Type 1</td>\n",
       "      <td>102.0</td>\n",
       "      <td>2017.0</td>\n",
       "      <td>10.0</td>\n",
       "      <td>NaN</td>\n",
       "      <td>Online</td>\n",
       "      <td>NaN</td>\n",
       "      <td>0.0</td>\n",
       "      <td>NaN</td>\n",
       "      <td>80.0</td>\n",
       "      <td>NaN</td>\n",
       "      <td>1.0</td>\n",
       "    </tr>\n",
       "    <tr>\n",
       "      <th>INN11285</th>\n",
       "      <td>2.0</td>\n",
       "      <td>NaN</td>\n",
       "      <td>NaN</td>\n",
       "      <td>2.0</td>\n",
       "      <td>NaN</td>\n",
       "      <td>NaN</td>\n",
       "      <td>NaN</td>\n",
       "      <td>NaN</td>\n",
       "      <td>2018.0</td>\n",
       "      <td>5.0</td>\n",
       "      <td>NaN</td>\n",
       "      <td>Corporate</td>\n",
       "      <td>0.0</td>\n",
       "      <td>0.0</td>\n",
       "      <td>0.0</td>\n",
       "      <td>NaN</td>\n",
       "      <td>1.0</td>\n",
       "      <td>0.0</td>\n",
       "    </tr>\n",
       "    <tr>\n",
       "      <th>INN00861</th>\n",
       "      <td>2.0</td>\n",
       "      <td>NaN</td>\n",
       "      <td>NaN</td>\n",
       "      <td>3.0</td>\n",
       "      <td>Meal Plan 1</td>\n",
       "      <td>0.0</td>\n",
       "      <td>NaN</td>\n",
       "      <td>NaN</td>\n",
       "      <td>2018.0</td>\n",
       "      <td>6.0</td>\n",
       "      <td>NaN</td>\n",
       "      <td>Online</td>\n",
       "      <td>NaN</td>\n",
       "      <td>0.0</td>\n",
       "      <td>NaN</td>\n",
       "      <td>NaN</td>\n",
       "      <td>0.0</td>\n",
       "      <td>1.0</td>\n",
       "    </tr>\n",
       "    <tr>\n",
       "      <th>INN15796</th>\n",
       "      <td>2.0</td>\n",
       "      <td>NaN</td>\n",
       "      <td>NaN</td>\n",
       "      <td>2.0</td>\n",
       "      <td>NaN</td>\n",
       "      <td>NaN</td>\n",
       "      <td>NaN</td>\n",
       "      <td>14.0</td>\n",
       "      <td>2018.0</td>\n",
       "      <td>9.0</td>\n",
       "      <td>15.0</td>\n",
       "      <td>Online</td>\n",
       "      <td>NaN</td>\n",
       "      <td>0.0</td>\n",
       "      <td>NaN</td>\n",
       "      <td>NaN</td>\n",
       "      <td>NaN</td>\n",
       "      <td>0.0</td>\n",
       "    </tr>\n",
       "  </tbody>\n",
       "</table>\n",
       "<p>32647 rows × 18 columns</p>\n",
       "</div>"
      ],
      "text/plain": [
       "            no_of_adults  no_of_children  no_of_weekend_nights  \\\n",
       "Booking_ID                                                       \n",
       "INN10204             NaN             NaN                   NaN   \n",
       "INN20020             NaN             NaN                   NaN   \n",
       "INN16435             1.0             NaN                   NaN   \n",
       "INN07143             3.0             NaN                   NaN   \n",
       "INN20511             1.0             0.0                   1.0   \n",
       "...                  ...             ...                   ...   \n",
       "INN16851             2.0             NaN                   NaN   \n",
       "INN06266             1.0             NaN                   NaN   \n",
       "INN11285             2.0             NaN                   NaN   \n",
       "INN00861             2.0             NaN                   NaN   \n",
       "INN15796             2.0             NaN                   NaN   \n",
       "\n",
       "            no_of_week_nights type_of_meal_plan  required_car_parking_space  \\\n",
       "Booking_ID                                                                    \n",
       "INN10204                  2.0       Meal Plan 2                         NaN   \n",
       "INN20020                  2.0       Meal Plan 1                         NaN   \n",
       "INN16435                  2.0               NaN                         0.0   \n",
       "INN07143                  3.0               NaN                         NaN   \n",
       "INN20511                  1.0       Meal Plan 1                         0.0   \n",
       "...                       ...               ...                         ...   \n",
       "INN16851                  NaN       Meal Plan 1                         NaN   \n",
       "INN06266                  2.0       Meal Plan 2                         0.0   \n",
       "INN11285                  2.0               NaN                         NaN   \n",
       "INN00861                  3.0       Meal Plan 1                         0.0   \n",
       "INN15796                  2.0               NaN                         NaN   \n",
       "\n",
       "           room_type_reserved  lead_time  arrival_year  arrival_month  \\\n",
       "Booking_ID                                                              \n",
       "INN10204          Room_Type 6        NaN        2018.0            9.0   \n",
       "INN20020                  NaN        NaN           NaN           12.0   \n",
       "INN16435          Room_Type 1        NaN        2018.0           11.0   \n",
       "INN07143                  NaN      100.0        2018.0            5.0   \n",
       "INN20511                  NaN        NaN        2018.0           11.0   \n",
       "...                       ...        ...           ...            ...   \n",
       "INN16851                  NaN       43.0        2017.0           12.0   \n",
       "INN06266          Room_Type 1      102.0        2017.0           10.0   \n",
       "INN11285                  NaN        NaN        2018.0            5.0   \n",
       "INN00861                  NaN        NaN        2018.0            6.0   \n",
       "INN15796                  NaN       14.0        2018.0            9.0   \n",
       "\n",
       "            arrival_date market_segment_type  repeated_guest  \\\n",
       "Booking_ID                                                     \n",
       "INN10204             NaN              Online             0.0   \n",
       "INN20020             NaN              Online             0.0   \n",
       "INN16435             NaN                 NaN             0.0   \n",
       "INN07143             NaN              Online             0.0   \n",
       "INN20511             NaN                 NaN             0.0   \n",
       "...                  ...                 ...             ...   \n",
       "INN16851            26.0             Offline             NaN   \n",
       "INN06266             NaN              Online             NaN   \n",
       "INN11285             NaN           Corporate             0.0   \n",
       "INN00861             NaN              Online             NaN   \n",
       "INN15796            15.0              Online             NaN   \n",
       "\n",
       "            no_of_previous_cancellations  \\\n",
       "Booking_ID                                 \n",
       "INN10204                             0.0   \n",
       "INN20020                             0.0   \n",
       "INN16435                             0.0   \n",
       "INN07143                             0.0   \n",
       "INN20511                             0.0   \n",
       "...                                  ...   \n",
       "INN16851                             0.0   \n",
       "INN06266                             0.0   \n",
       "INN11285                             0.0   \n",
       "INN00861                             0.0   \n",
       "INN15796                             0.0   \n",
       "\n",
       "            no_of_previous_bookings_not_canceled  avg_price_per_room  \\\n",
       "Booking_ID                                                             \n",
       "INN10204                                     NaN                 NaN   \n",
       "INN20020                                     0.0                 NaN   \n",
       "INN16435                                     NaN                 NaN   \n",
       "INN07143                                     NaN                 NaN   \n",
       "INN20511                                     0.0               150.0   \n",
       "...                                          ...                 ...   \n",
       "INN16851                                     0.0                 NaN   \n",
       "INN06266                                     NaN                80.0   \n",
       "INN11285                                     0.0                 NaN   \n",
       "INN00861                                     NaN                 NaN   \n",
       "INN15796                                     NaN                 NaN   \n",
       "\n",
       "            no_of_special_requests  booking_status  \n",
       "Booking_ID                                          \n",
       "INN10204                       1.0             0.0  \n",
       "INN20020                       NaN             0.0  \n",
       "INN16435                       1.0             0.0  \n",
       "INN07143                       2.0             0.0  \n",
       "INN20511                       NaN             1.0  \n",
       "...                            ...             ...  \n",
       "INN16851                       2.0             0.0  \n",
       "INN06266                       NaN             1.0  \n",
       "INN11285                       1.0             0.0  \n",
       "INN00861                       0.0             1.0  \n",
       "INN15796                       NaN             0.0  \n",
       "\n",
       "[32647 rows x 18 columns]"
      ]
     },
     "execution_count": 17,
     "metadata": {},
     "output_type": "execute_result"
    }
   ],
   "source": [
    "data"
   ]
  },
  {
   "cell_type": "code",
   "execution_count": 18,
   "metadata": {
    "ExecuteTime": {
     "end_time": "2023-04-24T11:11:09.106133Z",
     "start_time": "2023-04-24T11:11:09.073532Z"
    }
   },
   "outputs": [],
   "source": [
    "# define list of predictors\n",
    "cols_pred = list(data.columns[0:-1])\n",
    "\n",
    "# define list of numerical predictors\n",
    "cols_pred_num = [col for col in cols_pred if data[col].dtype != 'O']\n",
    "# define list of categorical predictors\n",
    "cols_pred_cat = [col for col in cols_pred if data[col].dtype == 'O']\n"
   ]
  },
  {
   "cell_type": "markdown",
   "metadata": {
    "ExecuteTime": {
     "end_time": "2023-04-17T13:22:19.403543Z",
     "start_time": "2023-04-17T13:22:19.388923Z"
    }
   },
   "source": [
    "Booking_ID: unique identifier of each booking\n",
    "no_of_adults: Number of adults\n",
    "no_of_children: Number of Children\n",
    "no_of_weekend_nights: Number of weekend nights (Saturday or Sunday) the guest stayed or booked to stay at the hotel\n",
    "no_of_week_nights: Number of week nights (Monday to Friday) the guest stayed or booked to stay at the hotel\n",
    "type_of_meal_plan: Type of meal plan booked by the customer:\n",
    "required_car_parking_space: Does the customer require a car parking space? (0 - No, 1- Yes)\n",
    "room_type_reserved: Type of room reserved by the customer. The values are ciphered (encoded) by INN Hotels.\n",
    "lead_time: Number of days between the date of booking and the arrival date\n",
    "arrival_year: Year of arrival date\n",
    "arrival_month: Month of arrival date\n",
    "arrival_date: Date of the month\n",
    "market_segment_type: Market segment designation.\n",
    "repeated_guest: Is the customer a repeated guest? (0 - No, 1- Yes)\n",
    "no_of_previous_cancellations: Number of previous bookings that were canceled by the customer prior to the current booking\n",
    "no_of_previous_bookings_not_canceled: Number of previous bookings not canceled by the customer prior to the current booking\n",
    "avg_price_per_room: Average price per day of the reservation; prices of the rooms are dynamic. (in euros)\n",
    "no_of_special_requests: Total number of special requests made by the customer (e.g. high floor, view from the room, etc)\n",
    "booking_status: Flag indicating if the booking was canceled or not."
   ]
  },
  {
   "cell_type": "code",
   "execution_count": 19,
   "metadata": {
    "ExecuteTime": {
     "end_time": "2023-04-24T11:11:11.117328Z",
     "start_time": "2023-04-24T11:11:11.096147Z"
    }
   },
   "outputs": [
    {
     "data": {
      "text/plain": [
       "['no_of_adults',\n",
       " 'no_of_children',\n",
       " 'no_of_weekend_nights',\n",
       " 'no_of_week_nights',\n",
       " 'required_car_parking_space',\n",
       " 'lead_time',\n",
       " 'arrival_year',\n",
       " 'arrival_month',\n",
       " 'arrival_date',\n",
       " 'repeated_guest',\n",
       " 'no_of_previous_cancellations',\n",
       " 'no_of_previous_bookings_not_canceled',\n",
       " 'avg_price_per_room',\n",
       " 'no_of_special_requests']"
      ]
     },
     "execution_count": 19,
     "metadata": {},
     "output_type": "execute_result"
    }
   ],
   "source": [
    "cols_pred_num\n",
    "\n",
    "#arrival date je blbost kterou vyhodim, ale arrival month bych asi mohla udelat kategorickej\n",
    "#ostatni promenny jsou bud skutecne numericky nebo 0-1"
   ]
  },
  {
   "cell_type": "code",
   "execution_count": 20,
   "metadata": {
    "ExecuteTime": {
     "end_time": "2023-04-24T11:11:11.763407Z",
     "start_time": "2023-04-24T11:11:11.755391Z"
    }
   },
   "outputs": [],
   "source": [
    "cols_pred_num.remove('arrival_month')\n",
    "cols_pred_cat.append('arrival_month')"
   ]
  },
  {
   "cell_type": "code",
   "execution_count": 21,
   "metadata": {
    "ExecuteTime": {
     "end_time": "2023-04-24T11:11:13.955101Z",
     "start_time": "2023-04-24T11:11:13.913963Z"
    }
   },
   "outputs": [
    {
     "data": {
      "text/plain": [
       "0.0    21774\n",
       "1.0    10521\n",
       "Name: booking_status, dtype: int64"
      ]
     },
     "execution_count": 21,
     "metadata": {},
     "output_type": "execute_result"
    }
   ],
   "source": [
    "data = data.dropna(subset=['booking_status'])\n",
    "data.booking_status.value_counts(dropna=False)"
   ]
  },
  {
   "cell_type": "code",
   "execution_count": 22,
   "metadata": {
    "ExecuteTime": {
     "end_time": "2023-04-24T11:12:26.008982Z",
     "start_time": "2023-04-24T11:12:25.556910Z"
    }
   },
   "outputs": [
    {
     "name": "stderr",
     "output_type": "stream",
     "text": [
      "/var/folders/qt/9ghf87fd40589wf9l6s3w6680000gn/T/ipykernel_76253/3272553581.py:3: SettingWithCopyWarning: \n",
      "A value is trying to be set on a copy of a slice from a DataFrame.\n",
      "Try using .loc[row_indexer,col_indexer] = value instead\n",
      "\n",
      "See the caveats in the documentation: https://pandas.pydata.org/pandas-docs/stable/user_guide/indexing.html#returning-a-view-versus-a-copy\n",
      "  data.loc[data_train.index, 'sample'] = 'train'\n"
     ]
    }
   ],
   "source": [
    "\n",
    "#kdybychom chteli stratifikovat podle neceho dalsiho, museli bychom zlikvidovat unavailable data, coz je skoda. zaroven stratifikace podle booking status asi trochu pomaha - soude z grafu nize\n",
    "data_train, data_rest = train_test_split(data, test_size=0.4, random_state = 12,stratify = (data[[\"booking_status\"]]))\n",
    "data.loc[data_train.index, 'sample'] = 'train'\n",
    "# use train_test_split to split the rest into valid and test (don't forget seed); use stratification\n",
    "data_valid, data_test = train_test_split(data_rest, test_size=0.5, random_state = 12, stratify = (data_rest[[\"booking_status\"]]))\n",
    "data.loc[data_valid.index, 'sample'] = 'valid'\n",
    "data.loc[data_test.index, 'sample'] = 'test'"
   ]
  },
  {
   "cell_type": "code",
   "execution_count": 23,
   "metadata": {
    "ExecuteTime": {
     "end_time": "2023-04-24T11:12:26.397625Z",
     "start_time": "2023-04-24T11:12:26.368790Z"
    }
   },
   "outputs": [],
   "source": [
    "train_mask = (data['sample'] == 'train')\n",
    "valid_mask = (data['sample'] == 'valid')\n",
    "test_mask = (data['sample'] == 'test')"
   ]
  },
  {
   "cell_type": "code",
   "execution_count": 24,
   "metadata": {
    "ExecuteTime": {
     "end_time": "2023-04-24T11:12:26.765021Z",
     "start_time": "2023-04-24T11:12:26.734584Z"
    }
   },
   "outputs": [],
   "source": [
    "# define function to plot default rate in time for different samples\n",
    "def default_rate_in_time_per_sample(dt, col_target, col_month, col_sample):\n",
    "    # group by over month and sample\n",
    "    dt_grp = dt.groupby([col_month, col_sample]).agg(\n",
    "        def_rt = (col_target, np.mean)\n",
    "    ).reset_index()\n",
    "    \n",
    "    # pivot sample values to columns\n",
    "    dt_grp_pivot = dt_grp.pivot(index = col_month, columns = col_sample, values = 'def_rt')\n",
    "\n",
    "    # plot default rate in time\n",
    "    lines = plt.plot(range(len(dt_grp_pivot)), dt_grp_pivot, marker = 'o')\n",
    "    plt.xticks(range(len(dt_grp_pivot)), dt_grp_pivot.index, rotation = 90)\n",
    "    # set legend\n",
    "    plt.legend(iter(lines), tuple(dt_grp_pivot.columns), loc='best', bbox_to_anchor=(1.05, 1))\n",
    "    \n",
    "    plt.ylim([0, 1])\n",
    "    plt.ylabel('default rate')\n",
    "    plt.xlabel('month')\n",
    "    plt.show()"
   ]
  },
  {
   "cell_type": "code",
   "execution_count": 25,
   "metadata": {
    "ExecuteTime": {
     "end_time": "2023-04-24T11:12:27.561156Z",
     "start_time": "2023-04-24T11:12:27.174490Z"
    }
   },
   "outputs": [
    {
     "ename": "InvalidIndexError",
     "evalue": "(slice(None, None, None), None)",
     "output_type": "error",
     "traceback": [
      "\u001b[0;31m---------------------------------------------------------------------------\u001b[0m",
      "\u001b[0;31mTypeError\u001b[0m                                 Traceback (most recent call last)",
      "File \u001b[0;32m/opt/anaconda3/lib/python3.8/site-packages/pandas/core/indexes/base.py:3629\u001b[0m, in \u001b[0;36mIndex.get_loc\u001b[0;34m(self, key, method, tolerance)\u001b[0m\n\u001b[1;32m   3628\u001b[0m \u001b[38;5;28;01mtry\u001b[39;00m:\n\u001b[0;32m-> 3629\u001b[0m     \u001b[38;5;28;01mreturn\u001b[39;00m \u001b[38;5;28;43mself\u001b[39;49m\u001b[38;5;241;43m.\u001b[39;49m\u001b[43m_engine\u001b[49m\u001b[38;5;241;43m.\u001b[39;49m\u001b[43mget_loc\u001b[49m\u001b[43m(\u001b[49m\u001b[43mcasted_key\u001b[49m\u001b[43m)\u001b[49m\n\u001b[1;32m   3630\u001b[0m \u001b[38;5;28;01mexcept\u001b[39;00m \u001b[38;5;167;01mKeyError\u001b[39;00m \u001b[38;5;28;01mas\u001b[39;00m err:\n",
      "File \u001b[0;32m/opt/anaconda3/lib/python3.8/site-packages/pandas/_libs/index.pyx:136\u001b[0m, in \u001b[0;36mpandas._libs.index.IndexEngine.get_loc\u001b[0;34m()\u001b[0m\n",
      "File \u001b[0;32m/opt/anaconda3/lib/python3.8/site-packages/pandas/_libs/index.pyx:142\u001b[0m, in \u001b[0;36mpandas._libs.index.IndexEngine.get_loc\u001b[0;34m()\u001b[0m\n",
      "\u001b[0;31mTypeError\u001b[0m: '(slice(None, None, None), None)' is an invalid key",
      "\nDuring handling of the above exception, another exception occurred:\n",
      "\u001b[0;31mInvalidIndexError\u001b[0m                         Traceback (most recent call last)",
      "Input \u001b[0;32mIn [25]\u001b[0m, in \u001b[0;36m<cell line: 3>\u001b[0;34m()\u001b[0m\n\u001b[1;32m      1\u001b[0m col_target \u001b[38;5;241m=\u001b[39m \u001b[38;5;124m\"\u001b[39m\u001b[38;5;124mbooking_status\u001b[39m\u001b[38;5;124m\"\u001b[39m\n\u001b[0;32m----> 3\u001b[0m \u001b[43mdefault_rate_in_time_per_sample\u001b[49m\u001b[43m(\u001b[49m\u001b[43mdata\u001b[49m\u001b[43m,\u001b[49m\u001b[43mcol_target\u001b[49m\u001b[43m,\u001b[49m\u001b[43m \u001b[49m\u001b[38;5;124;43m'\u001b[39;49m\u001b[38;5;124;43marrival_month\u001b[39;49m\u001b[38;5;124;43m'\u001b[39;49m\u001b[43m,\u001b[49m\u001b[38;5;124;43m'\u001b[39;49m\u001b[38;5;124;43msample\u001b[39;49m\u001b[38;5;124;43m'\u001b[39;49m\u001b[43m)\u001b[49m\n",
      "Input \u001b[0;32mIn [24]\u001b[0m, in \u001b[0;36mdefault_rate_in_time_per_sample\u001b[0;34m(dt, col_target, col_month, col_sample)\u001b[0m\n\u001b[1;32m      9\u001b[0m dt_grp_pivot \u001b[38;5;241m=\u001b[39m dt_grp\u001b[38;5;241m.\u001b[39mpivot(index \u001b[38;5;241m=\u001b[39m col_month, columns \u001b[38;5;241m=\u001b[39m col_sample, values \u001b[38;5;241m=\u001b[39m \u001b[38;5;124m'\u001b[39m\u001b[38;5;124mdef_rt\u001b[39m\u001b[38;5;124m'\u001b[39m)\n\u001b[1;32m     11\u001b[0m \u001b[38;5;66;03m# plot default rate in time\u001b[39;00m\n\u001b[0;32m---> 12\u001b[0m lines \u001b[38;5;241m=\u001b[39m \u001b[43mplt\u001b[49m\u001b[38;5;241;43m.\u001b[39;49m\u001b[43mplot\u001b[49m\u001b[43m(\u001b[49m\u001b[38;5;28;43mrange\u001b[39;49m\u001b[43m(\u001b[49m\u001b[38;5;28;43mlen\u001b[39;49m\u001b[43m(\u001b[49m\u001b[43mdt_grp_pivot\u001b[49m\u001b[43m)\u001b[49m\u001b[43m)\u001b[49m\u001b[43m,\u001b[49m\u001b[43m \u001b[49m\u001b[43mdt_grp_pivot\u001b[49m\u001b[43m,\u001b[49m\u001b[43m \u001b[49m\u001b[43mmarker\u001b[49m\u001b[43m \u001b[49m\u001b[38;5;241;43m=\u001b[39;49m\u001b[43m \u001b[49m\u001b[38;5;124;43m'\u001b[39;49m\u001b[38;5;124;43mo\u001b[39;49m\u001b[38;5;124;43m'\u001b[39;49m\u001b[43m)\u001b[49m\n\u001b[1;32m     13\u001b[0m plt\u001b[38;5;241m.\u001b[39mxticks(\u001b[38;5;28mrange\u001b[39m(\u001b[38;5;28mlen\u001b[39m(dt_grp_pivot)), dt_grp_pivot\u001b[38;5;241m.\u001b[39mindex, rotation \u001b[38;5;241m=\u001b[39m \u001b[38;5;241m90\u001b[39m)\n\u001b[1;32m     14\u001b[0m \u001b[38;5;66;03m# set legend\u001b[39;00m\n",
      "File \u001b[0;32m/opt/anaconda3/lib/python3.8/site-packages/matplotlib/pyplot.py:3019\u001b[0m, in \u001b[0;36mplot\u001b[0;34m(scalex, scaley, data, *args, **kwargs)\u001b[0m\n\u001b[1;32m   3017\u001b[0m \u001b[38;5;129m@_copy_docstring_and_deprecators\u001b[39m(Axes\u001b[38;5;241m.\u001b[39mplot)\n\u001b[1;32m   3018\u001b[0m \u001b[38;5;28;01mdef\u001b[39;00m \u001b[38;5;21mplot\u001b[39m(\u001b[38;5;241m*\u001b[39margs, scalex\u001b[38;5;241m=\u001b[39m\u001b[38;5;28;01mTrue\u001b[39;00m, scaley\u001b[38;5;241m=\u001b[39m\u001b[38;5;28;01mTrue\u001b[39;00m, data\u001b[38;5;241m=\u001b[39m\u001b[38;5;28;01mNone\u001b[39;00m, \u001b[38;5;241m*\u001b[39m\u001b[38;5;241m*\u001b[39mkwargs):\n\u001b[0;32m-> 3019\u001b[0m     \u001b[38;5;28;01mreturn\u001b[39;00m \u001b[43mgca\u001b[49m\u001b[43m(\u001b[49m\u001b[43m)\u001b[49m\u001b[38;5;241;43m.\u001b[39;49m\u001b[43mplot\u001b[49m\u001b[43m(\u001b[49m\n\u001b[1;32m   3020\u001b[0m \u001b[43m        \u001b[49m\u001b[38;5;241;43m*\u001b[39;49m\u001b[43margs\u001b[49m\u001b[43m,\u001b[49m\u001b[43m \u001b[49m\u001b[43mscalex\u001b[49m\u001b[38;5;241;43m=\u001b[39;49m\u001b[43mscalex\u001b[49m\u001b[43m,\u001b[49m\u001b[43m \u001b[49m\u001b[43mscaley\u001b[49m\u001b[38;5;241;43m=\u001b[39;49m\u001b[43mscaley\u001b[49m\u001b[43m,\u001b[49m\n\u001b[1;32m   3021\u001b[0m \u001b[43m        \u001b[49m\u001b[38;5;241;43m*\u001b[39;49m\u001b[38;5;241;43m*\u001b[39;49m\u001b[43m(\u001b[49m\u001b[43m{\u001b[49m\u001b[38;5;124;43m\"\u001b[39;49m\u001b[38;5;124;43mdata\u001b[39;49m\u001b[38;5;124;43m\"\u001b[39;49m\u001b[43m:\u001b[49m\u001b[43m \u001b[49m\u001b[43mdata\u001b[49m\u001b[43m}\u001b[49m\u001b[43m \u001b[49m\u001b[38;5;28;43;01mif\u001b[39;49;00m\u001b[43m \u001b[49m\u001b[43mdata\u001b[49m\u001b[43m \u001b[49m\u001b[38;5;129;43;01mis\u001b[39;49;00m\u001b[43m \u001b[49m\u001b[38;5;129;43;01mnot\u001b[39;49;00m\u001b[43m \u001b[49m\u001b[38;5;28;43;01mNone\u001b[39;49;00m\u001b[43m \u001b[49m\u001b[38;5;28;43;01melse\u001b[39;49;00m\u001b[43m \u001b[49m\u001b[43m{\u001b[49m\u001b[43m}\u001b[49m\u001b[43m)\u001b[49m\u001b[43m,\u001b[49m\u001b[43m \u001b[49m\u001b[38;5;241;43m*\u001b[39;49m\u001b[38;5;241;43m*\u001b[39;49m\u001b[43mkwargs\u001b[49m\u001b[43m)\u001b[49m\n",
      "File \u001b[0;32m/opt/anaconda3/lib/python3.8/site-packages/matplotlib/axes/_axes.py:1605\u001b[0m, in \u001b[0;36mAxes.plot\u001b[0;34m(self, scalex, scaley, data, *args, **kwargs)\u001b[0m\n\u001b[1;32m   1363\u001b[0m \u001b[38;5;124;03m\"\"\"\u001b[39;00m\n\u001b[1;32m   1364\u001b[0m \u001b[38;5;124;03mPlot y versus x as lines and/or markers.\u001b[39;00m\n\u001b[1;32m   1365\u001b[0m \n\u001b[0;32m   (...)\u001b[0m\n\u001b[1;32m   1602\u001b[0m \u001b[38;5;124;03m(``'green'``) or hex strings (``'#008000'``).\u001b[39;00m\n\u001b[1;32m   1603\u001b[0m \u001b[38;5;124;03m\"\"\"\u001b[39;00m\n\u001b[1;32m   1604\u001b[0m kwargs \u001b[38;5;241m=\u001b[39m cbook\u001b[38;5;241m.\u001b[39mnormalize_kwargs(kwargs, mlines\u001b[38;5;241m.\u001b[39mLine2D)\n\u001b[0;32m-> 1605\u001b[0m lines \u001b[38;5;241m=\u001b[39m [\u001b[38;5;241m*\u001b[39m\u001b[38;5;28mself\u001b[39m\u001b[38;5;241m.\u001b[39m_get_lines(\u001b[38;5;241m*\u001b[39margs, data\u001b[38;5;241m=\u001b[39mdata, \u001b[38;5;241m*\u001b[39m\u001b[38;5;241m*\u001b[39mkwargs)]\n\u001b[1;32m   1606\u001b[0m \u001b[38;5;28;01mfor\u001b[39;00m line \u001b[38;5;129;01min\u001b[39;00m lines:\n\u001b[1;32m   1607\u001b[0m     \u001b[38;5;28mself\u001b[39m\u001b[38;5;241m.\u001b[39madd_line(line)\n",
      "File \u001b[0;32m/opt/anaconda3/lib/python3.8/site-packages/matplotlib/axes/_base.py:315\u001b[0m, in \u001b[0;36m_process_plot_var_args.__call__\u001b[0;34m(self, data, *args, **kwargs)\u001b[0m\n\u001b[1;32m    313\u001b[0m     this \u001b[38;5;241m+\u001b[39m\u001b[38;5;241m=\u001b[39m args[\u001b[38;5;241m0\u001b[39m],\n\u001b[1;32m    314\u001b[0m     args \u001b[38;5;241m=\u001b[39m args[\u001b[38;5;241m1\u001b[39m:]\n\u001b[0;32m--> 315\u001b[0m \u001b[38;5;28;01myield from\u001b[39;00m \u001b[38;5;28;43mself\u001b[39;49m\u001b[38;5;241;43m.\u001b[39;49m\u001b[43m_plot_args\u001b[49m\u001b[43m(\u001b[49m\u001b[43mthis\u001b[49m\u001b[43m,\u001b[49m\u001b[43m \u001b[49m\u001b[43mkwargs\u001b[49m\u001b[43m)\u001b[49m\n",
      "File \u001b[0;32m/opt/anaconda3/lib/python3.8/site-packages/matplotlib/axes/_base.py:491\u001b[0m, in \u001b[0;36m_process_plot_var_args._plot_args\u001b[0;34m(self, tup, kwargs, return_kwargs)\u001b[0m\n\u001b[1;32m    489\u001b[0m \u001b[38;5;28;01mif\u001b[39;00m \u001b[38;5;28mlen\u001b[39m(xy) \u001b[38;5;241m==\u001b[39m \u001b[38;5;241m2\u001b[39m:\n\u001b[1;32m    490\u001b[0m     x \u001b[38;5;241m=\u001b[39m _check_1d(xy[\u001b[38;5;241m0\u001b[39m])\n\u001b[0;32m--> 491\u001b[0m     y \u001b[38;5;241m=\u001b[39m \u001b[43m_check_1d\u001b[49m\u001b[43m(\u001b[49m\u001b[43mxy\u001b[49m\u001b[43m[\u001b[49m\u001b[38;5;241;43m1\u001b[39;49m\u001b[43m]\u001b[49m\u001b[43m)\u001b[49m\n\u001b[1;32m    492\u001b[0m \u001b[38;5;28;01melse\u001b[39;00m:\n\u001b[1;32m    493\u001b[0m     x, y \u001b[38;5;241m=\u001b[39m index_of(xy[\u001b[38;5;241m-\u001b[39m\u001b[38;5;241m1\u001b[39m])\n",
      "File \u001b[0;32m/opt/anaconda3/lib/python3.8/site-packages/matplotlib/cbook/__init__.py:1362\u001b[0m, in \u001b[0;36m_check_1d\u001b[0;34m(x)\u001b[0m\n\u001b[1;32m   1356\u001b[0m \u001b[38;5;28;01mwith\u001b[39;00m warnings\u001b[38;5;241m.\u001b[39mcatch_warnings(record\u001b[38;5;241m=\u001b[39m\u001b[38;5;28;01mTrue\u001b[39;00m) \u001b[38;5;28;01mas\u001b[39;00m w:\n\u001b[1;32m   1357\u001b[0m     warnings\u001b[38;5;241m.\u001b[39mfilterwarnings(\n\u001b[1;32m   1358\u001b[0m         \u001b[38;5;124m\"\u001b[39m\u001b[38;5;124malways\u001b[39m\u001b[38;5;124m\"\u001b[39m,\n\u001b[1;32m   1359\u001b[0m         category\u001b[38;5;241m=\u001b[39m\u001b[38;5;167;01mWarning\u001b[39;00m,\n\u001b[1;32m   1360\u001b[0m         message\u001b[38;5;241m=\u001b[39m\u001b[38;5;124m'\u001b[39m\u001b[38;5;124mSupport for multi-dimensional indexing\u001b[39m\u001b[38;5;124m'\u001b[39m)\n\u001b[0;32m-> 1362\u001b[0m     ndim \u001b[38;5;241m=\u001b[39m \u001b[43mx\u001b[49m\u001b[43m[\u001b[49m\u001b[43m:\u001b[49m\u001b[43m,\u001b[49m\u001b[43m \u001b[49m\u001b[38;5;28;43;01mNone\u001b[39;49;00m\u001b[43m]\u001b[49m\u001b[38;5;241m.\u001b[39mndim\n\u001b[1;32m   1363\u001b[0m     \u001b[38;5;66;03m# we have definitely hit a pandas index or series object\u001b[39;00m\n\u001b[1;32m   1364\u001b[0m     \u001b[38;5;66;03m# cast to a numpy array.\u001b[39;00m\n\u001b[1;32m   1365\u001b[0m     \u001b[38;5;28;01mif\u001b[39;00m \u001b[38;5;28mlen\u001b[39m(w) \u001b[38;5;241m>\u001b[39m \u001b[38;5;241m0\u001b[39m:\n",
      "File \u001b[0;32m/opt/anaconda3/lib/python3.8/site-packages/pandas/core/frame.py:3505\u001b[0m, in \u001b[0;36mDataFrame.__getitem__\u001b[0;34m(self, key)\u001b[0m\n\u001b[1;32m   3503\u001b[0m \u001b[38;5;28;01mif\u001b[39;00m \u001b[38;5;28mself\u001b[39m\u001b[38;5;241m.\u001b[39mcolumns\u001b[38;5;241m.\u001b[39mnlevels \u001b[38;5;241m>\u001b[39m \u001b[38;5;241m1\u001b[39m:\n\u001b[1;32m   3504\u001b[0m     \u001b[38;5;28;01mreturn\u001b[39;00m \u001b[38;5;28mself\u001b[39m\u001b[38;5;241m.\u001b[39m_getitem_multilevel(key)\n\u001b[0;32m-> 3505\u001b[0m indexer \u001b[38;5;241m=\u001b[39m \u001b[38;5;28;43mself\u001b[39;49m\u001b[38;5;241;43m.\u001b[39;49m\u001b[43mcolumns\u001b[49m\u001b[38;5;241;43m.\u001b[39;49m\u001b[43mget_loc\u001b[49m\u001b[43m(\u001b[49m\u001b[43mkey\u001b[49m\u001b[43m)\u001b[49m\n\u001b[1;32m   3506\u001b[0m \u001b[38;5;28;01mif\u001b[39;00m is_integer(indexer):\n\u001b[1;32m   3507\u001b[0m     indexer \u001b[38;5;241m=\u001b[39m [indexer]\n",
      "File \u001b[0;32m/opt/anaconda3/lib/python3.8/site-packages/pandas/core/indexes/base.py:3636\u001b[0m, in \u001b[0;36mIndex.get_loc\u001b[0;34m(self, key, method, tolerance)\u001b[0m\n\u001b[1;32m   3631\u001b[0m         \u001b[38;5;28;01mraise\u001b[39;00m \u001b[38;5;167;01mKeyError\u001b[39;00m(key) \u001b[38;5;28;01mfrom\u001b[39;00m \u001b[38;5;21;01merr\u001b[39;00m\n\u001b[1;32m   3632\u001b[0m     \u001b[38;5;28;01mexcept\u001b[39;00m \u001b[38;5;167;01mTypeError\u001b[39;00m:\n\u001b[1;32m   3633\u001b[0m         \u001b[38;5;66;03m# If we have a listlike key, _check_indexing_error will raise\u001b[39;00m\n\u001b[1;32m   3634\u001b[0m         \u001b[38;5;66;03m#  InvalidIndexError. Otherwise we fall through and re-raise\u001b[39;00m\n\u001b[1;32m   3635\u001b[0m         \u001b[38;5;66;03m#  the TypeError.\u001b[39;00m\n\u001b[0;32m-> 3636\u001b[0m         \u001b[38;5;28;43mself\u001b[39;49m\u001b[38;5;241;43m.\u001b[39;49m\u001b[43m_check_indexing_error\u001b[49m\u001b[43m(\u001b[49m\u001b[43mkey\u001b[49m\u001b[43m)\u001b[49m\n\u001b[1;32m   3637\u001b[0m         \u001b[38;5;28;01mraise\u001b[39;00m\n\u001b[1;32m   3639\u001b[0m \u001b[38;5;66;03m# GH#42269\u001b[39;00m\n",
      "File \u001b[0;32m/opt/anaconda3/lib/python3.8/site-packages/pandas/core/indexes/base.py:5651\u001b[0m, in \u001b[0;36mIndex._check_indexing_error\u001b[0;34m(self, key)\u001b[0m\n\u001b[1;32m   5647\u001b[0m \u001b[38;5;28;01mdef\u001b[39;00m \u001b[38;5;21m_check_indexing_error\u001b[39m(\u001b[38;5;28mself\u001b[39m, key):\n\u001b[1;32m   5648\u001b[0m     \u001b[38;5;28;01mif\u001b[39;00m \u001b[38;5;129;01mnot\u001b[39;00m is_scalar(key):\n\u001b[1;32m   5649\u001b[0m         \u001b[38;5;66;03m# if key is not a scalar, directly raise an error (the code below\u001b[39;00m\n\u001b[1;32m   5650\u001b[0m         \u001b[38;5;66;03m# would convert to numpy arrays and raise later any way) - GH29926\u001b[39;00m\n\u001b[0;32m-> 5651\u001b[0m         \u001b[38;5;28;01mraise\u001b[39;00m InvalidIndexError(key)\n",
      "\u001b[0;31mInvalidIndexError\u001b[0m: (slice(None, None, None), None)"
     ]
    },
    {
     "data": {
      "image/png": "[encoded data removed]",
      "text/plain": [
       "<Figure size 432x288 with 1 Axes>"
      ]
     },
     "metadata": {
      "needs_background": "light"
     },
     "output_type": "display_data"
    }
   ],
   "source": [
    "col_target = \"booking_status\"\n",
    "\n",
    "default_rate_in_time_per_sample(data,col_target, 'arrival_month','sample')"
   ]
  },
  {
   "cell_type": "markdown",
   "metadata": {},
   "source": [
    "# Data processing"
   ]
  },
  {
   "cell_type": "code",
   "execution_count": 26,
   "metadata": {
    "ExecuteTime": {
     "end_time": "2023-04-24T11:12:32.812047Z",
     "start_time": "2023-04-24T11:12:32.764938Z"
    }
   },
   "outputs": [
    {
     "name": "stdout",
     "output_type": "stream",
     "text": [
      "No other columns with infinity values\n"
     ]
    }
   ],
   "source": [
    "# find columns with infinity values\n",
    "cols_with_inf = []\n",
    "for col in cols_pred_num:\n",
    "    if np.any(np.isinf(data[col])):\n",
    "        cols_with_inf.append(col)\n",
    "        print(f'Column {col} includes infinity values.')\n",
    "\n",
    "# find columns with negative infinity values\n",
    "cols_with_neginf = []\n",
    "for col in cols_pred_num:\n",
    "    if np.any(np.isneginf(data[col])):\n",
    "        cols_with_neginf.append(col)\n",
    "        print(f'Column {col} includes negative infinity values.')\n",
    "print(\"No other columns with infinity values\")"
   ]
  },
  {
   "cell_type": "markdown",
   "metadata": {},
   "source": [
    "# categorical variables ecoding"
   ]
  },
  {
   "cell_type": "code",
   "execution_count": 27,
   "metadata": {
    "ExecuteTime": {
     "end_time": "2023-04-24T11:12:33.769306Z",
     "start_time": "2023-04-24T11:12:33.758327Z"
    }
   },
   "outputs": [],
   "source": [
    "def mean_target_encoding(dt, predictor, target, alpha = 0.01):\n",
    "    total_cnt = len(dt)\n",
    "    total_dr = np.mean(dt[target])\n",
    "    dt_grp = dt.groupby(predictor).agg(\n",
    "        categ_dr = (target, np.mean),\n",
    "        categ_cnt = (target, len)\n",
    "    )\n",
    "    \n",
    "    dt_grp['categ_freq'] = dt_grp['categ_cnt'] / total_cnt\n",
    "    dt_grp['categ_encoding'] = (dt_grp['categ_freq'] * dt_grp['categ_dr'] + alpha * total_dr) / (dt_grp['categ_freq'] + alpha)\n",
    "    \n",
    "    return dt_grp[['categ_encoding']].to_dict()['categ_encoding']"
   ]
  },
  {
   "cell_type": "code",
   "execution_count": 28,
   "metadata": {
    "ExecuteTime": {
     "end_time": "2023-04-24T11:12:35.133389Z",
     "start_time": "2023-04-24T11:12:34.778701Z"
    }
   },
   "outputs": [
    {
     "data": {
      "application/vnd.jupyter.widget-view+json": {
       "model_id": "4b03e09944844c1488dffa6929fc4e17",
       "version_major": 2,
       "version_minor": 0
      },
      "text/plain": [
       "  0%|          | 0/4 [00:00<?, ?it/s]"
      ]
     },
     "metadata": {},
     "output_type": "display_data"
    },
    {
     "name": "stderr",
     "output_type": "stream",
     "text": [
      "/var/folders/qt/9ghf87fd40589wf9l6s3w6680000gn/T/ipykernel_76253/2915958815.py:37: SettingWithCopyWarning: \n",
      "A value is trying to be set on a copy of a slice from a DataFrame.\n",
      "Try using .loc[row_indexer,col_indexer] = value instead\n",
      "\n",
      "See the caveats in the documentation: https://pandas.pydata.org/pandas-docs/stable/user_guide/indexing.html#returning-a-view-versus-a-copy\n",
      "  data['MTE_' + pred] = data[pred].replace(new_vals)\n",
      "/var/folders/qt/9ghf87fd40589wf9l6s3w6680000gn/T/ipykernel_76253/2915958815.py:37: SettingWithCopyWarning: \n",
      "A value is trying to be set on a copy of a slice from a DataFrame.\n",
      "Try using .loc[row_indexer,col_indexer] = value instead\n",
      "\n",
      "See the caveats in the documentation: https://pandas.pydata.org/pandas-docs/stable/user_guide/indexing.html#returning-a-view-versus-a-copy\n",
      "  data['MTE_' + pred] = data[pred].replace(new_vals)\n",
      "/var/folders/qt/9ghf87fd40589wf9l6s3w6680000gn/T/ipykernel_76253/2915958815.py:37: SettingWithCopyWarning: \n",
      "A value is trying to be set on a copy of a slice from a DataFrame.\n",
      "Try using .loc[row_indexer,col_indexer] = value instead\n",
      "\n",
      "See the caveats in the documentation: https://pandas.pydata.org/pandas-docs/stable/user_guide/indexing.html#returning-a-view-versus-a-copy\n",
      "  data['MTE_' + pred] = data[pred].replace(new_vals)\n",
      "/var/folders/qt/9ghf87fd40589wf9l6s3w6680000gn/T/ipykernel_76253/2915958815.py:37: SettingWithCopyWarning: \n",
      "A value is trying to be set on a copy of a slice from a DataFrame.\n",
      "Try using .loc[row_indexer,col_indexer] = value instead\n",
      "\n",
      "See the caveats in the documentation: https://pandas.pydata.org/pandas-docs/stable/user_guide/indexing.html#returning-a-view-versus-a-copy\n",
      "  data['MTE_' + pred] = data[pred].replace(new_vals)\n"
     ]
    }
   ],
   "source": [
    "total_dr = np.mean(data[train_mask][col_target])\n",
    "\n",
    "# encode categorical predictors\n",
    "for pred in tqdm(cols_pred_cat):\n",
    "    if len(data[pred].unique()) < 5:\n",
    "        dummies = pd.get_dummies(\n",
    "            data[pred], \n",
    "            prefix = pred,\n",
    "            prefix_sep = '_',\n",
    "            dummy_na = True if data[pred].isnull().sum() > 0 else False,\n",
    "            drop_first = False\n",
    "        )\n",
    "        \n",
    "        for d in dummies.columns:\n",
    "            if d in data.columns:\n",
    "                del data[d]\n",
    "                \n",
    "        data = data.join(dummies)\n",
    "        \n",
    "        for col in dummies.columns:\n",
    "            if col not in cols_pred:\n",
    "                cols_pred.append(col)\n",
    "        \n",
    "        if pred in cols_pred:\n",
    "            cols_pred.remove(pred)\n",
    "    else:\n",
    "        new_vals = mean_target_encoding(\n",
    "            dt=data[train_mask], \n",
    "            predictor=pred, \n",
    "            target=col_target\n",
    "        )\n",
    "\n",
    "        additional_values = set(data[data[pred].notnull()][pred].unique()) - set(new_vals.keys())\n",
    "        for p in additional_values:\n",
    "            new_vals[p] = total_dr\n",
    "\n",
    "        data['MTE_' + pred] = data[pred].replace(new_vals)\n",
    "        \n",
    "        if 'MTE_' + pred not in cols_pred:\n",
    "            cols_pred.append('MTE_' + pred)\n",
    "        \n",
    "        if pred in cols_pred:\n",
    "            cols_pred.remove(pred)"
   ]
  },
  {
   "cell_type": "markdown",
   "metadata": {},
   "source": [
    "# Model"
   ]
  },
  {
   "cell_type": "code",
   "execution_count": 29,
   "metadata": {
    "ExecuteTime": {
     "end_time": "2023-04-24T11:12:47.613261Z",
     "start_time": "2023-04-24T11:12:45.296325Z"
    }
   },
   "outputs": [
    {
     "ename": "NameError",
     "evalue": "name 'xgb' is not defined",
     "output_type": "error",
     "traceback": [
      "\u001b[0;31m---------------------------------------------------------------------------\u001b[0m",
      "\u001b[0;31mNameError\u001b[0m                                 Traceback (most recent call last)",
      "Input \u001b[0;32mIn [29]\u001b[0m, in \u001b[0;36m<cell line: 10>\u001b[0;34m()\u001b[0m\n\u001b[1;32m      2\u001b[0m params \u001b[38;5;241m=\u001b[39m {    \n\u001b[1;32m      3\u001b[0m     \u001b[38;5;124m'\u001b[39m\u001b[38;5;124mmax_depth\u001b[39m\u001b[38;5;124m'\u001b[39m: \u001b[38;5;241m4\u001b[39m,\n\u001b[1;32m      4\u001b[0m     \n\u001b[1;32m      5\u001b[0m     \u001b[38;5;124m'\u001b[39m\u001b[38;5;124mobjective\u001b[39m\u001b[38;5;124m'\u001b[39m: \u001b[38;5;124m'\u001b[39m\u001b[38;5;124mbinary:logistic\u001b[39m\u001b[38;5;124m'\u001b[39m,\n\u001b[1;32m      6\u001b[0m     \u001b[38;5;124m'\u001b[39m\u001b[38;5;124meval_metric\u001b[39m\u001b[38;5;124m'\u001b[39m: \u001b[38;5;124m'\u001b[39m\u001b[38;5;124mauc\u001b[39m\u001b[38;5;124m'\u001b[39m,\n\u001b[1;32m      7\u001b[0m }\n\u001b[1;32m      9\u001b[0m evals_result \u001b[38;5;241m=\u001b[39m {}\n\u001b[0;32m---> 10\u001b[0m booster \u001b[38;5;241m=\u001b[39m \u001b[43mxgb\u001b[49m\u001b[38;5;241m.\u001b[39mtrain(\n\u001b[1;32m     11\u001b[0m     params \u001b[38;5;241m=\u001b[39m params,\n\u001b[1;32m     12\u001b[0m     dtrain \u001b[38;5;241m=\u001b[39m xgb\u001b[38;5;241m.\u001b[39mDMatrix(data[train_mask][cols_pred], data[train_mask][col_target]),\n\u001b[1;32m     13\u001b[0m     num_boost_round \u001b[38;5;241m=\u001b[39m \u001b[38;5;241m1000\u001b[39m,\n\u001b[1;32m     14\u001b[0m     evals \u001b[38;5;241m=\u001b[39m (\n\u001b[1;32m     15\u001b[0m         (xgb\u001b[38;5;241m.\u001b[39mDMatrix(data[train_mask][cols_pred], data[train_mask][col_target]), \u001b[38;5;124m'\u001b[39m\u001b[38;5;124mtrain\u001b[39m\u001b[38;5;124m'\u001b[39m),\n\u001b[1;32m     16\u001b[0m         (xgb\u001b[38;5;241m.\u001b[39mDMatrix(data[test_mask][cols_pred], data[test_mask][col_target]), \u001b[38;5;124m'\u001b[39m\u001b[38;5;124mtest\u001b[39m\u001b[38;5;124m'\u001b[39m),\n\u001b[1;32m     17\u001b[0m         (xgb\u001b[38;5;241m.\u001b[39mDMatrix(data[valid_mask][cols_pred], data[valid_mask][col_target]), \u001b[38;5;124m'\u001b[39m\u001b[38;5;124mvalid\u001b[39m\u001b[38;5;124m'\u001b[39m)\n\u001b[1;32m     18\u001b[0m     ),\n\u001b[1;32m     19\u001b[0m     evals_result \u001b[38;5;241m=\u001b[39m evals_result,\n\u001b[1;32m     20\u001b[0m     early_stopping_rounds \u001b[38;5;241m=\u001b[39m \u001b[38;5;241m10\u001b[39m\n\u001b[1;32m     21\u001b[0m )\n",
      "\u001b[0;31mNameError\u001b[0m: name 'xgb' is not defined"
     ]
    }
   ],
   "source": [
    "# set best parameters to be used in XGBoost\n",
    "params = {    \n",
    "    'max_depth': 4,\n",
    "    \n",
    "    'objective': 'binary:logistic',\n",
    "    'eval_metric': 'auc',\n",
    "}\n",
    "\n",
    "evals_result = {}\n",
    "booster = xgb.train(\n",
    "    params = params,\n",
    "    dtrain = xgb.DMatrix(data[train_mask][cols_pred], data[train_mask][col_target]),\n",
    "    num_boost_round = 1000,\n",
    "    evals = (\n",
    "        (xgb.DMatrix(data[train_mask][cols_pred], data[train_mask][col_target]), 'train'),\n",
    "        (xgb.DMatrix(data[test_mask][cols_pred], data[test_mask][col_target]), 'test'),\n",
    "        (xgb.DMatrix(data[valid_mask][cols_pred], data[valid_mask][col_target]), 'valid')\n",
    "    ),\n",
    "    evals_result = evals_result,\n",
    "    early_stopping_rounds = 10\n",
    ")"
   ]
  },
  {
   "cell_type": "code",
   "execution_count": 35,
   "metadata": {
    "ExecuteTime": {
     "end_time": "2023-04-24T11:12:51.616587Z",
     "start_time": "2023-04-24T11:12:51.200237Z"
    }
   },
   "outputs": [
    {
     "data": {
      "image/png": "[encoded data removed]",
      "text/plain": [
       "<Figure size 432x360 with 1 Axes>"
      ]
     },
     "metadata": {
      "needs_background": "light"
     },
     "output_type": "display_data"
    }
   ],
   "source": [
    "metric = 'auc'\n",
    "\n",
    "fig = plt.figure(figsize=(6,5))\n",
    "total_iteration_count = len(evals_result[list(evals_result.keys())[0]][metric])\n",
    "for sample, vals in evals_result.items():\n",
    "    plt.plot(\n",
    "        range(1, total_iteration_count + 1), \n",
    "        vals[metric],\n",
    "        label=sample\n",
    "    )\n",
    "\n",
    "best_score = booster.best_score\n",
    "best_iteration = booster.best_iteration+1\n",
    "\n",
    "plt.plot([1, total_iteration_count], [best_score, best_score], color='black', ls='--', lw=1)\n",
    "plt.scatter([best_iteration], [best_score], color = 'black')\n",
    "plt.annotate(\n",
    "    '{:d}; {:0.3f}'.format(best_iteration, best_score), \n",
    "    xy = (best_iteration, best_score), \n",
    "    xytext = (best_iteration,best_score+0.005),\n",
    "#     textcoords = 'offset points'\n",
    ")\n",
    "plt.xlabel('iteration')\n",
    "plt.ylabel(metric)\n",
    "plt.legend(loc='best')\n",
    "plt.title(f'{metric} curves')\n",
    "plt.show()"
   ]
  },
  {
   "cell_type": "code",
   "execution_count": 36,
   "metadata": {
    "ExecuteTime": {
     "end_time": "2023-04-24T11:12:58.046047Z",
     "start_time": "2023-04-24T11:12:58.008513Z"
    }
   },
   "outputs": [
    {
     "name": "stdout",
     "output_type": "stream",
     "text": [
      "no_of_adults                            13.574857\n",
      "no_of_children                          84.554885\n",
      "no_of_weekend_nights                    76.312123\n",
      "no_of_week_nights                       25.626258\n",
      "type_of_meal_plan                       49.326521\n",
      "required_car_parking_space              45.273262\n",
      "room_type_reserved                      65.183465\n",
      "lead_time                               78.783093\n",
      "arrival_year                             9.180988\n",
      "arrival_month                            2.774423\n",
      "arrival_date                            83.303917\n",
      "market_segment_type                     43.229602\n",
      "repeated_guest                          76.528874\n",
      "no_of_previous_cancellations             0.213655\n",
      "no_of_previous_bookings_not_canceled    44.790215\n",
      "avg_price_per_room                      72.237188\n",
      "no_of_special_requests                  22.799195\n",
      "booking_status                           0.000000\n",
      "sample                                   0.000000\n",
      "MTE_type_of_meal_plan                   49.326521\n",
      "MTE_room_type_reserved                  65.183465\n",
      "MTE_market_segment_type                 43.229602\n",
      "MTE_arrival_month                        2.774423\n",
      "dtype: float64\n",
      "[ 0.          0.          0.21365536  2.77442329  2.77442329  9.18098777\n",
      " 13.57485679 22.79919492 25.62625793 43.22960211 43.22960211 44.7902152\n",
      " 45.27326211 49.32652113 49.32652113 65.18346493 65.18346493 72.23718842\n",
      " 76.31212262 76.52887444 78.78309336 83.30391702 84.55488466]\n"
     ]
    }
   ],
   "source": [
    "percent_nan_in_each_col = (data.isna().sum()/(len(data))*100)\n",
    "print(percent_nan_in_each_col)\n",
    "print(np.sort(percent_nan_in_each_col))"
   ]
  },
  {
   "cell_type": "code",
   "execution_count": 37,
   "metadata": {
    "ExecuteTime": {
     "end_time": "2023-04-24T11:13:33.045184Z",
     "start_time": "2023-04-24T11:13:32.551833Z"
    }
   },
   "outputs": [
    {
     "name": "stdout",
     "output_type": "stream",
     "text": [
      "                               predictor   strength\n",
      "0                           arrival_year  38.512685\n",
      "1                 no_of_special_requests  25.756696\n",
      "2                MTE_market_segment_type  21.732730\n",
      "3                      MTE_arrival_month  17.887769\n",
      "4                              lead_time  15.675953\n",
      "5                           no_of_adults   9.960220\n",
      "6   no_of_previous_bookings_not_canceled   9.710450\n",
      "7                  MTE_type_of_meal_plan   8.503809\n",
      "8             required_car_parking_space   7.879530\n",
      "9                      no_of_week_nights   7.831687\n",
      "10                    avg_price_per_room   6.477318\n",
      "11                  no_of_weekend_nights   5.486251\n",
      "12                MTE_room_type_reserved   4.402821\n",
      "13                        repeated_guest   4.001033\n",
      "14                        no_of_children   3.842909\n",
      "15                          arrival_date   3.390364\n",
      "16          no_of_previous_cancellations   2.638611\n"
     ]
    },
    {
     "data": {
      "image/png": "[encoded data removed]",
      "text/plain": [
       "<Figure size 432x360 with 1 Axes>"
      ]
     },
     "metadata": {
      "needs_background": "light"
     },
     "output_type": "display_data"
    }
   ],
   "source": [
    "importance_type = 'gain'\n",
    "\n",
    "predictor_strength = sorted([(k, v) for k,v in booster.get_score(importance_type = importance_type).items()], key = lambda x: x[1], reverse = True)\n",
    "predictor_strength = pd.DataFrame(predictor_strength, columns = ['predictor', 'strength'])\n",
    "fig = plt.figure(figsize=(6,5))\n",
    "print(predictor_strength)\n",
    "n_strongest = 16\n",
    "plt.barh(range(n_strongest, 0, -1), predictor_strength['strength'].iloc[0:16])\n",
    "plt.yticks(range(n_strongest, 0, -1), predictor_strength['predictor'].iloc[0:16])\n",
    "plt.xlabel(importance_type)\n",
    "plt.title('Predictor importance')\n",
    "plt.show()"
   ]
  },
  {
   "cell_type": "code",
   "execution_count": 34,
   "metadata": {},
   "outputs": [
    {
     "data": {
      "text/plain": [
       "['no_of_adults',\n",
       " 'no_of_children',\n",
       " 'no_of_weekend_nights',\n",
       " 'no_of_week_nights',\n",
       " 'required_car_parking_space',\n",
       " 'lead_time',\n",
       " 'arrival_year',\n",
       " 'repeated_guest',\n",
       " 'no_of_previous_cancellations',\n",
       " 'no_of_previous_bookings_not_canceled',\n",
       " 'avg_price_per_room',\n",
       " 'no_of_special_requests',\n",
       " 'MTE_type_of_meal_plan',\n",
       " 'MTE_room_type_reserved',\n",
       " 'MTE_market_segment_type',\n",
       " 'MTE_arrival_month']"
      ]
     },
     "execution_count": 34,
     "metadata": {},
     "output_type": "execute_result"
    }
   ],
   "source": [
    "cols_pred\n",
    "to_remove = [\"arrival_date\",\"no_of_children\",\"repeated_guest\",\"MTE_room_type_reserved\"]\n",
    "questionable = [\"avg_price_per_room\",\"MTE_type_of_meal_plan\",\"required_car_parking_space\",\"no_of_previous_bookings_not_canceled\"]"
   ]
  },
  {
   "cell_type": "markdown",
   "metadata": {},
   "source": [
    "Arrival date je blbost a ma maly vliv ,tak ho muzu vyhodt.\n",
    "\n",
    "Number of children,repeated guest,no_of_weekend_nights, a room type reserved ma hodne unavailable a ma maly vliv, tak ho vyhodim\n",
    "\n",
    "S otaznikem zustava\n",
    "avg_price_per_room                      72.237188\n",
    "MTE_type_of_meal_plan                   49.326521\n",
    "required_car_parking_space              45.273262\n",
    "no_of_previous_bookings_not_canceled    44.790215\n",
    "\n",
    "nizky vliv ma take no_of_previous_cancellations   1.826715, asi proto, ze tam jsou vsechny pozorovani skoro stejny, tka to klidne muzu vyhodit, ale tim spis nechat no of previous not canceled.\n",
    "\n",
    "\n",
    "\n",
    "no_of_previous cancelations ma fakt malo NAN a je docela uzitecne. mohlo by se pouzit pro stratifikaci. jenze ma taky skoro vzdy odpoved 0, takze zas tak zajimavy neni. Dal by se zvazit pocet mesicu.\n",
    "lead_time ma hodne NaN, ale i tak je vcelku logicky uzitecny\n",
    "\n",
    "no_of_adults: Number of adults\n",
    "no_of_children: Number of Children\n",
    "no_of_weekend_nights: Number of weekend nights (Saturday or Sunday) the guest stayed or booked to stay at the hotel\n",
    "no_of_week_nights: Number of week nights (Monday to Friday) the guest stayed or booked to stay at the hotel\n",
    "type_of_meal_plan: Type of meal plan booked by the customer:\n",
    "required_car_parking_space: Does the customer require a car parking space? (0 - No, 1- Yes)\n",
    "room_type_reserved: Type of room reserved by the customer. The values are ciphered (encoded) by INN Hotels.\n",
    "lead_time: Number of days between the date of booking and the arrival date\n",
    "arrival_year: Year of arrival date\n",
    "arrival_month: Month of arrival date\n",
    "arrival_date: Date of the month\n",
    "market_segment_type: Market segment designation.\n",
    "repeated_guest: Is the customer a repeated guest? (0 - No, 1- Yes)\n",
    "no_of_previous_cancellations: Number of previous bookings that were canceled by the customer prior to the current booking\n",
    "no_of_previous_bookings_not_canceled: Number of previous bookings not canceled by the customer prior to the current booking\n",
    "avg_price_per_room: Average price per day of the reservation; prices of the rooms are dynamic. (in euros)\n",
    "no_of_special_requests: Total number of special requests made by the customer (e.g. high floor, view from the room, etc)\n"
   ]
  },
  {
   "cell_type": "code",
   "execution_count": 3,
   "metadata": {},
   "outputs": [],
   "source": [
    "params_gs = {\n",
    "    'eta': [0.05] #, 0.1, 0.2, 0.3, 0.4],\n",
    "    'max_depth': [3, 4, 5],\n",
    "    'lambda': [0, 0.1]#, 1, 10]\n",
    "}\n",
    "\n",
    "# create all combinations of parameters\n",
    "param_combinations = list(product(*params_gs.values()))\n",
    "\n",
    "# create a DataFrame with the parameter combinations\n",
    "param_df = pd.DataFrame(param_combinations, columns=params_gs.keys())\n",
    "\n",
    "# print the DataFrame\n",
    "#print(param_df)\n"
   ]
  },
  {
   "cell_type": "code",
   "execution_count": 36,
   "metadata": {},
   "outputs": [],
   "source": [
    "cols_pred\n",
    "to_remove = [\"arrival_date\",\"no_of_children\",\"repeated_guest\",\"MTE_room_type_reserved\"]\n",
    "questionable = [\"avg_price_per_room\",\"MTE_type_of_meal_plan\",\"required_car_parking_space\",\"no_of_previous_bookings_not_canceled\"]"
   ]
  },
  {
   "cell_type": "code",
   "execution_count": 40,
   "metadata": {},
   "outputs": [
    {
     "data": {
      "text/plain": [
       "['no_of_adults',\n",
       " 'no_of_weekend_nights',\n",
       " 'no_of_week_nights',\n",
       " 'lead_time',\n",
       " 'arrival_year',\n",
       " 'no_of_previous_cancellations',\n",
       " 'no_of_special_requests',\n",
       " 'MTE_market_segment_type',\n",
       " 'MTE_arrival_month']"
      ]
     },
     "execution_count": 40,
     "metadata": {},
     "output_type": "execute_result"
    }
   ],
   "source": [
    "df = pd.DataFrame({'A': [1, 2, 3], 'B': [4, 5, 6], 'C': [7, 8, 9]})\n",
    "\n",
    "aaa = cols_pred\n",
    "bbb = [x for x in cols_pred if x not in to_remove]\n",
    "ccc = [x for x in bbb if x not in questionable]\n",
    "\n",
    "predictor_set_list = [aaa,bbb,ccc]\n",
    "\n",
    "ccc"
   ]
  },
  {
   "cell_type": "code",
   "execution_count": 6,
   "metadata": {},
   "outputs": [
    {
     "name": "stdout",
     "output_type": "stream",
     "text": [
      "          0          1          2          3          4          5   \\\n",
      "0   0.0(0.0)   0.0(0.0)   0.0(0.0)   0.0(0.0)   0.0(0.0)   0.0(0.0)   \n",
      "1  0.05(0.0)  0.05(0.0)  0.05(0.0)  0.05(0.0)  0.05(0.0)  0.05(0.0)   \n",
      "2   0.1(0.0)   0.1(0.0)   0.1(0.0)   0.1(0.0)   0.1(0.0)   0.1(0.0)   \n",
      "\n",
      "          6          7          8          9   ...        50        51  \\\n",
      "0   0.0(0.0)   0.0(0.0)   0.0(0.0)   0.0(0.0)  ...  0.0(0.0)  0.0(0.0)   \n",
      "1  0.05(0.0)  0.05(0.0)  0.05(0.0)  0.05(0.0)  ...  0.4(0.0)  0.4(0.0)   \n",
      "2   0.1(0.0)   0.1(0.0)   0.1(0.0)   0.1(0.0)  ...  0.8(0.0)  0.8(0.0)   \n",
      "\n",
      "         52        53        54        55        56        57        58  \\\n",
      "0  0.0(0.0)  0.0(0.0)  0.0(0.0)  0.0(0.0)  0.0(0.0)  0.0(0.0)  0.0(0.0)   \n",
      "1  0.4(0.0)  0.4(0.0)  0.4(0.0)  0.4(0.0)  0.4(0.0)  0.4(0.0)  0.4(0.0)   \n",
      "2  0.8(0.0)  0.8(0.0)  0.8(0.0)  0.8(0.0)  0.8(0.0)  0.8(0.0)  0.8(0.0)   \n",
      "\n",
      "         59  \n",
      "0  0.0(0.0)  \n",
      "1  0.4(0.0)  \n",
      "2  0.8(0.0)  \n",
      "\n",
      "[3 rows x 60 columns]\n"
     ]
    }
   ],
   "source": [
    "# Initialize the first row and first column values\n",
    "first_row = list(range(0, 60))\n",
    "first_col = list(range(0, 3))\n",
    "\n",
    "# Create an empty data frame with the given row and column labels\n",
    "df = pd.DataFrame(index=first_col, columns=first_row)\n",
    "\n",
    "# Fill the data frame with the product of the row and column values\n",
    "for row in first_col:\n",
    "    for col in first_row:\n",
    "#        list_of_results=[]\n",
    "#        for i in range(5):\n",
    "        ETA = param_df.iloc[col, 0]\n",
    "        max_depth = param_df.iloc[col, 1]\n",
    "        MY_lambda = param_df.iloc[col, 2]\n",
    "            \n",
    "        predictor_set = predictor_set_list[row]\n",
    "            \n",
    "  #-------------------------------------------------------------------------------------------------------------------      \n",
    "        \n",
    "        # set best parameters to be used in XGBoost\n",
    "        params = {    \n",
    "            'max_depth': max_depth,\n",
    "            'eta': ETA,\n",
    "            'lambda': MY_lambda,\n",
    "            \"subsample\":0.7,\n",
    "            'objective': 'binary:logistic',\n",
    "            'eval_metric': 'auc',\n",
    "        }\n",
    "\n",
    "\n",
    "        evals_result = {}\n",
    "        booster = xgb.train(\n",
    "            params = params,\n",
    "            dtrain = xgb.DMatrix(data[train_mask][predictor_set], data[train_mask][col_target]),\n",
    "            num_boost_round = 1000,\n",
    "            evals = (\n",
    "                (xgb.DMatrix(data[train_mask][predictor_set], data[train_mask][col_target]), 'train'),\n",
    "                (xgb.DMatrix(data[test_mask][predictor_set], data[test_mask][col_target]), 'test'),\n",
    "                (xgb.DMatrix(data[valid_mask][predictor_set], data[valid_mask][col_target]), 'valid')\n",
    "            ),\n",
    "            evals_result = evals_result,\n",
    "            early_stopping_rounds = 10\n",
    "        )\n",
    "\n",
    "\n",
    "        y_pred = model.predict(data[valid_mask])\n",
    "        y_valid = data[valid_mask][col_target]\n",
    "        auc_score = roc_auc_score(y_valid, y_pred)\n",
    "\n",
    "\n",
    "\n",
    "      \n",
    " #-------------------------------------------------------------------------------------------------------------------       \n",
    "        AUC = row * ETA\n",
    "            \n",
    "            \n",
    "#            list_of_results.append(AUC)\n",
    "            \n",
    "#        average = sum(list_of_results) / len(list_of_results)\n",
    "#        var_res = math.sqrt(sum((xi - average) ** 2 for xi in list_of_results) / len(list_of_results))\n",
    "\n",
    "#        result = str(average) + \"(\" + str(var_res) + \")\"\n",
    "        result =  AUC\n",
    "        df.at[row, col] = result\n",
    "\n",
    "print(df)"
   ]
  },
  {
   "cell_type": "code",
   "execution_count": null,
   "metadata": {},
   "outputs": [],
   "source": [
    "# set best parameters to be used in XGBoost\n",
    "params = {    \n",
    "    'max_depth': max_depth,\n",
    "    'eta': ETA,\n",
    "    'lambda': MY_lambda,\n",
    "    \"subsample\":0.7,\n",
    "    'objective': 'binary:logistic',\n",
    "    'eval_metric': 'auc',\n",
    "}\n",
    "\n",
    "\n",
    "evals_result = {}\n",
    "booster = xgb.train(\n",
    "    params = params,\n",
    "    dtrain = xgb.DMatrix(data[train_mask][cols_pred], data[train_mask][col_target]),\n",
    "    num_boost_round = 1000,\n",
    "    evals = (\n",
    "        (xgb.DMatrix(data[train_mask][cols_pred], data[train_mask][col_target]), 'train'),\n",
    "        (xgb.DMatrix(data[test_mask][cols_pred], data[test_mask][col_target]), 'test'),\n",
    "        (xgb.DMatrix(data[valid_mask][cols_pred], data[valid_mask][col_target]), 'valid')\n",
    "    ),\n",
    "    evals_result = evals_result,\n",
    "    early_stopping_rounds = 10\n",
    ")\n",
    "\n",
    "\n",
    "y_pred = model.predict(data[valid_mask])\n",
    "y_valid = data[valid_mask][col_target]\n",
    "auc_score = roc_auc_score(y_valid, y_pred)"
   ]
  },
  {
   "cell_type": "code",
   "execution_count": null,
   "metadata": {},
   "outputs": [],
   "source": []
  },
  {
   "cell_type": "code",
   "execution_count": null,
   "metadata": {},
   "outputs": [],
   "source": []
  }
 ],
 "metadata": {
  "kernelspec": {
   "display_name": "Python 3 (ipykernel)",
   "language": "python",
   "name": "python3"
  },
  "language_info": {
   "codemirror_mode": {
    "name": "ipython",
    "version": 3
   },
   "file_extension": ".py",
   "mimetype": "text/x-python",
   "name": "python",
   "nbconvert_exporter": "python",
   "pygments_lexer": "ipython3",
   "version": "3.8.12"
  },
  "toc": {
   "base_numbering": 1,
   "nav_menu": {},
   "number_sections": true,
   "sideBar": true,
   "skip_h1_title": false,
   "title_cell": "Table of Contents",
   "title_sidebar": "Contents",
   "toc_cell": false,
   "toc_position": {},
   "toc_section_display": true,
   "toc_window_display": false
  },
  "varInspector": {
   "cols": {
    "lenName": 16,
    "lenType": 16,
    "lenVar": 40
   },
   "kernels_config": {
    "python": {
     "delete_cmd_postfix": "",
     "delete_cmd_prefix": "del ",
     "library": "var_list.py",
     "varRefreshCmd": "print(var_dic_list())"
    },
    "r": {
     "delete_cmd_postfix": ") ",
     "delete_cmd_prefix": "rm(",
     "library": "var_list.r",
     "varRefreshCmd": "cat(var_dic_list()) "
    }
   },
   "types_to_exclude": [
    "module",
    "function",
    "builtin_function_or_method",
    "instance",
    "_Feature"
   ],
   "window_display": false
  }
 },
 "nbformat": 4,
 "nbformat_minor": 4
}
