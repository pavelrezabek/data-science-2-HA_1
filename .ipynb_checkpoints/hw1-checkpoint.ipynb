{
 "cells": [
  {
   "cell_type": "code",
<<<<<<< Updated upstream
   "execution_count": 16,
   "metadata": {
    "ExecuteTime": {
     "end_time": "2023-04-24T11:11:07.324366Z",
     "start_time": "2023-04-24T11:11:07.302571Z"
=======
   "execution_count": 1,
   "metadata": {
    "ExecuteTime": {
     "end_time": "2023-04-18T07:34:55.663017Z",
     "start_time": "2023-04-18T07:34:45.850004Z"
>>>>>>> Stashed changes
    }
   },
   "outputs": [],
   "source": [
    "import numpy as np\n",
    "import pandas as pd\n",
    "import matplotlib.pyplot as plt\n",
    "import seaborn as sns\n",
    "import datetime\n",
    "import pickle\n",
    "from tqdm.notebook import tqdm\n",
    "\n",
    "from sklearn.model_selection import train_test_split, KFold\n",
    "from sklearn.metrics import roc_auc_score, roc_curve\n",
    "from sklearn.linear_model import LogisticRegression\n",
    "from sklearn.inspection import permutation_importance\n",
    "import xgboost as xgb"
   ]
  },
  {
<<<<<<< Updated upstream
=======
   "cell_type": "code",
   "execution_count": null,
   "metadata": {},
   "outputs": [],
   "source": [
    "import pandas as pd\n",
    "from itertools import product\n",
    "import math"
   ]
  },
  {
>>>>>>> Stashed changes
   "cell_type": "markdown",
   "metadata": {},
   "source": [
    "# Data"
   ]
  },
  {
   "cell_type": "code",
<<<<<<< Updated upstream
   "execution_count": 17,
   "metadata": {
    "ExecuteTime": {
     "end_time": "2023-04-24T11:11:08.120906Z",
     "start_time": "2023-04-24T11:11:07.960667Z"
=======
   "execution_count": 156,
   "metadata": {
    "ExecuteTime": {
     "end_time": "2023-04-17T13:22:18.686627Z",
     "start_time": "2023-04-17T13:22:18.561478Z"
>>>>>>> Stashed changes
    }
   },
   "outputs": [],
   "source": [
    "data = pd.read_csv('2023_DS2_HW1_data_train.csv', sep = ',', decimal = '.', index_col = 'Booking_ID')"
   ]
  },
  {
   "cell_type": "code",
<<<<<<< Updated upstream
   "execution_count": 18,
   "metadata": {
    "ExecuteTime": {
     "end_time": "2023-04-24T11:11:08.578921Z",
     "start_time": "2023-04-24T11:11:08.495308Z"
=======
   "execution_count": 157,
   "metadata": {
    "ExecuteTime": {
     "end_time": "2023-04-17T13:22:19.069891Z",
     "start_time": "2023-04-17T13:22:19.021158Z"
>>>>>>> Stashed changes
    }
   },
   "outputs": [
    {
     "data": {
      "text/html": [
       "<div>\n",
       "<style scoped>\n",
       "    .dataframe tbody tr th:only-of-type {\n",
       "        vertical-align: middle;\n",
       "    }\n",
       "\n",
       "    .dataframe tbody tr th {\n",
       "        vertical-align: top;\n",
       "    }\n",
       "\n",
       "    .dataframe thead th {\n",
       "        text-align: right;\n",
       "    }\n",
       "</style>\n",
       "<table border=\"1\" class=\"dataframe\">\n",
       "  <thead>\n",
       "    <tr style=\"text-align: right;\">\n",
       "      <th></th>\n",
       "      <th>no_of_adults</th>\n",
       "      <th>no_of_children</th>\n",
       "      <th>no_of_weekend_nights</th>\n",
       "      <th>no_of_week_nights</th>\n",
       "      <th>type_of_meal_plan</th>\n",
       "      <th>required_car_parking_space</th>\n",
       "      <th>room_type_reserved</th>\n",
       "      <th>lead_time</th>\n",
       "      <th>arrival_year</th>\n",
       "      <th>arrival_month</th>\n",
       "      <th>arrival_date</th>\n",
       "      <th>market_segment_type</th>\n",
       "      <th>repeated_guest</th>\n",
       "      <th>no_of_previous_cancellations</th>\n",
       "      <th>no_of_previous_bookings_not_canceled</th>\n",
       "      <th>avg_price_per_room</th>\n",
       "      <th>no_of_special_requests</th>\n",
       "      <th>booking_status</th>\n",
       "    </tr>\n",
       "    <tr>\n",
       "      <th>Booking_ID</th>\n",
       "      <th></th>\n",
       "      <th></th>\n",
       "      <th></th>\n",
       "      <th></th>\n",
       "      <th></th>\n",
       "      <th></th>\n",
       "      <th></th>\n",
       "      <th></th>\n",
       "      <th></th>\n",
       "      <th></th>\n",
       "      <th></th>\n",
       "      <th></th>\n",
       "      <th></th>\n",
       "      <th></th>\n",
       "      <th></th>\n",
       "      <th></th>\n",
       "      <th></th>\n",
       "      <th></th>\n",
       "    </tr>\n",
       "  </thead>\n",
       "  <tbody>\n",
       "    <tr>\n",
       "      <th>INN10204</th>\n",
       "      <td>NaN</td>\n",
       "      <td>NaN</td>\n",
       "      <td>NaN</td>\n",
       "      <td>2.0</td>\n",
       "      <td>Meal Plan 2</td>\n",
       "      <td>NaN</td>\n",
       "      <td>Room_Type 6</td>\n",
       "      <td>NaN</td>\n",
       "      <td>2018.0</td>\n",
       "      <td>9.0</td>\n",
       "      <td>NaN</td>\n",
       "      <td>Online</td>\n",
       "      <td>0.0</td>\n",
       "      <td>0.0</td>\n",
       "      <td>NaN</td>\n",
       "      <td>NaN</td>\n",
       "      <td>1.0</td>\n",
       "      <td>0.0</td>\n",
       "    </tr>\n",
       "    <tr>\n",
       "      <th>INN20020</th>\n",
       "      <td>NaN</td>\n",
       "      <td>NaN</td>\n",
       "      <td>NaN</td>\n",
       "      <td>2.0</td>\n",
       "      <td>Meal Plan 1</td>\n",
       "      <td>NaN</td>\n",
       "      <td>NaN</td>\n",
       "      <td>NaN</td>\n",
       "      <td>NaN</td>\n",
       "      <td>12.0</td>\n",
       "      <td>NaN</td>\n",
       "      <td>Online</td>\n",
       "      <td>0.0</td>\n",
       "      <td>0.0</td>\n",
       "      <td>0.0</td>\n",
       "      <td>NaN</td>\n",
       "      <td>NaN</td>\n",
       "      <td>0.0</td>\n",
       "    </tr>\n",
       "    <tr>\n",
       "      <th>INN16435</th>\n",
       "      <td>1.0</td>\n",
       "      <td>NaN</td>\n",
       "      <td>NaN</td>\n",
       "      <td>2.0</td>\n",
       "      <td>NaN</td>\n",
       "      <td>0.0</td>\n",
       "      <td>Room_Type 1</td>\n",
       "      <td>NaN</td>\n",
       "      <td>2018.0</td>\n",
       "      <td>11.0</td>\n",
       "      <td>NaN</td>\n",
       "      <td>NaN</td>\n",
       "      <td>0.0</td>\n",
       "      <td>0.0</td>\n",
       "      <td>NaN</td>\n",
       "      <td>NaN</td>\n",
       "      <td>1.0</td>\n",
       "      <td>0.0</td>\n",
       "    </tr>\n",
       "    <tr>\n",
       "      <th>INN07143</th>\n",
       "      <td>3.0</td>\n",
       "      <td>NaN</td>\n",
       "      <td>NaN</td>\n",
       "      <td>3.0</td>\n",
       "      <td>NaN</td>\n",
       "      <td>NaN</td>\n",
       "      <td>NaN</td>\n",
       "      <td>100.0</td>\n",
       "      <td>2018.0</td>\n",
       "      <td>5.0</td>\n",
       "      <td>NaN</td>\n",
       "      <td>Online</td>\n",
       "      <td>0.0</td>\n",
       "      <td>0.0</td>\n",
       "      <td>NaN</td>\n",
       "      <td>NaN</td>\n",
       "      <td>2.0</td>\n",
       "      <td>0.0</td>\n",
       "    </tr>\n",
       "    <tr>\n",
       "      <th>INN20511</th>\n",
       "      <td>1.0</td>\n",
       "      <td>0.0</td>\n",
       "      <td>1.0</td>\n",
       "      <td>1.0</td>\n",
       "      <td>Meal Plan 1</td>\n",
       "      <td>0.0</td>\n",
       "      <td>NaN</td>\n",
       "      <td>NaN</td>\n",
       "      <td>2018.0</td>\n",
       "      <td>11.0</td>\n",
       "      <td>NaN</td>\n",
       "      <td>NaN</td>\n",
       "      <td>0.0</td>\n",
       "      <td>0.0</td>\n",
       "      <td>0.0</td>\n",
       "      <td>150.0</td>\n",
       "      <td>NaN</td>\n",
       "      <td>1.0</td>\n",
       "    </tr>\n",
       "    <tr>\n",
       "      <th>...</th>\n",
       "      <td>...</td>\n",
       "      <td>...</td>\n",
       "      <td>...</td>\n",
       "      <td>...</td>\n",
       "      <td>...</td>\n",
       "      <td>...</td>\n",
       "      <td>...</td>\n",
       "      <td>...</td>\n",
       "      <td>...</td>\n",
       "      <td>...</td>\n",
       "      <td>...</td>\n",
       "      <td>...</td>\n",
       "      <td>...</td>\n",
       "      <td>...</td>\n",
       "      <td>...</td>\n",
       "      <td>...</td>\n",
       "      <td>...</td>\n",
       "      <td>...</td>\n",
       "    </tr>\n",
       "    <tr>\n",
       "      <th>INN16851</th>\n",
       "      <td>2.0</td>\n",
       "      <td>NaN</td>\n",
       "      <td>NaN</td>\n",
       "      <td>NaN</td>\n",
       "      <td>Meal Plan 1</td>\n",
       "      <td>NaN</td>\n",
       "      <td>NaN</td>\n",
       "      <td>43.0</td>\n",
       "      <td>2017.0</td>\n",
       "      <td>12.0</td>\n",
       "      <td>26.0</td>\n",
       "      <td>Offline</td>\n",
       "      <td>NaN</td>\n",
       "      <td>0.0</td>\n",
       "      <td>0.0</td>\n",
       "      <td>NaN</td>\n",
       "      <td>2.0</td>\n",
       "      <td>0.0</td>\n",
       "    </tr>\n",
       "    <tr>\n",
       "      <th>INN06266</th>\n",
       "      <td>1.0</td>\n",
       "      <td>NaN</td>\n",
       "      <td>NaN</td>\n",
       "      <td>2.0</td>\n",
       "      <td>Meal Plan 2</td>\n",
       "      <td>0.0</td>\n",
       "      <td>Room_Type 1</td>\n",
       "      <td>102.0</td>\n",
       "      <td>2017.0</td>\n",
       "      <td>10.0</td>\n",
       "      <td>NaN</td>\n",
       "      <td>Online</td>\n",
       "      <td>NaN</td>\n",
       "      <td>0.0</td>\n",
       "      <td>NaN</td>\n",
       "      <td>80.0</td>\n",
       "      <td>NaN</td>\n",
       "      <td>1.0</td>\n",
       "    </tr>\n",
       "    <tr>\n",
       "      <th>INN11285</th>\n",
       "      <td>2.0</td>\n",
       "      <td>NaN</td>\n",
       "      <td>NaN</td>\n",
       "      <td>2.0</td>\n",
       "      <td>NaN</td>\n",
       "      <td>NaN</td>\n",
       "      <td>NaN</td>\n",
       "      <td>NaN</td>\n",
       "      <td>2018.0</td>\n",
       "      <td>5.0</td>\n",
       "      <td>NaN</td>\n",
       "      <td>Corporate</td>\n",
       "      <td>0.0</td>\n",
       "      <td>0.0</td>\n",
       "      <td>0.0</td>\n",
       "      <td>NaN</td>\n",
       "      <td>1.0</td>\n",
       "      <td>0.0</td>\n",
       "    </tr>\n",
       "    <tr>\n",
       "      <th>INN00861</th>\n",
       "      <td>2.0</td>\n",
       "      <td>NaN</td>\n",
       "      <td>NaN</td>\n",
       "      <td>3.0</td>\n",
       "      <td>Meal Plan 1</td>\n",
       "      <td>0.0</td>\n",
       "      <td>NaN</td>\n",
       "      <td>NaN</td>\n",
       "      <td>2018.0</td>\n",
       "      <td>6.0</td>\n",
       "      <td>NaN</td>\n",
       "      <td>Online</td>\n",
       "      <td>NaN</td>\n",
       "      <td>0.0</td>\n",
       "      <td>NaN</td>\n",
       "      <td>NaN</td>\n",
       "      <td>0.0</td>\n",
       "      <td>1.0</td>\n",
       "    </tr>\n",
       "    <tr>\n",
       "      <th>INN15796</th>\n",
       "      <td>2.0</td>\n",
       "      <td>NaN</td>\n",
       "      <td>NaN</td>\n",
       "      <td>2.0</td>\n",
       "      <td>NaN</td>\n",
       "      <td>NaN</td>\n",
       "      <td>NaN</td>\n",
       "      <td>14.0</td>\n",
       "      <td>2018.0</td>\n",
       "      <td>9.0</td>\n",
       "      <td>15.0</td>\n",
       "      <td>Online</td>\n",
       "      <td>NaN</td>\n",
       "      <td>0.0</td>\n",
       "      <td>NaN</td>\n",
       "      <td>NaN</td>\n",
       "      <td>NaN</td>\n",
       "      <td>0.0</td>\n",
       "    </tr>\n",
       "  </tbody>\n",
       "</table>\n",
       "<p>32647 rows × 18 columns</p>\n",
       "</div>"
      ],
      "text/plain": [
       "            no_of_adults  no_of_children  no_of_weekend_nights  \\\n",
       "Booking_ID                                                       \n",
       "INN10204             NaN             NaN                   NaN   \n",
       "INN20020             NaN             NaN                   NaN   \n",
       "INN16435             1.0             NaN                   NaN   \n",
       "INN07143             3.0             NaN                   NaN   \n",
       "INN20511             1.0             0.0                   1.0   \n",
       "...                  ...             ...                   ...   \n",
       "INN16851             2.0             NaN                   NaN   \n",
       "INN06266             1.0             NaN                   NaN   \n",
       "INN11285             2.0             NaN                   NaN   \n",
       "INN00861             2.0             NaN                   NaN   \n",
       "INN15796             2.0             NaN                   NaN   \n",
       "\n",
       "            no_of_week_nights type_of_meal_plan  required_car_parking_space  \\\n",
       "Booking_ID                                                                    \n",
       "INN10204                  2.0       Meal Plan 2                         NaN   \n",
       "INN20020                  2.0       Meal Plan 1                         NaN   \n",
       "INN16435                  2.0               NaN                         0.0   \n",
       "INN07143                  3.0               NaN                         NaN   \n",
       "INN20511                  1.0       Meal Plan 1                         0.0   \n",
       "...                       ...               ...                         ...   \n",
       "INN16851                  NaN       Meal Plan 1                         NaN   \n",
       "INN06266                  2.0       Meal Plan 2                         0.0   \n",
       "INN11285                  2.0               NaN                         NaN   \n",
       "INN00861                  3.0       Meal Plan 1                         0.0   \n",
       "INN15796                  2.0               NaN                         NaN   \n",
       "\n",
       "           room_type_reserved  lead_time  arrival_year  arrival_month  \\\n",
       "Booking_ID                                                              \n",
       "INN10204          Room_Type 6        NaN        2018.0            9.0   \n",
       "INN20020                  NaN        NaN           NaN           12.0   \n",
       "INN16435          Room_Type 1        NaN        2018.0           11.0   \n",
       "INN07143                  NaN      100.0        2018.0            5.0   \n",
       "INN20511                  NaN        NaN        2018.0           11.0   \n",
       "...                       ...        ...           ...            ...   \n",
       "INN16851                  NaN       43.0        2017.0           12.0   \n",
       "INN06266          Room_Type 1      102.0        2017.0           10.0   \n",
       "INN11285                  NaN        NaN        2018.0            5.0   \n",
       "INN00861                  NaN        NaN        2018.0            6.0   \n",
       "INN15796                  NaN       14.0        2018.0            9.0   \n",
       "\n",
       "            arrival_date market_segment_type  repeated_guest  \\\n",
       "Booking_ID                                                     \n",
       "INN10204             NaN              Online             0.0   \n",
       "INN20020             NaN              Online             0.0   \n",
       "INN16435             NaN                 NaN             0.0   \n",
       "INN07143             NaN              Online             0.0   \n",
       "INN20511             NaN                 NaN             0.0   \n",
       "...                  ...                 ...             ...   \n",
       "INN16851            26.0             Offline             NaN   \n",
       "INN06266             NaN              Online             NaN   \n",
       "INN11285             NaN           Corporate             0.0   \n",
       "INN00861             NaN              Online             NaN   \n",
       "INN15796            15.0              Online             NaN   \n",
       "\n",
       "            no_of_previous_cancellations  \\\n",
       "Booking_ID                                 \n",
       "INN10204                             0.0   \n",
       "INN20020                             0.0   \n",
       "INN16435                             0.0   \n",
       "INN07143                             0.0   \n",
       "INN20511                             0.0   \n",
       "...                                  ...   \n",
       "INN16851                             0.0   \n",
       "INN06266                             0.0   \n",
       "INN11285                             0.0   \n",
       "INN00861                             0.0   \n",
       "INN15796                             0.0   \n",
       "\n",
       "            no_of_previous_bookings_not_canceled  avg_price_per_room  \\\n",
       "Booking_ID                                                             \n",
       "INN10204                                     NaN                 NaN   \n",
       "INN20020                                     0.0                 NaN   \n",
       "INN16435                                     NaN                 NaN   \n",
       "INN07143                                     NaN                 NaN   \n",
       "INN20511                                     0.0               150.0   \n",
       "...                                          ...                 ...   \n",
       "INN16851                                     0.0                 NaN   \n",
       "INN06266                                     NaN                80.0   \n",
       "INN11285                                     0.0                 NaN   \n",
       "INN00861                                     NaN                 NaN   \n",
       "INN15796                                     NaN                 NaN   \n",
       "\n",
       "            no_of_special_requests  booking_status  \n",
       "Booking_ID                                          \n",
       "INN10204                       1.0             0.0  \n",
       "INN20020                       NaN             0.0  \n",
       "INN16435                       1.0             0.0  \n",
       "INN07143                       2.0             0.0  \n",
       "INN20511                       NaN             1.0  \n",
       "...                            ...             ...  \n",
       "INN16851                       2.0             0.0  \n",
       "INN06266                       NaN             1.0  \n",
       "INN11285                       1.0             0.0  \n",
       "INN00861                       0.0             1.0  \n",
       "INN15796                       NaN             0.0  \n",
       "\n",
       "[32647 rows x 18 columns]"
      ]
     },
<<<<<<< Updated upstream
     "execution_count": 18,
=======
     "execution_count": 157,
>>>>>>> Stashed changes
     "metadata": {},
     "output_type": "execute_result"
    }
   ],
   "source": [
    "data"
   ]
  },
  {
   "cell_type": "code",
<<<<<<< Updated upstream
   "execution_count": 19,
   "metadata": {
    "ExecuteTime": {
     "end_time": "2023-04-24T11:11:09.106133Z",
     "start_time": "2023-04-24T11:11:09.073532Z"
    }
   },
   "outputs": [],
   "source": [
    "# define list of predictors\n",
    "cols_pred = list(data.columns[0:-1])\n",
    "\n",
    "# define list of numerical predictors\n",
    "cols_pred_num = [col for col in cols_pred if data[col].dtype != 'O']\n",
    "# define list of categorical predictors\n",
    "cols_pred_cat = [col for col in cols_pred if data[col].dtype == 'O']\n"
   ]
  },
  {
   "cell_type": "markdown",
=======
   "execution_count": 158,
>>>>>>> Stashed changes
   "metadata": {
    "ExecuteTime": {
     "end_time": "2023-04-17T13:22:19.403543Z",
     "start_time": "2023-04-17T13:22:19.388923Z"
    }
   },
<<<<<<< Updated upstream
=======
   "outputs": [
    {
     "ename": "SyntaxError",
     "evalue": "invalid syntax (<ipython-input-158-e2e9abcf1ad0>, line 1)",
     "output_type": "error",
     "traceback": [
      "\u001b[1;36m  File \u001b[1;32m\"<ipython-input-158-e2e9abcf1ad0>\"\u001b[1;36m, line \u001b[1;32m1\u001b[0m\n\u001b[1;33m    Booking_ID: unique identifier of each booking\u001b[0m\n\u001b[1;37m                       ^\u001b[0m\n\u001b[1;31mSyntaxError\u001b[0m\u001b[1;31m:\u001b[0m invalid syntax\n"
     ]
    }
   ],
>>>>>>> Stashed changes
   "source": [
    "Booking_ID: unique identifier of each booking\n",
    "no_of_adults: Number of adults\n",
    "no_of_children: Number of Children\n",
    "no_of_weekend_nights: Number of weekend nights (Saturday or Sunday) the guest stayed or booked to stay at the hotel\n",
    "no_of_week_nights: Number of week nights (Monday to Friday) the guest stayed or booked to stay at the hotel\n",
    "type_of_meal_plan: Type of meal plan booked by the customer:\n",
    "required_car_parking_space: Does the customer require a car parking space? (0 - No, 1- Yes)\n",
    "room_type_reserved: Type of room reserved by the customer. The values are ciphered (encoded) by INN Hotels.\n",
    "lead_time: Number of days between the date of booking and the arrival date\n",
    "arrival_year: Year of arrival date\n",
    "arrival_month: Month of arrival date\n",
    "arrival_date: Date of the month\n",
    "market_segment_type: Market segment designation.\n",
    "repeated_guest: Is the customer a repeated guest? (0 - No, 1- Yes)\n",
    "no_of_previous_cancellations: Number of previous bookings that were canceled by the customer prior to the current booking\n",
    "no_of_previous_bookings_not_canceled: Number of previous bookings not canceled by the customer prior to the current booking\n",
    "avg_price_per_room: Average price per day of the reservation; prices of the rooms are dynamic. (in euros)\n",
    "no_of_special_requests: Total number of special requests made by the customer (e.g. high floor, view from the room, etc)\n",
    "booking_status: Flag indicating if the booking was canceled or not."
   ]
  },
  {
   "cell_type": "code",
<<<<<<< Updated upstream
   "execution_count": 20,
   "metadata": {
    "ExecuteTime": {
     "end_time": "2023-04-24T11:11:11.117328Z",
     "start_time": "2023-04-24T11:11:11.096147Z"
    }
   },
   "outputs": [
    {
     "data": {
      "text/plain": [
       "['no_of_adults',\n",
       " 'no_of_children',\n",
       " 'no_of_weekend_nights',\n",
       " 'no_of_week_nights',\n",
       " 'required_car_parking_space',\n",
       " 'lead_time',\n",
       " 'arrival_year',\n",
       " 'arrival_month',\n",
       " 'arrival_date',\n",
       " 'repeated_guest',\n",
       " 'no_of_previous_cancellations',\n",
       " 'no_of_previous_bookings_not_canceled',\n",
       " 'avg_price_per_room',\n",
       " 'no_of_special_requests']"
      ]
     },
     "execution_count": 20,
     "metadata": {},
     "output_type": "execute_result"
    }
   ],
   "source": [
    "cols_pred_num\n",
    "\n",
    "#arrival date je blbost kterou vyhodim, ale arrival month bych asi mohla udelat kategorickej\n",
    "#ostatni promenny jsou bud skutecne numericky nebo 0-1"
   ]
  },
  {
   "cell_type": "code",
   "execution_count": 21,
   "metadata": {
    "ExecuteTime": {
     "end_time": "2023-04-24T11:11:11.763407Z",
     "start_time": "2023-04-24T11:11:11.755391Z"
=======
   "execution_count": 159,
   "metadata": {
    "ExecuteTime": {
     "end_time": "2023-04-17T13:22:19.616314Z",
     "start_time": "2023-04-17T13:22:19.609314Z"
>>>>>>> Stashed changes
    }
   },
   "outputs": [],
   "source": [
<<<<<<< Updated upstream
    "cols_pred_num.remove('arrival_month')\n",
    "cols_pred_cat.append('arrival_month')"
=======
    "# define list of predictors\n",
    "cols_pred = list(data.columns[0:-1])\n",
    "\n",
    "# define list of numerical predictors\n",
    "cols_pred_num = [col for col in cols_pred if data[col].dtype != 'O']\n",
    "# define list of categorical predictors\n",
    "cols_pred_cat = [col for col in cols_pred if data[col].dtype == 'O']\n"
>>>>>>> Stashed changes
   ]
  },
  {
   "cell_type": "code",
<<<<<<< Updated upstream
   "execution_count": 22,
   "metadata": {
    "ExecuteTime": {
     "end_time": "2023-04-24T11:11:13.955101Z",
     "start_time": "2023-04-24T11:11:13.913963Z"
=======
   "execution_count": 160,
   "metadata": {
    "ExecuteTime": {
     "end_time": "2023-04-17T13:22:20.211271Z",
     "start_time": "2023-04-17T13:22:20.192268Z"
>>>>>>> Stashed changes
    }
   },
   "outputs": [
    {
     "data": {
      "text/plain": [
       "0.0    21774\n",
       "1.0    10521\n",
       "Name: booking_status, dtype: int64"
      ]
     },
<<<<<<< Updated upstream
     "execution_count": 22,
=======
     "execution_count": 160,
>>>>>>> Stashed changes
     "metadata": {},
     "output_type": "execute_result"
    }
   ],
   "source": [
    "data = data.dropna(subset=['booking_status'])\n",
    "data.booking_status.value_counts(dropna=False)"
   ]
  },
  {
   "cell_type": "code",
<<<<<<< Updated upstream
   "execution_count": 27,
   "metadata": {
    "ExecuteTime": {
     "end_time": "2023-04-24T11:12:26.008982Z",
     "start_time": "2023-04-24T11:12:25.556910Z"
=======
   "execution_count": 161,
   "metadata": {
    "ExecuteTime": {
     "end_time": "2023-04-17T13:22:20.952673Z",
     "start_time": "2023-04-17T13:22:20.635874Z"
>>>>>>> Stashed changes
    }
   },
   "outputs": [
    {
     "name": "stderr",
     "output_type": "stream",
     "text": [
<<<<<<< Updated upstream
=======
      "C:\\Users\\jakub\\anaconda3\\lib\\site-packages\\pandas\\core\\indexing.py:1598: SettingWithCopyWarning: \n",
      "A value is trying to be set on a copy of a slice from a DataFrame.\n",
      "Try using .loc[row_indexer,col_indexer] = value instead\n",
      "\n",
      "See the caveats in the documentation: https://pandas.pydata.org/pandas-docs/stable/user_guide/indexing.html#returning-a-view-versus-a-copy\n",
      "  self.obj[key] = infer_fill_value(value)\n",
>>>>>>> Stashed changes
      "C:\\Users\\jakub\\anaconda3\\lib\\site-packages\\pandas\\core\\indexing.py:1719: SettingWithCopyWarning: \n",
      "A value is trying to be set on a copy of a slice from a DataFrame.\n",
      "Try using .loc[row_indexer,col_indexer] = value instead\n",
      "\n",
      "See the caveats in the documentation: https://pandas.pydata.org/pandas-docs/stable/user_guide/indexing.html#returning-a-view-versus-a-copy\n",
      "  self._setitem_single_column(loc, value, pi)\n",
      "C:\\Users\\jakub\\anaconda3\\lib\\site-packages\\pandas\\core\\indexing.py:1719: SettingWithCopyWarning: \n",
      "A value is trying to be set on a copy of a slice from a DataFrame.\n",
      "Try using .loc[row_indexer,col_indexer] = value instead\n",
      "\n",
      "See the caveats in the documentation: https://pandas.pydata.org/pandas-docs/stable/user_guide/indexing.html#returning-a-view-versus-a-copy\n",
      "  self._setitem_single_column(loc, value, pi)\n"
     ]
    }
   ],
   "source": [
<<<<<<< Updated upstream
    "\n",
    "#kdybychom chteli stratifikovat podle neceho dalsiho, museli bychom zlikvidovat unavailable data, coz je skoda. zaroven stratifikace podle booking status asi trochu pomaha - soude z grafu nize\n",
    "data_train, data_rest = train_test_split(data, test_size=0.4, random_state = 12,stratify = (data[[\"booking_status\"]]))\n",
=======
    "#Kdybychom chteli stratify taky podle no_of_special_requests, museli bychom zlikvidovat unavailable data\n",
    "data_train, data_rest = train_test_split(data, test_size=0.4, random_state = 12, stratify = (data[[\"booking_status\"]]))\n",
>>>>>>> Stashed changes
    "data.loc[data_train.index, 'sample'] = 'train'\n",
    "# use train_test_split to split the rest into valid and test (don't forget seed); use stratification\n",
    "data_valid, data_test = train_test_split(data_rest, test_size=0.5, random_state = 12, stratify = (data_rest[[\"booking_status\"]]))\n",
    "data.loc[data_valid.index, 'sample'] = 'valid'\n",
    "data.loc[data_test.index, 'sample'] = 'test'"
   ]
  },
  {
   "cell_type": "code",
<<<<<<< Updated upstream
   "execution_count": 28,
   "metadata": {
    "ExecuteTime": {
     "end_time": "2023-04-24T11:12:26.397625Z",
     "start_time": "2023-04-24T11:12:26.368790Z"
=======
   "execution_count": 162,
   "metadata": {
    "ExecuteTime": {
     "end_time": "2023-04-17T13:22:23.332978Z",
     "start_time": "2023-04-17T13:22:23.304975Z"
>>>>>>> Stashed changes
    }
   },
   "outputs": [],
   "source": [
    "train_mask = (data['sample'] == 'train')\n",
    "valid_mask = (data['sample'] == 'valid')\n",
    "test_mask = (data['sample'] == 'test')"
   ]
  },
  {
   "cell_type": "code",
<<<<<<< Updated upstream
   "execution_count": 29,
   "metadata": {
    "ExecuteTime": {
     "end_time": "2023-04-24T11:12:26.765021Z",
     "start_time": "2023-04-24T11:12:26.734584Z"
=======
   "execution_count": 163,
   "metadata": {
    "ExecuteTime": {
     "end_time": "2023-04-17T13:22:23.778799Z",
     "start_time": "2023-04-17T13:22:23.765105Z"
>>>>>>> Stashed changes
    }
   },
   "outputs": [],
   "source": [
    "# define function to plot default rate in time for different samples\n",
    "def default_rate_in_time_per_sample(dt, col_target, col_month, col_sample):\n",
    "    # group by over month and sample\n",
    "    dt_grp = dt.groupby([col_month, col_sample]).agg(\n",
    "        def_rt = (col_target, np.mean)\n",
    "    ).reset_index()\n",
    "    \n",
    "    # pivot sample values to columns\n",
    "    dt_grp_pivot = dt_grp.pivot(index = col_month, columns = col_sample, values = 'def_rt')\n",
    "\n",
    "    # plot default rate in time\n",
    "    lines = plt.plot(range(len(dt_grp_pivot)), dt_grp_pivot, marker = 'o')\n",
    "    plt.xticks(range(len(dt_grp_pivot)), dt_grp_pivot.index, rotation = 90)\n",
    "    # set legend\n",
    "    plt.legend(iter(lines), tuple(dt_grp_pivot.columns), loc='best', bbox_to_anchor=(1.05, 1))\n",
    "    \n",
    "    plt.ylim([0, 1])\n",
    "    plt.ylabel('default rate')\n",
    "    plt.xlabel('month')\n",
    "    plt.show()"
   ]
  },
  {
   "cell_type": "code",
<<<<<<< Updated upstream
   "execution_count": 30,
   "metadata": {
    "ExecuteTime": {
     "end_time": "2023-04-24T11:12:27.561156Z",
     "start_time": "2023-04-24T11:12:27.174490Z"
=======
   "execution_count": 164,
   "metadata": {
    "ExecuteTime": {
     "end_time": "2023-04-17T13:22:24.385654Z",
     "start_time": "2023-04-17T13:22:24.132555Z"
>>>>>>> Stashed changes
    }
   },
   "outputs": [
    {
     "data": {
      "image/png": "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\n",
      "text/plain": [
       "<Figure size 432x288 with 1 Axes>"
      ]
     },
     "metadata": {
      "needs_background": "light"
     },
     "output_type": "display_data"
    }
   ],
   "source": [
    "col_target = \"booking_status\"\n",
    "\n",
    "default_rate_in_time_per_sample(data,col_target, 'arrival_month','sample')"
   ]
  },
  {
   "cell_type": "markdown",
   "metadata": {},
   "source": [
    "# Data processing"
   ]
  },
  {
   "cell_type": "code",
<<<<<<< Updated upstream
   "execution_count": 31,
   "metadata": {
    "ExecuteTime": {
     "end_time": "2023-04-24T11:12:32.812047Z",
     "start_time": "2023-04-24T11:12:32.764938Z"
=======
   "execution_count": 165,
   "metadata": {
    "ExecuteTime": {
     "end_time": "2023-04-17T13:22:24.779660Z",
     "start_time": "2023-04-17T13:22:24.751490Z"
>>>>>>> Stashed changes
    }
   },
   "outputs": [
    {
     "name": "stdout",
     "output_type": "stream",
     "text": [
      "No other columns with infinity values\n"
     ]
    }
   ],
   "source": [
    "# find columns with infinity values\n",
    "cols_with_inf = []\n",
    "for col in cols_pred_num:\n",
    "    if np.any(np.isinf(data[col])):\n",
    "        cols_with_inf.append(col)\n",
    "        print(f'Column {col} includes infinity values.')\n",
    "\n",
    "# find columns with negative infinity values\n",
    "cols_with_neginf = []\n",
    "for col in cols_pred_num:\n",
    "    if np.any(np.isneginf(data[col])):\n",
    "        cols_with_neginf.append(col)\n",
    "        print(f'Column {col} includes negative infinity values.')\n",
    "print(\"No other columns with infinity values\")"
   ]
  },
  {
   "cell_type": "markdown",
   "metadata": {},
   "source": [
    "# categorical variables ecoding"
   ]
  },
  {
   "cell_type": "code",
<<<<<<< Updated upstream
   "execution_count": 32,
   "metadata": {
    "ExecuteTime": {
     "end_time": "2023-04-24T11:12:33.769306Z",
     "start_time": "2023-04-24T11:12:33.758327Z"
=======
   "execution_count": 166,
   "metadata": {
    "ExecuteTime": {
     "end_time": "2023-04-17T13:22:25.919899Z",
     "start_time": "2023-04-17T13:22:25.907901Z"
>>>>>>> Stashed changes
    }
   },
   "outputs": [],
   "source": [
    "def mean_target_encoding(dt, predictor, target, alpha = 0.01):\n",
    "    total_cnt = len(dt)\n",
    "    total_dr = np.mean(dt[target])\n",
    "    dt_grp = dt.groupby(predictor).agg(\n",
    "        categ_dr = (target, np.mean),\n",
    "        categ_cnt = (target, len)\n",
    "    )\n",
    "    \n",
    "    dt_grp['categ_freq'] = dt_grp['categ_cnt'] / total_cnt\n",
    "    dt_grp['categ_encoding'] = (dt_grp['categ_freq'] * dt_grp['categ_dr'] + alpha * total_dr) / (dt_grp['categ_freq'] + alpha)\n",
    "    \n",
    "    return dt_grp[['categ_encoding']].to_dict()['categ_encoding']"
   ]
  },
  {
   "cell_type": "code",
<<<<<<< Updated upstream
   "execution_count": 33,
   "metadata": {
    "ExecuteTime": {
     "end_time": "2023-04-24T11:12:35.133389Z",
     "start_time": "2023-04-24T11:12:34.778701Z"
=======
   "execution_count": 167,
   "metadata": {
    "ExecuteTime": {
     "end_time": "2023-04-17T13:22:26.815494Z",
     "start_time": "2023-04-17T13:22:26.613555Z"
>>>>>>> Stashed changes
    }
   },
   "outputs": [
    {
     "data": {
      "application/vnd.jupyter.widget-view+json": {
<<<<<<< Updated upstream
       "model_id": "9cc7c46f6ee34fd0811eaa395a446087",
=======
       "model_id": "8bb3568fc5ad43ef879658d7fb21a845",
>>>>>>> Stashed changes
       "version_major": 2,
       "version_minor": 0
      },
      "text/plain": [
<<<<<<< Updated upstream
       "  0%|          | 0/4 [00:00<?, ?it/s]"
=======
       "  0%|          | 0/3 [00:00<?, ?it/s]"
>>>>>>> Stashed changes
      ]
     },
     "metadata": {},
     "output_type": "display_data"
    },
    {
     "name": "stderr",
     "output_type": "stream",
     "text": [
<<<<<<< Updated upstream
      "<ipython-input-33-745e7e0deb1d>:37: SettingWithCopyWarning: \n",
=======
      "<ipython-input-167-745e7e0deb1d>:37: SettingWithCopyWarning: \n",
>>>>>>> Stashed changes
      "A value is trying to be set on a copy of a slice from a DataFrame.\n",
      "Try using .loc[row_indexer,col_indexer] = value instead\n",
      "\n",
      "See the caveats in the documentation: https://pandas.pydata.org/pandas-docs/stable/user_guide/indexing.html#returning-a-view-versus-a-copy\n",
      "  data['MTE_' + pred] = data[pred].replace(new_vals)\n"
     ]
    }
   ],
   "source": [
    "total_dr = np.mean(data[train_mask][col_target])\n",
    "\n",
    "# encode categorical predictors\n",
    "for pred in tqdm(cols_pred_cat):\n",
    "    if len(data[pred].unique()) < 5:\n",
    "        dummies = pd.get_dummies(\n",
    "            data[pred], \n",
    "            prefix = pred,\n",
    "            prefix_sep = '_',\n",
    "            dummy_na = True if data[pred].isnull().sum() > 0 else False,\n",
    "            drop_first = False\n",
    "        )\n",
    "        \n",
    "        for d in dummies.columns:\n",
    "            if d in data.columns:\n",
    "                del data[d]\n",
    "                \n",
    "        data = data.join(dummies)\n",
    "        \n",
    "        for col in dummies.columns:\n",
    "            if col not in cols_pred:\n",
    "                cols_pred.append(col)\n",
    "        \n",
    "        if pred in cols_pred:\n",
    "            cols_pred.remove(pred)\n",
    "    else:\n",
    "        new_vals = mean_target_encoding(\n",
    "            dt=data[train_mask], \n",
    "            predictor=pred, \n",
    "            target=col_target\n",
    "        )\n",
    "\n",
    "        additional_values = set(data[data[pred].notnull()][pred].unique()) - set(new_vals.keys())\n",
    "        for p in additional_values:\n",
    "            new_vals[p] = total_dr\n",
    "\n",
    "        data['MTE_' + pred] = data[pred].replace(new_vals)\n",
    "        \n",
    "        if 'MTE_' + pred not in cols_pred:\n",
    "            cols_pred.append('MTE_' + pred)\n",
    "        \n",
    "        if pred in cols_pred:\n",
    "            cols_pred.remove(pred)"
   ]
  },
  {
   "cell_type": "markdown",
   "metadata": {},
   "source": [
    "# Model"
   ]
  },
  {
   "cell_type": "code",
<<<<<<< Updated upstream
   "execution_count": 34,
   "metadata": {
    "ExecuteTime": {
     "end_time": "2023-04-24T11:12:47.613261Z",
     "start_time": "2023-04-24T11:12:45.296325Z"
=======
   "execution_count": 168,
   "metadata": {
    "ExecuteTime": {
     "end_time": "2023-04-17T13:22:31.670252Z",
     "start_time": "2023-04-17T13:22:30.559553Z"
>>>>>>> Stashed changes
    }
   },
   "outputs": [
    {
     "name": "stdout",
     "output_type": "stream",
     "text": [
<<<<<<< Updated upstream
      "[0]\ttrain-auc:0.72523\ttest-auc:0.71854\tvalid-auc:0.72905\n",
      "[1]\ttrain-auc:0.75338\ttest-auc:0.74916\tvalid-auc:0.75798\n",
      "[2]\ttrain-auc:0.76536\ttest-auc:0.75953\tvalid-auc:0.76856\n",
      "[3]\ttrain-auc:0.77016\ttest-auc:0.76651\tvalid-auc:0.77599\n",
      "[4]\ttrain-auc:0.77514\ttest-auc:0.76908\tvalid-auc:0.77767\n",
      "[5]\ttrain-auc:0.77966\ttest-auc:0.77244\tvalid-auc:0.78309\n",
      "[6]\ttrain-auc:0.78500\ttest-auc:0.77547\tvalid-auc:0.78812\n",
      "[7]\ttrain-auc:0.78745\ttest-auc:0.77635\tvalid-auc:0.78857\n",
      "[8]\ttrain-auc:0.79051\ttest-auc:0.77945\tvalid-auc:0.79216\n",
      "[9]\ttrain-auc:0.79380\ttest-auc:0.78304\tvalid-auc:0.79312\n",
      "[10]\ttrain-auc:0.79532\ttest-auc:0.78478\tvalid-auc:0.79476\n",
      "[11]\ttrain-auc:0.79807\ttest-auc:0.78502\tvalid-auc:0.79627\n",
      "[12]\ttrain-auc:0.79988\ttest-auc:0.78557\tvalid-auc:0.79666\n",
      "[13]\ttrain-auc:0.80174\ttest-auc:0.78798\tvalid-auc:0.79880\n",
      "[14]\ttrain-auc:0.80236\ttest-auc:0.78862\tvalid-auc:0.79939\n",
      "[15]\ttrain-auc:0.80378\ttest-auc:0.79068\tvalid-auc:0.79991\n",
      "[16]\ttrain-auc:0.80549\ttest-auc:0.79149\tvalid-auc:0.80037\n",
      "[17]\ttrain-auc:0.80605\ttest-auc:0.79163\tvalid-auc:0.80078\n",
      "[18]\ttrain-auc:0.80649\ttest-auc:0.79165\tvalid-auc:0.80054\n",
      "[19]\ttrain-auc:0.80801\ttest-auc:0.79256\tvalid-auc:0.80169\n",
      "[20]\ttrain-auc:0.80939\ttest-auc:0.79350\tvalid-auc:0.80221\n",
      "[21]\ttrain-auc:0.80971\ttest-auc:0.79378\tvalid-auc:0.80215\n",
      "[22]\ttrain-auc:0.81005\ttest-auc:0.79417\tvalid-auc:0.80216\n",
      "[23]\ttrain-auc:0.81111\ttest-auc:0.79488\tvalid-auc:0.80280\n",
      "[24]\ttrain-auc:0.81141\ttest-auc:0.79490\tvalid-auc:0.80280\n",
      "[25]\ttrain-auc:0.81200\ttest-auc:0.79484\tvalid-auc:0.80272\n",
      "[26]\ttrain-auc:0.81359\ttest-auc:0.79576\tvalid-auc:0.80334\n",
      "[27]\ttrain-auc:0.81374\ttest-auc:0.79570\tvalid-auc:0.80339\n",
      "[28]\ttrain-auc:0.81413\ttest-auc:0.79595\tvalid-auc:0.80353\n",
      "[29]\ttrain-auc:0.81543\ttest-auc:0.79660\tvalid-auc:0.80450\n",
      "[30]\ttrain-auc:0.81611\ttest-auc:0.79622\tvalid-auc:0.80491\n",
      "[31]\ttrain-auc:0.81616\ttest-auc:0.79627\tvalid-auc:0.80498\n",
      "[32]\ttrain-auc:0.81659\ttest-auc:0.79627\tvalid-auc:0.80463\n",
      "[33]\ttrain-auc:0.81741\ttest-auc:0.79659\tvalid-auc:0.80493\n",
      "[34]\ttrain-auc:0.81829\ttest-auc:0.79680\tvalid-auc:0.80496\n",
      "[35]\ttrain-auc:0.81923\ttest-auc:0.79778\tvalid-auc:0.80531\n",
      "[36]\ttrain-auc:0.81932\ttest-auc:0.79789\tvalid-auc:0.80537\n",
      "[37]\ttrain-auc:0.81992\ttest-auc:0.79803\tvalid-auc:0.80583\n",
      "[38]\ttrain-auc:0.82035\ttest-auc:0.79823\tvalid-auc:0.80613\n",
      "[39]\ttrain-auc:0.82151\ttest-auc:0.79927\tvalid-auc:0.80720\n",
      "[40]\ttrain-auc:0.82162\ttest-auc:0.79922\tvalid-auc:0.80718\n",
      "[41]\ttrain-auc:0.82192\ttest-auc:0.79931\tvalid-auc:0.80694\n",
      "[42]\ttrain-auc:0.82204\ttest-auc:0.79943\tvalid-auc:0.80708\n",
      "[43]\ttrain-auc:0.82254\ttest-auc:0.79961\tvalid-auc:0.80714\n",
      "[44]\ttrain-auc:0.82298\ttest-auc:0.79980\tvalid-auc:0.80699\n",
      "[45]\ttrain-auc:0.82413\ttest-auc:0.80041\tvalid-auc:0.80780\n",
      "[46]\ttrain-auc:0.82418\ttest-auc:0.80040\tvalid-auc:0.80780\n",
      "[47]\ttrain-auc:0.82474\ttest-auc:0.80076\tvalid-auc:0.80798\n",
      "[48]\ttrain-auc:0.82537\ttest-auc:0.80089\tvalid-auc:0.80832\n",
      "[49]\ttrain-auc:0.82619\ttest-auc:0.80093\tvalid-auc:0.80845\n",
      "[50]\ttrain-auc:0.82653\ttest-auc:0.80119\tvalid-auc:0.80854\n",
      "[51]\ttrain-auc:0.82654\ttest-auc:0.80122\tvalid-auc:0.80857\n",
      "[52]\ttrain-auc:0.82705\ttest-auc:0.80109\tvalid-auc:0.80821\n",
      "[53]\ttrain-auc:0.82838\ttest-auc:0.80158\tvalid-auc:0.80854\n",
      "[54]\ttrain-auc:0.82914\ttest-auc:0.80177\tvalid-auc:0.80885\n",
      "[55]\ttrain-auc:0.82983\ttest-auc:0.80202\tvalid-auc:0.80931\n",
      "[56]\ttrain-auc:0.83024\ttest-auc:0.80258\tvalid-auc:0.80978\n",
      "[57]\ttrain-auc:0.83047\ttest-auc:0.80262\tvalid-auc:0.80986\n",
      "[58]\ttrain-auc:0.83132\ttest-auc:0.80287\tvalid-auc:0.80985\n",
      "[59]\ttrain-auc:0.83149\ttest-auc:0.80263\tvalid-auc:0.80968\n",
      "[60]\ttrain-auc:0.83166\ttest-auc:0.80279\tvalid-auc:0.80974\n",
      "[61]\ttrain-auc:0.83229\ttest-auc:0.80283\tvalid-auc:0.80982\n",
      "[62]\ttrain-auc:0.83322\ttest-auc:0.80251\tvalid-auc:0.80986\n",
      "[63]\ttrain-auc:0.83376\ttest-auc:0.80259\tvalid-auc:0.80972\n",
      "[64]\ttrain-auc:0.83433\ttest-auc:0.80258\tvalid-auc:0.80963\n",
      "[65]\ttrain-auc:0.83437\ttest-auc:0.80253\tvalid-auc:0.80958\n",
      "[66]\ttrain-auc:0.83513\ttest-auc:0.80262\tvalid-auc:0.80977\n",
      "[67]\ttrain-auc:0.83583\ttest-auc:0.80256\tvalid-auc:0.81005\n",
      "[68]\ttrain-auc:0.83595\ttest-auc:0.80251\tvalid-auc:0.81007\n",
      "[69]\ttrain-auc:0.83621\ttest-auc:0.80238\tvalid-auc:0.81007\n",
      "[70]\ttrain-auc:0.83649\ttest-auc:0.80230\tvalid-auc:0.80971\n",
      "[71]\ttrain-auc:0.83721\ttest-auc:0.80249\tvalid-auc:0.81010\n",
      "[72]\ttrain-auc:0.83731\ttest-auc:0.80242\tvalid-auc:0.81019\n",
      "[73]\ttrain-auc:0.83738\ttest-auc:0.80244\tvalid-auc:0.81017\n",
      "[74]\ttrain-auc:0.83781\ttest-auc:0.80261\tvalid-auc:0.81025\n",
      "[75]\ttrain-auc:0.83842\ttest-auc:0.80287\tvalid-auc:0.81038\n",
      "[76]\ttrain-auc:0.83851\ttest-auc:0.80282\tvalid-auc:0.81036\n",
      "[77]\ttrain-auc:0.83916\ttest-auc:0.80237\tvalid-auc:0.80999\n",
      "[78]\ttrain-auc:0.84007\ttest-auc:0.80255\tvalid-auc:0.81006\n",
      "[79]\ttrain-auc:0.84056\ttest-auc:0.80232\tvalid-auc:0.81005\n",
      "[80]\ttrain-auc:0.84130\ttest-auc:0.80259\tvalid-auc:0.80990\n",
      "[81]\ttrain-auc:0.84147\ttest-auc:0.80269\tvalid-auc:0.80983\n",
      "[82]\ttrain-auc:0.84219\ttest-auc:0.80274\tvalid-auc:0.81022\n",
      "[83]\ttrain-auc:0.84258\ttest-auc:0.80260\tvalid-auc:0.81026\n",
      "[84]\ttrain-auc:0.84260\ttest-auc:0.80268\tvalid-auc:0.81028\n"
=======
      "[0]\ttrain-auc:0.75479\ttest-auc:0.74260\tvalid-auc:0.75516\n",
      "[1]\ttrain-auc:0.77766\ttest-auc:0.76341\tvalid-auc:0.78225\n",
      "[2]\ttrain-auc:0.78554\ttest-auc:0.77463\tvalid-auc:0.78640\n",
      "[3]\ttrain-auc:0.79332\ttest-auc:0.78151\tvalid-auc:0.79053\n",
      "[4]\ttrain-auc:0.79841\ttest-auc:0.78475\tvalid-auc:0.79244\n",
      "[5]\ttrain-auc:0.80293\ttest-auc:0.78793\tvalid-auc:0.79706\n",
      "[6]\ttrain-auc:0.80753\ttest-auc:0.79181\tvalid-auc:0.80129\n",
      "[7]\ttrain-auc:0.81076\ttest-auc:0.79487\tvalid-auc:0.80431\n",
      "[8]\ttrain-auc:0.81249\ttest-auc:0.79567\tvalid-auc:0.80522\n",
      "[9]\ttrain-auc:0.81357\ttest-auc:0.79734\tvalid-auc:0.80630\n",
      "[10]\ttrain-auc:0.81649\ttest-auc:0.79877\tvalid-auc:0.80766\n",
      "[11]\ttrain-auc:0.81904\ttest-auc:0.79919\tvalid-auc:0.80879\n",
      "[12]\ttrain-auc:0.82040\ttest-auc:0.80004\tvalid-auc:0.80949\n",
      "[13]\ttrain-auc:0.82138\ttest-auc:0.80106\tvalid-auc:0.81014\n",
      "[14]\ttrain-auc:0.82522\ttest-auc:0.80073\tvalid-auc:0.81125\n",
      "[15]\ttrain-auc:0.82666\ttest-auc:0.80179\tvalid-auc:0.81189\n",
      "[16]\ttrain-auc:0.82792\ttest-auc:0.80238\tvalid-auc:0.81213\n",
      "[17]\ttrain-auc:0.82874\ttest-auc:0.80383\tvalid-auc:0.81306\n",
      "[18]\ttrain-auc:0.83037\ttest-auc:0.80440\tvalid-auc:0.81403\n",
      "[19]\ttrain-auc:0.83353\ttest-auc:0.80532\tvalid-auc:0.81439\n",
      "[20]\ttrain-auc:0.83416\ttest-auc:0.80577\tvalid-auc:0.81434\n",
      "[21]\ttrain-auc:0.83445\ttest-auc:0.80596\tvalid-auc:0.81435\n",
      "[22]\ttrain-auc:0.83512\ttest-auc:0.80624\tvalid-auc:0.81425\n",
      "[23]\ttrain-auc:0.83602\ttest-auc:0.80631\tvalid-auc:0.81421\n",
      "[24]\ttrain-auc:0.83731\ttest-auc:0.80700\tvalid-auc:0.81433\n",
      "[25]\ttrain-auc:0.83863\ttest-auc:0.80739\tvalid-auc:0.81475\n",
      "[26]\ttrain-auc:0.83955\ttest-auc:0.80772\tvalid-auc:0.81498\n",
      "[27]\ttrain-auc:0.84132\ttest-auc:0.80764\tvalid-auc:0.81512\n",
      "[28]\ttrain-auc:0.84188\ttest-auc:0.80790\tvalid-auc:0.81511\n",
      "[29]\ttrain-auc:0.84203\ttest-auc:0.80810\tvalid-auc:0.81523\n",
      "[30]\ttrain-auc:0.84280\ttest-auc:0.80800\tvalid-auc:0.81522\n",
      "[31]\ttrain-auc:0.84282\ttest-auc:0.80809\tvalid-auc:0.81511\n",
      "[32]\ttrain-auc:0.84545\ttest-auc:0.80779\tvalid-auc:0.81509\n",
      "[33]\ttrain-auc:0.84830\ttest-auc:0.80767\tvalid-auc:0.81450\n",
      "[34]\ttrain-auc:0.84982\ttest-auc:0.80837\tvalid-auc:0.81463\n",
      "[35]\ttrain-auc:0.85038\ttest-auc:0.80826\tvalid-auc:0.81459\n",
      "[36]\ttrain-auc:0.85198\ttest-auc:0.80817\tvalid-auc:0.81482\n",
      "[37]\ttrain-auc:0.85281\ttest-auc:0.80851\tvalid-auc:0.81526\n",
      "[38]\ttrain-auc:0.85308\ttest-auc:0.80866\tvalid-auc:0.81535\n",
      "[39]\ttrain-auc:0.85416\ttest-auc:0.80836\tvalid-auc:0.81500\n",
      "[40]\ttrain-auc:0.85481\ttest-auc:0.80838\tvalid-auc:0.81480\n",
      "[41]\ttrain-auc:0.85546\ttest-auc:0.80809\tvalid-auc:0.81477\n",
      "[42]\ttrain-auc:0.85563\ttest-auc:0.80813\tvalid-auc:0.81489\n",
      "[43]\ttrain-auc:0.85615\ttest-auc:0.80829\tvalid-auc:0.81496\n",
      "[44]\ttrain-auc:0.85624\ttest-auc:0.80823\tvalid-auc:0.81494\n",
      "[45]\ttrain-auc:0.85657\ttest-auc:0.80832\tvalid-auc:0.81496\n",
      "[46]\ttrain-auc:0.85877\ttest-auc:0.80907\tvalid-auc:0.81559\n",
      "[47]\ttrain-auc:0.86029\ttest-auc:0.80963\tvalid-auc:0.81593\n",
      "[48]\ttrain-auc:0.86137\ttest-auc:0.80992\tvalid-auc:0.81627\n",
      "[49]\ttrain-auc:0.86257\ttest-auc:0.81012\tvalid-auc:0.81614\n",
      "[50]\ttrain-auc:0.86280\ttest-auc:0.81008\tvalid-auc:0.81617\n",
      "[51]\ttrain-auc:0.86312\ttest-auc:0.81014\tvalid-auc:0.81598\n",
      "[52]\ttrain-auc:0.86478\ttest-auc:0.81009\tvalid-auc:0.81537\n",
      "[53]\ttrain-auc:0.86531\ttest-auc:0.80991\tvalid-auc:0.81512\n",
      "[54]\ttrain-auc:0.86697\ttest-auc:0.80972\tvalid-auc:0.81520\n",
      "[55]\ttrain-auc:0.86700\ttest-auc:0.80964\tvalid-auc:0.81513\n",
      "[56]\ttrain-auc:0.86823\ttest-auc:0.80909\tvalid-auc:0.81470\n",
      "[57]\ttrain-auc:0.86882\ttest-auc:0.80927\tvalid-auc:0.81497\n",
      "[58]\ttrain-auc:0.86961\ttest-auc:0.80927\tvalid-auc:0.81507\n"
>>>>>>> Stashed changes
     ]
    }
   ],
   "source": [
    "# set best parameters to be used in XGBoost\n",
    "params = {    \n",
<<<<<<< Updated upstream
    "    'max_depth': 4,\n",
=======
    "   # 'max_depth': 4,\n",
>>>>>>> Stashed changes
    "    \n",
    "    'objective': 'binary:logistic',\n",
    "    'eval_metric': 'auc',\n",
    "}\n",
    "\n",
    "evals_result = {}\n",
    "booster = xgb.train(\n",
    "    params = params,\n",
    "    dtrain = xgb.DMatrix(data[train_mask][cols_pred], data[train_mask][col_target]),\n",
    "    num_boost_round = 1000,\n",
    "    evals = (\n",
    "        (xgb.DMatrix(data[train_mask][cols_pred], data[train_mask][col_target]), 'train'),\n",
    "        (xgb.DMatrix(data[test_mask][cols_pred], data[test_mask][col_target]), 'test'),\n",
    "        (xgb.DMatrix(data[valid_mask][cols_pred], data[valid_mask][col_target]), 'valid')\n",
    "    ),\n",
    "    evals_result = evals_result,\n",
    "    early_stopping_rounds = 10\n",
    ")"
   ]
  },
  {
   "cell_type": "code",
<<<<<<< Updated upstream
   "execution_count": 35,
   "metadata": {
    "ExecuteTime": {
     "end_time": "2023-04-24T11:12:51.616587Z",
     "start_time": "2023-04-24T11:12:51.200237Z"
=======
   "execution_count": 169,
   "metadata": {
    "ExecuteTime": {
     "end_time": "2023-04-17T13:22:33.934839Z",
     "start_time": "2023-04-17T13:22:33.669388Z"
>>>>>>> Stashed changes
    }
   },
   "outputs": [
    {
     "data": {
<<<<<<< Updated upstream
      "image/png": "iVBORw0KGgoAAAANSUhEUgAAAYgAAAFNCAYAAAAaZvghAAAAOXRFWHRTb2Z0d2FyZQBNYXRwbG90bGliIHZlcnNpb24zLjMuMiwgaHR0cHM6Ly9tYXRwbG90bGliLm9yZy8vihELAAAACXBIWXMAAAsTAAALEwEAmpwYAABKJUlEQVR4nO3dd5xcdb3/8ddnd2d7yfZsdpNsGqmkF0IN0hISAljooFGMeEGRqwhcrxf06k8UvIoKAipNAoigEiFCgIQiNZuQ3vu2ZDfb+7TP748zu5ndbJIN7GS2fJ6PxzyYOW0+M2zOe873nPP9iqpijDHGdBQR7gKMMcb0TBYQxhhjOmUBYYwxplMWEMYYYzplAWGMMaZTFhDGGGM6ZQFhjDGmUxYQxhhjOmUBYUwPIyJR4a7BGLCAMP2EiNwpIrtEpE5ENovI5UHz7hGRp4Ne54uItu6oRSRNRB4XkRIRqRKRfxzjfb4uIluC3mdqYLqKyMig5Z4QkZ8Ens8RkSIRuUNEDgCPB7axIGj5KBE5FLS900TkfRGpFpF1IjInaNmviMjuQA17ROTaz/4Nmv7IfqmY/mIXcBZwAPgS8LSIjFTV0i6s+2egHhgf+O/pnS0kIl8C7gEuAwqAEYCni/UNBNKAoTg/3G4HrgZeDsy/CDikqmtEJBd4BbgeeBU4D3hRRMYAjcBvgBmquk1EcgLbNeaE2RGE6RdU9a+qWqKqflX9C7ADmHm89QI72HnATapapaoeVX37KIvfCPxCVVepY6eq7utiiX7gblVtUdUm4BlgoYjEB+ZfE5gGcB2wTFWXBT7P6ziBdHHQtiaISJyqlqrqpi7WYEw7FhCmXxCRG0RkbaBJphqYAGR0YdXBQKWqVnVx2V2fssRyVW1ufaGqO4EtwCWBkFjI4YAYCnyp9bMEPs+ZQI6qNgBXAjcBpSLySuDIwpgTZgFh+jwRGQr8AbgFSFfVAcBGQAKLNADxQasMDHpeCKSJyIAuvFUhTrNSZxqP8R4AnXWr/CxOM9OlwOZAaLS+z59VdUDQI0FV7wVQ1ddU9QIgB9iK89mNOWEWEKY/SMDZAZcDiMginCOIVmuBs0VkiIikAHe1zgico/gX8JCIpIqIS0TOPsr7/BH4nohME8fIQDi1vsc1IhIpInOBc7pQ93PAhcA3OXz0APA0zpHFRYHtxQZOdOeJSLaILBSRBKAF55yJrwvvZcwRLCBMn6eqm4FfAh8AB4FTgfeC5r8O/AVYD6zm8InhVtfjnGzeCpQB3znK+/wV+CnOzrwO+AeHTxDfClwCVAPXBuYdr+7SQM2nB+prnV6Ic1TxXzihV4hzUjsi8PguUAJU4gTRfxzvvYzpjNiAQcYYYzpjRxDGGGM6ZQFhjDGmUxYQxhhjOmUBYYwxplMWEMYYYzrVp/piysjI0Pz8/HCXYYwxvcbq1asPqWpmZ/P6VEDk5+dTUFAQ7jKMMabXEJGj9hdmTUzGGGM6ZQFhjDGmUxYQxhhjOtWnzkF0xuPxUFRURHNz8/EX7uViY2PJy8vD5XKFuxRjTB/Q5wOiqKiIpKQk8vPzEZHjr9BLqSoVFRUUFRUxbNiwcJdjjOkD+nwTU3NzM+np6X06HABEhPT09H5xpGSMOTn6fEAAfT4cWvWXz2mMOTn6RUCEU3V1NQ899NAJr3fxxRdTXV3d/QUZY0wXWUCE2NECwuc79iBfy5YtY8CAASGqyhhjjq/Pn6QOtzvvvJNdu3YxefJkXC4XiYmJ5OTksHbtWjZv3sxll11GYWEhzc3N3HrrrSxevBg4fFd4fX098+bN48wzz+T9998nNzeXl156ibi4uDB/MmNMuDW0eFlbWM2Bmma+MC2v27dvARFi9957Lxs3bmTt2rW89dZbzJ8/n40bN7ZdafTYY4+RlpZGU1MTM2bM4Atf+ALp6enttrFjxw6effZZ/vCHP3DFFVfw4osvct1114Xj4xhjTqIWr48tpXWs3V9FWV0LfnWuWGx0+1hfVM3Gklp8fiUpNorLp+QSEdG95yH7VUD86J+b2FxS263bHDcombsvGd/l5WfOnNnuMtTf/OY3/P3vfwegsLCQHTt2HBEQw4YNY/LkyQBMmzaNvXv3fua6jTE9U02jhxfXFPHy+hI2Ftfi9vkBiIoQIiKECAFXRARjByXzzXNGMD0/lWlDU7s9HKCfBURPkJCQ0Pb8rbfe4o033uCDDz4gPj6eOXPmdHqZakxMTNvzyMhImpqaTkqtxpjQ8vuVqkY3ZXUtlNY08fL6Ul5ZX0qL18+puSl85Yx8pgwewOQhA8hJOfnNyiENCBGZCzwARAJ/VNV7O8xPAZ4GhgRquV9VHw+aHwkUAMWquuCz1nMiv/S7S1JSEnV1dZ3Oq6mpITU1lfj4eLZu3cqHH354kqszxpxsXp+fFVvLePqj/by/8xBev7bNS4yJ4ovT8rhm1hDGD0oJY5WOkAVEYOf+IHABUASsEpGlqro5aLGbgc2qeomIZALbRGSJqroD828FtgDJoaoz1NLT0znjjDOYMGECcXFxZGdnt82bO3cuDz/8MBMnTmT06NGcdtppYazUGBMqPr+yobiGlVvLeL6gkNKaZgYmx7LojHzyUuPJTIohIzGG8YOSSYjpOQ07oaxkJrBTVXcDiMhzwKVAcEAokCTOHV6JQCXgDSyfB8wHfgr8ZwjrDLlnnnmm0+kxMTH861//6nRe63mGjIwMNm7c2Db9e9/7XrfXZ4zpfn6/snzzAf7xSQnv7zpEbbMXgLNGZXD3JeM5f2wWUZE9+06DUAZELlAY9LoImNVhmd8BS4ESIAm4UlX9gXm/Br4fmH5UIrIYWAwwZMiQz1y0McZ8FqrK8s0H+fUbO9hSWsvA5FjmThjImaMyOWNEOumJMcffSA8RyoDo7JS6dnh9EbAW+BwwAnhdRN4FzgbKVHW1iMw51puo6qPAowDTp0/vuH1jjDkpqhvdvLKhlGc+2s+mklqGZSTw6ysnc8mkQUSG4AqjkyGUAVEEDA56nYdzpBBsEXCvqiqwU0T2AGOAM4CFInIxEAski8jTqmoX/xtjwqq+xcu6wmrqmr00ur3Ut3j5945DrNxWhsenjMpK5P4vTeKyyYN6fBPS8YQyIFYBo0RkGFAMXAVc02GZ/cB5wLsikg2MBnar6l3AXQCBI4jvWTgYY8Kl2eNjxdYyXl5fwptbymjx+tvNz0yK4cuz87lsSi7jByX3mY4zQxYQquoVkVuA13Auc31MVTeJyE2B+Q8D/ws8ISIbcJqk7lDVQ6GqyRhjOtN6d3Kj20ezx0eTx0dxVROr9lZSsLeKtUXVuL1+MhJjuGrGYM4bm016YjQJ0VHEx0SSnhDTa5uRjiWk11Op6jJgWYdpDwc9LwEuPM423gLeCkF5xph+yOvz8/b2cv6yqpBNJbXUNXuob/Hi7+QMZlSEMD43hRtOG8q5Y7I4bXh6nwyCo+k5F9z2UdXV1TzzzDP8x3/8xwmv++tf/5rFixcTHx8fgsqM6R/8fqW4uomdZfWs2V/FXwuKOFDbTEZiDGeOTCclzkVSrIvE2CgSoiOJdUUSF+0cFUwanEJ8dP/dTfbfT36StHb3/WkD4rrrrrOAMOYYaps9lNU2U93oobrRQ3l9C/sqGtlX0cCeQ86j9ZyBCJw9KpN7Fo7jvLHZuHr5SeRQs4AIseDuvi+44AKysrJ4/vnnaWlp4fLLL+dHP/oRDQ0NXHHFFRQVFeHz+fjhD3/IwYMHKSkp4dxzzyUjI4OVK1eG+6MY02N4At1V/LWgkJXbyvF1aB9yRQqD0+IZmhbPGSMzGJmVyMisREZlJTIgPjpMVfc+FhAhFtzd9/Lly3nhhRf4+OOPUVUWLlzIO++8Q3l5OYMGDeKVV14BnD6aUlJS+L//+z9WrlxJRkZGmD+FMT1DUVUjSz7az18LCjlU7yYzKYYbzxrG+EEpDIhzMSDeRVpCNDkpcf3qXEGo9K+A+NedcGBD925z4Kkw797jLwcsX76c5cuXM2XKFADq6+vZsWMHZ511Ft/73ve44447WLBgAWeddVb31mhML9PQ4qW8rgW3z4/b66esrpnnPi7kjS0HAfjcmGyumjGYOaMze/29Bj1Z/wqIMFNV7rrrLr7xjW8cMW/16tUsW7aMu+66iwsvvJD/+Z//CUOFxoTPofoW3th8kNc2HeC9nRVt4yC0SkuI5qZzRnDtaUPJHWAjKp4M/SsguvhLvzsFd/d90UUX8cMf/pBrr72WxMREiouLcblceL1e0tLSuO6660hMTOSJJ55ot641MZm+SFXZdrCON7eUsWJrGWv2V6EKealxXD97KOMHJRMdFUF0ZATx0VFMz08l1hUZ7rL7lf4VEGEQ3N33vHnzuOaaa5g9ezYAiYmJPP300+zcuZPbb7+diIgIXC4Xv//97wFYvHgx8+bNIycnx05Smz7D51deWlvM71bsZPehBgAm5qVw63mjuHDcQMbmJPWZO5F7O3G6Qeobpk+frgUFBe2mbdmyhbFjx4apopOvv31e03v4/cq/Nh7gV29sZ2dZPWNzkvny7KF8bkwWWcmx4S6v3xKR1ao6vbN5dgRhjAkZVWXrgTpeWlvCP9eVUFzdxMisRB66dipzxw8MyTjKpvtYQBhjPpN9FQ2UVDdTXt9CeZ3zKKtrpryuhcLKRvZWNBIZIZw9KoM7543h4lNz7BLUXsICwhhzwvx+5Y0tB3nknd2s3lfVbl50ZIQzhGZSDKdkJ/G1s4Zz8YSBvWqgHOOwgDDGHFej20thZRP7KxvZc6ie5wuK2FlWT15qHP89fyxjc5LJSoohMymGlDiXnWTuIywgjDFH2FVez0e7K1mzv4o1+6rarjZqNTYnmQeumsz8U3PsRrU+zALCGAM4nd79c10Jz68qZF1RDQDpCdFMGZLK5VNyyc9IYHBaPINT40hLiLajhH7AAqKHSUxMpL6+npKSEr797W/zwgsvHLHMnDlzuP/++5k+vdMr04w5IRuLa3jy/b38c30JzR4/YwYm8cMF4zh/bBZD0uItCPoxC4geatCgQZ2GgzHdwe9XXt5QyhPv7WHN/mrioyO5fEoeV80YzMS8FAsFA1hAhNwdd9zB0KFD28aDuOeeexAR3nnnHaqqqvB4PPzkJz/h0ksvbbfe3r17WbBgARs3bqSpqYlFixaxefNmxo4dS1NTUzg+iukjKupb+N5f17FyWznDMhK4+5JxfGFaHsmxrnCXZnoYC4gQu+qqq/jOd77TFhDPP/88r776KrfddhvJyckcOnSI0047jYULFx71V9vvf/974uPjWb9+PevXr2fq1Kkn8yOYPuSDXRV85y+fUNXo4ceXjue6WUPtZjVzVP0qIH7+8c/ZWrm1W7c5Jm0Md8y846jzp0yZQllZGSUlJZSXl5OamkpOTg633XYb77zzDhERERQXF3Pw4EEGDhzY6Tbeeecdvv3tbwMwceJEJk6c2K2fwfRtTW4fH+6uYPnmgzy3aj/D0hN47CszGD8oJdylmR6uXwVEuHzxi1/khRde4MCBA1x11VUsWbKE8vJyVq9ejcvlIj8/n+bm5mNuw9qEzdE0ur1sPVDHppJatpTWUtfsRVVRheomN6v2VuH2+ol1RXDVjMH89/xxJMTYP31zfP3qr+RYv/RD6aqrruLrX/86hw4d4u233+b5558nKysLl8vFypUr2bdv3zHXP/vss1myZAnnnnsuGzduZP369SepctNTqSof7KrgD+/u5u3t5bSOuJkcG0V6YgwiECFCrCuC608bypzRmczIT7Puss0J6VcBES7jx4+nrq6O3NxccnJyuPbaa7nkkkuYPn06kydPZsyYMcdc/5vf/CaLFi1i4sSJTJ48mZkzZ56kyk1P0+j28urGA/zx3T1sLq0lPSGaxWePYOqQAYwblEzugDg72jTdxrr77mP62+ftD9xeP+/uKGfpuhKWbzpIk8fHyKxEbjxzGJdNybWjAvOZWHffxvQydc0e3t5ezvJNB1m5tYy6Fi8D4l1cNiWXhZMGMWtYml19ZELOAsKYMNtzqIEf/XMTm0tqafH6afH6aPH6UXXGYZ536kAuGj+Qs0ZlEh1l/R6Zk8cCwpgw8fj8PPrObh54cwcxURFcPCGHuOhIoqMiSIiO4vSR6UwdkmpjJ5iw6RcBoar94sRdXzqf1Ff5/cqOsno+3lPBko/2s/VAHfMmDORHC8fbsJumx+nzAREbG0tFRQXp6el9OiRUlYqKCmJjbSfT0xRWNvL29nLe3VHOR3sqqW70ADA4LY5Hrp/GReM7v0HSmHDr8wGRl5dHUVER5eXl4S4l5GJjY8nLywt3Gf2Ox+dnX0UD2w7Us6u8nsoGN7XNHmqbvOwqr2dPYCyF3AFxXDA2m5nD0pg1LJ3BaXZJqunZQhoQIjIXeACIBP6oqvd2mJ8CPA0MCdRyv6o+LiKDgaeAgYAfeFRVH/g0NbhcLoYNG/YZPoUxh63eV8Vj7+2hsj4QAs0eDta04Pb525ZJiokiOc5FcpyLYRkJ3DB7KGefksnwjAQLBNOrhCwgRCQSeBC4ACgCVonIUlXdHLTYzcBmVb1ERDKBbSKyBPAC31XVNSKSBKwWkdc7rGvMSVPf4uW+V7fy1If7SE+IZlhGAgOTYzklO4ms5BhGZydxSnYSIzITiYu2+xJM3xDKI4iZwE5V3Q0gIs8BlwLBO3kFksT5WZUIVAJeVS0FSgFUtU5EtgC5HdY1JuQO1bfw7o5yfvHqNg7UNvPl2fl876LRJFpfRqYfCOVfeS5QGPS6CJjVYZnfAUuBEiAJuFJV/cELiEg+MAX4KGSVGhPQ7PHx1rZyVm4tY9XeyraxmEdnJ/HgtVOZOiQ1zBUac/KEMiA6a2zteB3mRcBa4HPACOB1EXlXVWsBRCQReBH4Tuu0I95EZDGwGGDIkCHdU7np81q8PvYeaqS+xUNds5fKBjcrt5WzYstBGtw+kmOjmJGfxhUzBjMjP41JeSlERdpNaqZ/CWVAFAGDg17n4RwpBFsE3KvOBfw7RWQPMAb4WERcOOGwRFX/drQ3UdVHgUfB6YupG+s3fZDb6+f5gkJ+u2IHB2tb2s1LS4hm4eRc5p+aw6zhabgsEMxRbNu2jSuvvLLt9e7du/nxj3/Md77zHQB++9vf8rvf/Y6oqCjmz5/PL37xi2Nub/Xq1XzlK1+hqamJiy++mAceeOCICxo8Hg833ngja9aswev1csMNN3DXXXcB8IMf/ICnnnqKqqoq6uvr29ZpaWnhhhtuYPXq1aSnp/OXv/yF/Pz8rn9Qp9/47n/ghM9uYBgQDawDxndY5vfAPYHn2UAxkIFz9PEU8OsTec9p06apMZ3xeH36QkGhnvnzN3XoHS/rFx56T/++pkjf3lamBXsrdfuBWvV4feEu0/RCXq9Xs7Ozde/evaqqumLFCj3vvPO0ublZVVUPHjx43G3MmDFD33//ffX7/Tp37lxdtmzZEcssWbJEr7zySlVVbWho0KFDh+qePXtUVfWDDz7QkpISTUhIaLfOgw8+qN/4xjdUVfXZZ5/VK6644ojtAgV6lH1qyI4gVNUrIrcAr+Fc5vqYqm4SkZsC8x8G/hd4QkQ2BELhDlU9JCJnAtcDG0RkbWCT/6Wqy0JVr+mb3F4///ikmIfe2sneikbGD0rm8UUTmHNKpl1yarrFm2++yYgRIxg6dCjgDBF85513EhMTA0BWVhYAJSUl3HjjjSxb1n43VlpaSm1tLbNnzwbghhtu4B//+Afz5s1rt5yI0NDQgNfrpampiejoaJKTkwE47bTTOq3tpZde4p577gGcgctuueWWE+pZIqSXYgR26Ms6THs46HkJcGEn6/2bzs9hGNMlTW4ff11dyCNv76a4uokJuck8fN00LhyXbb2gmm713HPPcfXVV7e93r59O++++y4/+MEPiI2N5f7772fGjBkMGjToiHAAKC4ubneDa15eHsXFxUcs98UvfpGXXnqJnJwcGhsb+dWvfkVaWtoxaysuLmbwYKelPyoqipSUFCoqKsjIyOjSZ7Nr9Uyfcqi+hafe38ufP9xHVaOHqUMG8JPL7YjBhIbb7Wbp0qX87Gc/a5vm9Xqpqqriww8/ZNWqVVxxxRXs3r37qH9/2kkfap0t+/HHHxMZGUlJSQlVVVWcddZZnH/++QwfPvyo9XV120djAWF6Jb9fcfv8NLp9bCmt5eM9lRTsq2wbf/n8sdl845zhTB+aasFgQuZf//oXU6dOJTs7u21aXl4en//85xERZs6cSUREBIcOHSIzM7PTbbR2B9SqqKiIQYMGHbHcM888w9y5c3G5XGRlZXHGGWdQUFBwzIDIy8ujsLCQvLw8vF4vNTU1xz3qCGYBYXqFRreXZRsO8MLqQtbsr8btbXe7DCIwdmAy180ayrWnDWFEZmKYKjX9ybPPPtuueQngsssuY8WKFcyZM4ft27fjdrvJyMiguLiYG264gTfffLPd8jk5OSQlJfHhhx8ya9YsnnrqKb71rW8d8V5DhgxhxYoVXHfddTQ2NvLhhx+2XTV1NAsXLuTJJ59k9uzZvPDCC3zuc5+zIwjTd1Q2uLnvta0sXVtCg9vH0PR4rj9tKEmxUcRERRITFcHwzASmDk0lOdYV7nJNP9LY2Mjrr7/OI4880m76V7/6Vb761a8yYcIEoqOjefLJJxERSktLiYrqfJf7+9//vu0y13nz5rWdoF66dCkFBQX8+Mc/5uabb2bRokVMmDABVW0bpx7g+9//Ps888wyNjY3k5eVx4403cs899/C1r32N66+/npEjR5KWlsZzzz13Qp+xz49JbXqv93Ye4ra/rKW60cNlUwbxpemDrcnI9Fq/+93vGDJkCAsXLgx3Ke3YmNSmV3F7/fzy9W08+s5uhmck8PiiGYwflBLusoz5TG655ZZwl3DCLCBM2Li9fiob3FQ0tHCgppl1RTV8sr+KdYXV1DZ7uWbWEH44f5z1jmpMmFhAmJOutKaJm55ew7rC6nbTIwROyU5i/sRBXDQ+mzmjs8JToDEGsIAwJ9nWA7UsenwVdc1evn3eKLKSYkhPiCYzKYaxOckkWDfaxvQY9q/RnDTv7zzEN/68mrjoSP7yjdPsvIIxPZwFhAkpr8/Px3sqeWVDKc8XFDIsI4HHF80kd0BcuEszxhyHBYTpNqpKaU0zO8rq2XGwjs2ltby1rZzKBjdxrkgWTBzEPQvHkxJn9yuY3mnJkiX84Ac/YP/+/QwZMoSf/vSnXHvtteEuK2QsIEy3WFdYzT3/3MQn+6vbpmUkRnPmyAwuPnUg55ySZVcjmV5tyZIlLF68mMbGRgD27dvH4sWLAfpsSFhAmM+kvK6F+17byvMFRWQkxvDf88dyam4Ko7KTSEuIDnd5xhyVX/3Uueto8jbR6GmkydsEQIREECER+NTXNq/R28g9f7uH+DnxJCUkEREbGEzKDz9+98d4J3sZlz6OsWljSYz+7N28HGo6xM7qnbR4W3D73bh9bnzqw+f3oThjNcRExRAfFU+8K54kVxLjM8Z/5vc9wtEGiuiNj88yYNDdd9+tOEOiKqAFBQVaUFDQbtrdd9+tqqo5OTlt06ZOnaqqql//+tfbLVtcXKxLly5tN+2RRx5RdW5db3ssWLBAVVUXLFjQbrqq6iOPPNJu2tKlS7W4uLjdtK9//euqqjp16tS2aTk5OSH5TLv37dffPf5cu2kDL/6WjrjrlV77mfri/6dQfKbbH7pdf/nmL9tNm3XZLP3lql9q3pi8tmkZ2Rm6rmyd3vjdG9st+7MXfqZ3P9f+c55343n6wOoHdEDmgLZpYyaO0a0VW/War1zTbtk9+/fok88/2b7+7y/Q65dd325a8uRknfLUFE2enNxu+m0rb9Pr/6f9sqO/O1pH/2p0u2mp56TqhCcmaOzQ2LZpUQOidMITEzTz0sx2y+bfnq/5d+S3m5Z1aZbOfWGuxqTGtE2Lz4/XmU/P1Mxz269//bPX6xd+9oV20y747gV64V8vbDctaVKSTnhigiZNSmo3fcITE3TQVwYpoEO/MPTEd3oBHGPAIOtqwxzT9oN1PLRyJ5tLa9ld3oDX7/y9xLoiGJuTzKm5KdwwO5+RWdY5Xl/gVz/bq7bzUelHfHzgY1YfXE2Dp6HdMtER0URGOM2FqorX78Wr3i6/R5RE4Yp0ESVRNHob8anvU9WaFptGfnI+w1KGkeBKaPvlL0FDyfjxU1RXxOaKzRTXO2MsREokp6SewsTMiQxNHtr2Kzw2MhYRwa/+tkF14qLiiHfFExcVx0XnXMS+bftQd/t95tChQ1m9ZTWbKzazqWITu6p3ERkRSWxkLHFRcURKJIriV3/bUUtlSyXVzdXUtNTQ5G2iydtEs6+Z7PhsTs04lYmZExmbNpYEVwJREVFER0YTJVFEREQQKc533+xtptHrHPn41c+MgTM+1fdoXW2YT+XF1UX84B8biImKZPrQVC4Yl83ogcmMHZjE8MxEIm3gnR6vdUd3tHkHGg6wo3oHu6p3seHQBlYdWEV1SzUA+cn5zB82n1k5s5iYOZHk6GRio2KJkIgjtlPrrqWiqYLypnJafC3ERMYQExlDbFRs2w44Pir+iPVbd5hVzVVUt1TT6Gmk3lNPg6eBFl8Lbp8bj9+DT32kxqaSFZdFVnwWOQk5DIgdcELfRU1LDUX1RQxLHka8K/6E1gX4yR0/cc5BuBvbpsXHx/PTn/6U9Lh0zso7i7Pyzjrh7bY61v+rcLGAMEdo9vi4Z+kmnltVyKxhafz26ilkJceGu6x+rXVnvrVyKzuqd1DRVEGtu5aalhrq3HU0ehtp8DTQ6GmkxdfS9qs+QiIYNWAU49LHMT5jPIKwrXIb26u2s71qO/WewwPcD0oYxDl55zArZxYzBs5gYMLALtUmIqTEpJASk8LwAUcfm6AzERLRtm6ofdb3aT0RHaqrmHpaOID15mo6KK1p4sYnC9hUUst/zBnBf15wClGREcdf0XxqHr+HlftXUlhXiOL8e/T5fRxqOkR5UznljeXsq9tHTUtN2zpJ0UkkRye3PRJcCSS4Eoh3xTvNERFRREkUHr+HrZVb2VyxmVp3LQAJrgROST2l7TFywEhGDBhxUnbSpuexJibTJRuKavjak6todPv405enc97Y7OOv1M94/B7WHFyDz+9raw9Oik4iLzHviKtX/Oqn0dNIs6+ZZm8zbp+beFc8abFpREdGU+eu48XtL7Jk6xIONBw44r2SopPIissiMz6T84ecz9i0sYxOG80pqaeccBOJqlJcX4yi5CbmHtFMZExnLCAMAK9uLOU7f1lLekIML35zFqMHJoW7pB7nw9IP+dlHP2N3ze5O56fEpJCTkEOzt5malhpq3DX41d/pskmuJDx+D82+ZmYOnMl/z/pvZubMRBBEhAgicEV23w2FIkJeUl63bc/0DxYQ/ZTb62dDcTUf76ni4z0VrNxWzpQhA3j0+ulkJsWEu7weQ1XZV7uP337yW5bvW05uYi6/OPsXDEwYiM/vw69+qluqKa4vpqiuiAONB4iNjCU1NpWUmBSSo5PbTtjGRMbQ4G2gqrmKyuZKVJVLR17KuPRx4f6YxnTKAqIfqW508+aWMl7ffJC3t5fT5HEuLxyZlcjis4fznxecQqyrf9/tXFRXxKoDq1hXvo6d1TvZVb2Lek89MZEx3Dz5ZhZNWERMpAWo6R8sIPoBn1/50T83seSj/fj8ysDkWL44LY8zRmYwIz+V9MT+s8Nr9DSyvWo7Wyq3UFpfSrPPOTfQ4Glgffl6ShpKAEiOTuaU1FOYP3w+IweM5Jy8c8hJzAlz9cacXBYQfZzH5+e2v6zl5fWlXDNrCFdOH8zEvJQeeUnd0agq++v2s7ZsLevK17G3di9NHufGoiZvE9nx2U43B+ljyU3MZX/tfnbX7GZX9S5qWmrwqhev30uTt4miuqK2K4WiI6KJjYptu15/XPo4vjz+y8wcOJMRA0b0qu/ImFCwgOjDmj0+bnlmDW9sKeO/Lh7D4rNHhLukE+Lxefjr9r/ypw1/oqypDIBEVyKjUkeREpvCwMiBREdGU1xfzIs7XqRpS1PbutER0eSn5JMRl0FURBSREkl0ZDSXDL+EMWljGJs+luz4bAsBY47BAqKPqmv2cNPTq3l/VwU/uWwC1502NNwldZlf/by29zV+s+Y3FNUXMT17Ot+c/E0mZU5ixIARnV6i6fP72Fe7j5KGEgYnDSY3MZeoCPvzNuazsH9BfdD2g3Xc9OfV7Kts5JdfmsTnp/acyxtVlW1V21i+dzmlDaVtXSm4fW6qWqqobq6mqqWKJm8To1JH8dB5D3Fm7pnH/aUfGRHJ8AHDT/hOXmPM0VlA9DH/XFfC919YT0JMFM/cOItZw9NPyvs2eBpYsX8F26u2E3x3fnRkdFtnZ1XNVby29zX21u4lSqLITsgmOjIaV4SL6Iho0mLTGJEygtTYVCZkTODCoRe2dQpnwkgV6krB2ww+D/jcUHcQKndD1R6oOwBJOZCa7zxcsVBfBg3l0HDIWc/b4qwXFQvZ4yB7AmSNhag48DaBu9H5b7AIF0TFOI/IaPA0Qks9uOvB73W21fYILBcRBd3ZbKgKLXXO56naAxW7oGKn831ERh9+79R8GHoGDJoMwfev+H3ONiI72dV6mqC2xNl+68PT6HxX3mZn3bhUiE9zHhEuZx1PA3jdzrzELOfhCs0IjRYQfYDfrxTsq+Ivqwp5cU0R04em8uC1U8nuhv6T9tXuY8OhDURJVNu1/JERkU6Plyh17jre3PcmKwtX0uxrbtfTJ0CLr6XtZjFBmDFwBjeMv4Hzh5xPamzqZ67PhIi3Bfa+C1uXwbZ/QV1J58u54iExG+pfdXZuHUmEs0yky9mhuhucHXzIiPN+camBxwCISYbo+MN11B+E2lJn5+xthugEZ54rDlDw+50A8jQ6wdAxuGKSISXPCUtvizO/ofzw95Ezyfmc9WXQ4Jw7IzkXBgxxgrSh3AnXmiLn/bpDyhC4bUP3bCuIBUQvVlHfwu/f2sXL60s5UNtMrCuCG88cxvfnjiE66tN3pbDm4Bpe2/sa7xa/S2Fd4XGXHxAzgEtHXsr84fOZlDmp3TkCVcXtd9PkaSIiIoLk6ORPXZfpZrUlUF3o/BquK3WeV+6Gyl1Qtdf5xe+KhxGfg+H/CdGJgR29CxKyIG2YEw4izq/khnKo3OPsdBOznGXiUiEi6G/R74ea/XBgI5RtdnbErnhnJx0Ve/jXv6ozz9sCvhbnF7MrDmISnToiog7vnD3Nh5fxtThHI83V0FgJTZXOZ/E0ONN9bqfm5BwYPsfZZuuvck8TIBAR6Tyi4gK/0LOd/6bmQ9oISMg48iilvhz2vec8Stc7QZAzCZICHR5WF0L1fij6GBIyYchsSB/hhEZsihM6MYngSggcDcU6NTRVQ2MFNB5yAqk1zCKjoanKCbv6g3CUO/Y/q5B21icic4EHgEjgj6p6b4f5KcDTwBCcsLpfVR/vyrqd6U+d9VU2uLn60Q/Zfaiec07J4pJJOZw/NpuEmE+f+RVNFfxi1S9YtmcZsZGxzMyZyVm5ZzE9ezoiQrOvmRZvCz71tfW974pwMTptNK4IG2c6rDzNzo6wcrfzC93ncXaw4OyAWn9NV++HXStg10qnySRYVBykDXd2/OkjYMjpMPyckDVfmJ4hLJ31iUgk8CBwAVAErBKRpaq6OWixm4HNqnqJiGQC20RkCeDrwrr9Vk2Th+v/9BF7Kxp4ctFMTh+Z0fV1W2pYW7aWTRWbSHQlkpeUR15SHpsrNnN/wf00eBr45qRvsmjCIuKibMcQVt4WOLgJStc5O/+mysCv4upAG7XHCYLmGudooKvNFdGJkH8mzFwM6SOdX9NJg5x2brvs1wQJZRPTTGCnqu4GEJHngEuB4J28AkniXKKSCFQCXmBWF9btl+pbvHz5sY/ZfrCOP9ww/bjhcKjpEKsOrGLVgVWsPrj6qB3NAUzJmsLds+9mxIDedb9Er9ZcC9uWwaZ/QG1xYActTlPIoR1OCIDTpBCXdvhIIDbZOWkZ6XJ2+GnDD//6j0sNNJO4AHUCpKnKecSnQ96M9idSjTmKUAZELhDcgF2Es+MP9jtgKVACJAFXqqpfRLqybr/T0OLlq4+vYmNxDQ9dO5U5o7OOWMbtc1NwsIB3i97lvZL32FPjNCMkuhKZkjWFBcMXMDlrMhMyJtDibaG4vpjC+kJc4uLcIedaN9Ch4Pc7bch1pc4VP7UlzvMDG2HnG067ecpgyB7vtL2jThv7KRdBzmSnLTs1/9P/uk/pOZc5m94llAHR2V9zx2Pgi4C1wOeAEcDrIvJuF9d13kRkMbAYYMiQIZ+21h6vocXLoidWUbCvkt9cPYULxx8e7avOXcdbhW/xxr43+KD0A5q8TURHRDNj4AwuH3k5MwbOYEzamCNuHIuLimNA7ADGZ4w/yZ+mF6vcA+ueAzRwwjYG1Be4/LIB3HVOE1BzzeETpfUHD58PaCPOjnv6IpjwBcid3v5krjE9QCgDoggYHPQ6D+dIIdgi4F51zpTvFJE9wJgurguAqj4KPArOSeruKb1naXQHwmFvJQ9cNYUFEwcBsLdmL/cV3Mf7Je/j9XvJis9i4YiFnJ13NjMGzrBzCN2ppQ7euR8+fMhp/ulIIiA6ybnKJDbFaQZKzoOBE50rWZJyAlfPDHJeJ2ZbM4/p8UIZEKuAUSIyDCgGrgKu6bDMfuA84F0RyQZGA7uB6i6s2y80ur0setwJh19fNYVLJjnhUNlcyU1v3ES9p55rx1zLBfkXcGrGqdZE1B28bueSzdoS57xA5S748GHnmvZJ18B5/+Ps5FtvGpMI50ofO8Fr+piQBYSqekXkFuA1nEtVH1PVTSJyU2D+w8D/Ak+IyAacZqU7VPUQQGfrhqrWnuyOFzewam8lv7pyMgsD4eD2ublt5W0cajrE4xc9zqmZp4a5yl7G74dNf4PdbzlNQS21zn8bK50TuS21R64zeBZc/RzkTTs8LSraeRjTR4X0RjlVXQYs6zDt4aDnJcCFXV23v3l14wH+ua6E715wCpdOzgWcG89+9MGPWFO2hvvOuc/C4UTtWgmv/w8cWO9c0ROf4TQJxadD+qjAtHRISHeaiJIHOY+4VDtCMP2O3UndQ1U3uvnhSxsZl5PMTXNGoKocbDzIc1ufY+mupdw8+Wbm5s8Nd5mh5/c7d9wm5Tg77S6v5wvcFbwHagqdbg2KVjndR6QMgc//ASZ80U4MG3MMFhA91P++vIWqBje3XxrJ7e/8JxvKN7SNibBg+AK+MfEbYa4wxMq3w/rnYP1fna4ZwLnUM3e6c3OXv7UfnJZANwOB6xPcjVC+Bcq3OTeTtYqIci4lvfCnMONGp0M5Y8wxWUD0QCu3lfHimiLOn7WD/7fmCdLj0pmRM4OJGROZmDmR8enje/dANy31sOZJ51d9VOzhE7ytfQFV7XV+9UsEDD8XzrndOT9QvBr2fwgbXwCJDPSkGe08B2cbkTGQeYoTAtnjnTBJyXOuGrKeYY05IRYQPUxpTRN3/W0t2cNe4aPad5mTN4d7z76XBFdCuEv77DxNsOqP8O9fOzeORSc5na213iMQn+HcDTz0dOcGsQlfgKTsI7fj99nO3piTwAKiB1lfVM3Xnvo3TamPI7HbWTR+EbdOvbXnj4mgCoUfwZqnoOQTZ4fv9zpNPxEupzknKhaq9jmXig4/F879AQye4azvCyzf1Wafnv59GNNHWED0EP/aUMptL75LTN5jREUf4O7ZP+byUZeHu6yj83ng4EbY8y6sXQLlWwOdwJ0VGLgl0mn68Xucnka9zTB4Jsy+2TlCCBYZ1fmAKsaYsLJ/lT3AUx/s5e5l75A6/HEiXfX86tzfcWbumeEu67DaUji0zek87tAOp3fR0rWHTwLnToeFv4Xxn3f6tDfG9AkWEGFWWtPE/3tjOQNGPEl8bAQPnfcnJmZODHdZjpJPYMVPYefrh6dFJ0LWOJj+NeemsbwZzqAnxpg+xwIijIrqivjaP39K1OD3SIvP5g8XPcLwlOHhLgvKtsDKn8KWf0LsgMD5glmQMcq5H6E3X0FljOkyC4gwaPY286vVv+Iv257H64NxCZfwh0u/T0pMSngLK98Ob98LG//mHCnMuQtO+6Zzp7Expt+xgAiDxzc+zjNbnyHdfzaVxXP4w39eRkpMiHv29Hmc4SZbx+ltqnbGIfD7nO6q93/k3F8QFQdn3ganf8sZYcwY029ZQJxkte5a/rz5z0xKO5N/v3cx/z1/LCnxIQyHpipY/QR89IgzSM3RuOKdUDj9286g7MaYfs8C4iR7evPT1HnqOLDvLPJS47h+9tDQvJG7EVb8L6x+EjwNMHyOcy4hMevw0JWtl6NGRDlNStHxoanFGNMrWUCcRLXuWp7e/DRjkk5n1ZYUHrhqNDFRIbjpy++DF78G21+FU69w7j3I6SFXRhljeg0LiJPoz5v/TJ2njl2Fs5k6ZACXBEaG61aq8K87YNsyuPh+mPn17n8PY0y/YH0dnyQ1LTU8vflpcqNnUlWdyY8vnUBERAguF/3gd7DqD875BAsHY8xnYEcQJ4Hb5+bR9Y9S76mnfO/pXDVjCBNyu/nSUZ/H6fJi+X/DuMvg/B937/aNMf2OBUSINHgaeGbLM3x04CPWlq2lxddCim8GEQzm9otGd8+bqELhx7Dhedj0d2isgCGnw+WP2EA4xpjPzAIiRB5Y8wDPbn2WU1JP4UunfImIlpE8uCyKHy88hbSEbhrH+O1fwFv/z+kpdfTFcOqXYOT5Nk6yMaZbWECEgMfv4dU9r3JR/kXcf879VDe6mfvrdxmT7eKamd3Ub9Hut+CtnzmhsOBXEJPUPds1xpgAC4gQ+KDkA6paqlgwfAGqyu0vrKeioYU/3DCdqMhuaPqpOwgvfh0yToFLHoDoPjCYkDGmx7GG6hB4edfLDIgZwBmDzuCpD/bx+uaD3DlvLKfmdcOJab8P/nYjtNTBl56wcDDGhIwFRDerd9ezonAFF+VfxLYDjfz0lS2cNyaLr56R/9k37mmCN38Ee96B+fdD9rjPvk1jjDkKa2LqZm/uf5MWXwvnDZ7Ht579hNQEF/d9aRLyabrIdjc4w3QWF8C2V2HXCmcM50nXwORru794Y4wJYgHRzV7e/TJ5iXl8uDmRvRUHeObG007sqqWqffDPW+HgJmf85lYpg2HKdTB6rjOms43JYIwJMQuIblTWWMZHpR+xeOJi/railNOGpTN7RHrXN1CxC568BNz1MHYhpA2D1HzIHOOM4mahYIw5iboUECJyGrBJVesCr5OAcar6USiL623+tedfKMrYpDnsLt/HV88Y1vWVy7bAU5c6J6G/8goMPDV0hRpjTBd09ST174H6oNcNgWkmyCu7X2FC+gTW7IoiQmDehIFdW7F0PTwxHxALB2NMj9HVgBBV1dYXqurHmqfa2V2zmy2VW7h4+MW8sr6U00dkkJ4Yc/wVfV54YZFzN/SiZZA1JvTFGmNMF3Q1IHaLyLdFxBV43ArsDmVhvc3yvcsRhKExs9lb0ciCiTldW3Hji1CxE+b9HNJHhLZIY4w5AV0NiJuA04FioAiYBSwOVVG90fJ9y5mSNYX3t3uJihAuGt+F5iWfF97+OWSfCqPnh75IY4w5AV0KCFUtU9WrVDVLVbNV9RpVLTveeiIyV0S2ichOEbmzk/m3i8jawGOjiPhEJC0w7zYR2RSY/qyIxJ74xzs5dtfsZkfVDi4YegEvry/hjJEZpHbl0taNL0DlLphzp/W+aozpcbp6FdPjgHacrqpfPcY6kcCDwAU4Rx2rRGSpqm4OWv8+4L7A8pcAt6lqpYjkAt/GuVKqSUSeB64CnujqBzuZlu9dDkBu9CyKqrbz7fNGHX+l1qOHgafCGDt6MMb0PF090fxy0PNY4HKg5DjrzAR2qupuABF5DrgU2HyU5a8Gnu1QW5yIeID4Lrxf2LQ1L23z4IoULhrXhealDX+Fyt1w1TN2f4MxpkfqahPTi0GPJcAVwITjrJYLFAa9LgpMO4KIxANzgRcD71cM3A/sB0qBGlVdfpR1F4tIgYgUlJeXd+XjdKu25qUhF7JswwHOGpVJSrzr2Cv5vPDOL2DgRGccB2OM6YE+bcP3KOB4Axt09rP4iGaqgEuA91S1EkBEUnGONoYBg4AEEbmusxVV9VFVna6q0zMzM7tUfHdqbV5KYxrF1U0snDTo+Ct98mfn6GHOXXb0YIzpsbp6DqKOwzt3BQ4C3z/OakXA4KDXeRy9megq2jcvnQ/sUdXywPv/Decqqqe7Uu/J1Nq8tGxdEylxLuYe7+a4pipY8b8w9AwYPe/kFGmMMZ9CV5uYkoB8nBPOC4GvA4eOs9oqYJSIDBORaJwQWNpxIRFJAc4BXgqavB84TUTixekG9TxgS1dqPZn21OxhR9UOTh/4OZZvOsAXpuYR64o89kpv/dwJiXk/t6MHY0yP1tUjiBuBW3GOAtYCpwEfAJ872jqq6hWRW4DXgEjgMVXdJCI3BeY/HFj0cmC5qjYErfuRiLwArAG8wCfAoyf20ULvpZ1OpjVUjsPjK+fqmYOPvULZFvj4UZj2FetOwxjT40lQDxpHX0hkAzAD+FBVJ4vIGOBHqnplqAs8EdOnT9eCgoKT8l5PbXqK+wru48KhF7J61QIyk2L4602nH30FVfjzZVDyCXzrE0g4gV5ejTEmRERktapO72xeV09SN6tqc2BjMaq6FRjdXQX2JqrKg2sf5L6C+7hg6AUszP0ueysauXrmcc7Zb30Fdr8F5/7AwsEY0yt09T6IIhEZAPwDeF1EqujB9yWEiqry81U/Z8mWJVw+8nLunn033/nLelLiXFx86lH6XmquhVV/gPcegMyxMP1rJ7doY4z5lLoUEKp6eeDpPSKyEkgBXg1ZVT1UwcEClmxZwrVjr+WOGXdQ2eDmtY0HuPa0IUeenHY3wvu/hQ8fguZqGHUhXPT/INI6wTXG9A4nvLdS1bdDUUhvsOrAKiIkgpsn34yI8Lc1xbh9/s6bl175Lqx7xumE75zbYdCUk1+wMcZ8BvZz9gSsPria0amjSYpOQlX56+pCpgwZwCnZSe0X3P+REw5n3gbn3xOWWo0x5rOyLkS7yOPzsK58HdOypwGwubSW7Qfr+fzUvPYL+n2w7LuQnAtn3x6GSo0xpnvYEUQXbarYRIuvhenZztVgf19TjCtSWNDx5HTBY3BgA3zxcYhOCEOlxhjTPewIoosKDjr3V0zJnoLX5+eldSXMGZ3VftyHhkNONxrDzobxlx9lS8YY0ztYQHRRwcECRqSMIC02jfd3VVBe18Lnp3TonPbNH4G7AebdZ91oGGN6PQuILvD6vawtW9t2/uHvnxSTHBvFuWOyDi90YAOs+TPM/AZkjQlTpcYY030sILpgW9U2GjwNTMueRkOLl1c3HmD+xJz29z688SOITXYuaTXGmD7AAqILVh9YDcC07Gks33yAJo+Py6cEXb20513Y+Tqc9V2ISw1TlcYY070sILpg9cHVDE4aTHZCNn9bU0xeahzThwaCQBXeuNu5rHXm4vAWaowx3cgC4jj86md12WqmZU+jrLaZ93Ye4vIpuUREBE5Cb/knFK92RodzxYW3WGOM6UYWEMexq3oXNS01TMuext8/KcavcFnr1Us+L7z5Y8gYDZOuDm+hxhjTzSwgjmP1wcD5h6xpvLC6iGlDUxmRmejM/OTPULEDzvsf64TPGNPnWEAcx+qDq8mKz6KiOpEdZfV8cVrg5HT1fnj9bhhyOoyZH94ijTEmBCwgjmPjoY1MypzEi2uKiXVFMH9ijtPf0t+/CeqDyx6ym+KMMX2SBcQxNHoaKaovYnjyKF5aW8zc8QNJjnU54zzs+zfM+wWkDQt3mcYYExIWEMewu2Y3APX16dQ2e/nitMFQuh5W/ATGLoTJ14S5QmOMCR0LiGPYWb0TgLW7YhmUEsvsoQnwt69DfDpc8oA1LRlj+jQLiGPYWbUTV0Q0H28XPj81j8jdK6B8K8z/JcSnhbs8Y4wJKQuIY9hZvZOUyFz8GuFcvbTnHYiKc8aXNsaYPs4C4hh2VO+guTGTqUMGkJ+RALvfhqGzISr6+CsbY0wvZwFxFLXuWsoay6itzWDS4AFQXwblW5zBgIwxph+wgDiKXdW7AGhuzGR4RoLTvAQWEMaYfsMC4ih2VO0AwN+SzfDMRCcgYlIgZ3J4CzPGmJPEAuIodlXvIjoiDvUMYFjrEUT+mRARefyVjTGmD7CAOIqd1TtJjMglzuVioL8MqvZY85Ixpl+xgDiKndU7ifAMJD8jgYh97zoTLSCMMf1ISANCROaKyDYR2Skid3Yy/3YRWRt4bBQRn4ikBeYNEJEXRGSriGwRkdmhrDVYRVMFlc2VNNZnMjwz0LyUkAlZY09WCcYYE3YhCwgRiQQeBOYB44CrRWRc8DKqep+qTlbVycBdwNuqWhmY/QDwqqqOASYBW0JVa0etVzBVVqcxPD3eCYhhZ1vXGsaYfiWURxAzgZ2qultV3cBzwKXHWP5q4FkAEUkGzgb+BKCqblWtDmGt7eyodq5g8jZnMzGuHOpKrXnJGNPvhDIgcoHCoNdFgWlHEJF4YC7wYmDScKAceFxEPhGRP4pIQghrbWdX9S7iIpNQbxJjmtc6Ey0gjDH9TCgDorP2GD3KspcA7wU1L0UBU4Hfq+oUoAE44hwGgIgsFpECESkoLy//rDUDzgnqAVF5gDCw4mNIGQypNu6DMaZ/CWVAFAGDg17nASVHWfYqAs1LQesWqepHgdcv4ATGEVT1UVWdrqrTMzMzP2PJoKpOL66+QWQkRuM68AkMnmXnH4wx/U4oA2IVMEpEholINE4ILO24kIikAOcAL7VOU9UDQKGIjA5MOg/YHMJa25Q1llHnqaOlMYvxaQI1hZA9/mS8tTHG9ChRodqwqnpF5BbgNSASeExVN4nITYH5DwcWvRxYrqoNHTbxLWBJIFx2A4tCVWuw1kGCKqtT+Xz2QSjDAsIY0y+FLCAAVHUZsKzDtIc7vH4CeKKTddcC00NXXeeK64sBqKpJYUJu4By73f9gjOmH7E7qDurcdQCoL458/36ITnJOUhtjTD9jAdFBnbuOCCJBXWQ27nKOHuwEtTGmH7KA6KDeU48rIoHICCG2ahtkjzv+SsYY0wdZQHRQ665F/HFMSmlGmiohywLCGNM/WUB0UOeuw+eN4fTkwE13FhDGmH7KAqKDOncdLe4YJrqcq5ksIIwx/ZUFRAdVTbX4vLGM0P2QmA0J6eEuyRhjwsICooOallrUF0t28y67/8EY069ZQHTQ4K0HfyzxNTsgy+6gNsb0XxYQQdw+N15tIcXvI8LbbEcQxph+zQIiSOtd1Dn+RmeC3QNhjOnHLCCCtAbEsIh6QCBzTHgLMsaYMLKACNIaECO1ClLzIfqkDWJnjDE9jgVEkLaA8B+y+x+MMf2eBUSQWk8tAMO8B+38gzGm37OACNJ6BDHA77MrmIwx/Z4FRJDWgEjy+yHTAsIY079ZQASpc9chKsSpOt1sGGNMP2YBEaSquYZoXyQCEJsc7nKMMSasLCCCVDXVEuuPwBsRC5GucJdjjDFhZQERpLqllni/4HUlhrsUY4wJOwuIILUttST4FV9MSrhLMcaYsLOACFLnrnOuYIpJCncpxhgTdhYQQRq99aT4fUisHUEYY4wFRJAmXz0D/F4i4ywgjDHGAiLAGQvCTarfQ1T8gHCXY4wxYWcBEdB6F3W6301knN0DYYwxFhABrQGR5neDnYMwxhgLiFatAZHs90OMHUEYY4wFRMDhjvrUutkwxhgsINq0jgWRZEcQxhgDhDggRGSuiGwTkZ0icmcn828XkbWBx0YR8YlIWtD8SBH5REReDmWd0KGrbzsHYYwxoQsIEYkEHgTmAeOAq0Wk3TBtqnqfqk5W1cnAXcDbqloZtMitwJZQ1Ris3TkIa2IyxpiQHkHMBHaq6m5VdQPPAZceY/mrgWdbX4hIHjAf+GMIa2xT21J7eCwIa2IyxpiQBkQuUBj0uigw7QgiEg/MBV4Mmvxr4PuAP0T1tVPZVIvL3zoWhDUxGWNMKANCOpmmR1n2EuC91uYlEVkAlKnq6uO+ichiESkQkYLy8vJPXWxlcw0xvkjnhXXWZ4wxIQ2IImBw0Os8oOQoy15FUPMScAawUET24jRNfU5Enu5sRVV9VFWnq+r0zMzMT11sbUsdcX7BGxlngwUZYwyhDYhVwCgRGSYi0TghsLTjQiKSApwDvNQ6TVXvUtU8Vc0PrLdCVa8LYa3UttQR7xf80Xb0YIwxAFGh2rCqekXkFuA1IBJ4TFU3ichNgfkPBxa9HFiuqg2hqqUr6j11ZPr9qJ2gNsYYIIQBAaCqy4BlHaY93OH1E8ATx9jGW8Bb3V5cB43eepJ9frDR5IwxBrA7qds0+epJUR+R8RYQxhgDIT6C6C08Pg9ebSHV57PBgowxJsCOIIA6T2AsCHXbcKPGGBNgAcHhbjYy/C3WzYYxxgRYQNB+NDk7SW2MMQ4LCKDW3drVt40FYYwxrSwg6NDVt90HYYwxgAUE0HEsCAsIY4wBCwjAxqM2xpjOWEAA1c210DoWhB1BGGMMYAEBQEVTDS5/lNM/uR1BGGMMYAEBQFVzDdGtY0HYjXLGGANYQABQ01xLrD/wVdgRhDHGABYQgNPVRpxf8EXFQ6R1T2WMMWABAThjQST4FbWhRo0xpo0FBM5YEEl+tW42jDEmiAUE0OxrINnnIyLOzj8YY0yrfh8QqsrspFs4r8FPhF3BZIwxbfp9QIgIKTqNSZ5mu0nOGGOC9PuAAKht8pAkjXaJqzHGBLGAAGqbPSRoox1BGGNMEAsIoLGxkRhssCBjjAlmAQF4m2qcJ3YEYYwxbSwgAJqdEeWsHyZjjDms3weEqpIe1eK8sJPUxhjTpt8HhIjw2FWnOC+sickYY9r0+4AAoCXQxGRHEMYY08YCAoLOQVhAGGNMKwsIsCMIY4zphAUEHD6CsIAwxpg2FhAAzTXgSrDBgowxJkhIA0JE5orINhHZKSJ3djL/dhFZG3hsFBGfiKSJyGARWSkiW0Rkk4jcGso6aamx8w/GGNNByAJCRCKBB4F5wDjgahEZF7yMqt6nqpNVdTJwF/C2qlYCXuC7qjoWOA24ueO63aq51pqXjDGmg1AeQcwEdqrqblV1A88Blx5j+auBZwFUtVRV1wSe1wFbgNyQVdpSa3dRG2NMB6EMiFygMOh1EUfZyYtIPDAXeLGTefnAFOCj7i8xoLnWmpiMMaaDUAaEdDJNj7LsJcB7gealwxsQScQJje+oam2nbyKyWEQKRKSgvLz801XaYk1MxhjTUSgDoggYHPQ6Dyg5yrJXEWheaiUiLpxwWKKqfzvam6jqo6o6XVWnZ2ZmfrpK7QjCGGOOEMqAWAWMEpFhIhKNEwJLOy4kIinAOcBLQdME+BOwRVX/L4Q1OuwIwhhjjhCyC/9V1SsitwCvAZHAY6q6SURuCsx/OLDo5cByVW0IWv0M4Hpgg4isDUz7L1VdFpJib3wT4gaEZNPGGNNbierRTgv0PtOnT9eCgoJwl2GMMb2GiKxW1emdzbM7qY0xxnTKAsIYY0ynLCCMMcZ0ygLCGGNMpywgjDHGdMoCwhhjTKcsIIwxxnTKAsIYY0ynLCCMMcZ0ygLCGGNMp/pUVxsiUg7s6+LiGcChEJbT29n3c3T23RybfT/H1tO+n6Gq2mlX2H0qIE6EiBQcrf8RY9/Psdh3c2z2/Rxbb/p+rInJGGNMpywgjDHGdKo/B8Sj4S6gh7Pv5+jsuzk2+36Ordd8P/32HIQxxphj689HEMYYY46hXwaEiMwVkW0islNE7gx3PeEkIoNFZKWIbBGRTSJya2B6moi8LiI7Av9NDXet4SQikSLyiYi8HHht3w8gIgNE5AUR2Rr4G5pt381hInJb4N/VRhF5VkRie9P30+8CQkQigQeBecA44GoRGRfeqsLKC3xXVccCpwE3B76PO4E3VXUU8GbgdX92K7Al6LV9P44HgFdVdQwwCec7su8GEJFc4NvAdFWdAEQCV9GLvp9+FxDATGCnqu5WVTfwHHBpmGsKG1UtVdU1ged1OP/Ac3G+kycDiz0JXBaWAnsAEckD5gN/DJrc778fEUkGzgb+BKCqblWtxr6bYFFAnIhEAfFACb3o++mPAZELFAa9LgpM6/dEJB+YAnwEZKtqKTghAmSFsbRw+zXwfcAfNM2+HxgOlAOPB5rf/igiCdh3A4CqFgP3A/uBUqBGVZfTi76f/hgQ0sm0fn8pl4gkAi8C31HV2nDX01OIyAKgTFVXh7uWHigKmAr8XlWnAA304OaSky1wbuFSYBgwCEgQkevCW9WJ6Y8BUQQMDnqdh3PY12+JiAsnHJao6t8Ckw+KSE5gfg5QFq76wuwMYKGI7MVpjvyciDyNfT/g/FsqUtWPAq9fwAkM+24c5wN7VLVcVT3A34DT6UXfT38MiFXAKBEZJiLROCeNloa5prAREcFpQ96iqv8XNGsp8OXA8y8DL53s2noCVb1LVfNUNR/nb2WFql6HfT+o6gGgUERGByadB2zGvptW+4HTRCQ+8O/sPJxzfL3m++mXN8qJyMU47cqRwGOq+tPwVhQ+InIm8C6wgcNt7P+Fcx7ieWAIzh/6l1S1MixF9hAiMgf4nqouEJF07PtBRCbjnLyPBnYDi3B+ePb77wZARH4EXIlzteAnwI1AIr3k++mXAWGMMeb4+mMTkzHGmC6wgDDGGNMpCwhjjDGdsoAwxhjTKQsIY4wxnbKAMKYTIvJ+4L/5InJNN2/7vzp7L2N6GrvM1ZhjCL734QTWiVRV3zHm16tqYjeUZ0xI2RGEMZ0QkfrA03uBs0RkbaBv/0gRuU9EVonIehH5RmD5OYFxNZ7BuekQEfmHiKwOjAewODDtXpzePdeKyJLg9xLHfYGxAzaIyJVB234raNyFJYE7c40JqahwF2BMD3cnQUcQgR19jarOEJEY4D0RWR5YdiYwQVX3BF5/VVUrRSQOWCUiL6rqnSJyi6pO7uS9Pg9MxhlXISOwzjuBeVOA8Tj9hr2H00fUv7v7wxoTzI4gjDkxFwI3iMhanO5I0oFRgXkfB4UDwLdFZB3wIU4HkaM4tjOBZ1XVp6oHgbeBGUHbLlJVP7AWyO+Gz2LMMdkRhDEnRoBvqepr7SY65yoaOrw+H5itqo0i8hYQ24VtH01L0HMf9m/XnAR2BGHMsdUBSUGvXwO+GegiHRE5JTBITkcpQFUgHMbgDOfaytO6fgfvAFcGznNk4ozW9nG3fApjPgX7FWLMsa0HvIGmoidwxmDOB9YEThSX0/mQka8CN4nIemAbTjNTq0eB9SKyRlWvDZr+d2A2sA5nEKvvq+qBQMAYc9LZZa7GGGM6ZU1MxhhjOmUBYYwxplMWEMYYYzplAWGMMaZTFhDGGGM6ZQFhjDGmUxYQxhhjOmUBYYwxplP/HxCbBfWn5BXkAAAAAElFTkSuQmCC\n",
=======
      "image/png": "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\n",
>>>>>>> Stashed changes
      "text/plain": [
       "<Figure size 432x360 with 1 Axes>"
      ]
     },
     "metadata": {
      "needs_background": "light"
     },
     "output_type": "display_data"
    }
   ],
   "source": [
    "metric = 'auc'\n",
    "\n",
    "fig = plt.figure(figsize=(6,5))\n",
    "total_iteration_count = len(evals_result[list(evals_result.keys())[0]][metric])\n",
    "for sample, vals in evals_result.items():\n",
    "    plt.plot(\n",
    "        range(1, total_iteration_count + 1), \n",
    "        vals[metric],\n",
    "        label=sample\n",
    "    )\n",
    "\n",
    "best_score = booster.best_score\n",
    "best_iteration = booster.best_iteration+1\n",
    "\n",
    "plt.plot([1, total_iteration_count], [best_score, best_score], color='black', ls='--', lw=1)\n",
    "plt.scatter([best_iteration], [best_score], color = 'black')\n",
    "plt.annotate(\n",
    "    '{:d}; {:0.3f}'.format(best_iteration, best_score), \n",
    "    xy = (best_iteration, best_score), \n",
    "    xytext = (best_iteration,best_score+0.005),\n",
    "#     textcoords = 'offset points'\n",
    ")\n",
    "plt.xlabel('iteration')\n",
    "plt.ylabel(metric)\n",
    "plt.legend(loc='best')\n",
    "plt.title(f'{metric} curves')\n",
    "plt.show()"
   ]
  },
  {
   "cell_type": "code",
<<<<<<< Updated upstream
   "execution_count": 36,
   "metadata": {
    "ExecuteTime": {
     "end_time": "2023-04-24T11:12:58.046047Z",
     "start_time": "2023-04-24T11:12:58.008513Z"
=======
   "execution_count": 170,
   "metadata": {
    "ExecuteTime": {
     "end_time": "2023-04-17T13:22:35.187234Z",
     "start_time": "2023-04-17T13:22:35.159232Z"
>>>>>>> Stashed changes
    }
   },
   "outputs": [
    {
     "name": "stdout",
     "output_type": "stream",
     "text": [
      "no_of_adults                            13.574857\n",
      "no_of_children                          84.554885\n",
      "no_of_weekend_nights                    76.312123\n",
      "no_of_week_nights                       25.626258\n",
      "type_of_meal_plan                       49.326521\n",
      "required_car_parking_space              45.273262\n",
      "room_type_reserved                      65.183465\n",
      "lead_time                               78.783093\n",
      "arrival_year                             9.180988\n",
      "arrival_month                            2.774423\n",
      "arrival_date                            83.303917\n",
      "market_segment_type                     43.229602\n",
      "repeated_guest                          76.528874\n",
      "no_of_previous_cancellations             0.213655\n",
      "no_of_previous_bookings_not_canceled    44.790215\n",
      "avg_price_per_room                      72.237188\n",
      "no_of_special_requests                  22.799195\n",
      "booking_status                           0.000000\n",
      "sample                                   0.000000\n",
      "MTE_type_of_meal_plan                   49.326521\n",
      "MTE_room_type_reserved                  65.183465\n",
      "MTE_market_segment_type                 43.229602\n",
<<<<<<< Updated upstream
      "MTE_arrival_month                        2.774423\n",
      "dtype: float64\n",
      "[ 0.          0.          0.21365536  2.77442329  2.77442329  9.18098777\n",
      " 13.57485679 22.79919492 25.62625793 43.22960211 43.22960211 44.7902152\n",
      " 45.27326211 49.32652113 49.32652113 65.18346493 65.18346493 72.23718842\n",
      " 76.31212262 76.52887444 78.78309336 83.30391702 84.55488466]\n"
=======
      "dtype: float64\n",
      "[ 0.          0.          0.21365536  2.77442329  9.18098777 13.57485679\n",
      " 22.79919492 25.62625793 43.22960211 43.22960211 44.7902152  45.27326211\n",
      " 49.32652113 49.32652113 65.18346493 65.18346493 72.23718842 76.31212262\n",
      " 76.52887444 78.78309336 83.30391702 84.55488466]\n"
>>>>>>> Stashed changes
     ]
    }
   ],
   "source": [
    "percent_nan_in_each_col = (data.isna().sum()/(len(data))*100)\n",
    "print(percent_nan_in_each_col)\n",
    "print(np.sort(percent_nan_in_each_col))"
   ]
  },
  {
   "cell_type": "code",
<<<<<<< Updated upstream
   "execution_count": 37,
   "metadata": {
    "ExecuteTime": {
     "end_time": "2023-04-24T11:13:33.045184Z",
     "start_time": "2023-04-24T11:13:32.551833Z"
=======
   "execution_count": 171,
   "metadata": {
    "ExecuteTime": {
     "end_time": "2023-04-17T13:22:36.160429Z",
     "start_time": "2023-04-17T13:22:35.867109Z"
>>>>>>> Stashed changes
    }
   },
   "outputs": [
    {
     "name": "stdout",
     "output_type": "stream",
     "text": [
      "                               predictor   strength\n",
<<<<<<< Updated upstream
      "0                           arrival_year  38.512685\n",
      "1                 no_of_special_requests  25.756696\n",
      "2                MTE_market_segment_type  21.732730\n",
      "3                      MTE_arrival_month  17.887769\n",
      "4                              lead_time  15.675953\n",
      "5                           no_of_adults   9.960220\n",
      "6   no_of_previous_bookings_not_canceled   9.710450\n",
      "7                  MTE_type_of_meal_plan   8.503809\n",
      "8             required_car_parking_space   7.879530\n",
      "9                      no_of_week_nights   7.831687\n",
      "10                    avg_price_per_room   6.477318\n",
      "11                  no_of_weekend_nights   5.486251\n",
      "12                MTE_room_type_reserved   4.402821\n",
      "13                        repeated_guest   4.001033\n",
      "14                        no_of_children   3.842909\n",
      "15                          arrival_date   3.390364\n",
      "16          no_of_previous_cancellations   2.638611\n"
=======
      "0                           arrival_year  28.121881\n",
      "1                 no_of_special_requests  19.803751\n",
      "2                MTE_market_segment_type  11.727921\n",
      "3                          arrival_month  11.489817\n",
      "4                              lead_time  10.405925\n",
      "5   no_of_previous_bookings_not_canceled   5.925127\n",
      "6                           no_of_adults   5.918131\n",
      "7                  MTE_type_of_meal_plan   5.343829\n",
      "8                     avg_price_per_room   5.280331\n",
      "9             required_car_parking_space   5.013137\n",
      "10                     no_of_week_nights   4.749138\n",
      "11                  no_of_weekend_nights   4.220304\n",
      "12                          arrival_date   3.221134\n",
      "13                        repeated_guest   3.157902\n",
      "14                        no_of_children   3.013383\n",
      "15                MTE_room_type_reserved   3.000659\n",
      "16          no_of_previous_cancellations   2.485701\n"
>>>>>>> Stashed changes
     ]
    },
    {
     "data": {
<<<<<<< Updated upstream
      "image/png": "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\n",
=======
      "image/png": "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\n",
>>>>>>> Stashed changes
      "text/plain": [
       "<Figure size 432x360 with 1 Axes>"
      ]
     },
     "metadata": {
      "needs_background": "light"
     },
     "output_type": "display_data"
    }
   ],
   "source": [
    "importance_type = 'gain'\n",
    "\n",
    "predictor_strength = sorted([(k, v) for k,v in booster.get_score(importance_type = importance_type).items()], key = lambda x: x[1], reverse = True)\n",
    "predictor_strength = pd.DataFrame(predictor_strength, columns = ['predictor', 'strength'])\n",
    "fig = plt.figure(figsize=(6,5))\n",
    "print(predictor_strength)\n",
    "n_strongest = 16\n",
    "plt.barh(range(n_strongest, 0, -1), predictor_strength['strength'].iloc[0:16])\n",
    "plt.yticks(range(n_strongest, 0, -1), predictor_strength['predictor'].iloc[0:16])\n",
    "plt.xlabel(importance_type)\n",
    "plt.title('Predictor importance')\n",
    "plt.show()"
   ]
  },
  {
   "cell_type": "markdown",
   "metadata": {},
   "source": [
    "Arrival date je blbost a ma maly vliv ,tak ho muzu vyhodt.\n",
    "\n",
    "Number of children,repeated guest,no_of_weekend_nights, a room type reserved ma hodne unavailable a ma maly vliv, tak ho vyhodim\n",
    "\n",
    "S otaznikem zustava\n",
    "avg_price_per_room                      72.237188\n",
    "MTE_type_of_meal_plan                   49.326521\n",
    "required_car_parking_space              45.273262\n",
    "no_of_previous_bookings_not_canceled    44.790215\n",
    "\n",
    "nizky vliv ma take no_of_previous_cancellations   1.826715, asi proto, ze tam jsou vsechny pozorovani skoro stejny, tka to klidne muzu vyhodit, ale tim spis nechat no of previous not canceled.\n",
    "\n",
    "\n",
    "\n",
    "no_of_previous cancelations ma fakt malo NAN a je docela uzitecne. mohlo by se pouzit pro stratifikaci. jenze ma taky skoro vzdy odpoved 0, takze zas tak zajimavy neni. Dal by se zvazit pocet mesicu.\n",
    "lead_time ma hodne NaN, ale i tak je vcelku logicky uzitecny\n",
    "\n",
    "no_of_adults: Number of adults\n",
    "no_of_children: Number of Children\n",
    "no_of_weekend_nights: Number of weekend nights (Saturday or Sunday) the guest stayed or booked to stay at the hotel\n",
    "no_of_week_nights: Number of week nights (Monday to Friday) the guest stayed or booked to stay at the hotel\n",
    "type_of_meal_plan: Type of meal plan booked by the customer:\n",
    "required_car_parking_space: Does the customer require a car parking space? (0 - No, 1- Yes)\n",
    "room_type_reserved: Type of room reserved by the customer. The values are ciphered (encoded) by INN Hotels.\n",
    "lead_time: Number of days between the date of booking and the arrival date\n",
    "arrival_year: Year of arrival date\n",
    "arrival_month: Month of arrival date\n",
    "arrival_date: Date of the month\n",
    "market_segment_type: Market segment designation.\n",
    "repeated_guest: Is the customer a repeated guest? (0 - No, 1- Yes)\n",
    "no_of_previous_cancellations: Number of previous bookings that were canceled by the customer prior to the current booking\n",
    "no_of_previous_bookings_not_canceled: Number of previous bookings not canceled by the customer prior to the current booking\n",
    "avg_price_per_room: Average price per day of the reservation; prices of the rooms are dynamic. (in euros)\n",
    "no_of_special_requests: Total number of special requests made by the customer (e.g. high floor, view from the room, etc)\n"
   ]
<<<<<<< Updated upstream
=======
  },
  {
   "cell_type": "code",
   "execution_count": 172,
   "metadata": {
    "ExecuteTime": {
     "end_time": "2023-04-17T13:22:37.799725Z",
     "start_time": "2023-04-17T13:22:37.786721Z"
    }
   },
   "outputs": [
    {
     "data": {
      "text/plain": [
       "['no_of_adults',\n",
       " 'no_of_children',\n",
       " 'no_of_weekend_nights',\n",
       " 'no_of_week_nights',\n",
       " 'required_car_parking_space',\n",
       " 'lead_time',\n",
       " 'arrival_year',\n",
       " 'arrival_month',\n",
       " 'arrival_date',\n",
       " 'repeated_guest',\n",
       " 'no_of_previous_cancellations',\n",
       " 'no_of_previous_bookings_not_canceled',\n",
       " 'avg_price_per_room',\n",
       " 'no_of_special_requests',\n",
       " 'MTE_type_of_meal_plan',\n",
       " 'MTE_room_type_reserved',\n",
       " 'MTE_market_segment_type']"
      ]
     },
     "execution_count": 172,
     "metadata": {},
     "output_type": "execute_result"
    }
   ],
   "source": [
    "cols_pred"
   ]
  },
  {
   "cell_type": "code",
   "execution_count": 176,
   "metadata": {
    "ExecuteTime": {
     "end_time": "2023-04-17T13:28:02.102017Z",
     "start_time": "2023-04-17T13:28:02.085013Z"
    }
   },
   "outputs": [],
   "source": [
    "#cols_pred.remove(['arrival_date','no_of_children','no_of_weekend_nights','MTE_room_type_reserved','repeated_guest','no_of_previous_cancellations'])\n",
    "cols_pred = [e for e in cols_pred if e not in ('arrival_date','no_of_children','no_of_weekend_nights','MTE_room_type_reserved','repeated_guest','no_of_previous_cancellations')]\n",
    "cols_pred\n",
    "\n",
    "\n",
    "# define list of numerical predictors\n",
    "cols_pred_num = [col for col in cols_pred if data[col].dtype != 'O']\n",
    "# define list of categorical predictors\n",
    "cols_pred_cat = [col for col in cols_pred if data[col].dtype == 'O']\n"
   ]
  },
  {
   "cell_type": "code",
   "execution_count": 177,
   "metadata": {
    "ExecuteTime": {
     "end_time": "2023-04-17T13:28:30.706731Z",
     "start_time": "2023-04-17T13:28:28.647512Z"
    }
   },
   "outputs": [
    {
     "name": "stdout",
     "output_type": "stream",
     "text": [
      "[0]\ttrain-auc:0.68766\ttest-auc:0.67843\tvalid-auc:0.69111\n",
      "[1]\ttrain-auc:0.71790\ttest-auc:0.71327\tvalid-auc:0.72575\n",
      "[2]\ttrain-auc:0.73349\ttest-auc:0.73155\tvalid-auc:0.74211\n",
      "[3]\ttrain-auc:0.75114\ttest-auc:0.74508\tvalid-auc:0.75411\n",
      "[4]\ttrain-auc:0.75979\ttest-auc:0.75433\tvalid-auc:0.76012\n",
      "[5]\ttrain-auc:0.76768\ttest-auc:0.75927\tvalid-auc:0.77082\n",
      "[6]\ttrain-auc:0.77015\ttest-auc:0.76064\tvalid-auc:0.77074\n",
      "[7]\ttrain-auc:0.77439\ttest-auc:0.76693\tvalid-auc:0.77798\n",
      "[8]\ttrain-auc:0.77519\ttest-auc:0.76896\tvalid-auc:0.77931\n",
      "[9]\ttrain-auc:0.77966\ttest-auc:0.77167\tvalid-auc:0.78351\n",
      "[10]\ttrain-auc:0.78253\ttest-auc:0.77419\tvalid-auc:0.78668\n",
      "[11]\ttrain-auc:0.78646\ttest-auc:0.77731\tvalid-auc:0.79080\n",
      "[12]\ttrain-auc:0.78840\ttest-auc:0.77839\tvalid-auc:0.79182\n",
      "[13]\ttrain-auc:0.79056\ttest-auc:0.78119\tvalid-auc:0.79343\n",
      "[14]\ttrain-auc:0.79216\ttest-auc:0.78241\tvalid-auc:0.79458\n",
      "[15]\ttrain-auc:0.79292\ttest-auc:0.78354\tvalid-auc:0.79539\n",
      "[16]\ttrain-auc:0.79350\ttest-auc:0.78497\tvalid-auc:0.79613\n",
      "[17]\ttrain-auc:0.79435\ttest-auc:0.78594\tvalid-auc:0.79641\n",
      "[18]\ttrain-auc:0.79511\ttest-auc:0.78693\tvalid-auc:0.79707\n",
      "[19]\ttrain-auc:0.79613\ttest-auc:0.78773\tvalid-auc:0.79837\n",
      "[20]\ttrain-auc:0.79666\ttest-auc:0.78810\tvalid-auc:0.79899\n",
      "[21]\ttrain-auc:0.79807\ttest-auc:0.78956\tvalid-auc:0.79969\n",
      "[22]\ttrain-auc:0.79888\ttest-auc:0.79021\tvalid-auc:0.80033\n",
      "[23]\ttrain-auc:0.79893\ttest-auc:0.79046\tvalid-auc:0.80050\n",
      "[24]\ttrain-auc:0.79915\ttest-auc:0.79059\tvalid-auc:0.80041\n",
      "[25]\ttrain-auc:0.79980\ttest-auc:0.79155\tvalid-auc:0.80089\n",
      "[26]\ttrain-auc:0.80022\ttest-auc:0.79170\tvalid-auc:0.80134\n",
      "[27]\ttrain-auc:0.80127\ttest-auc:0.79177\tvalid-auc:0.80164\n",
      "[28]\ttrain-auc:0.80154\ttest-auc:0.79203\tvalid-auc:0.80182\n",
      "[29]\ttrain-auc:0.80197\ttest-auc:0.79288\tvalid-auc:0.80247\n",
      "[30]\ttrain-auc:0.80297\ttest-auc:0.79319\tvalid-auc:0.80271\n",
      "[31]\ttrain-auc:0.80325\ttest-auc:0.79346\tvalid-auc:0.80299\n",
      "[32]\ttrain-auc:0.80351\ttest-auc:0.79359\tvalid-auc:0.80288\n",
      "[33]\ttrain-auc:0.80356\ttest-auc:0.79367\tvalid-auc:0.80298\n",
      "[34]\ttrain-auc:0.80442\ttest-auc:0.79438\tvalid-auc:0.80288\n",
      "[35]\ttrain-auc:0.80488\ttest-auc:0.79456\tvalid-auc:0.80357\n",
      "[36]\ttrain-auc:0.80606\ttest-auc:0.79567\tvalid-auc:0.80391\n",
      "[37]\ttrain-auc:0.80619\ttest-auc:0.79582\tvalid-auc:0.80404\n",
      "[38]\ttrain-auc:0.80653\ttest-auc:0.79599\tvalid-auc:0.80417\n",
      "[39]\ttrain-auc:0.80709\ttest-auc:0.79619\tvalid-auc:0.80455\n",
      "[40]\ttrain-auc:0.80732\ttest-auc:0.79633\tvalid-auc:0.80465\n",
      "[41]\ttrain-auc:0.80736\ttest-auc:0.79644\tvalid-auc:0.80469\n",
      "[42]\ttrain-auc:0.80797\ttest-auc:0.79669\tvalid-auc:0.80525\n",
      "[43]\ttrain-auc:0.80796\ttest-auc:0.79664\tvalid-auc:0.80520\n",
      "[44]\ttrain-auc:0.80837\ttest-auc:0.79693\tvalid-auc:0.80529\n",
      "[45]\ttrain-auc:0.80878\ttest-auc:0.79723\tvalid-auc:0.80528\n",
      "[46]\ttrain-auc:0.80902\ttest-auc:0.79738\tvalid-auc:0.80553\n",
      "[47]\ttrain-auc:0.80953\ttest-auc:0.79766\tvalid-auc:0.80551\n",
      "[48]\ttrain-auc:0.80961\ttest-auc:0.79783\tvalid-auc:0.80565\n",
      "[49]\ttrain-auc:0.80980\ttest-auc:0.79787\tvalid-auc:0.80576\n",
      "[50]\ttrain-auc:0.80985\ttest-auc:0.79797\tvalid-auc:0.80585\n",
      "[51]\ttrain-auc:0.81000\ttest-auc:0.79801\tvalid-auc:0.80585\n",
      "[52]\ttrain-auc:0.81026\ttest-auc:0.79792\tvalid-auc:0.80586\n",
      "[53]\ttrain-auc:0.81024\ttest-auc:0.79797\tvalid-auc:0.80587\n",
      "[54]\ttrain-auc:0.81125\ttest-auc:0.79878\tvalid-auc:0.80675\n",
      "[55]\ttrain-auc:0.81144\ttest-auc:0.79874\tvalid-auc:0.80688\n",
      "[56]\ttrain-auc:0.81170\ttest-auc:0.79866\tvalid-auc:0.80702\n",
      "[57]\ttrain-auc:0.81210\ttest-auc:0.79905\tvalid-auc:0.80710\n",
      "[58]\ttrain-auc:0.81212\ttest-auc:0.79907\tvalid-auc:0.80713\n",
      "[59]\ttrain-auc:0.81214\ttest-auc:0.79903\tvalid-auc:0.80687\n",
      "[60]\ttrain-auc:0.81223\ttest-auc:0.79898\tvalid-auc:0.80690\n",
      "[61]\ttrain-auc:0.81256\ttest-auc:0.79897\tvalid-auc:0.80666\n",
      "[62]\ttrain-auc:0.81265\ttest-auc:0.79888\tvalid-auc:0.80666\n",
      "[63]\ttrain-auc:0.81281\ttest-auc:0.79912\tvalid-auc:0.80679\n",
      "[64]\ttrain-auc:0.81306\ttest-auc:0.79909\tvalid-auc:0.80658\n",
      "[65]\ttrain-auc:0.81373\ttest-auc:0.79890\tvalid-auc:0.80666\n",
      "[66]\ttrain-auc:0.81418\ttest-auc:0.79926\tvalid-auc:0.80700\n",
      "[67]\ttrain-auc:0.81471\ttest-auc:0.79961\tvalid-auc:0.80713\n",
      "[68]\ttrain-auc:0.81540\ttest-auc:0.80015\tvalid-auc:0.80751\n",
      "[69]\ttrain-auc:0.81608\ttest-auc:0.80034\tvalid-auc:0.80760\n",
      "[70]\ttrain-auc:0.81625\ttest-auc:0.80050\tvalid-auc:0.80773\n",
      "[71]\ttrain-auc:0.81628\ttest-auc:0.80050\tvalid-auc:0.80777\n",
      "[72]\ttrain-auc:0.81628\ttest-auc:0.80048\tvalid-auc:0.80780\n",
      "[73]\ttrain-auc:0.81661\ttest-auc:0.80067\tvalid-auc:0.80805\n",
      "[74]\ttrain-auc:0.81664\ttest-auc:0.80066\tvalid-auc:0.80817\n",
      "[75]\ttrain-auc:0.81721\ttest-auc:0.80119\tvalid-auc:0.80844\n",
      "[76]\ttrain-auc:0.81748\ttest-auc:0.80112\tvalid-auc:0.80843\n",
      "[77]\ttrain-auc:0.81776\ttest-auc:0.80108\tvalid-auc:0.80835\n",
      "[78]\ttrain-auc:0.81832\ttest-auc:0.80133\tvalid-auc:0.80842\n",
      "[79]\ttrain-auc:0.81886\ttest-auc:0.80180\tvalid-auc:0.80863\n",
      "[80]\ttrain-auc:0.81922\ttest-auc:0.80209\tvalid-auc:0.80913\n",
      "[81]\ttrain-auc:0.81963\ttest-auc:0.80233\tvalid-auc:0.80919\n",
      "[82]\ttrain-auc:0.81992\ttest-auc:0.80246\tvalid-auc:0.80924\n",
      "[83]\ttrain-auc:0.82035\ttest-auc:0.80249\tvalid-auc:0.80916\n",
      "[84]\ttrain-auc:0.82046\ttest-auc:0.80239\tvalid-auc:0.80907\n",
      "[85]\ttrain-auc:0.82058\ttest-auc:0.80235\tvalid-auc:0.80923\n",
      "[86]\ttrain-auc:0.82100\ttest-auc:0.80217\tvalid-auc:0.80889\n",
      "[87]\ttrain-auc:0.82106\ttest-auc:0.80222\tvalid-auc:0.80889\n",
      "[88]\ttrain-auc:0.82115\ttest-auc:0.80234\tvalid-auc:0.80895\n",
      "[89]\ttrain-auc:0.82171\ttest-auc:0.80291\tvalid-auc:0.80966\n",
      "[90]\ttrain-auc:0.82209\ttest-auc:0.80318\tvalid-auc:0.80974\n",
      "[91]\ttrain-auc:0.82218\ttest-auc:0.80323\tvalid-auc:0.80990\n",
      "[92]\ttrain-auc:0.82218\ttest-auc:0.80325\tvalid-auc:0.80993\n",
      "[93]\ttrain-auc:0.82245\ttest-auc:0.80314\tvalid-auc:0.81000\n",
      "[94]\ttrain-auc:0.82259\ttest-auc:0.80325\tvalid-auc:0.81004\n",
      "[95]\ttrain-auc:0.82264\ttest-auc:0.80317\tvalid-auc:0.81002\n",
      "[96]\ttrain-auc:0.82268\ttest-auc:0.80320\tvalid-auc:0.81005\n",
      "[97]\ttrain-auc:0.82277\ttest-auc:0.80344\tvalid-auc:0.81020\n",
      "[98]\ttrain-auc:0.82312\ttest-auc:0.80368\tvalid-auc:0.81053\n",
      "[99]\ttrain-auc:0.82328\ttest-auc:0.80356\tvalid-auc:0.81053\n",
      "[100]\ttrain-auc:0.82368\ttest-auc:0.80375\tvalid-auc:0.81070\n",
      "[101]\ttrain-auc:0.82393\ttest-auc:0.80387\tvalid-auc:0.81060\n",
      "[102]\ttrain-auc:0.82406\ttest-auc:0.80388\tvalid-auc:0.81067\n",
      "[103]\ttrain-auc:0.82447\ttest-auc:0.80383\tvalid-auc:0.81077\n",
      "[104]\ttrain-auc:0.82491\ttest-auc:0.80393\tvalid-auc:0.81098\n",
      "[105]\ttrain-auc:0.82492\ttest-auc:0.80385\tvalid-auc:0.81086\n",
      "[106]\ttrain-auc:0.82495\ttest-auc:0.80376\tvalid-auc:0.81083\n",
      "[107]\ttrain-auc:0.82511\ttest-auc:0.80373\tvalid-auc:0.81082\n",
      "[108]\ttrain-auc:0.82545\ttest-auc:0.80344\tvalid-auc:0.81088\n",
      "[109]\ttrain-auc:0.82581\ttest-auc:0.80345\tvalid-auc:0.81072\n",
      "[110]\ttrain-auc:0.82591\ttest-auc:0.80345\tvalid-auc:0.81065\n",
      "[111]\ttrain-auc:0.82629\ttest-auc:0.80369\tvalid-auc:0.81088\n",
      "[112]\ttrain-auc:0.82653\ttest-auc:0.80347\tvalid-auc:0.81108\n",
      "[113]\ttrain-auc:0.82678\ttest-auc:0.80344\tvalid-auc:0.81104\n",
      "[114]\ttrain-auc:0.82702\ttest-auc:0.80344\tvalid-auc:0.81115\n",
      "[115]\ttrain-auc:0.82704\ttest-auc:0.80336\tvalid-auc:0.81114\n",
      "[116]\ttrain-auc:0.82724\ttest-auc:0.80343\tvalid-auc:0.81111\n",
      "[117]\ttrain-auc:0.82726\ttest-auc:0.80348\tvalid-auc:0.81109\n",
      "[118]\ttrain-auc:0.82727\ttest-auc:0.80347\tvalid-auc:0.81108\n",
      "[119]\ttrain-auc:0.82729\ttest-auc:0.80343\tvalid-auc:0.81107\n",
      "[120]\ttrain-auc:0.82733\ttest-auc:0.80343\tvalid-auc:0.81112\n",
      "[121]\ttrain-auc:0.82754\ttest-auc:0.80355\tvalid-auc:0.81134\n",
      "[122]\ttrain-auc:0.82767\ttest-auc:0.80360\tvalid-auc:0.81139\n",
      "[123]\ttrain-auc:0.82799\ttest-auc:0.80371\tvalid-auc:0.81129\n",
      "[124]\ttrain-auc:0.82812\ttest-auc:0.80378\tvalid-auc:0.81131\n",
      "[125]\ttrain-auc:0.82846\ttest-auc:0.80354\tvalid-auc:0.81122\n",
      "[126]\ttrain-auc:0.82853\ttest-auc:0.80360\tvalid-auc:0.81119\n",
      "[127]\ttrain-auc:0.82910\ttest-auc:0.80386\tvalid-auc:0.81143\n",
      "[128]\ttrain-auc:0.82937\ttest-auc:0.80407\tvalid-auc:0.81176\n",
      "[129]\ttrain-auc:0.82948\ttest-auc:0.80406\tvalid-auc:0.81168\n",
      "[130]\ttrain-auc:0.82975\ttest-auc:0.80447\tvalid-auc:0.81175\n",
      "[131]\ttrain-auc:0.83012\ttest-auc:0.80439\tvalid-auc:0.81163\n",
      "[132]\ttrain-auc:0.83028\ttest-auc:0.80445\tvalid-auc:0.81174\n",
      "[133]\ttrain-auc:0.83031\ttest-auc:0.80437\tvalid-auc:0.81160\n",
      "[134]\ttrain-auc:0.83047\ttest-auc:0.80451\tvalid-auc:0.81187\n",
      "[135]\ttrain-auc:0.83071\ttest-auc:0.80460\tvalid-auc:0.81195\n",
      "[136]\ttrain-auc:0.83077\ttest-auc:0.80461\tvalid-auc:0.81196\n",
      "[137]\ttrain-auc:0.83098\ttest-auc:0.80477\tvalid-auc:0.81225\n",
      "[138]\ttrain-auc:0.83134\ttest-auc:0.80473\tvalid-auc:0.81206\n",
      "[139]\ttrain-auc:0.83171\ttest-auc:0.80475\tvalid-auc:0.81224\n",
      "[140]\ttrain-auc:0.83185\ttest-auc:0.80483\tvalid-auc:0.81231\n"
     ]
    },
    {
     "name": "stdout",
     "output_type": "stream",
     "text": [
      "[141]\ttrain-auc:0.83191\ttest-auc:0.80493\tvalid-auc:0.81233\n",
      "[142]\ttrain-auc:0.83223\ttest-auc:0.80500\tvalid-auc:0.81245\n",
      "[143]\ttrain-auc:0.83233\ttest-auc:0.80497\tvalid-auc:0.81239\n",
      "[144]\ttrain-auc:0.83240\ttest-auc:0.80502\tvalid-auc:0.81248\n",
      "[145]\ttrain-auc:0.83249\ttest-auc:0.80507\tvalid-auc:0.81241\n",
      "[146]\ttrain-auc:0.83276\ttest-auc:0.80491\tvalid-auc:0.81216\n",
      "[147]\ttrain-auc:0.83291\ttest-auc:0.80490\tvalid-auc:0.81215\n",
      "[148]\ttrain-auc:0.83293\ttest-auc:0.80494\tvalid-auc:0.81218\n",
      "[149]\ttrain-auc:0.83298\ttest-auc:0.80487\tvalid-auc:0.81219\n",
      "[150]\ttrain-auc:0.83311\ttest-auc:0.80476\tvalid-auc:0.81203\n",
      "[151]\ttrain-auc:0.83317\ttest-auc:0.80478\tvalid-auc:0.81204\n",
      "[152]\ttrain-auc:0.83331\ttest-auc:0.80478\tvalid-auc:0.81216\n",
      "[153]\ttrain-auc:0.83347\ttest-auc:0.80486\tvalid-auc:0.81212\n"
     ]
    }
   ],
   "source": [
    "\n",
    "\n",
    "# set best parameters to be used in XGBoost\n",
    "params = {    \n",
    "     'max_depth': 3,\n",
    "    \n",
    "    'objective': 'binary:logistic',\n",
    "    'eval_metric': 'auc',\n",
    "}\n",
    "\n",
    "evals_result = {}\n",
    "booster = xgb.train(\n",
    "    params = params,\n",
    "    dtrain = xgb.DMatrix(data[train_mask][cols_pred], data[train_mask][col_target]),\n",
    "    num_boost_round = 1000,\n",
    "    evals = (\n",
    "        (xgb.DMatrix(data[train_mask][cols_pred], data[train_mask][col_target]), 'train'),\n",
    "        (xgb.DMatrix(data[test_mask][cols_pred], data[test_mask][col_target]), 'test'),\n",
    "        (xgb.DMatrix(data[valid_mask][cols_pred], data[valid_mask][col_target]), 'valid')\n",
    "    ),\n",
    "    evals_result = evals_result,\n",
    "    early_stopping_rounds = 10\n",
    ")"
   ]
  },
  {
   "cell_type": "code",
   "execution_count": 178,
   "metadata": {
    "ExecuteTime": {
     "end_time": "2023-04-17T13:29:11.673946Z",
     "start_time": "2023-04-17T13:29:11.392261Z"
    }
   },
   "outputs": [
    {
     "data": {
      "image/png": "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\n",
      "text/plain": [
       "<Figure size 432x360 with 1 Axes>"
      ]
     },
     "metadata": {
      "needs_background": "light"
     },
     "output_type": "display_data"
    }
   ],
   "source": [
    "metric = 'auc'\n",
    "\n",
    "fig = plt.figure(figsize=(6,5))\n",
    "total_iteration_count = len(evals_result[list(evals_result.keys())[0]][metric])\n",
    "for sample, vals in evals_result.items():\n",
    "    plt.plot(\n",
    "        range(1, total_iteration_count + 1), \n",
    "        vals[metric],\n",
    "        label=sample\n",
    "    )\n",
    "\n",
    "best_score = booster.best_score\n",
    "best_iteration = booster.best_iteration+1\n",
    "\n",
    "plt.plot([1, total_iteration_count], [best_score, best_score], color='black', ls='--', lw=1)\n",
    "plt.scatter([best_iteration], [best_score], color = 'black')\n",
    "plt.annotate(\n",
    "    '{:d}; {:0.3f}'.format(best_iteration, best_score), \n",
    "    xy = (best_iteration, best_score), \n",
    "    xytext = (best_iteration,best_score+0.005),\n",
    "#     textcoords = 'offset points'\n",
    ")\n",
    "plt.xlabel('iteration')\n",
    "plt.ylabel(metric)\n",
    "plt.legend(loc='best')\n",
    "plt.title(f'{metric} curves')\n",
    "plt.show()"
   ]
  },
  {
   "cell_type": "code",
   "execution_count": 180,
   "metadata": {
    "ExecuteTime": {
     "end_time": "2023-04-17T13:31:49.934033Z",
     "start_time": "2023-04-17T13:31:49.680647Z"
    }
   },
   "outputs": [
    {
     "name": "stdout",
     "output_type": "stream",
     "text": [
      "                               predictor   strength\n",
      "0                           arrival_year  38.879046\n",
      "1                 no_of_special_requests  31.019988\n",
      "2                MTE_market_segment_type  17.546655\n",
      "3                          arrival_month  16.346513\n",
      "4                              lead_time  12.702463\n",
      "5   no_of_previous_bookings_not_canceled   8.377751\n",
      "6                           no_of_adults   7.913584\n",
      "7             required_car_parking_space   7.818197\n",
      "8                      no_of_week_nights   7.157498\n",
      "9                  MTE_type_of_meal_plan   7.096951\n",
      "10                    avg_price_per_room   5.505131\n"
     ]
    },
    {
     "data": {
      "image/png": "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\n",
      "text/plain": [
       "<Figure size 432x360 with 1 Axes>"
      ]
     },
     "metadata": {
      "needs_background": "light"
     },
     "output_type": "display_data"
    }
   ],
   "source": [
    "importance_type = 'gain'\n",
    "\n",
    "predictor_strength = sorted([(k, v) for k,v in booster.get_score(importance_type = importance_type).items()], key = lambda x: x[1], reverse = True)\n",
    "predictor_strength = pd.DataFrame(predictor_strength, columns = ['predictor', 'strength'])\n",
    "fig = plt.figure(figsize=(6,5))\n",
    "print(predictor_strength)\n",
    "n_strongest = 10\n",
    "plt.barh(range(n_strongest, 0, -1), predictor_strength['strength'].iloc[0:10])\n",
    "plt.yticks(range(n_strongest, 0, -1), predictor_strength['predictor'].iloc[0:10])\n",
    "plt.xlabel(importance_type)\n",
    "plt.title('Predictor importance')\n",
    "plt.show()"
   ]
  },
  {
   "cell_type": "code",
   "execution_count": null,
   "metadata": {},
   "outputs": [],
   "source": []
  },
  {
   "cell_type": "code",
   "execution_count": 63,
   "metadata": {
    "ExecuteTime": {
     "end_time": "2023-04-17T12:37:34.678280Z",
     "start_time": "2023-04-17T12:37:33.569204Z"
    }
   },
   "outputs": [
    {
     "name": "stdout",
     "output_type": "stream",
     "text": [
      "[0]\tvalidation_0-auc:0.75479\tvalidation_1-auc:0.74260\tvalidation_2-auc:0.75516\n",
      "[1]\tvalidation_0-auc:0.77766\tvalidation_1-auc:0.76341\tvalidation_2-auc:0.78225\n",
      "[2]\tvalidation_0-auc:0.78554\tvalidation_1-auc:0.77463\tvalidation_2-auc:0.78640\n",
      "[3]\tvalidation_0-auc:0.79332\tvalidation_1-auc:0.78151\tvalidation_2-auc:0.79053\n",
      "[4]\tvalidation_0-auc:0.79841\tvalidation_1-auc:0.78475\tvalidation_2-auc:0.79244\n",
      "[5]\tvalidation_0-auc:0.80293\tvalidation_1-auc:0.78793\tvalidation_2-auc:0.79706\n",
      "[6]\tvalidation_0-auc:0.80753\tvalidation_1-auc:0.79181\tvalidation_2-auc:0.80129\n",
      "[7]\tvalidation_0-auc:0.81076\tvalidation_1-auc:0.79487\tvalidation_2-auc:0.80431\n",
      "[8]\tvalidation_0-auc:0.81249\tvalidation_1-auc:0.79567\tvalidation_2-auc:0.80522\n",
      "[9]\tvalidation_0-auc:0.81357\tvalidation_1-auc:0.79734\tvalidation_2-auc:0.80630\n",
      "[10]\tvalidation_0-auc:0.81649\tvalidation_1-auc:0.79877\tvalidation_2-auc:0.80766\n",
      "[11]\tvalidation_0-auc:0.81904\tvalidation_1-auc:0.79919\tvalidation_2-auc:0.80879\n",
      "[12]\tvalidation_0-auc:0.82040\tvalidation_1-auc:0.80004\tvalidation_2-auc:0.80949\n",
      "[13]\tvalidation_0-auc:0.82138\tvalidation_1-auc:0.80106\tvalidation_2-auc:0.81014\n",
      "[14]\tvalidation_0-auc:0.82522\tvalidation_1-auc:0.80073\tvalidation_2-auc:0.81125\n",
      "[15]\tvalidation_0-auc:0.82666\tvalidation_1-auc:0.80179\tvalidation_2-auc:0.81189\n",
      "[16]\tvalidation_0-auc:0.82792\tvalidation_1-auc:0.80238\tvalidation_2-auc:0.81213\n",
      "[17]\tvalidation_0-auc:0.82874\tvalidation_1-auc:0.80383\tvalidation_2-auc:0.81306\n",
      "[18]\tvalidation_0-auc:0.83037\tvalidation_1-auc:0.80440\tvalidation_2-auc:0.81403\n",
      "[19]\tvalidation_0-auc:0.83353\tvalidation_1-auc:0.80532\tvalidation_2-auc:0.81439\n",
      "[20]\tvalidation_0-auc:0.83416\tvalidation_1-auc:0.80577\tvalidation_2-auc:0.81434\n",
      "[21]\tvalidation_0-auc:0.83445\tvalidation_1-auc:0.80596\tvalidation_2-auc:0.81435\n",
      "[22]\tvalidation_0-auc:0.83512\tvalidation_1-auc:0.80624\tvalidation_2-auc:0.81425\n",
      "[23]\tvalidation_0-auc:0.83602\tvalidation_1-auc:0.80631\tvalidation_2-auc:0.81421\n",
      "[24]\tvalidation_0-auc:0.83731\tvalidation_1-auc:0.80700\tvalidation_2-auc:0.81433\n",
      "[25]\tvalidation_0-auc:0.83863\tvalidation_1-auc:0.80739\tvalidation_2-auc:0.81475\n",
      "[26]\tvalidation_0-auc:0.83955\tvalidation_1-auc:0.80772\tvalidation_2-auc:0.81498\n",
      "[27]\tvalidation_0-auc:0.84132\tvalidation_1-auc:0.80764\tvalidation_2-auc:0.81512\n",
      "[28]\tvalidation_0-auc:0.84188\tvalidation_1-auc:0.80790\tvalidation_2-auc:0.81511\n",
      "[29]\tvalidation_0-auc:0.84203\tvalidation_1-auc:0.80810\tvalidation_2-auc:0.81523\n",
      "[30]\tvalidation_0-auc:0.84280\tvalidation_1-auc:0.80800\tvalidation_2-auc:0.81522\n",
      "[31]\tvalidation_0-auc:0.84282\tvalidation_1-auc:0.80809\tvalidation_2-auc:0.81511\n",
      "[32]\tvalidation_0-auc:0.84545\tvalidation_1-auc:0.80779\tvalidation_2-auc:0.81509\n",
      "[33]\tvalidation_0-auc:0.84830\tvalidation_1-auc:0.80767\tvalidation_2-auc:0.81450\n",
      "[34]\tvalidation_0-auc:0.84982\tvalidation_1-auc:0.80837\tvalidation_2-auc:0.81463\n",
      "[35]\tvalidation_0-auc:0.85038\tvalidation_1-auc:0.80826\tvalidation_2-auc:0.81459\n",
      "[36]\tvalidation_0-auc:0.85198\tvalidation_1-auc:0.80817\tvalidation_2-auc:0.81482\n",
      "[37]\tvalidation_0-auc:0.85281\tvalidation_1-auc:0.80851\tvalidation_2-auc:0.81526\n",
      "[38]\tvalidation_0-auc:0.85308\tvalidation_1-auc:0.80866\tvalidation_2-auc:0.81535\n",
      "[39]\tvalidation_0-auc:0.85416\tvalidation_1-auc:0.80836\tvalidation_2-auc:0.81500\n",
      "[40]\tvalidation_0-auc:0.85481\tvalidation_1-auc:0.80838\tvalidation_2-auc:0.81480\n",
      "[41]\tvalidation_0-auc:0.85546\tvalidation_1-auc:0.80809\tvalidation_2-auc:0.81477\n",
      "[42]\tvalidation_0-auc:0.85563\tvalidation_1-auc:0.80813\tvalidation_2-auc:0.81489\n",
      "[43]\tvalidation_0-auc:0.85615\tvalidation_1-auc:0.80829\tvalidation_2-auc:0.81496\n",
      "[44]\tvalidation_0-auc:0.85624\tvalidation_1-auc:0.80823\tvalidation_2-auc:0.81494\n",
      "[45]\tvalidation_0-auc:0.85657\tvalidation_1-auc:0.80832\tvalidation_2-auc:0.81496\n",
      "[46]\tvalidation_0-auc:0.85877\tvalidation_1-auc:0.80907\tvalidation_2-auc:0.81559\n",
      "[47]\tvalidation_0-auc:0.86029\tvalidation_1-auc:0.80963\tvalidation_2-auc:0.81593\n",
      "[48]\tvalidation_0-auc:0.86137\tvalidation_1-auc:0.80992\tvalidation_2-auc:0.81627\n",
      "[49]\tvalidation_0-auc:0.86257\tvalidation_1-auc:0.81012\tvalidation_2-auc:0.81614\n",
      "[50]\tvalidation_0-auc:0.86280\tvalidation_1-auc:0.81008\tvalidation_2-auc:0.81617\n",
      "[51]\tvalidation_0-auc:0.86312\tvalidation_1-auc:0.81014\tvalidation_2-auc:0.81598\n",
      "[52]\tvalidation_0-auc:0.86478\tvalidation_1-auc:0.81009\tvalidation_2-auc:0.81537\n",
      "[53]\tvalidation_0-auc:0.86531\tvalidation_1-auc:0.80991\tvalidation_2-auc:0.81512\n",
      "[54]\tvalidation_0-auc:0.86697\tvalidation_1-auc:0.80972\tvalidation_2-auc:0.81520\n",
      "[55]\tvalidation_0-auc:0.86700\tvalidation_1-auc:0.80964\tvalidation_2-auc:0.81513\n",
      "[56]\tvalidation_0-auc:0.86823\tvalidation_1-auc:0.80909\tvalidation_2-auc:0.81470\n",
      "[57]\tvalidation_0-auc:0.86882\tvalidation_1-auc:0.80927\tvalidation_2-auc:0.81497\n"
     ]
    },
    {
     "data": {
      "text/plain": [
       "XGBClassifier(base_score=0.5, booster='gbtree', colsample_bylevel=1,\n",
       "              colsample_bynode=1, colsample_bytree=1, eval_metric='auc',\n",
       "              gamma=0, gpu_id=-1, importance_type='gain',\n",
       "              interaction_constraints='', learning_rate=0.300000012,\n",
       "              max_delta_step=0, max_depth=6, min_child_weight=1, missing=nan,\n",
       "              monotone_constraints='()', n_estimators=100, n_jobs=8,\n",
       "              num_parallel_tree=1, random_state=12, reg_alpha=0, reg_lambda=1,\n",
       "              scale_pos_weight=1, subsample=1, tree_method='exact',\n",
       "              use_label_encoder=False, validate_parameters=1, verbosity=1)"
      ]
     },
     "execution_count": 63,
     "metadata": {},
     "output_type": "execute_result"
    }
   ],
   "source": [
    "booster_sklearn = xgb.XGBClassifier(\n",
    "    booster='gbtree',\n",
    "    objective='binary:logistic',\n",
    "    random_state=12,\n",
    "    verbosity=1,\n",
    "    eval_metric='auc',\n",
    "    use_label_encoder=False,    \n",
    ")\n",
    "\n",
    "booster_sklearn.fit(\n",
    "    data[train_mask][cols_pred].values, \n",
    "    data[train_mask][col_target].astype(int).values,\n",
    "    eval_set=[\n",
    "        (data[train_mask][cols_pred].values, data[train_mask][col_target].values),\n",
    "        (data[test_mask][cols_pred].values, data[test_mask][col_target].values),\n",
    "        (data[valid_mask][cols_pred].values, data[valid_mask][col_target].values),\n",
    "    ],\n",
    "    verbose=True,\n",
    "    early_stopping_rounds=10\n",
    ")"
   ]
  },
  {
   "cell_type": "code",
   "execution_count": 56,
   "metadata": {
    "ExecuteTime": {
     "end_time": "2023-04-17T12:20:51.945125Z",
     "start_time": "2023-04-17T12:20:51.885334Z"
    }
   },
   "outputs": [
    {
     "ename": "ValueError",
     "evalue": "feature_names mismatch: ['f0', 'f1', 'f2', 'f3', 'f4', 'f5', 'f6', 'f7', 'f8', 'f9', 'f10', 'f11', 'f12', 'f13', 'f14', 'f15', 'f16'] ['no_of_adults', 'no_of_children', 'no_of_weekend_nights', 'no_of_week_nights', 'required_car_parking_space', 'lead_time', 'arrival_year', 'arrival_month', 'arrival_date', 'repeated_guest', 'no_of_previous_cancellations', 'no_of_previous_bookings_not_canceled', 'avg_price_per_room', 'no_of_special_requests', 'MTE_type_of_meal_plan', 'MTE_room_type_reserved', 'MTE_market_segment_type']\nexpected f15, f12, f13, f5, f2, f6, f0, f10, f9, f3, f1, f7, f8, f14, f11, f4, f16 in input data\ntraining data did not have the following fields: arrival_month, no_of_previous_cancellations, no_of_adults, lead_time, no_of_previous_bookings_not_canceled, MTE_room_type_reserved, MTE_market_segment_type, arrival_year, no_of_week_nights, repeated_guest, no_of_children, required_car_parking_space, arrival_date, no_of_special_requests, no_of_weekend_nights, avg_price_per_room, MTE_type_of_meal_plan",
     "output_type": "error",
     "traceback": [
      "\u001b[1;31m---------------------------------------------------------------------------\u001b[0m",
      "\u001b[1;31mValueError\u001b[0m                                Traceback (most recent call last)",
      "\u001b[1;32m<ipython-input-56-7b5f619d69d0>\u001b[0m in \u001b[0;36m<module>\u001b[1;34m\u001b[0m\n\u001b[1;32m----> 1\u001b[1;33m \u001b[0mr\u001b[0m \u001b[1;33m=\u001b[0m \u001b[0mpermutation_importance\u001b[0m\u001b[1;33m(\u001b[0m\u001b[0mbooster_sklearn\u001b[0m\u001b[1;33m,\u001b[0m \u001b[0mdata\u001b[0m\u001b[1;33m[\u001b[0m\u001b[0mtest_mask\u001b[0m\u001b[1;33m]\u001b[0m\u001b[1;33m[\u001b[0m\u001b[0mcols_pred\u001b[0m\u001b[1;33m]\u001b[0m\u001b[1;33m,\u001b[0m \u001b[0mdata\u001b[0m\u001b[1;33m[\u001b[0m\u001b[0mtest_mask\u001b[0m\u001b[1;33m]\u001b[0m\u001b[1;33m[\u001b[0m\u001b[0mcol_target\u001b[0m\u001b[1;33m]\u001b[0m\u001b[1;33m,\u001b[0m \u001b[0mn_repeats\u001b[0m\u001b[1;33m=\u001b[0m\u001b[1;36m6\u001b[0m\u001b[1;33m)\u001b[0m\u001b[1;33m\u001b[0m\u001b[1;33m\u001b[0m\u001b[0m\n\u001b[0m",
      "\u001b[1;32m~\\anaconda3\\lib\\site-packages\\sklearn\\utils\\validation.py\u001b[0m in \u001b[0;36minner_f\u001b[1;34m(*args, **kwargs)\u001b[0m\n\u001b[0;32m     70\u001b[0m                           FutureWarning)\n\u001b[0;32m     71\u001b[0m         \u001b[0mkwargs\u001b[0m\u001b[1;33m.\u001b[0m\u001b[0mupdate\u001b[0m\u001b[1;33m(\u001b[0m\u001b[1;33m{\u001b[0m\u001b[0mk\u001b[0m\u001b[1;33m:\u001b[0m \u001b[0marg\u001b[0m \u001b[1;32mfor\u001b[0m \u001b[0mk\u001b[0m\u001b[1;33m,\u001b[0m \u001b[0marg\u001b[0m \u001b[1;32min\u001b[0m \u001b[0mzip\u001b[0m\u001b[1;33m(\u001b[0m\u001b[0msig\u001b[0m\u001b[1;33m.\u001b[0m\u001b[0mparameters\u001b[0m\u001b[1;33m,\u001b[0m \u001b[0margs\u001b[0m\u001b[1;33m)\u001b[0m\u001b[1;33m}\u001b[0m\u001b[1;33m)\u001b[0m\u001b[1;33m\u001b[0m\u001b[1;33m\u001b[0m\u001b[0m\n\u001b[1;32m---> 72\u001b[1;33m         \u001b[1;32mreturn\u001b[0m \u001b[0mf\u001b[0m\u001b[1;33m(\u001b[0m\u001b[1;33m**\u001b[0m\u001b[0mkwargs\u001b[0m\u001b[1;33m)\u001b[0m\u001b[1;33m\u001b[0m\u001b[1;33m\u001b[0m\u001b[0m\n\u001b[0m\u001b[0;32m     73\u001b[0m     \u001b[1;32mreturn\u001b[0m \u001b[0minner_f\u001b[0m\u001b[1;33m\u001b[0m\u001b[1;33m\u001b[0m\u001b[0m\n\u001b[0;32m     74\u001b[0m \u001b[1;33m\u001b[0m\u001b[0m\n",
      "\u001b[1;32m~\\anaconda3\\lib\\site-packages\\sklearn\\inspection\\_permutation_importance.py\u001b[0m in \u001b[0;36mpermutation_importance\u001b[1;34m(estimator, X, y, scoring, n_repeats, n_jobs, random_state)\u001b[0m\n\u001b[0;32m    131\u001b[0m \u001b[1;33m\u001b[0m\u001b[0m\n\u001b[0;32m    132\u001b[0m     \u001b[0mscorer\u001b[0m \u001b[1;33m=\u001b[0m \u001b[0mcheck_scoring\u001b[0m\u001b[1;33m(\u001b[0m\u001b[0mestimator\u001b[0m\u001b[1;33m,\u001b[0m \u001b[0mscoring\u001b[0m\u001b[1;33m=\u001b[0m\u001b[0mscoring\u001b[0m\u001b[1;33m)\u001b[0m\u001b[1;33m\u001b[0m\u001b[1;33m\u001b[0m\u001b[0m\n\u001b[1;32m--> 133\u001b[1;33m     \u001b[0mbaseline_score\u001b[0m \u001b[1;33m=\u001b[0m \u001b[0mscorer\u001b[0m\u001b[1;33m(\u001b[0m\u001b[0mestimator\u001b[0m\u001b[1;33m,\u001b[0m \u001b[0mX\u001b[0m\u001b[1;33m,\u001b[0m \u001b[0my\u001b[0m\u001b[1;33m)\u001b[0m\u001b[1;33m\u001b[0m\u001b[1;33m\u001b[0m\u001b[0m\n\u001b[0m\u001b[0;32m    134\u001b[0m \u001b[1;33m\u001b[0m\u001b[0m\n\u001b[0;32m    135\u001b[0m     scores = Parallel(n_jobs=n_jobs)(delayed(_calculate_permutation_scores)(\n",
      "\u001b[1;32m~\\anaconda3\\lib\\site-packages\\sklearn\\metrics\\_scorer.py\u001b[0m in \u001b[0;36m_passthrough_scorer\u001b[1;34m(estimator, *args, **kwargs)\u001b[0m\n\u001b[0;32m    370\u001b[0m \u001b[1;32mdef\u001b[0m \u001b[0m_passthrough_scorer\u001b[0m\u001b[1;33m(\u001b[0m\u001b[0mestimator\u001b[0m\u001b[1;33m,\u001b[0m \u001b[1;33m*\u001b[0m\u001b[0margs\u001b[0m\u001b[1;33m,\u001b[0m \u001b[1;33m**\u001b[0m\u001b[0mkwargs\u001b[0m\u001b[1;33m)\u001b[0m\u001b[1;33m:\u001b[0m\u001b[1;33m\u001b[0m\u001b[1;33m\u001b[0m\u001b[0m\n\u001b[0;32m    371\u001b[0m     \u001b[1;34m\"\"\"Function that wraps estimator.score\"\"\"\u001b[0m\u001b[1;33m\u001b[0m\u001b[1;33m\u001b[0m\u001b[0m\n\u001b[1;32m--> 372\u001b[1;33m     \u001b[1;32mreturn\u001b[0m \u001b[0mestimator\u001b[0m\u001b[1;33m.\u001b[0m\u001b[0mscore\u001b[0m\u001b[1;33m(\u001b[0m\u001b[1;33m*\u001b[0m\u001b[0margs\u001b[0m\u001b[1;33m,\u001b[0m \u001b[1;33m**\u001b[0m\u001b[0mkwargs\u001b[0m\u001b[1;33m)\u001b[0m\u001b[1;33m\u001b[0m\u001b[1;33m\u001b[0m\u001b[0m\n\u001b[0m\u001b[0;32m    373\u001b[0m \u001b[1;33m\u001b[0m\u001b[0m\n\u001b[0;32m    374\u001b[0m \u001b[1;33m\u001b[0m\u001b[0m\n",
      "\u001b[1;32m~\\anaconda3\\lib\\site-packages\\sklearn\\base.py\u001b[0m in \u001b[0;36mscore\u001b[1;34m(self, X, y, sample_weight)\u001b[0m\n\u001b[0;32m    497\u001b[0m         \"\"\"\n\u001b[0;32m    498\u001b[0m         \u001b[1;32mfrom\u001b[0m \u001b[1;33m.\u001b[0m\u001b[0mmetrics\u001b[0m \u001b[1;32mimport\u001b[0m \u001b[0maccuracy_score\u001b[0m\u001b[1;33m\u001b[0m\u001b[1;33m\u001b[0m\u001b[0m\n\u001b[1;32m--> 499\u001b[1;33m         \u001b[1;32mreturn\u001b[0m \u001b[0maccuracy_score\u001b[0m\u001b[1;33m(\u001b[0m\u001b[0my\u001b[0m\u001b[1;33m,\u001b[0m \u001b[0mself\u001b[0m\u001b[1;33m.\u001b[0m\u001b[0mpredict\u001b[0m\u001b[1;33m(\u001b[0m\u001b[0mX\u001b[0m\u001b[1;33m)\u001b[0m\u001b[1;33m,\u001b[0m \u001b[0msample_weight\u001b[0m\u001b[1;33m=\u001b[0m\u001b[0msample_weight\u001b[0m\u001b[1;33m)\u001b[0m\u001b[1;33m\u001b[0m\u001b[1;33m\u001b[0m\u001b[0m\n\u001b[0m\u001b[0;32m    500\u001b[0m \u001b[1;33m\u001b[0m\u001b[0m\n\u001b[0;32m    501\u001b[0m     \u001b[1;32mdef\u001b[0m \u001b[0m_more_tags\u001b[0m\u001b[1;33m(\u001b[0m\u001b[0mself\u001b[0m\u001b[1;33m)\u001b[0m\u001b[1;33m:\u001b[0m\u001b[1;33m\u001b[0m\u001b[1;33m\u001b[0m\u001b[0m\n",
      "\u001b[1;32m~\\anaconda3\\lib\\site-packages\\xgboost\\sklearn.py\u001b[0m in \u001b[0;36mpredict\u001b[1;34m(self, data, output_margin, ntree_limit, validate_features, base_margin)\u001b[0m\n\u001b[0;32m    968\u001b[0m         \u001b[1;32mif\u001b[0m \u001b[0mntree_limit\u001b[0m \u001b[1;32mis\u001b[0m \u001b[1;32mNone\u001b[0m\u001b[1;33m:\u001b[0m\u001b[1;33m\u001b[0m\u001b[1;33m\u001b[0m\u001b[0m\n\u001b[0;32m    969\u001b[0m             \u001b[0mntree_limit\u001b[0m \u001b[1;33m=\u001b[0m \u001b[0mgetattr\u001b[0m\u001b[1;33m(\u001b[0m\u001b[0mself\u001b[0m\u001b[1;33m,\u001b[0m \u001b[1;34m\"best_ntree_limit\"\u001b[0m\u001b[1;33m,\u001b[0m \u001b[1;36m0\u001b[0m\u001b[1;33m)\u001b[0m\u001b[1;33m\u001b[0m\u001b[1;33m\u001b[0m\u001b[0m\n\u001b[1;32m--> 970\u001b[1;33m         class_probs = self.get_booster().predict(\n\u001b[0m\u001b[0;32m    971\u001b[0m             \u001b[0mtest_dmatrix\u001b[0m\u001b[1;33m,\u001b[0m\u001b[1;33m\u001b[0m\u001b[1;33m\u001b[0m\u001b[0m\n\u001b[0;32m    972\u001b[0m             \u001b[0moutput_margin\u001b[0m\u001b[1;33m=\u001b[0m\u001b[0moutput_margin\u001b[0m\u001b[1;33m,\u001b[0m\u001b[1;33m\u001b[0m\u001b[1;33m\u001b[0m\u001b[0m\n",
      "\u001b[1;32m~\\anaconda3\\lib\\site-packages\\xgboost\\core.py\u001b[0m in \u001b[0;36mpredict\u001b[1;34m(self, data, output_margin, ntree_limit, pred_leaf, pred_contribs, approx_contribs, pred_interactions, validate_features, training)\u001b[0m\n\u001b[0;32m   1483\u001b[0m \u001b[1;33m\u001b[0m\u001b[0m\n\u001b[0;32m   1484\u001b[0m         \u001b[1;32mif\u001b[0m \u001b[0mvalidate_features\u001b[0m\u001b[1;33m:\u001b[0m\u001b[1;33m\u001b[0m\u001b[1;33m\u001b[0m\u001b[0m\n\u001b[1;32m-> 1485\u001b[1;33m             \u001b[0mself\u001b[0m\u001b[1;33m.\u001b[0m\u001b[0m_validate_features\u001b[0m\u001b[1;33m(\u001b[0m\u001b[0mdata\u001b[0m\u001b[1;33m)\u001b[0m\u001b[1;33m\u001b[0m\u001b[1;33m\u001b[0m\u001b[0m\n\u001b[0m\u001b[0;32m   1486\u001b[0m \u001b[1;33m\u001b[0m\u001b[0m\n\u001b[0;32m   1487\u001b[0m         \u001b[0mlength\u001b[0m \u001b[1;33m=\u001b[0m \u001b[0mc_bst_ulong\u001b[0m\u001b[1;33m(\u001b[0m\u001b[1;33m)\u001b[0m\u001b[1;33m\u001b[0m\u001b[1;33m\u001b[0m\u001b[0m\n",
      "\u001b[1;32m~\\anaconda3\\lib\\site-packages\\xgboost\\core.py\u001b[0m in \u001b[0;36m_validate_features\u001b[1;34m(self, data)\u001b[0m\n\u001b[0;32m   2058\u001b[0m                             ', '.join(str(s) for s in my_missing))\n\u001b[0;32m   2059\u001b[0m \u001b[1;33m\u001b[0m\u001b[0m\n\u001b[1;32m-> 2060\u001b[1;33m                 raise ValueError(msg.format(self.feature_names,\n\u001b[0m\u001b[0;32m   2061\u001b[0m                                             data.feature_names))\n\u001b[0;32m   2062\u001b[0m \u001b[1;33m\u001b[0m\u001b[0m\n",
      "\u001b[1;31mValueError\u001b[0m: feature_names mismatch: ['f0', 'f1', 'f2', 'f3', 'f4', 'f5', 'f6', 'f7', 'f8', 'f9', 'f10', 'f11', 'f12', 'f13', 'f14', 'f15', 'f16'] ['no_of_adults', 'no_of_children', 'no_of_weekend_nights', 'no_of_week_nights', 'required_car_parking_space', 'lead_time', 'arrival_year', 'arrival_month', 'arrival_date', 'repeated_guest', 'no_of_previous_cancellations', 'no_of_previous_bookings_not_canceled', 'avg_price_per_room', 'no_of_special_requests', 'MTE_type_of_meal_plan', 'MTE_room_type_reserved', 'MTE_market_segment_type']\nexpected f15, f12, f13, f5, f2, f6, f0, f10, f9, f3, f1, f7, f8, f14, f11, f4, f16 in input data\ntraining data did not have the following fields: arrival_month, no_of_previous_cancellations, no_of_adults, lead_time, no_of_previous_bookings_not_canceled, MTE_room_type_reserved, MTE_market_segment_type, arrival_year, no_of_week_nights, repeated_guest, no_of_children, required_car_parking_space, arrival_date, no_of_special_requests, no_of_weekend_nights, avg_price_per_room, MTE_type_of_meal_plan"
     ]
    }
   ],
   "source": [
    "r = permutation_importance(booster_sklearn, data[test_mask][cols_pred], data[test_mask][col_target], n_repeats=6)"
   ]
  },
  {
   "cell_type": "code",
   "execution_count": null,
   "metadata": {},
   "outputs": [],
   "source": []
>>>>>>> Stashed changes
  }
 ],
 "metadata": {
  "kernelspec": {
<<<<<<< Updated upstream
   "display_name": "Python 3",
=======
   "display_name": "Python 3 (ipykernel)",
>>>>>>> Stashed changes
   "language": "python",
   "name": "python3"
  },
  "language_info": {
   "codemirror_mode": {
    "name": "ipython",
    "version": 3
   },
   "file_extension": ".py",
   "mimetype": "text/x-python",
   "name": "python",
   "nbconvert_exporter": "python",
   "pygments_lexer": "ipython3",
<<<<<<< Updated upstream
   "version": "3.8.5"
=======
   "version": "3.8.12"
>>>>>>> Stashed changes
  },
  "toc": {
   "base_numbering": 1,
   "nav_menu": {},
   "number_sections": true,
   "sideBar": true,
   "skip_h1_title": false,
   "title_cell": "Table of Contents",
   "title_sidebar": "Contents",
   "toc_cell": false,
   "toc_position": {},
   "toc_section_display": true,
   "toc_window_display": false
  },
  "varInspector": {
   "cols": {
    "lenName": 16,
    "lenType": 16,
    "lenVar": 40
   },
   "kernels_config": {
    "python": {
     "delete_cmd_postfix": "",
     "delete_cmd_prefix": "del ",
     "library": "var_list.py",
     "varRefreshCmd": "print(var_dic_list())"
    },
    "r": {
     "delete_cmd_postfix": ") ",
     "delete_cmd_prefix": "rm(",
     "library": "var_list.r",
     "varRefreshCmd": "cat(var_dic_list()) "
    }
   },
   "types_to_exclude": [
    "module",
    "function",
    "builtin_function_or_method",
    "instance",
    "_Feature"
   ],
   "window_display": false
  }
 },
 "nbformat": 4,
 "nbformat_minor": 4
}
