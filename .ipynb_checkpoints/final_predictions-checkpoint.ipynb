{
 "cells": [
  {
   "cell_type": "code",
   "execution_count": 1,
   "metadata": {
    "ExecuteTime": {
     "end_time": "2023-04-24T11:11:07.324366Z",
     "start_time": "2023-04-24T11:11:07.302571Z"
    }
   },
   "outputs": [],
   "source": [
    "import numpy as np\n",
    "import pandas as pd\n",
    "import matplotlib.pyplot as plt\n",
    "import seaborn as sns\n",
    "import datetime\n",
    "import pickle\n",
    "from tqdm.notebook import tqdm\n",
    "\n",
    "from sklearn.model_selection import train_test_split, KFold\n",
    "from sklearn.metrics import roc_auc_score, roc_curve\n",
    "from sklearn.linear_model import LogisticRegression\n",
    "from sklearn.inspection import permutation_importance\n",
    "import xgboost as xgb"
   ]
  },
  {
   "cell_type": "code",
   "execution_count": 2,
   "metadata": {},
   "outputs": [],
   "source": [
    "import pandas as pd\n",
    "from itertools import product\n",
    "import math"
   ]
  },
  {
   "cell_type": "markdown",
   "metadata": {},
   "source": [
    "# Data"
   ]
  },
  {
   "cell_type": "code",
   "execution_count": 3,
   "metadata": {
    "ExecuteTime": {
     "end_time": "2023-04-24T11:11:08.120906Z",
     "start_time": "2023-04-24T11:11:07.960667Z"
    }
   },
   "outputs": [],
   "source": [
    "data = pd.read_csv('2023_DS2_HW1_data_train.csv', sep = ',', decimal = '.', index_col = 'Booking_ID')"
   ]
  },
  {
   "cell_type": "code",
   "execution_count": 4,
   "metadata": {
    "ExecuteTime": {
     "end_time": "2023-04-24T11:11:08.578921Z",
     "start_time": "2023-04-24T11:11:08.495308Z"
    }
   },
   "outputs": [
    {
     "data": {
      "text/html": [
       "<div>\n",
       "<style scoped>\n",
       "    .dataframe tbody tr th:only-of-type {\n",
       "        vertical-align: middle;\n",
       "    }\n",
       "\n",
       "    .dataframe tbody tr th {\n",
       "        vertical-align: top;\n",
       "    }\n",
       "\n",
       "    .dataframe thead th {\n",
       "        text-align: right;\n",
       "    }\n",
       "</style>\n",
       "<table border=\"1\" class=\"dataframe\">\n",
       "  <thead>\n",
       "    <tr style=\"text-align: right;\">\n",
       "      <th></th>\n",
       "      <th>no_of_adults</th>\n",
       "      <th>no_of_children</th>\n",
       "      <th>no_of_weekend_nights</th>\n",
       "      <th>no_of_week_nights</th>\n",
       "      <th>type_of_meal_plan</th>\n",
       "      <th>required_car_parking_space</th>\n",
       "      <th>room_type_reserved</th>\n",
       "      <th>lead_time</th>\n",
       "      <th>arrival_year</th>\n",
       "      <th>arrival_month</th>\n",
       "      <th>arrival_date</th>\n",
       "      <th>market_segment_type</th>\n",
       "      <th>repeated_guest</th>\n",
       "      <th>no_of_previous_cancellations</th>\n",
       "      <th>no_of_previous_bookings_not_canceled</th>\n",
       "      <th>avg_price_per_room</th>\n",
       "      <th>no_of_special_requests</th>\n",
       "      <th>booking_status</th>\n",
       "    </tr>\n",
       "    <tr>\n",
       "      <th>Booking_ID</th>\n",
       "      <th></th>\n",
       "      <th></th>\n",
       "      <th></th>\n",
       "      <th></th>\n",
       "      <th></th>\n",
       "      <th></th>\n",
       "      <th></th>\n",
       "      <th></th>\n",
       "      <th></th>\n",
       "      <th></th>\n",
       "      <th></th>\n",
       "      <th></th>\n",
       "      <th></th>\n",
       "      <th></th>\n",
       "      <th></th>\n",
       "      <th></th>\n",
       "      <th></th>\n",
       "      <th></th>\n",
       "    </tr>\n",
       "  </thead>\n",
       "  <tbody>\n",
       "    <tr>\n",
       "      <th>INN10204</th>\n",
       "      <td>NaN</td>\n",
       "      <td>NaN</td>\n",
       "      <td>NaN</td>\n",
       "      <td>2.0</td>\n",
       "      <td>Meal Plan 2</td>\n",
       "      <td>NaN</td>\n",
       "      <td>Room_Type 6</td>\n",
       "      <td>NaN</td>\n",
       "      <td>2018.0</td>\n",
       "      <td>9.0</td>\n",
       "      <td>NaN</td>\n",
       "      <td>Online</td>\n",
       "      <td>0.0</td>\n",
       "      <td>0.0</td>\n",
       "      <td>NaN</td>\n",
       "      <td>NaN</td>\n",
       "      <td>1.0</td>\n",
       "      <td>0.0</td>\n",
       "    </tr>\n",
       "    <tr>\n",
       "      <th>INN20020</th>\n",
       "      <td>NaN</td>\n",
       "      <td>NaN</td>\n",
       "      <td>NaN</td>\n",
       "      <td>2.0</td>\n",
       "      <td>Meal Plan 1</td>\n",
       "      <td>NaN</td>\n",
       "      <td>NaN</td>\n",
       "      <td>NaN</td>\n",
       "      <td>NaN</td>\n",
       "      <td>12.0</td>\n",
       "      <td>NaN</td>\n",
       "      <td>Online</td>\n",
       "      <td>0.0</td>\n",
       "      <td>0.0</td>\n",
       "      <td>0.0</td>\n",
       "      <td>NaN</td>\n",
       "      <td>NaN</td>\n",
       "      <td>0.0</td>\n",
       "    </tr>\n",
       "    <tr>\n",
       "      <th>INN16435</th>\n",
       "      <td>1.0</td>\n",
       "      <td>NaN</td>\n",
       "      <td>NaN</td>\n",
       "      <td>2.0</td>\n",
       "      <td>NaN</td>\n",
       "      <td>0.0</td>\n",
       "      <td>Room_Type 1</td>\n",
       "      <td>NaN</td>\n",
       "      <td>2018.0</td>\n",
       "      <td>11.0</td>\n",
       "      <td>NaN</td>\n",
       "      <td>NaN</td>\n",
       "      <td>0.0</td>\n",
       "      <td>0.0</td>\n",
       "      <td>NaN</td>\n",
       "      <td>NaN</td>\n",
       "      <td>1.0</td>\n",
       "      <td>0.0</td>\n",
       "    </tr>\n",
       "    <tr>\n",
       "      <th>INN07143</th>\n",
       "      <td>3.0</td>\n",
       "      <td>NaN</td>\n",
       "      <td>NaN</td>\n",
       "      <td>3.0</td>\n",
       "      <td>NaN</td>\n",
       "      <td>NaN</td>\n",
       "      <td>NaN</td>\n",
       "      <td>100.0</td>\n",
       "      <td>2018.0</td>\n",
       "      <td>5.0</td>\n",
       "      <td>NaN</td>\n",
       "      <td>Online</td>\n",
       "      <td>0.0</td>\n",
       "      <td>0.0</td>\n",
       "      <td>NaN</td>\n",
       "      <td>NaN</td>\n",
       "      <td>2.0</td>\n",
       "      <td>0.0</td>\n",
       "    </tr>\n",
       "    <tr>\n",
       "      <th>INN20511</th>\n",
       "      <td>1.0</td>\n",
       "      <td>0.0</td>\n",
       "      <td>1.0</td>\n",
       "      <td>1.0</td>\n",
       "      <td>Meal Plan 1</td>\n",
       "      <td>0.0</td>\n",
       "      <td>NaN</td>\n",
       "      <td>NaN</td>\n",
       "      <td>2018.0</td>\n",
       "      <td>11.0</td>\n",
       "      <td>NaN</td>\n",
       "      <td>NaN</td>\n",
       "      <td>0.0</td>\n",
       "      <td>0.0</td>\n",
       "      <td>0.0</td>\n",
       "      <td>150.0</td>\n",
       "      <td>NaN</td>\n",
       "      <td>1.0</td>\n",
       "    </tr>\n",
       "    <tr>\n",
       "      <th>...</th>\n",
       "      <td>...</td>\n",
       "      <td>...</td>\n",
       "      <td>...</td>\n",
       "      <td>...</td>\n",
       "      <td>...</td>\n",
       "      <td>...</td>\n",
       "      <td>...</td>\n",
       "      <td>...</td>\n",
       "      <td>...</td>\n",
       "      <td>...</td>\n",
       "      <td>...</td>\n",
       "      <td>...</td>\n",
       "      <td>...</td>\n",
       "      <td>...</td>\n",
       "      <td>...</td>\n",
       "      <td>...</td>\n",
       "      <td>...</td>\n",
       "      <td>...</td>\n",
       "    </tr>\n",
       "    <tr>\n",
       "      <th>INN16851</th>\n",
       "      <td>2.0</td>\n",
       "      <td>NaN</td>\n",
       "      <td>NaN</td>\n",
       "      <td>NaN</td>\n",
       "      <td>Meal Plan 1</td>\n",
       "      <td>NaN</td>\n",
       "      <td>NaN</td>\n",
       "      <td>43.0</td>\n",
       "      <td>2017.0</td>\n",
       "      <td>12.0</td>\n",
       "      <td>26.0</td>\n",
       "      <td>Offline</td>\n",
       "      <td>NaN</td>\n",
       "      <td>0.0</td>\n",
       "      <td>0.0</td>\n",
       "      <td>NaN</td>\n",
       "      <td>2.0</td>\n",
       "      <td>0.0</td>\n",
       "    </tr>\n",
       "    <tr>\n",
       "      <th>INN06266</th>\n",
       "      <td>1.0</td>\n",
       "      <td>NaN</td>\n",
       "      <td>NaN</td>\n",
       "      <td>2.0</td>\n",
       "      <td>Meal Plan 2</td>\n",
       "      <td>0.0</td>\n",
       "      <td>Room_Type 1</td>\n",
       "      <td>102.0</td>\n",
       "      <td>2017.0</td>\n",
       "      <td>10.0</td>\n",
       "      <td>NaN</td>\n",
       "      <td>Online</td>\n",
       "      <td>NaN</td>\n",
       "      <td>0.0</td>\n",
       "      <td>NaN</td>\n",
       "      <td>80.0</td>\n",
       "      <td>NaN</td>\n",
       "      <td>1.0</td>\n",
       "    </tr>\n",
       "    <tr>\n",
       "      <th>INN11285</th>\n",
       "      <td>2.0</td>\n",
       "      <td>NaN</td>\n",
       "      <td>NaN</td>\n",
       "      <td>2.0</td>\n",
       "      <td>NaN</td>\n",
       "      <td>NaN</td>\n",
       "      <td>NaN</td>\n",
       "      <td>NaN</td>\n",
       "      <td>2018.0</td>\n",
       "      <td>5.0</td>\n",
       "      <td>NaN</td>\n",
       "      <td>Corporate</td>\n",
       "      <td>0.0</td>\n",
       "      <td>0.0</td>\n",
       "      <td>0.0</td>\n",
       "      <td>NaN</td>\n",
       "      <td>1.0</td>\n",
       "      <td>0.0</td>\n",
       "    </tr>\n",
       "    <tr>\n",
       "      <th>INN00861</th>\n",
       "      <td>2.0</td>\n",
       "      <td>NaN</td>\n",
       "      <td>NaN</td>\n",
       "      <td>3.0</td>\n",
       "      <td>Meal Plan 1</td>\n",
       "      <td>0.0</td>\n",
       "      <td>NaN</td>\n",
       "      <td>NaN</td>\n",
       "      <td>2018.0</td>\n",
       "      <td>6.0</td>\n",
       "      <td>NaN</td>\n",
       "      <td>Online</td>\n",
       "      <td>NaN</td>\n",
       "      <td>0.0</td>\n",
       "      <td>NaN</td>\n",
       "      <td>NaN</td>\n",
       "      <td>0.0</td>\n",
       "      <td>1.0</td>\n",
       "    </tr>\n",
       "    <tr>\n",
       "      <th>INN15796</th>\n",
       "      <td>2.0</td>\n",
       "      <td>NaN</td>\n",
       "      <td>NaN</td>\n",
       "      <td>2.0</td>\n",
       "      <td>NaN</td>\n",
       "      <td>NaN</td>\n",
       "      <td>NaN</td>\n",
       "      <td>14.0</td>\n",
       "      <td>2018.0</td>\n",
       "      <td>9.0</td>\n",
       "      <td>15.0</td>\n",
       "      <td>Online</td>\n",
       "      <td>NaN</td>\n",
       "      <td>0.0</td>\n",
       "      <td>NaN</td>\n",
       "      <td>NaN</td>\n",
       "      <td>NaN</td>\n",
       "      <td>0.0</td>\n",
       "    </tr>\n",
       "  </tbody>\n",
       "</table>\n",
       "<p>32647 rows × 18 columns</p>\n",
       "</div>"
      ],
      "text/plain": [
       "            no_of_adults  no_of_children  no_of_weekend_nights  \\\n",
       "Booking_ID                                                       \n",
       "INN10204             NaN             NaN                   NaN   \n",
       "INN20020             NaN             NaN                   NaN   \n",
       "INN16435             1.0             NaN                   NaN   \n",
       "INN07143             3.0             NaN                   NaN   \n",
       "INN20511             1.0             0.0                   1.0   \n",
       "...                  ...             ...                   ...   \n",
       "INN16851             2.0             NaN                   NaN   \n",
       "INN06266             1.0             NaN                   NaN   \n",
       "INN11285             2.0             NaN                   NaN   \n",
       "INN00861             2.0             NaN                   NaN   \n",
       "INN15796             2.0             NaN                   NaN   \n",
       "\n",
       "            no_of_week_nights type_of_meal_plan  required_car_parking_space  \\\n",
       "Booking_ID                                                                    \n",
       "INN10204                  2.0       Meal Plan 2                         NaN   \n",
       "INN20020                  2.0       Meal Plan 1                         NaN   \n",
       "INN16435                  2.0               NaN                         0.0   \n",
       "INN07143                  3.0               NaN                         NaN   \n",
       "INN20511                  1.0       Meal Plan 1                         0.0   \n",
       "...                       ...               ...                         ...   \n",
       "INN16851                  NaN       Meal Plan 1                         NaN   \n",
       "INN06266                  2.0       Meal Plan 2                         0.0   \n",
       "INN11285                  2.0               NaN                         NaN   \n",
       "INN00861                  3.0       Meal Plan 1                         0.0   \n",
       "INN15796                  2.0               NaN                         NaN   \n",
       "\n",
       "           room_type_reserved  lead_time  arrival_year  arrival_month  \\\n",
       "Booking_ID                                                              \n",
       "INN10204          Room_Type 6        NaN        2018.0            9.0   \n",
       "INN20020                  NaN        NaN           NaN           12.0   \n",
       "INN16435          Room_Type 1        NaN        2018.0           11.0   \n",
       "INN07143                  NaN      100.0        2018.0            5.0   \n",
       "INN20511                  NaN        NaN        2018.0           11.0   \n",
       "...                       ...        ...           ...            ...   \n",
       "INN16851                  NaN       43.0        2017.0           12.0   \n",
       "INN06266          Room_Type 1      102.0        2017.0           10.0   \n",
       "INN11285                  NaN        NaN        2018.0            5.0   \n",
       "INN00861                  NaN        NaN        2018.0            6.0   \n",
       "INN15796                  NaN       14.0        2018.0            9.0   \n",
       "\n",
       "            arrival_date market_segment_type  repeated_guest  \\\n",
       "Booking_ID                                                     \n",
       "INN10204             NaN              Online             0.0   \n",
       "INN20020             NaN              Online             0.0   \n",
       "INN16435             NaN                 NaN             0.0   \n",
       "INN07143             NaN              Online             0.0   \n",
       "INN20511             NaN                 NaN             0.0   \n",
       "...                  ...                 ...             ...   \n",
       "INN16851            26.0             Offline             NaN   \n",
       "INN06266             NaN              Online             NaN   \n",
       "INN11285             NaN           Corporate             0.0   \n",
       "INN00861             NaN              Online             NaN   \n",
       "INN15796            15.0              Online             NaN   \n",
       "\n",
       "            no_of_previous_cancellations  \\\n",
       "Booking_ID                                 \n",
       "INN10204                             0.0   \n",
       "INN20020                             0.0   \n",
       "INN16435                             0.0   \n",
       "INN07143                             0.0   \n",
       "INN20511                             0.0   \n",
       "...                                  ...   \n",
       "INN16851                             0.0   \n",
       "INN06266                             0.0   \n",
       "INN11285                             0.0   \n",
       "INN00861                             0.0   \n",
       "INN15796                             0.0   \n",
       "\n",
       "            no_of_previous_bookings_not_canceled  avg_price_per_room  \\\n",
       "Booking_ID                                                             \n",
       "INN10204                                     NaN                 NaN   \n",
       "INN20020                                     0.0                 NaN   \n",
       "INN16435                                     NaN                 NaN   \n",
       "INN07143                                     NaN                 NaN   \n",
       "INN20511                                     0.0               150.0   \n",
       "...                                          ...                 ...   \n",
       "INN16851                                     0.0                 NaN   \n",
       "INN06266                                     NaN                80.0   \n",
       "INN11285                                     0.0                 NaN   \n",
       "INN00861                                     NaN                 NaN   \n",
       "INN15796                                     NaN                 NaN   \n",
       "\n",
       "            no_of_special_requests  booking_status  \n",
       "Booking_ID                                          \n",
       "INN10204                       1.0             0.0  \n",
       "INN20020                       NaN             0.0  \n",
       "INN16435                       1.0             0.0  \n",
       "INN07143                       2.0             0.0  \n",
       "INN20511                       NaN             1.0  \n",
       "...                            ...             ...  \n",
       "INN16851                       2.0             0.0  \n",
       "INN06266                       NaN             1.0  \n",
       "INN11285                       1.0             0.0  \n",
       "INN00861                       0.0             1.0  \n",
       "INN15796                       NaN             0.0  \n",
       "\n",
       "[32647 rows x 18 columns]"
      ]
     },
     "execution_count": 4,
     "metadata": {},
     "output_type": "execute_result"
    }
   ],
   "source": [
    "data"
   ]
  },
  {
   "cell_type": "code",
   "execution_count": 5,
   "metadata": {
    "ExecuteTime": {
     "end_time": "2023-04-24T11:11:09.106133Z",
     "start_time": "2023-04-24T11:11:09.073532Z"
    }
   },
   "outputs": [],
   "source": [
    "# define list of predictors\n",
    "cols_pred = list(data.columns[0:-1])\n",
    "\n",
    "# define list of numerical predictors\n",
    "cols_pred_num = [col for col in cols_pred if data[col].dtype != 'O']\n",
    "# define list of categorical predictors\n",
    "cols_pred_cat = [col for col in cols_pred if data[col].dtype == 'O']\n"
   ]
  },
  {
   "cell_type": "markdown",
   "metadata": {
    "ExecuteTime": {
     "end_time": "2023-04-17T13:22:19.403543Z",
     "start_time": "2023-04-17T13:22:19.388923Z"
    }
   },
   "source": [
    "Booking_ID: unique identifier of each booking\n",
    "no_of_adults: Number of adults\n",
    "no_of_children: Number of Children\n",
    "no_of_weekend_nights: Number of weekend nights (Saturday or Sunday) the guest stayed or booked to stay at the hotel\n",
    "no_of_week_nights: Number of week nights (Monday to Friday) the guest stayed or booked to stay at the hotel\n",
    "type_of_meal_plan: Type of meal plan booked by the customer:\n",
    "required_car_parking_space: Does the customer require a car parking space? (0 - No, 1- Yes)\n",
    "room_type_reserved: Type of room reserved by the customer. The values are ciphered (encoded) by INN Hotels.\n",
    "lead_time: Number of days between the date of booking and the arrival date\n",
    "arrival_year: Year of arrival date\n",
    "arrival_month: Month of arrival date\n",
    "arrival_date: Date of the month\n",
    "market_segment_type: Market segment designation.\n",
    "repeated_guest: Is the customer a repeated guest? (0 - No, 1- Yes)\n",
    "no_of_previous_cancellations: Number of previous bookings that were canceled by the customer prior to the current booking\n",
    "no_of_previous_bookings_not_canceled: Number of previous bookings not canceled by the customer prior to the current booking\n",
    "avg_price_per_room: Average price per day of the reservation; prices of the rooms are dynamic. (in euros)\n",
    "no_of_special_requests: Total number of special requests made by the customer (e.g. high floor, view from the room, etc)\n",
    "booking_status: Flag indicating if the booking was canceled or not."
   ]
  },
  {
   "cell_type": "code",
   "execution_count": 6,
   "metadata": {
    "ExecuteTime": {
     "end_time": "2023-04-24T11:11:11.117328Z",
     "start_time": "2023-04-24T11:11:11.096147Z"
    }
   },
   "outputs": [
    {
     "data": {
      "text/plain": [
       "['no_of_adults',\n",
       " 'no_of_children',\n",
       " 'no_of_weekend_nights',\n",
       " 'no_of_week_nights',\n",
       " 'required_car_parking_space',\n",
       " 'lead_time',\n",
       " 'arrival_year',\n",
       " 'arrival_month',\n",
       " 'arrival_date',\n",
       " 'repeated_guest',\n",
       " 'no_of_previous_cancellations',\n",
       " 'no_of_previous_bookings_not_canceled',\n",
       " 'avg_price_per_room',\n",
       " 'no_of_special_requests']"
      ]
     },
     "execution_count": 6,
     "metadata": {},
     "output_type": "execute_result"
    }
   ],
   "source": [
    "cols_pred_num\n",
    "\n",
    "#arrival date je blbost kterou vyhodim, ale arrival month bych asi mohla udelat kategorickej\n",
    "#ostatni promenny jsou bud skutecne numericky nebo 0-1"
   ]
  },
  {
   "cell_type": "code",
   "execution_count": 7,
   "metadata": {
    "ExecuteTime": {
     "end_time": "2023-04-24T11:11:11.763407Z",
     "start_time": "2023-04-24T11:11:11.755391Z"
    }
   },
   "outputs": [],
   "source": [
    "cols_pred_num.remove('arrival_month')\n",
    "cols_pred_cat.append('arrival_month')"
   ]
  },
  {
   "cell_type": "code",
   "execution_count": 8,
   "metadata": {
    "ExecuteTime": {
     "end_time": "2023-04-24T11:11:13.955101Z",
     "start_time": "2023-04-24T11:11:13.913963Z"
    }
   },
   "outputs": [
    {
     "data": {
      "text/plain": [
       "0.0    21774\n",
       "1.0    10521\n",
       "Name: booking_status, dtype: int64"
      ]
     },
     "execution_count": 8,
     "metadata": {},
     "output_type": "execute_result"
    }
   ],
   "source": [
    "data = data.dropna(subset=['booking_status'])\n",
    "data.booking_status.value_counts(dropna=False)"
   ]
  },
  {
   "cell_type": "code",
   "execution_count": 9,
   "metadata": {
    "ExecuteTime": {
     "end_time": "2023-04-24T11:12:26.008982Z",
     "start_time": "2023-04-24T11:12:25.556910Z"
    }
   },
   "outputs": [
    {
     "name": "stderr",
     "output_type": "stream",
     "text": [
      "/var/folders/qt/9ghf87fd40589wf9l6s3w6680000gn/T/ipykernel_92362/3272553581.py:3: SettingWithCopyWarning: \n",
      "A value is trying to be set on a copy of a slice from a DataFrame.\n",
      "Try using .loc[row_indexer,col_indexer] = value instead\n",
      "\n",
      "See the caveats in the documentation: https://pandas.pydata.org/pandas-docs/stable/user_guide/indexing.html#returning-a-view-versus-a-copy\n",
      "  data.loc[data_train.index, 'sample'] = 'train'\n"
     ]
    }
   ],
   "source": [
    "\n",
    "#kdybychom chteli stratifikovat podle neceho dalsiho, museli bychom zlikvidovat unavailable data, coz je skoda. zaroven stratifikace podle booking status asi trochu pomaha - soude z grafu nize\n",
    "data_train, data_rest = train_test_split(data, test_size=0.4, random_state = 12,stratify = (data[[\"booking_status\"]]))\n",
    "data.loc[data_train.index, 'sample'] = 'train'\n",
    "# use train_test_split to split the rest into valid and test (don't forget seed); use stratification\n",
    "data_valid, data_test = train_test_split(data_rest, test_size=0.5, random_state = 12, stratify = (data_rest[[\"booking_status\"]]))\n",
    "data.loc[data_valid.index, 'sample'] = 'valid'\n",
    "data.loc[data_test.index, 'sample'] = 'test'"
   ]
  },
  {
   "cell_type": "code",
   "execution_count": 10,
   "metadata": {
    "ExecuteTime": {
     "end_time": "2023-04-24T11:12:26.397625Z",
     "start_time": "2023-04-24T11:12:26.368790Z"
    }
   },
   "outputs": [],
   "source": [
    "train_mask = (data['sample'] == 'train')\n",
    "valid_mask = (data['sample'] == 'valid')\n",
    "test_mask = (data['sample'] == 'test')"
   ]
  },
  {
   "cell_type": "code",
   "execution_count": 11,
   "metadata": {
    "ExecuteTime": {
     "end_time": "2023-04-24T11:12:26.765021Z",
     "start_time": "2023-04-24T11:12:26.734584Z"
    }
   },
   "outputs": [],
   "source": [
    "# define function to plot default rate in time for different samples\n",
    "def default_rate_in_time_per_sample(dt, col_target, col_month, col_sample):\n",
    "    # group by over month and sample\n",
    "    dt_grp = dt.groupby([col_month, col_sample]).agg(\n",
    "        def_rt = (col_target, np.mean)\n",
    "    ).reset_index()\n",
    "    \n",
    "    # pivot sample values to columns\n",
    "    dt_grp_pivot = dt_grp.pivot(index = col_month, columns = col_sample, values = 'def_rt')\n",
    "\n",
    "    # plot default rate in time\n",
    "    lines = plt.plot(range(len(dt_grp_pivot)), dt_grp_pivot, marker = 'o')\n",
    "    plt.xticks(range(len(dt_grp_pivot)), dt_grp_pivot.index, rotation = 90)\n",
    "    # set legend\n",
    "    plt.legend(iter(lines), tuple(dt_grp_pivot.columns), loc='best', bbox_to_anchor=(1.05, 1))\n",
    "    \n",
    "    plt.ylim([0, 1])\n",
    "    plt.ylabel('default rate')\n",
    "    plt.xlabel('month')\n",
    "    plt.show()"
   ]
  },
  {
   "cell_type": "code",
   "execution_count": null,
   "metadata": {
    "ExecuteTime": {
     "end_time": "2023-04-24T11:12:27.561156Z",
     "start_time": "2023-04-24T11:12:27.174490Z"
    }
   },
   "outputs": [],
   "source": []
  },
  {
   "cell_type": "markdown",
   "metadata": {},
   "source": [
    "# Data processing"
   ]
  },
  {
   "cell_type": "code",
   "execution_count": 12,
   "metadata": {
    "ExecuteTime": {
     "end_time": "2023-04-24T11:12:32.812047Z",
     "start_time": "2023-04-24T11:12:32.764938Z"
    }
   },
   "outputs": [
    {
     "name": "stdout",
     "output_type": "stream",
     "text": [
      "No other columns with infinity values\n"
     ]
    }
   ],
   "source": [
    "# find columns with infinity values\n",
    "cols_with_inf = []\n",
    "for col in cols_pred_num:\n",
    "    if np.any(np.isinf(data[col])):\n",
    "        cols_with_inf.append(col)\n",
    "        print(f'Column {col} includes infinity values.')\n",
    "\n",
    "# find columns with negative infinity values\n",
    "cols_with_neginf = []\n",
    "for col in cols_pred_num:\n",
    "    if np.any(np.isneginf(data[col])):\n",
    "        cols_with_neginf.append(col)\n",
    "        print(f'Column {col} includes negative infinity values.')\n",
    "print(\"No other columns with infinity values\")"
   ]
  },
  {
   "cell_type": "code",
   "execution_count": 13,
   "metadata": {},
   "outputs": [],
   "source": [
    "col_target = \"booking_status\""
   ]
  },
  {
   "cell_type": "markdown",
   "metadata": {},
   "source": [
    "# categorical variables ecoding"
   ]
  },
  {
   "cell_type": "code",
   "execution_count": 14,
   "metadata": {
    "ExecuteTime": {
     "end_time": "2023-04-24T11:12:33.769306Z",
     "start_time": "2023-04-24T11:12:33.758327Z"
    }
   },
   "outputs": [],
   "source": [
    "def mean_target_encoding(dt, predictor, target, alpha = 0.01):\n",
    "    total_cnt = len(dt)\n",
    "    total_dr = np.mean(dt[target])\n",
    "    dt_grp = dt.groupby(predictor).agg(\n",
    "        categ_dr = (target, np.mean),\n",
    "        categ_cnt = (target, len)\n",
    "    )\n",
    "    \n",
    "    dt_grp['categ_freq'] = dt_grp['categ_cnt'] / total_cnt\n",
    "    dt_grp['categ_encoding'] = (dt_grp['categ_freq'] * dt_grp['categ_dr'] + alpha * total_dr) / (dt_grp['categ_freq'] + alpha)\n",
    "    \n",
    "    return dt_grp[['categ_encoding']].to_dict()['categ_encoding']"
   ]
  },
  {
   "cell_type": "code",
   "execution_count": 15,
   "metadata": {
    "ExecuteTime": {
     "end_time": "2023-04-24T11:12:35.133389Z",
     "start_time": "2023-04-24T11:12:34.778701Z"
    }
   },
   "outputs": [
    {
     "data": {
      "application/vnd.jupyter.widget-view+json": {
       "model_id": "eeb55c0286b848f7b1ea6194c13defd7",
       "version_major": 2,
       "version_minor": 0
      },
      "text/plain": [
       "  0%|          | 0/4 [00:00<?, ?it/s]"
      ]
     },
     "metadata": {},
     "output_type": "display_data"
    },
    {
     "name": "stderr",
     "output_type": "stream",
     "text": [
      "/var/folders/qt/9ghf87fd40589wf9l6s3w6680000gn/T/ipykernel_92362/2915958815.py:37: SettingWithCopyWarning: \n",
      "A value is trying to be set on a copy of a slice from a DataFrame.\n",
      "Try using .loc[row_indexer,col_indexer] = value instead\n",
      "\n",
      "See the caveats in the documentation: https://pandas.pydata.org/pandas-docs/stable/user_guide/indexing.html#returning-a-view-versus-a-copy\n",
      "  data['MTE_' + pred] = data[pred].replace(new_vals)\n",
      "/var/folders/qt/9ghf87fd40589wf9l6s3w6680000gn/T/ipykernel_92362/2915958815.py:37: SettingWithCopyWarning: \n",
      "A value is trying to be set on a copy of a slice from a DataFrame.\n",
      "Try using .loc[row_indexer,col_indexer] = value instead\n",
      "\n",
      "See the caveats in the documentation: https://pandas.pydata.org/pandas-docs/stable/user_guide/indexing.html#returning-a-view-versus-a-copy\n",
      "  data['MTE_' + pred] = data[pred].replace(new_vals)\n",
      "/var/folders/qt/9ghf87fd40589wf9l6s3w6680000gn/T/ipykernel_92362/2915958815.py:37: SettingWithCopyWarning: \n",
      "A value is trying to be set on a copy of a slice from a DataFrame.\n",
      "Try using .loc[row_indexer,col_indexer] = value instead\n",
      "\n",
      "See the caveats in the documentation: https://pandas.pydata.org/pandas-docs/stable/user_guide/indexing.html#returning-a-view-versus-a-copy\n",
      "  data['MTE_' + pred] = data[pred].replace(new_vals)\n",
      "/var/folders/qt/9ghf87fd40589wf9l6s3w6680000gn/T/ipykernel_92362/2915958815.py:37: SettingWithCopyWarning: \n",
      "A value is trying to be set on a copy of a slice from a DataFrame.\n",
      "Try using .loc[row_indexer,col_indexer] = value instead\n",
      "\n",
      "See the caveats in the documentation: https://pandas.pydata.org/pandas-docs/stable/user_guide/indexing.html#returning-a-view-versus-a-copy\n",
      "  data['MTE_' + pred] = data[pred].replace(new_vals)\n"
     ]
    }
   ],
   "source": [
    "total_dr = np.mean(data[train_mask][col_target])\n",
    "\n",
    "# encode categorical predictors\n",
    "for pred in tqdm(cols_pred_cat):\n",
    "    if len(data[pred].unique()) < 5:\n",
    "        dummies = pd.get_dummies(\n",
    "            data[pred], \n",
    "            prefix = pred,\n",
    "            prefix_sep = '_',\n",
    "            dummy_na = True if data[pred].isnull().sum() > 0 else False,\n",
    "            drop_first = False\n",
    "        )\n",
    "        \n",
    "        for d in dummies.columns:\n",
    "            if d in data.columns:\n",
    "                del data[d]\n",
    "                \n",
    "        data = data.join(dummies)\n",
    "        \n",
    "        for col in dummies.columns:\n",
    "            if col not in cols_pred:\n",
    "                cols_pred.append(col)\n",
    "        \n",
    "        if pred in cols_pred:\n",
    "            cols_pred.remove(pred)\n",
    "    else:\n",
    "        new_vals = mean_target_encoding(\n",
    "            dt=data[train_mask], \n",
    "            predictor=pred, \n",
    "            target=col_target\n",
    "        )\n",
    "\n",
    "        additional_values = set(data[data[pred].notnull()][pred].unique()) - set(new_vals.keys())\n",
    "        for p in additional_values:\n",
    "            new_vals[p] = total_dr\n",
    "\n",
    "        data['MTE_' + pred] = data[pred].replace(new_vals)\n",
    "        \n",
    "        if 'MTE_' + pred not in cols_pred:\n",
    "            cols_pred.append('MTE_' + pred)\n",
    "        \n",
    "        if pred in cols_pred:\n",
    "            cols_pred.remove(pred)"
   ]
  },
  {
   "cell_type": "code",
   "execution_count": 16,
   "metadata": {},
   "outputs": [],
   "source": [
    "cols_pred\n",
    "to_remove = [\"arrival_date\",\"no_of_children\",\"repeated_guest\",\"MTE_room_type_reserved\"]\n",
    "questionable = [\"avg_price_per_room\",\"MTE_type_of_meal_plan\",\"required_car_parking_space\",\"no_of_previous_bookings_not_canceled\"]\n",
    "rm_1 = [\"avg_price_per_room\",\"MTE_type_of_meal_plan\"]\n",
    "rm_2 = [\"MTE_type_of_meal_plan\",\"required_car_parking_space\"]\n",
    "rm_3 = [\"MTE_type_of_meal_plan\",\"required_car_parking_space\",\"no_of_previous_bookings_not_canceled\"]\n",
    "rm_4 = [\"avg_price_per_room\",\"MTE_type_of_meal_plan\",\"required_car_parking_space\"]\n",
    "\n",
    "\n",
    "aaa = cols_pred\n",
    "bbb = [x for x in cols_pred if x not in to_remove]\n",
    "ccc = [x for x in bbb if x not in questionable]\n",
    "ddd = [x for x in bbb if x not in rm_1]\n",
    "eee = [x for x in bbb if x not in rm_2]\n",
    "fff = [x for x in bbb if x not in rm_3]\n",
    "ggg = [x for x in bbb if x not in rm_4]\n",
    "\n",
    "predictor_set_list = [aaa,bbb,ccc,ddd,eee,fff,ggg]\n",
    "\n",
    "predictor_set = predictor_set_list[5]"
   ]
  },
  {
   "cell_type": "markdown",
   "metadata": {},
   "source": [
    "# Model"
   ]
  },
  {
   "cell_type": "code",
   "execution_count": 19,
   "metadata": {
    "ExecuteTime": {
     "end_time": "2023-04-24T11:12:47.613261Z",
     "start_time": "2023-04-24T11:12:45.296325Z"
    }
   },
   "outputs": [],
   "source": [
    "params = {    \n",
    "    'max_depth': 5,\n",
    "    'eta': 0.10,\n",
    "    'lambda': 0.1,\n",
    "    \"subsample\":0.7,\n",
    "    'objective': 'binary:logistic',\n",
    "    'eval_metric': 'auc'\n",
    "}\n",
    "\n",
    "\n",
    "evals_result = {}\n",
    "booster = xgb.train(\n",
    "    verbose_eval=False,\n",
    "    params = params,\n",
    "    dtrain = xgb.DMatrix(data[train_mask][predictor_set], data[train_mask][col_target]),\n",
    "    num_boost_round = 200,\n",
    "    evals = (\n",
    "        (xgb.DMatrix(data[train_mask][predictor_set], data[train_mask][col_target]), 'train'),\n",
    "        (xgb.DMatrix(data[test_mask][predictor_set], data[test_mask][col_target]), 'test'),\n",
    "        (xgb.DMatrix(data[valid_mask][predictor_set], data[valid_mask][col_target]), 'valid')\n",
    "    ),\n",
    "    evals_result = evals_result,\n",
    "    early_stopping_rounds = 10\n",
    ")\n"
   ]
  },
  {
   "cell_type": "code",
   "execution_count": 20,
   "metadata": {},
   "outputs": [
    {
     "data": {
      "text/plain": [
       "0.8099511945973554"
      ]
     },
     "execution_count": 20,
     "metadata": {},
     "output_type": "execute_result"
    }
   ],
   "source": [
    "dtest = xgb.DMatrix(data[valid_mask][predictor_set])\n",
    "y_pred = booster.predict(dtest)\n",
    "y_true = data[valid_mask][col_target]\n",
    "y_true = y_true.values\n",
    "roc_auc = roc_auc_score( y_true,y_pred)\n",
    "\n",
    "AUC = roc_auc\n",
    "AUC\n"
   ]
  },
  {
   "cell_type": "markdown",
   "metadata": {},
   "source": [
    "# loading test set"
   ]
  },
  {
   "cell_type": "code",
   "execution_count": 21,
   "metadata": {},
   "outputs": [],
   "source": [
    "data = pd.read_csv('/Users/pavelrezabek/Desktop/data-science-2-HA_1/data-science-2-HA_1/2023_DS2_HW1_data_test.csv', sep = ',', decimal = '.', index_col = 'Booking_ID')"
   ]
  },
  {
   "cell_type": "code",
   "execution_count": 26,
   "metadata": {},
   "outputs": [],
   "source": [
    "# define list of predictors\n",
    "cols_pred = list(data.columns)\n",
    "\n",
    "# define list of numerical predictors\n",
    "cols_pred_num = [col for col in cols_pred if data[col].dtype != 'O']\n",
    "# define list of categorical predictors\n",
    "cols_pred_cat = [col for col in cols_pred if data[col].dtype == 'O']\n"
   ]
  },
  {
   "cell_type": "code",
   "execution_count": 28,
   "metadata": {},
   "outputs": [
    {
     "data": {
      "text/plain": [
       "['no_of_adults',\n",
       " 'no_of_children',\n",
       " 'no_of_weekend_nights',\n",
       " 'no_of_week_nights',\n",
       " 'required_car_parking_space',\n",
       " 'lead_time',\n",
       " 'arrival_year',\n",
       " 'arrival_month',\n",
       " 'arrival_date',\n",
       " 'repeated_guest',\n",
       " 'no_of_previous_cancellations',\n",
       " 'no_of_previous_bookings_not_canceled',\n",
       " 'avg_price_per_room',\n",
       " 'no_of_special_requests']"
      ]
     },
     "execution_count": 28,
     "metadata": {},
     "output_type": "execute_result"
    }
   ],
   "source": [
    "cols_pred_num"
   ]
  },
  {
   "cell_type": "code",
   "execution_count": 29,
   "metadata": {},
   "outputs": [
    {
     "data": {
      "text/plain": [
       "['no_of_adults',\n",
       " 'no_of_children',\n",
       " 'no_of_weekend_nights',\n",
       " 'no_of_week_nights',\n",
       " 'required_car_parking_space',\n",
       " 'lead_time',\n",
       " 'arrival_year',\n",
       " 'arrival_month',\n",
       " 'arrival_date',\n",
       " 'repeated_guest',\n",
       " 'no_of_previous_cancellations',\n",
       " 'no_of_previous_bookings_not_canceled',\n",
       " 'avg_price_per_room',\n",
       " 'no_of_special_requests']"
      ]
     },
     "execution_count": 29,
     "metadata": {},
     "output_type": "execute_result"
    }
   ],
   "source": [
    "cols_pred_num\n",
    "\n",
    "#arrival date je blbost kterou vyhodim, ale arrival month bych asi mohla udelat kategorickej\n",
    "#ostatni promenny jsou bud skutecne numericky nebo 0-1"
   ]
  },
  {
   "cell_type": "code",
   "execution_count": 30,
   "metadata": {},
   "outputs": [],
   "source": [
    "cols_pred_num.remove('arrival_month')\n",
    "cols_pred_cat.append('arrival_month')\n"
   ]
  },
  {
   "cell_type": "code",
   "execution_count": 39,
   "metadata": {},
   "outputs": [
    {
     "data": {
      "text/plain": [
       "['market_segment_type', 'arrival_month']"
      ]
     },
     "execution_count": 39,
     "metadata": {},
     "output_type": "execute_result"
    }
   ],
   "source": [
    "  cols_pred_cat"
   ]
  },
  {
   "cell_type": "code",
   "execution_count": 38,
   "metadata": {},
   "outputs": [],
   "source": [
    "cols_pred_cat = cols_pred_cat[2:4]"
   ]
  },
  {
   "cell_type": "code",
   "execution_count": 44,
   "metadata": {},
   "outputs": [
    {
     "data": {
      "text/plain": [
       "Online           1316\n",
       "Offline           601\n",
       "Corporate         104\n",
       "Complementary      19\n",
       "Aviation            7\n",
       "Name: market_segment_type, dtype: int64"
      ]
     },
     "execution_count": 44,
     "metadata": {},
     "output_type": "execute_result"
    }
   ],
   "source": [
    "data.market_segment_type.value_counts()"
   ]
  },
  {
   "cell_type": "code",
   "execution_count": 48,
   "metadata": {},
   "outputs": [
    {
     "name": "stdout",
     "output_type": "stream",
     "text": [
      "            no_of_adults  no_of_children  no_of_weekend_nights  \\\n",
      "Booking_ID                                                       \n",
      "INN04969             2.0             NaN                   1.0   \n",
      "INN34541             2.0             0.0                   NaN   \n",
      "INN36109             2.0             NaN                   NaN   \n",
      "INN01554             2.0             NaN                   0.0   \n",
      "INN24975             2.0             NaN                   NaN   \n",
      "...                  ...             ...                   ...   \n",
      "INN29523             1.0             NaN                   NaN   \n",
      "INN25061             2.0             NaN                   1.0   \n",
      "INN08475             2.0             NaN                   NaN   \n",
      "INN13558             1.0             NaN                   NaN   \n",
      "INN00626             2.0             NaN                   0.0   \n",
      "\n",
      "            no_of_week_nights type_of_meal_plan  required_car_parking_space  \\\n",
      "Booking_ID                                                                    \n",
      "INN04969                  0.0       Meal Plan 1                         NaN   \n",
      "INN34541                  2.0       Meal Plan 1                         0.0   \n",
      "INN36109                  2.0       Meal Plan 1                         0.0   \n",
      "INN01554                  3.0               NaN                         0.0   \n",
      "INN24975                  NaN               NaN                         0.0   \n",
      "...                       ...               ...                         ...   \n",
      "INN29523                  2.0       Meal Plan 2                         0.0   \n",
      "INN25061                  NaN      Not Selected                         0.0   \n",
      "INN08475                  NaN               NaN                         NaN   \n",
      "INN13558                  0.0       Meal Plan 1                         NaN   \n",
      "INN00626                  4.0               NaN                         NaN   \n",
      "\n",
      "           room_type_reserved  lead_time  arrival_year  arrival_month  ...  \\\n",
      "Booking_ID                                                             ...   \n",
      "INN04969                  NaN        NaN        2017.0            8.0  ...   \n",
      "INN34541                  NaN        NaN        2018.0            2.0  ...   \n",
      "INN36109                  NaN        NaN        2018.0           12.0  ...   \n",
      "INN01554                  NaN        NaN        2018.0            6.0  ...   \n",
      "INN24975                  NaN        NaN        2018.0            9.0  ...   \n",
      "...                       ...        ...           ...            ...  ...   \n",
      "INN29523          Room_Type 1       39.0        2017.0            8.0  ...   \n",
      "INN25061                  NaN        NaN        2018.0            6.0  ...   \n",
      "INN08475                  NaN      308.0        2018.0           11.0  ...   \n",
      "INN13558                  NaN        NaN        2018.0            7.0  ...   \n",
      "INN00626          Room_Type 4        NaN        2017.0           10.0  ...   \n",
      "\n",
      "            market_segment_type  repeated_guest  no_of_previous_cancellations  \\\n",
      "Booking_ID                                                                      \n",
      "INN04969                    NaN             NaN                           0.0   \n",
      "INN34541               0.307843             NaN                           0.0   \n",
      "INN36109                    NaN             NaN                           0.0   \n",
      "INN01554               0.363841             NaN                           0.0   \n",
      "INN24975                    NaN             NaN                           0.0   \n",
      "...                         ...             ...                           ...   \n",
      "INN29523               0.307843             NaN                           0.0   \n",
      "INN25061               0.363841             0.0                           0.0   \n",
      "INN08475               0.363841             NaN                           0.0   \n",
      "INN13558                    NaN             NaN                           3.0   \n",
      "INN00626                    NaN             0.0                           0.0   \n",
      "\n",
      "            no_of_previous_bookings_not_canceled  avg_price_per_room  \\\n",
      "Booking_ID                                                             \n",
      "INN04969                                     NaN                 NaN   \n",
      "INN34541                                     0.0                 NaN   \n",
      "INN36109                                     NaN                 NaN   \n",
      "INN01554                                     0.0                 NaN   \n",
      "INN24975                                     NaN                 NaN   \n",
      "...                                          ...                 ...   \n",
      "INN29523                                     NaN               87.00   \n",
      "INN25061                                     NaN                 NaN   \n",
      "INN08475                                     0.0               78.30   \n",
      "INN13558                                    39.0                 NaN   \n",
      "INN00626                                     0.0               87.54   \n",
      "\n",
      "            no_of_special_requests  type_of_meal_plan_Meal Plan 1  \\\n",
      "Booking_ID                                                          \n",
      "INN04969                       3.0                              1   \n",
      "INN34541                       NaN                              1   \n",
      "INN36109                       NaN                              1   \n",
      "INN01554                       0.0                              0   \n",
      "INN24975                       2.0                              0   \n",
      "...                            ...                            ...   \n",
      "INN29523                       NaN                              0   \n",
      "INN25061                       NaN                              0   \n",
      "INN08475                       NaN                              0   \n",
      "INN13558                       0.0                              1   \n",
      "INN00626                       NaN                              0   \n",
      "\n",
      "            type_of_meal_plan_Meal Plan 2  type_of_meal_plan_Not Selected  \\\n",
      "Booking_ID                                                                  \n",
      "INN04969                                0                               0   \n",
      "INN34541                                0                               0   \n",
      "INN36109                                0                               0   \n",
      "INN01554                                0                               0   \n",
      "INN24975                                0                               0   \n",
      "...                                   ...                             ...   \n",
      "INN29523                                1                               0   \n",
      "INN25061                                0                               1   \n",
      "INN08475                                0                               0   \n",
      "INN13558                                0                               0   \n",
      "INN00626                                0                               0   \n",
      "\n",
      "            type_of_meal_plan_nan  \n",
      "Booking_ID                         \n",
      "INN04969                        0  \n",
      "INN34541                        0  \n",
      "INN36109                        0  \n",
      "INN01554                        1  \n",
      "INN24975                        1  \n",
      "...                           ...  \n",
      "INN29523                        0  \n",
      "INN25061                        0  \n",
      "INN08475                        1  \n",
      "INN13558                        0  \n",
      "INN00626                        1  \n",
      "\n",
      "[3593 rows x 21 columns]\n"
     ]
    }
   ],
   "source": [
    "replace_dict1 = {'Online': 0.363841, 'Offline': 0.307843, 'Corporate': 0.167078, 'Complementary': 0.19804247576622647,'Aviation': 0.32545989}\n",
    "\n",
    "# Use the replace() method to replace values in the \"name\" column\n",
    "data['market_segment_type'] = data['market_segment_type'].replace(replace_dict1)\n",
    "# Print the updated DataFrame\n",
    "print(data)\n",
    "\n",
    "\n",
    "\n"
   ]
  },
  {
   "cell_type": "code",
   "execution_count": 50,
   "metadata": {},
   "outputs": [
    {
     "name": "stdout",
     "output_type": "stream",
     "text": [
      "            no_of_adults  no_of_children  no_of_weekend_nights  \\\n",
      "Booking_ID                                                       \n",
      "INN04969             2.0             NaN                   1.0   \n",
      "INN34541             2.0             0.0                   NaN   \n",
      "INN36109             2.0             NaN                   NaN   \n",
      "INN01554             2.0             NaN                   0.0   \n",
      "INN24975             2.0             NaN                   NaN   \n",
      "...                  ...             ...                   ...   \n",
      "INN29523             1.0             NaN                   NaN   \n",
      "INN25061             2.0             NaN                   1.0   \n",
      "INN08475             2.0             NaN                   NaN   \n",
      "INN13558             1.0             NaN                   NaN   \n",
      "INN00626             2.0             NaN                   0.0   \n",
      "\n",
      "            no_of_week_nights type_of_meal_plan  required_car_parking_space  \\\n",
      "Booking_ID                                                                    \n",
      "INN04969                  0.0       Meal Plan 1                         NaN   \n",
      "INN34541                  2.0       Meal Plan 1                         0.0   \n",
      "INN36109                  2.0       Meal Plan 1                         0.0   \n",
      "INN01554                  3.0               NaN                         0.0   \n",
      "INN24975                  NaN               NaN                         0.0   \n",
      "...                       ...               ...                         ...   \n",
      "INN29523                  2.0       Meal Plan 2                         0.0   \n",
      "INN25061                  NaN      Not Selected                         0.0   \n",
      "INN08475                  NaN               NaN                         NaN   \n",
      "INN13558                  0.0       Meal Plan 1                         NaN   \n",
      "INN00626                  4.0               NaN                         NaN   \n",
      "\n",
      "           room_type_reserved  lead_time  arrival_year  arrival_month  ...  \\\n",
      "Booking_ID                                                             ...   \n",
      "INN04969                  NaN        NaN        2017.0       0.378415  ...   \n",
      "INN34541                  NaN        NaN        2018.0       0.264912  ...   \n",
      "INN36109                  NaN        NaN        2018.0       0.154687  ...   \n",
      "INN01554                  NaN        NaN        2018.0       0.394563  ...   \n",
      "INN24975                  NaN        NaN        2018.0       0.320946  ...   \n",
      "...                       ...        ...           ...            ...  ...   \n",
      "INN29523          Room_Type 1       39.0        2017.0       0.378415  ...   \n",
      "INN25061                  NaN        NaN        2018.0       0.394563  ...   \n",
      "INN08475                  NaN      308.0        2018.0       0.291375  ...   \n",
      "INN13558                  NaN        NaN        2018.0       0.434790  ...   \n",
      "INN00626          Room_Type 4        NaN        2017.0       0.354768  ...   \n",
      "\n",
      "            market_segment_type  repeated_guest  no_of_previous_cancellations  \\\n",
      "Booking_ID                                                                      \n",
      "INN04969                    NaN             NaN                           0.0   \n",
      "INN34541               0.307843             NaN                           0.0   \n",
      "INN36109                    NaN             NaN                           0.0   \n",
      "INN01554               0.363841             NaN                           0.0   \n",
      "INN24975                    NaN             NaN                           0.0   \n",
      "...                         ...             ...                           ...   \n",
      "INN29523               0.307843             NaN                           0.0   \n",
      "INN25061               0.363841             0.0                           0.0   \n",
      "INN08475               0.363841             NaN                           0.0   \n",
      "INN13558                    NaN             NaN                           3.0   \n",
      "INN00626                    NaN             0.0                           0.0   \n",
      "\n",
      "            no_of_previous_bookings_not_canceled  avg_price_per_room  \\\n",
      "Booking_ID                                                             \n",
      "INN04969                                     NaN                 NaN   \n",
      "INN34541                                     0.0                 NaN   \n",
      "INN36109                                     NaN                 NaN   \n",
      "INN01554                                     0.0                 NaN   \n",
      "INN24975                                     NaN                 NaN   \n",
      "...                                          ...                 ...   \n",
      "INN29523                                     NaN               87.00   \n",
      "INN25061                                     NaN                 NaN   \n",
      "INN08475                                     0.0               78.30   \n",
      "INN13558                                    39.0                 NaN   \n",
      "INN00626                                     0.0               87.54   \n",
      "\n",
      "            no_of_special_requests  type_of_meal_plan_Meal Plan 1  \\\n",
      "Booking_ID                                                          \n",
      "INN04969                       3.0                              1   \n",
      "INN34541                       NaN                              1   \n",
      "INN36109                       NaN                              1   \n",
      "INN01554                       0.0                              0   \n",
      "INN24975                       2.0                              0   \n",
      "...                            ...                            ...   \n",
      "INN29523                       NaN                              0   \n",
      "INN25061                       NaN                              0   \n",
      "INN08475                       NaN                              0   \n",
      "INN13558                       0.0                              1   \n",
      "INN00626                       NaN                              0   \n",
      "\n",
      "            type_of_meal_plan_Meal Plan 2  type_of_meal_plan_Not Selected  \\\n",
      "Booking_ID                                                                  \n",
      "INN04969                                0                               0   \n",
      "INN34541                                0                               0   \n",
      "INN36109                                0                               0   \n",
      "INN01554                                0                               0   \n",
      "INN24975                                0                               0   \n",
      "...                                   ...                             ...   \n",
      "INN29523                                1                               0   \n",
      "INN25061                                0                               1   \n",
      "INN08475                                0                               0   \n",
      "INN13558                                0                               0   \n",
      "INN00626                                0                               0   \n",
      "\n",
      "            type_of_meal_plan_nan  \n",
      "Booking_ID                         \n",
      "INN04969                        0  \n",
      "INN34541                        0  \n",
      "INN36109                        0  \n",
      "INN01554                        1  \n",
      "INN24975                        1  \n",
      "...                           ...  \n",
      "INN29523                        0  \n",
      "INN25061                        0  \n",
      "INN08475                        1  \n",
      "INN13558                        0  \n",
      "INN00626                        1  \n",
      "\n",
      "[3593 rows x 21 columns]\n"
     ]
    }
   ],
   "source": [
    "replace_dict2 = {1: 0.10975141226859428, 2: 0.2649120016467528, 3: 0.2876456095535222, 4: 0.36802913597831044, 5: 0.36072953496010357, 6: 0.3945629908265532, 7: 0.43479006606457415, 8: 0.3784152206481103, 9: 0.3209463849088696, 10: 0.35476825930811823, 11: 0.29137465229584697, 12: 0.15468658181050565}\n",
    "\n",
    "# Use the replace() method to replace values in the \"name\" column\n",
    "data['arrival_month'] = data['arrival_month'].replace(replace_dict2)\n",
    "# Print the updated DataFrame\n",
    "print(data)\n",
    "\n"
   ]
  },
  {
   "cell_type": "code",
   "execution_count": 51,
   "metadata": {},
   "outputs": [],
   "source": [
    "data = data.rename(columns={'arrival_month': 'MTE_arrival_month'})\n",
    "data = data.rename(columns={'market_segment_type': 'MTE_market_segment_type'})"
   ]
  },
  {
   "cell_type": "code",
   "execution_count": 56,
   "metadata": {},
   "outputs": [],
   "source": [
    "dtrain = xgb.DMatrix(data[predictor_set])\n",
    "y_pred = booster.predict(dtrain)\n"
   ]
  },
  {
   "cell_type": "code",
   "execution_count": 59,
   "metadata": {},
   "outputs": [
    {
     "data": {
      "text/html": [
       "<div>\n",
       "<style scoped>\n",
       "    .dataframe tbody tr th:only-of-type {\n",
       "        vertical-align: middle;\n",
       "    }\n",
       "\n",
       "    .dataframe tbody tr th {\n",
       "        vertical-align: top;\n",
       "    }\n",
       "\n",
       "    .dataframe thead th {\n",
       "        text-align: right;\n",
       "    }\n",
       "</style>\n",
       "<table border=\"1\" class=\"dataframe\">\n",
       "  <thead>\n",
       "    <tr style=\"text-align: right;\">\n",
       "      <th></th>\n",
       "      <th>0</th>\n",
       "    </tr>\n",
       "  </thead>\n",
       "  <tbody>\n",
       "    <tr>\n",
       "      <th>0</th>\n",
       "      <td>0.002698</td>\n",
       "    </tr>\n",
       "    <tr>\n",
       "      <th>1</th>\n",
       "      <td>0.162917</td>\n",
       "    </tr>\n",
       "    <tr>\n",
       "      <th>2</th>\n",
       "      <td>0.187376</td>\n",
       "    </tr>\n",
       "    <tr>\n",
       "      <th>3</th>\n",
       "      <td>0.772983</td>\n",
       "    </tr>\n",
       "    <tr>\n",
       "      <th>4</th>\n",
       "      <td>0.186984</td>\n",
       "    </tr>\n",
       "    <tr>\n",
       "      <th>...</th>\n",
       "      <td>...</td>\n",
       "    </tr>\n",
       "    <tr>\n",
       "      <th>3588</th>\n",
       "      <td>0.039724</td>\n",
       "    </tr>\n",
       "    <tr>\n",
       "      <th>3589</th>\n",
       "      <td>0.490286</td>\n",
       "    </tr>\n",
       "    <tr>\n",
       "      <th>3590</th>\n",
       "      <td>0.948840</td>\n",
       "    </tr>\n",
       "    <tr>\n",
       "      <th>3591</th>\n",
       "      <td>0.065873</td>\n",
       "    </tr>\n",
       "    <tr>\n",
       "      <th>3592</th>\n",
       "      <td>0.129083</td>\n",
       "    </tr>\n",
       "  </tbody>\n",
       "</table>\n",
       "<p>3593 rows × 1 columns</p>\n",
       "</div>"
      ],
      "text/plain": [
       "             0\n",
       "0     0.002698\n",
       "1     0.162917\n",
       "2     0.187376\n",
       "3     0.772983\n",
       "4     0.186984\n",
       "...        ...\n",
       "3588  0.039724\n",
       "3589  0.490286\n",
       "3590  0.948840\n",
       "3591  0.065873\n",
       "3592  0.129083\n",
       "\n",
       "[3593 rows x 1 columns]"
      ]
     },
     "execution_count": 59,
     "metadata": {},
     "output_type": "execute_result"
    }
   ],
   "source": [
    "xxx = pd.DataFrame(y_pred)"
   ]
  },
  {
   "cell_type": "code",
   "execution_count": 58,
   "metadata": {},
   "outputs": [
    {
     "ename": "AttributeError",
     "evalue": "'numpy.ndarray' object has no attribute 'to_csv'",
     "output_type": "error",
     "traceback": [
      "\u001b[0;31m---------------------------------------------------------------------------\u001b[0m",
      "\u001b[0;31mAttributeError\u001b[0m                            Traceback (most recent call last)",
      "Input \u001b[0;32mIn [58]\u001b[0m, in \u001b[0;36m<cell line: 1>\u001b[0;34m()\u001b[0m\n\u001b[0;32m----> 1\u001b[0m \u001b[43my_pred\u001b[49m\u001b[38;5;241;43m.\u001b[39;49m\u001b[43mto_csv\u001b[49m(\u001b[38;5;124m\"\u001b[39m\u001b[38;5;124m/Users/pavelrezabek/Desktop/predictions\u001b[39m\u001b[38;5;124m\"\u001b[39m)\n",
      "\u001b[0;31mAttributeError\u001b[0m: 'numpy.ndarray' object has no attribute 'to_csv'"
     ]
    }
   ],
   "source": [
    "y_pred.to_csv(\"/Users/pavelrezabek/Desktop/predictions\")"
   ]
  },
  {
   "cell_type": "code",
   "execution_count": null,
   "metadata": {},
   "outputs": [],
   "source": []
  }
 ],
 "metadata": {
  "kernelspec": {
   "display_name": "Python 3 (ipykernel)",
   "language": "python",
   "name": "python3"
  },
  "language_info": {
   "codemirror_mode": {
    "name": "ipython",
    "version": 3
   },
   "file_extension": ".py",
   "mimetype": "text/x-python",
   "name": "python",
   "nbconvert_exporter": "python",
   "pygments_lexer": "ipython3",
   "version": "3.8.12"
  },
  "toc": {
   "base_numbering": 1,
   "nav_menu": {},
   "number_sections": true,
   "sideBar": true,
   "skip_h1_title": false,
   "title_cell": "Table of Contents",
   "title_sidebar": "Contents",
   "toc_cell": false,
   "toc_position": {},
   "toc_section_display": true,
   "toc_window_display": false
  },
  "varInspector": {
   "cols": {
    "lenName": 16,
    "lenType": 16,
    "lenVar": 40
   },
   "kernels_config": {
    "python": {
     "delete_cmd_postfix": "",
     "delete_cmd_prefix": "del ",
     "library": "var_list.py",
     "varRefreshCmd": "print(var_dic_list())"
    },
    "r": {
     "delete_cmd_postfix": ") ",
     "delete_cmd_prefix": "rm(",
     "library": "var_list.r",
     "varRefreshCmd": "cat(var_dic_list()) "
    }
   },
   "types_to_exclude": [
    "module",
    "function",
    "builtin_function_or_method",
    "instance",
    "_Feature"
   ],
   "window_display": false
  }
 },
 "nbformat": 4,
 "nbformat_minor": 4
}
