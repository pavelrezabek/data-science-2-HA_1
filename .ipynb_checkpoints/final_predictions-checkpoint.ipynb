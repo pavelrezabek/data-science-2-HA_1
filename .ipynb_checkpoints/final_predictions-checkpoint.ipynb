{
 "cells": [
  {
   "cell_type": "code",
   "execution_count": 1,
   "metadata": {
    "ExecuteTime": {
     "end_time": "2023-04-24T11:11:07.324366Z",
     "start_time": "2023-04-24T11:11:07.302571Z"
    }
   },
   "outputs": [],
   "source": [
    "import numpy as np\n",
    "import pandas as pd\n",
    "import matplotlib.pyplot as plt\n",
    "import seaborn as sns\n",
    "import datetime\n",
    "import pickle\n",
    "from tqdm.notebook import tqdm\n",
    "\n",
    "from sklearn.model_selection import train_test_split, KFold\n",
    "from sklearn.metrics import roc_auc_score, roc_curve\n",
    "from sklearn.linear_model import LogisticRegression\n",
    "from sklearn.inspection import permutation_importance\n",
    "import xgboost as xgb"
   ]
  },
  {
   "cell_type": "code",
   "execution_count": 2,
   "metadata": {},
   "outputs": [],
   "source": [
    "import pandas as pd\n",
    "from itertools import product\n",
    "import math"
   ]
  },
  {
   "cell_type": "markdown",
   "metadata": {},
   "source": [
    "# Data"
   ]
  },
  {
   "cell_type": "code",
   "execution_count": 3,
   "metadata": {
    "ExecuteTime": {
     "end_time": "2023-04-24T11:11:08.120906Z",
     "start_time": "2023-04-24T11:11:07.960667Z"
    }
   },
   "outputs": [],
   "source": [
    "data = pd.read_csv('2023_DS2_HW1_data_train.csv', sep = ',', decimal = '.', index_col = 'Booking_ID')"
   ]
  },
  {
   "cell_type": "code",
   "execution_count": 4,
   "metadata": {
    "ExecuteTime": {
     "end_time": "2023-04-24T11:11:08.578921Z",
     "start_time": "2023-04-24T11:11:08.495308Z"
    }
   },
   "outputs": [
    {
     "data": {
      "text/html": [
       "<div>\n",
       "<style scoped>\n",
       "    .dataframe tbody tr th:only-of-type {\n",
       "        vertical-align: middle;\n",
       "    }\n",
       "\n",
       "    .dataframe tbody tr th {\n",
       "        vertical-align: top;\n",
       "    }\n",
       "\n",
       "    .dataframe thead th {\n",
       "        text-align: right;\n",
       "    }\n",
       "</style>\n",
       "<table border=\"1\" class=\"dataframe\">\n",
       "  <thead>\n",
       "    <tr style=\"text-align: right;\">\n",
       "      <th></th>\n",
       "      <th>no_of_adults</th>\n",
       "      <th>no_of_children</th>\n",
       "      <th>no_of_weekend_nights</th>\n",
       "      <th>no_of_week_nights</th>\n",
       "      <th>type_of_meal_plan</th>\n",
       "      <th>required_car_parking_space</th>\n",
       "      <th>room_type_reserved</th>\n",
       "      <th>lead_time</th>\n",
       "      <th>arrival_year</th>\n",
       "      <th>arrival_month</th>\n",
       "      <th>arrival_date</th>\n",
       "      <th>market_segment_type</th>\n",
       "      <th>repeated_guest</th>\n",
       "      <th>no_of_previous_cancellations</th>\n",
       "      <th>no_of_previous_bookings_not_canceled</th>\n",
       "      <th>avg_price_per_room</th>\n",
       "      <th>no_of_special_requests</th>\n",
       "      <th>booking_status</th>\n",
       "    </tr>\n",
       "    <tr>\n",
       "      <th>Booking_ID</th>\n",
       "      <th></th>\n",
       "      <th></th>\n",
       "      <th></th>\n",
       "      <th></th>\n",
       "      <th></th>\n",
       "      <th></th>\n",
       "      <th></th>\n",
       "      <th></th>\n",
       "      <th></th>\n",
       "      <th></th>\n",
       "      <th></th>\n",
       "      <th></th>\n",
       "      <th></th>\n",
       "      <th></th>\n",
       "      <th></th>\n",
       "      <th></th>\n",
       "      <th></th>\n",
       "      <th></th>\n",
       "    </tr>\n",
       "  </thead>\n",
       "  <tbody>\n",
       "    <tr>\n",
       "      <th>INN10204</th>\n",
       "      <td>NaN</td>\n",
       "      <td>NaN</td>\n",
       "      <td>NaN</td>\n",
       "      <td>2.0</td>\n",
       "      <td>Meal Plan 2</td>\n",
       "      <td>NaN</td>\n",
       "      <td>Room_Type 6</td>\n",
       "      <td>NaN</td>\n",
       "      <td>2018.0</td>\n",
       "      <td>9.0</td>\n",
       "      <td>NaN</td>\n",
       "      <td>Online</td>\n",
       "      <td>0.0</td>\n",
       "      <td>0.0</td>\n",
       "      <td>NaN</td>\n",
       "      <td>NaN</td>\n",
       "      <td>1.0</td>\n",
       "      <td>0.0</td>\n",
       "    </tr>\n",
       "    <tr>\n",
       "      <th>INN20020</th>\n",
       "      <td>NaN</td>\n",
       "      <td>NaN</td>\n",
       "      <td>NaN</td>\n",
       "      <td>2.0</td>\n",
       "      <td>Meal Plan 1</td>\n",
       "      <td>NaN</td>\n",
       "      <td>NaN</td>\n",
       "      <td>NaN</td>\n",
       "      <td>NaN</td>\n",
       "      <td>12.0</td>\n",
       "      <td>NaN</td>\n",
       "      <td>Online</td>\n",
       "      <td>0.0</td>\n",
       "      <td>0.0</td>\n",
       "      <td>0.0</td>\n",
       "      <td>NaN</td>\n",
       "      <td>NaN</td>\n",
       "      <td>0.0</td>\n",
       "    </tr>\n",
       "    <tr>\n",
       "      <th>INN16435</th>\n",
       "      <td>1.0</td>\n",
       "      <td>NaN</td>\n",
       "      <td>NaN</td>\n",
       "      <td>2.0</td>\n",
       "      <td>NaN</td>\n",
       "      <td>0.0</td>\n",
       "      <td>Room_Type 1</td>\n",
       "      <td>NaN</td>\n",
       "      <td>2018.0</td>\n",
       "      <td>11.0</td>\n",
       "      <td>NaN</td>\n",
       "      <td>NaN</td>\n",
       "      <td>0.0</td>\n",
       "      <td>0.0</td>\n",
       "      <td>NaN</td>\n",
       "      <td>NaN</td>\n",
       "      <td>1.0</td>\n",
       "      <td>0.0</td>\n",
       "    </tr>\n",
       "    <tr>\n",
       "      <th>INN07143</th>\n",
       "      <td>3.0</td>\n",
       "      <td>NaN</td>\n",
       "      <td>NaN</td>\n",
       "      <td>3.0</td>\n",
       "      <td>NaN</td>\n",
       "      <td>NaN</td>\n",
       "      <td>NaN</td>\n",
       "      <td>100.0</td>\n",
       "      <td>2018.0</td>\n",
       "      <td>5.0</td>\n",
       "      <td>NaN</td>\n",
       "      <td>Online</td>\n",
       "      <td>0.0</td>\n",
       "      <td>0.0</td>\n",
       "      <td>NaN</td>\n",
       "      <td>NaN</td>\n",
       "      <td>2.0</td>\n",
       "      <td>0.0</td>\n",
       "    </tr>\n",
       "    <tr>\n",
       "      <th>INN20511</th>\n",
       "      <td>1.0</td>\n",
       "      <td>0.0</td>\n",
       "      <td>1.0</td>\n",
       "      <td>1.0</td>\n",
       "      <td>Meal Plan 1</td>\n",
       "      <td>0.0</td>\n",
       "      <td>NaN</td>\n",
       "      <td>NaN</td>\n",
       "      <td>2018.0</td>\n",
       "      <td>11.0</td>\n",
       "      <td>NaN</td>\n",
       "      <td>NaN</td>\n",
       "      <td>0.0</td>\n",
       "      <td>0.0</td>\n",
       "      <td>0.0</td>\n",
       "      <td>150.0</td>\n",
       "      <td>NaN</td>\n",
       "      <td>1.0</td>\n",
       "    </tr>\n",
       "    <tr>\n",
       "      <th>...</th>\n",
       "      <td>...</td>\n",
       "      <td>...</td>\n",
       "      <td>...</td>\n",
       "      <td>...</td>\n",
       "      <td>...</td>\n",
       "      <td>...</td>\n",
       "      <td>...</td>\n",
       "      <td>...</td>\n",
       "      <td>...</td>\n",
       "      <td>...</td>\n",
       "      <td>...</td>\n",
       "      <td>...</td>\n",
       "      <td>...</td>\n",
       "      <td>...</td>\n",
       "      <td>...</td>\n",
       "      <td>...</td>\n",
       "      <td>...</td>\n",
       "      <td>...</td>\n",
       "    </tr>\n",
       "    <tr>\n",
       "      <th>INN16851</th>\n",
       "      <td>2.0</td>\n",
       "      <td>NaN</td>\n",
       "      <td>NaN</td>\n",
       "      <td>NaN</td>\n",
       "      <td>Meal Plan 1</td>\n",
       "      <td>NaN</td>\n",
       "      <td>NaN</td>\n",
       "      <td>43.0</td>\n",
       "      <td>2017.0</td>\n",
       "      <td>12.0</td>\n",
       "      <td>26.0</td>\n",
       "      <td>Offline</td>\n",
       "      <td>NaN</td>\n",
       "      <td>0.0</td>\n",
       "      <td>0.0</td>\n",
       "      <td>NaN</td>\n",
       "      <td>2.0</td>\n",
       "      <td>0.0</td>\n",
       "    </tr>\n",
       "    <tr>\n",
       "      <th>INN06266</th>\n",
       "      <td>1.0</td>\n",
       "      <td>NaN</td>\n",
       "      <td>NaN</td>\n",
       "      <td>2.0</td>\n",
       "      <td>Meal Plan 2</td>\n",
       "      <td>0.0</td>\n",
       "      <td>Room_Type 1</td>\n",
       "      <td>102.0</td>\n",
       "      <td>2017.0</td>\n",
       "      <td>10.0</td>\n",
       "      <td>NaN</td>\n",
       "      <td>Online</td>\n",
       "      <td>NaN</td>\n",
       "      <td>0.0</td>\n",
       "      <td>NaN</td>\n",
       "      <td>80.0</td>\n",
       "      <td>NaN</td>\n",
       "      <td>1.0</td>\n",
       "    </tr>\n",
       "    <tr>\n",
       "      <th>INN11285</th>\n",
       "      <td>2.0</td>\n",
       "      <td>NaN</td>\n",
       "      <td>NaN</td>\n",
       "      <td>2.0</td>\n",
       "      <td>NaN</td>\n",
       "      <td>NaN</td>\n",
       "      <td>NaN</td>\n",
       "      <td>NaN</td>\n",
       "      <td>2018.0</td>\n",
       "      <td>5.0</td>\n",
       "      <td>NaN</td>\n",
       "      <td>Corporate</td>\n",
       "      <td>0.0</td>\n",
       "      <td>0.0</td>\n",
       "      <td>0.0</td>\n",
       "      <td>NaN</td>\n",
       "      <td>1.0</td>\n",
       "      <td>0.0</td>\n",
       "    </tr>\n",
       "    <tr>\n",
       "      <th>INN00861</th>\n",
       "      <td>2.0</td>\n",
       "      <td>NaN</td>\n",
       "      <td>NaN</td>\n",
       "      <td>3.0</td>\n",
       "      <td>Meal Plan 1</td>\n",
       "      <td>0.0</td>\n",
       "      <td>NaN</td>\n",
       "      <td>NaN</td>\n",
       "      <td>2018.0</td>\n",
       "      <td>6.0</td>\n",
       "      <td>NaN</td>\n",
       "      <td>Online</td>\n",
       "      <td>NaN</td>\n",
       "      <td>0.0</td>\n",
       "      <td>NaN</td>\n",
       "      <td>NaN</td>\n",
       "      <td>0.0</td>\n",
       "      <td>1.0</td>\n",
       "    </tr>\n",
       "    <tr>\n",
       "      <th>INN15796</th>\n",
       "      <td>2.0</td>\n",
       "      <td>NaN</td>\n",
       "      <td>NaN</td>\n",
       "      <td>2.0</td>\n",
       "      <td>NaN</td>\n",
       "      <td>NaN</td>\n",
       "      <td>NaN</td>\n",
       "      <td>14.0</td>\n",
       "      <td>2018.0</td>\n",
       "      <td>9.0</td>\n",
       "      <td>15.0</td>\n",
       "      <td>Online</td>\n",
       "      <td>NaN</td>\n",
       "      <td>0.0</td>\n",
       "      <td>NaN</td>\n",
       "      <td>NaN</td>\n",
       "      <td>NaN</td>\n",
       "      <td>0.0</td>\n",
       "    </tr>\n",
       "  </tbody>\n",
       "</table>\n",
       "<p>32647 rows × 18 columns</p>\n",
       "</div>"
      ],
      "text/plain": [
       "            no_of_adults  no_of_children  no_of_weekend_nights  \\\n",
       "Booking_ID                                                       \n",
       "INN10204             NaN             NaN                   NaN   \n",
       "INN20020             NaN             NaN                   NaN   \n",
       "INN16435             1.0             NaN                   NaN   \n",
       "INN07143             3.0             NaN                   NaN   \n",
       "INN20511             1.0             0.0                   1.0   \n",
       "...                  ...             ...                   ...   \n",
       "INN16851             2.0             NaN                   NaN   \n",
       "INN06266             1.0             NaN                   NaN   \n",
       "INN11285             2.0             NaN                   NaN   \n",
       "INN00861             2.0             NaN                   NaN   \n",
       "INN15796             2.0             NaN                   NaN   \n",
       "\n",
       "            no_of_week_nights type_of_meal_plan  required_car_parking_space  \\\n",
       "Booking_ID                                                                    \n",
       "INN10204                  2.0       Meal Plan 2                         NaN   \n",
       "INN20020                  2.0       Meal Plan 1                         NaN   \n",
       "INN16435                  2.0               NaN                         0.0   \n",
       "INN07143                  3.0               NaN                         NaN   \n",
       "INN20511                  1.0       Meal Plan 1                         0.0   \n",
       "...                       ...               ...                         ...   \n",
       "INN16851                  NaN       Meal Plan 1                         NaN   \n",
       "INN06266                  2.0       Meal Plan 2                         0.0   \n",
       "INN11285                  2.0               NaN                         NaN   \n",
       "INN00861                  3.0       Meal Plan 1                         0.0   \n",
       "INN15796                  2.0               NaN                         NaN   \n",
       "\n",
       "           room_type_reserved  lead_time  arrival_year  arrival_month  \\\n",
       "Booking_ID                                                              \n",
       "INN10204          Room_Type 6        NaN        2018.0            9.0   \n",
       "INN20020                  NaN        NaN           NaN           12.0   \n",
       "INN16435          Room_Type 1        NaN        2018.0           11.0   \n",
       "INN07143                  NaN      100.0        2018.0            5.0   \n",
       "INN20511                  NaN        NaN        2018.0           11.0   \n",
       "...                       ...        ...           ...            ...   \n",
       "INN16851                  NaN       43.0        2017.0           12.0   \n",
       "INN06266          Room_Type 1      102.0        2017.0           10.0   \n",
       "INN11285                  NaN        NaN        2018.0            5.0   \n",
       "INN00861                  NaN        NaN        2018.0            6.0   \n",
       "INN15796                  NaN       14.0        2018.0            9.0   \n",
       "\n",
       "            arrival_date market_segment_type  repeated_guest  \\\n",
       "Booking_ID                                                     \n",
       "INN10204             NaN              Online             0.0   \n",
       "INN20020             NaN              Online             0.0   \n",
       "INN16435             NaN                 NaN             0.0   \n",
       "INN07143             NaN              Online             0.0   \n",
       "INN20511             NaN                 NaN             0.0   \n",
       "...                  ...                 ...             ...   \n",
       "INN16851            26.0             Offline             NaN   \n",
       "INN06266             NaN              Online             NaN   \n",
       "INN11285             NaN           Corporate             0.0   \n",
       "INN00861             NaN              Online             NaN   \n",
       "INN15796            15.0              Online             NaN   \n",
       "\n",
       "            no_of_previous_cancellations  \\\n",
       "Booking_ID                                 \n",
       "INN10204                             0.0   \n",
       "INN20020                             0.0   \n",
       "INN16435                             0.0   \n",
       "INN07143                             0.0   \n",
       "INN20511                             0.0   \n",
       "...                                  ...   \n",
       "INN16851                             0.0   \n",
       "INN06266                             0.0   \n",
       "INN11285                             0.0   \n",
       "INN00861                             0.0   \n",
       "INN15796                             0.0   \n",
       "\n",
       "            no_of_previous_bookings_not_canceled  avg_price_per_room  \\\n",
       "Booking_ID                                                             \n",
       "INN10204                                     NaN                 NaN   \n",
       "INN20020                                     0.0                 NaN   \n",
       "INN16435                                     NaN                 NaN   \n",
       "INN07143                                     NaN                 NaN   \n",
       "INN20511                                     0.0               150.0   \n",
       "...                                          ...                 ...   \n",
       "INN16851                                     0.0                 NaN   \n",
       "INN06266                                     NaN                80.0   \n",
       "INN11285                                     0.0                 NaN   \n",
       "INN00861                                     NaN                 NaN   \n",
       "INN15796                                     NaN                 NaN   \n",
       "\n",
       "            no_of_special_requests  booking_status  \n",
       "Booking_ID                                          \n",
       "INN10204                       1.0             0.0  \n",
       "INN20020                       NaN             0.0  \n",
       "INN16435                       1.0             0.0  \n",
       "INN07143                       2.0             0.0  \n",
       "INN20511                       NaN             1.0  \n",
       "...                            ...             ...  \n",
       "INN16851                       2.0             0.0  \n",
       "INN06266                       NaN             1.0  \n",
       "INN11285                       1.0             0.0  \n",
       "INN00861                       0.0             1.0  \n",
       "INN15796                       NaN             0.0  \n",
       "\n",
       "[32647 rows x 18 columns]"
      ]
     },
     "execution_count": 4,
     "metadata": {},
     "output_type": "execute_result"
    }
   ],
   "source": [
    "data"
   ]
  },
  {
   "cell_type": "code",
   "execution_count": 5,
   "metadata": {
    "ExecuteTime": {
     "end_time": "2023-04-24T11:11:09.106133Z",
     "start_time": "2023-04-24T11:11:09.073532Z"
    }
   },
   "outputs": [],
   "source": [
    "# define list of predictors\n",
    "cols_pred = list(data.columns[0:-1])\n",
    "\n",
    "# define list of numerical predictors\n",
    "cols_pred_num = [col for col in cols_pred if data[col].dtype != 'O']\n",
    "# define list of categorical predictors\n",
    "cols_pred_cat = [col for col in cols_pred if data[col].dtype == 'O']\n"
   ]
  },
  {
   "cell_type": "markdown",
   "metadata": {
    "ExecuteTime": {
     "end_time": "2023-04-17T13:22:19.403543Z",
     "start_time": "2023-04-17T13:22:19.388923Z"
    }
   },
   "source": [
    "Booking_ID: unique identifier of each booking\n",
    "no_of_adults: Number of adults\n",
    "no_of_children: Number of Children\n",
    "no_of_weekend_nights: Number of weekend nights (Saturday or Sunday) the guest stayed or booked to stay at the hotel\n",
    "no_of_week_nights: Number of week nights (Monday to Friday) the guest stayed or booked to stay at the hotel\n",
    "type_of_meal_plan: Type of meal plan booked by the customer:\n",
    "required_car_parking_space: Does the customer require a car parking space? (0 - No, 1- Yes)\n",
    "room_type_reserved: Type of room reserved by the customer. The values are ciphered (encoded) by INN Hotels.\n",
    "lead_time: Number of days between the date of booking and the arrival date\n",
    "arrival_year: Year of arrival date\n",
    "arrival_month: Month of arrival date\n",
    "arrival_date: Date of the month\n",
    "market_segment_type: Market segment designation.\n",
    "repeated_guest: Is the customer a repeated guest? (0 - No, 1- Yes)\n",
    "no_of_previous_cancellations: Number of previous bookings that were canceled by the customer prior to the current booking\n",
    "no_of_previous_bookings_not_canceled: Number of previous bookings not canceled by the customer prior to the current booking\n",
    "avg_price_per_room: Average price per day of the reservation; prices of the rooms are dynamic. (in euros)\n",
    "no_of_special_requests: Total number of special requests made by the customer (e.g. high floor, view from the room, etc)\n",
    "booking_status: Flag indicating if the booking was canceled or not."
   ]
  },
  {
   "cell_type": "code",
   "execution_count": 6,
   "metadata": {
    "ExecuteTime": {
     "end_time": "2023-04-24T11:11:11.117328Z",
     "start_time": "2023-04-24T11:11:11.096147Z"
    }
   },
   "outputs": [
    {
     "data": {
      "text/plain": [
       "['no_of_adults',\n",
       " 'no_of_children',\n",
       " 'no_of_weekend_nights',\n",
       " 'no_of_week_nights',\n",
       " 'required_car_parking_space',\n",
       " 'lead_time',\n",
       " 'arrival_year',\n",
       " 'arrival_month',\n",
       " 'arrival_date',\n",
       " 'repeated_guest',\n",
       " 'no_of_previous_cancellations',\n",
       " 'no_of_previous_bookings_not_canceled',\n",
       " 'avg_price_per_room',\n",
       " 'no_of_special_requests']"
      ]
     },
     "execution_count": 6,
     "metadata": {},
     "output_type": "execute_result"
    }
   ],
   "source": [
    "cols_pred_num\n",
    "\n",
    "#arrival date je blbost kterou vyhodim, ale arrival month bych asi mohla udelat kategorickej\n",
    "#ostatni promenny jsou bud skutecne numericky nebo 0-1"
   ]
  },
  {
   "cell_type": "code",
   "execution_count": 7,
   "metadata": {
    "ExecuteTime": {
     "end_time": "2023-04-24T11:11:11.763407Z",
     "start_time": "2023-04-24T11:11:11.755391Z"
    }
   },
   "outputs": [],
   "source": [
    "cols_pred_num.remove('arrival_month')\n",
    "cols_pred_cat.append('arrival_month')"
   ]
  },
  {
   "cell_type": "code",
   "execution_count": 8,
   "metadata": {
    "ExecuteTime": {
     "end_time": "2023-04-24T11:11:13.955101Z",
     "start_time": "2023-04-24T11:11:13.913963Z"
    }
   },
   "outputs": [
    {
     "data": {
      "text/plain": [
       "0.0    21774\n",
       "1.0    10521\n",
       "Name: booking_status, dtype: int64"
      ]
     },
     "execution_count": 8,
     "metadata": {},
     "output_type": "execute_result"
    }
   ],
   "source": [
    "data = data.dropna(subset=['booking_status'])\n",
    "data.booking_status.value_counts(dropna=False)"
   ]
  },
  {
   "cell_type": "code",
   "execution_count": 9,
   "metadata": {
    "ExecuteTime": {
     "end_time": "2023-04-24T11:12:26.008982Z",
     "start_time": "2023-04-24T11:12:25.556910Z"
    }
   },
   "outputs": [
    {
     "name": "stderr",
     "output_type": "stream",
     "text": [
      "/var/folders/qt/9ghf87fd40589wf9l6s3w6680000gn/T/ipykernel_74230/3272553581.py:3: SettingWithCopyWarning: \n",
      "A value is trying to be set on a copy of a slice from a DataFrame.\n",
      "Try using .loc[row_indexer,col_indexer] = value instead\n",
      "\n",
      "See the caveats in the documentation: https://pandas.pydata.org/pandas-docs/stable/user_guide/indexing.html#returning-a-view-versus-a-copy\n",
      "  data.loc[data_train.index, 'sample'] = 'train'\n"
     ]
    }
   ],
   "source": [
    "\n",
    "#kdybychom chteli stratifikovat podle neceho dalsiho, museli bychom zlikvidovat unavailable data, coz je skoda. zaroven stratifikace podle booking status asi trochu pomaha - soude z grafu nize\n",
    "data_train, data_rest = train_test_split(data, test_size=0.4, random_state = 12,stratify = (data[[\"booking_status\"]]))\n",
    "data.loc[data_train.index, 'sample'] = 'train'\n",
    "# use train_test_split to split the rest into valid and test (don't forget seed); use stratification\n",
    "data_valid, data_test = train_test_split(data_rest, test_size=0.5, random_state = 12, stratify = (data_rest[[\"booking_status\"]]))\n",
    "data.loc[data_valid.index, 'sample'] = 'valid'\n",
    "data.loc[data_test.index, 'sample'] = 'test'"
   ]
  },
  {
   "cell_type": "code",
   "execution_count": 10,
   "metadata": {
    "ExecuteTime": {
     "end_time": "2023-04-24T11:12:26.397625Z",
     "start_time": "2023-04-24T11:12:26.368790Z"
    }
   },
   "outputs": [],
   "source": [
    "train_mask = (data['sample'] == 'train')\n",
    "valid_mask = (data['sample'] == 'valid')\n",
    "test_mask = (data['sample'] == 'test')"
   ]
  },
  {
   "cell_type": "code",
   "execution_count": 11,
   "metadata": {
    "ExecuteTime": {
     "end_time": "2023-04-24T11:12:26.765021Z",
     "start_time": "2023-04-24T11:12:26.734584Z"
    }
   },
   "outputs": [],
   "source": [
    "# define function to plot default rate in time for different samples\n",
    "def default_rate_in_time_per_sample(dt, col_target, col_month, col_sample):\n",
    "    # group by over month and sample\n",
    "    dt_grp = dt.groupby([col_month, col_sample]).agg(\n",
    "        def_rt = (col_target, np.mean)\n",
    "    ).reset_index()\n",
    "    \n",
    "    # pivot sample values to columns\n",
    "    dt_grp_pivot = dt_grp.pivot(index = col_month, columns = col_sample, values = 'def_rt')\n",
    "\n",
    "    # plot default rate in time\n",
    "    lines = plt.plot(range(len(dt_grp_pivot)), dt_grp_pivot, marker = 'o')\n",
    "    plt.xticks(range(len(dt_grp_pivot)), dt_grp_pivot.index, rotation = 90)\n",
    "    # set legend\n",
    "    plt.legend(iter(lines), tuple(dt_grp_pivot.columns), loc='best', bbox_to_anchor=(1.05, 1))\n",
    "    \n",
    "    plt.ylim([0, 1])\n",
    "    plt.ylabel('default rate')\n",
    "    plt.xlabel('month')\n",
    "    plt.show()"
   ]
  },
  {
   "cell_type": "code",
   "execution_count": null,
   "metadata": {
    "ExecuteTime": {
     "end_time": "2023-04-24T11:12:27.561156Z",
     "start_time": "2023-04-24T11:12:27.174490Z"
    }
   },
   "outputs": [],
   "source": []
  },
  {
   "cell_type": "markdown",
   "metadata": {},
   "source": [
    "# Data processing"
   ]
  },
  {
   "cell_type": "code",
   "execution_count": 13,
   "metadata": {
    "ExecuteTime": {
     "end_time": "2023-04-24T11:12:32.812047Z",
     "start_time": "2023-04-24T11:12:32.764938Z"
    }
   },
   "outputs": [
    {
     "name": "stdout",
     "output_type": "stream",
     "text": [
      "No other columns with infinity values\n"
     ]
    }
   ],
   "source": [
    "# find columns with infinity values\n",
    "cols_with_inf = []\n",
    "for col in cols_pred_num:\n",
    "    if np.any(np.isinf(data[col])):\n",
    "        cols_with_inf.append(col)\n",
    "        print(f'Column {col} includes infinity values.')\n",
    "\n",
    "# find columns with negative infinity values\n",
    "cols_with_neginf = []\n",
    "for col in cols_pred_num:\n",
    "    if np.any(np.isneginf(data[col])):\n",
    "        cols_with_neginf.append(col)\n",
    "        print(f'Column {col} includes negative infinity values.')\n",
    "print(\"No other columns with infinity values\")"
   ]
  },
  {
   "cell_type": "markdown",
   "metadata": {},
   "source": [
    "# categorical variables ecoding"
   ]
  },
  {
   "cell_type": "code",
   "execution_count": 14,
   "metadata": {
    "ExecuteTime": {
     "end_time": "2023-04-24T11:12:33.769306Z",
     "start_time": "2023-04-24T11:12:33.758327Z"
    }
   },
   "outputs": [],
   "source": [
    "def mean_target_encoding(dt, predictor, target, alpha = 0.01):\n",
    "    total_cnt = len(dt)\n",
    "    total_dr = np.mean(dt[target])\n",
    "    dt_grp = dt.groupby(predictor).agg(\n",
    "        categ_dr = (target, np.mean),\n",
    "        categ_cnt = (target, len)\n",
    "    )\n",
    "    \n",
    "    dt_grp['categ_freq'] = dt_grp['categ_cnt'] / total_cnt\n",
    "    dt_grp['categ_encoding'] = (dt_grp['categ_freq'] * dt_grp['categ_dr'] + alpha * total_dr) / (dt_grp['categ_freq'] + alpha)\n",
    "    \n",
    "    return dt_grp[['categ_encoding']].to_dict()['categ_encoding']"
   ]
  },
  {
   "cell_type": "code",
   "execution_count": 15,
   "metadata": {
    "ExecuteTime": {
     "end_time": "2023-04-24T11:12:35.133389Z",
     "start_time": "2023-04-24T11:12:34.778701Z"
    }
   },
   "outputs": [
    {
     "data": {
      "application/vnd.jupyter.widget-view+json": {
       "model_id": "2e32316f85f340da924372119b580b12",
       "version_major": 2,
       "version_minor": 0
      },
      "text/plain": [
       "  0%|          | 0/4 [00:00<?, ?it/s]"
      ]
     },
     "metadata": {},
     "output_type": "display_data"
    },
    {
     "name": "stderr",
     "output_type": "stream",
     "text": [
      "/var/folders/qt/9ghf87fd40589wf9l6s3w6680000gn/T/ipykernel_74230/2915958815.py:37: SettingWithCopyWarning: \n",
      "A value is trying to be set on a copy of a slice from a DataFrame.\n",
      "Try using .loc[row_indexer,col_indexer] = value instead\n",
      "\n",
      "See the caveats in the documentation: https://pandas.pydata.org/pandas-docs/stable/user_guide/indexing.html#returning-a-view-versus-a-copy\n",
      "  data['MTE_' + pred] = data[pred].replace(new_vals)\n",
      "/var/folders/qt/9ghf87fd40589wf9l6s3w6680000gn/T/ipykernel_74230/2915958815.py:37: SettingWithCopyWarning: \n",
      "A value is trying to be set on a copy of a slice from a DataFrame.\n",
      "Try using .loc[row_indexer,col_indexer] = value instead\n",
      "\n",
      "See the caveats in the documentation: https://pandas.pydata.org/pandas-docs/stable/user_guide/indexing.html#returning-a-view-versus-a-copy\n",
      "  data['MTE_' + pred] = data[pred].replace(new_vals)\n",
      "/var/folders/qt/9ghf87fd40589wf9l6s3w6680000gn/T/ipykernel_74230/2915958815.py:37: SettingWithCopyWarning: \n",
      "A value is trying to be set on a copy of a slice from a DataFrame.\n",
      "Try using .loc[row_indexer,col_indexer] = value instead\n",
      "\n",
      "See the caveats in the documentation: https://pandas.pydata.org/pandas-docs/stable/user_guide/indexing.html#returning-a-view-versus-a-copy\n",
      "  data['MTE_' + pred] = data[pred].replace(new_vals)\n",
      "/var/folders/qt/9ghf87fd40589wf9l6s3w6680000gn/T/ipykernel_74230/2915958815.py:37: SettingWithCopyWarning: \n",
      "A value is trying to be set on a copy of a slice from a DataFrame.\n",
      "Try using .loc[row_indexer,col_indexer] = value instead\n",
      "\n",
      "See the caveats in the documentation: https://pandas.pydata.org/pandas-docs/stable/user_guide/indexing.html#returning-a-view-versus-a-copy\n",
      "  data['MTE_' + pred] = data[pred].replace(new_vals)\n"
     ]
    }
   ],
   "source": [
    "total_dr = np.mean(data[train_mask][col_target])\n",
    "\n",
    "# encode categorical predictors\n",
    "for pred in tqdm(cols_pred_cat):\n",
    "    if len(data[pred].unique()) < 5:\n",
    "        dummies = pd.get_dummies(\n",
    "            data[pred], \n",
    "            prefix = pred,\n",
    "            prefix_sep = '_',\n",
    "            dummy_na = True if data[pred].isnull().sum() > 0 else False,\n",
    "            drop_first = False\n",
    "        )\n",
    "        \n",
    "        for d in dummies.columns:\n",
    "            if d in data.columns:\n",
    "                del data[d]\n",
    "                \n",
    "        data = data.join(dummies)\n",
    "        \n",
    "        for col in dummies.columns:\n",
    "            if col not in cols_pred:\n",
    "                cols_pred.append(col)\n",
    "        \n",
    "        if pred in cols_pred:\n",
    "            cols_pred.remove(pred)\n",
    "    else:\n",
    "        new_vals = mean_target_encoding(\n",
    "            dt=data[train_mask], \n",
    "            predictor=pred, \n",
    "            target=col_target\n",
    "        )\n",
    "\n",
    "        additional_values = set(data[data[pred].notnull()][pred].unique()) - set(new_vals.keys())\n",
    "        for p in additional_values:\n",
    "            new_vals[p] = total_dr\n",
    "\n",
    "        data['MTE_' + pred] = data[pred].replace(new_vals)\n",
    "        \n",
    "        if 'MTE_' + pred not in cols_pred:\n",
    "            cols_pred.append('MTE_' + pred)\n",
    "        \n",
    "        if pred in cols_pred:\n",
    "            cols_pred.remove(pred)"
   ]
  },
  {
   "cell_type": "code",
   "execution_count": 20,
   "metadata": {},
   "outputs": [],
   "source": [
    "cols_pred\n",
    "to_remove = [\"arrival_date\",\"no_of_children\",\"repeated_guest\",\"MTE_room_type_reserved\"]\n",
    "questionable = [\"avg_price_per_room\",\"MTE_type_of_meal_plan\",\"required_car_parking_space\",\"no_of_previous_bookings_not_canceled\"]\n",
    "rm_1 = [\"avg_price_per_room\",\"MTE_type_of_meal_plan\"]\n",
    "rm_2 = [\"MTE_type_of_meal_plan\",\"required_car_parking_space\"]\n",
    "rm_3 = [\"MTE_type_of_meal_plan\",\"required_car_parking_space\",\"no_of_previous_bookings_not_canceled\"]\n",
    "rm_4 = [\"avg_price_per_room\",\"MTE_type_of_meal_plan\",\"required_car_parking_space\"]\n",
    "\n",
    "\n",
    "aaa = cols_pred\n",
    "bbb = [x for x in cols_pred if x not in to_remove]\n",
    "ccc = [x for x in bbb if x not in questionable]\n",
    "ddd = [x for x in bbb if x not in rm_1]\n",
    "eee = [x for x in bbb if x not in rm_2]\n",
    "fff = [x for x in bbb if x not in rm_3]\n",
    "ggg = [x for x in bbb if x not in rm_4]\n",
    "\n",
    "predictor_set_list = [aaa,bbb,ccc,ddd,eee,fff,ggg]\n",
    "\n",
    "predictor_set = predictor_set_list[2]"
   ]
  },
  {
   "cell_type": "markdown",
   "metadata": {},
   "source": [
    "# Model"
   ]
  },
  {
   "cell_type": "code",
   "execution_count": 21,
   "metadata": {
    "ExecuteTime": {
     "end_time": "2023-04-24T11:12:47.613261Z",
     "start_time": "2023-04-24T11:12:45.296325Z"
    }
   },
   "outputs": [
    {
     "name": "stdout",
     "output_type": "stream",
     "text": [
      "[16:09:30] WARNING: /var/folders/sy/f16zz6x50xz3113nwtb9bvq00000gp/T/abs_b2k4a2hea3/croot/xgboost-split_1675457783214/work/src/learner.cc:767: \n",
      "Parameters: { \"verbose_eval\" } are not used.\n",
      "\n"
     ]
    }
   ],
   "source": [
    "params = {    \n",
    "    'max_depth': 5,\n",
    "    'eta': 0.10,\n",
    "    'lambda': 0.1,\n",
    "    \"subsample\":0.7,\n",
    "    'objective': 'binary:logistic',\n",
    "    'eval_metric': 'auc',\n",
    "    \"verbose_eval\": 'false'\n",
    "}\n",
    "\n",
    "\n",
    "evals_result = {}\n",
    "booster = xgb.train(\n",
    "    verbose_eval=False,\n",
    "    params = params,\n",
    "    dtrain = xgb.DMatrix(data[train_mask][predictor_set], data[train_mask][col_target]),\n",
    "    num_boost_round = 200,\n",
    "    evals = (\n",
    "        (xgb.DMatrix(data[train_mask][predictor_set], data[train_mask][col_target]), 'train'),\n",
    "        (xgb.DMatrix(data[test_mask][predictor_set], data[test_mask][col_target]), 'test'),\n",
    "        (xgb.DMatrix(data[valid_mask][predictor_set], data[valid_mask][col_target]), 'valid')\n",
    "    ),\n",
    "    evals_result = evals_result,\n",
    "    early_stopping_rounds = 10\n",
    ")\n"
   ]
  },
  {
   "cell_type": "code",
   "execution_count": null,
   "metadata": {},
   "outputs": [],
   "source": [
    "dtest = xgb.DMatrix(data[valid_mask][predictor_set])\n",
    "y_pred = booster.predict(dtest)\n",
    "y_true = data[valid_mask][col_target]\n",
    "y_true = y_true.values\n",
    "roc_auc = roc_auc_score( y_true,y_pred)\n",
    "\n",
    "AUC = roc_auc\n",
    "\n"
   ]
  },
  {
   "cell_type": "markdown",
   "metadata": {},
   "source": [
    "# loading test set"
   ]
  },
  {
   "cell_type": "code",
   "execution_count": 28,
   "metadata": {},
   "outputs": [],
   "source": [
    "data = pd.read_csv('/Users/pavelrezabek/Desktop/data-science-2-HA_1/data-science-2-HA_1/2023_DS2_HW1_data_test.csv', sep = ',', decimal = '.', index_col = 'Booking_ID')"
   ]
  },
  {
   "cell_type": "code",
   "execution_count": 42,
   "metadata": {},
   "outputs": [],
   "source": [
    "# define list of predictors\n",
    "cols_pred = list(data.columns[0:-1])\n",
    "\n",
    "# define list of numerical predictors\n",
    "cols_pred_num = [col for col in cols_pred if data[col].dtype != 'O']\n",
    "# define list of categorical predictors\n",
    "cols_pred_cat = [col for col in cols_pred if data[col].dtype == 'O']\n"
   ]
  },
  {
   "cell_type": "code",
   "execution_count": 43,
   "metadata": {},
   "outputs": [
    {
     "data": {
      "text/plain": [
       "['no_of_adults',\n",
       " 'no_of_children',\n",
       " 'no_of_weekend_nights',\n",
       " 'no_of_week_nights',\n",
       " 'required_car_parking_space',\n",
       " 'lead_time',\n",
       " 'arrival_year',\n",
       " 'arrival_month',\n",
       " 'arrival_date',\n",
       " 'repeated_guest',\n",
       " 'no_of_previous_cancellations',\n",
       " 'no_of_previous_bookings_not_canceled',\n",
       " 'avg_price_per_room']"
      ]
     },
     "execution_count": 43,
     "metadata": {},
     "output_type": "execute_result"
    }
   ],
   "source": [
    "cols_pred_num\n",
    "\n",
    "#arrival date je blbost kterou vyhodim, ale arrival month bych asi mohla udelat kategorickej\n",
    "#ostatni promenny jsou bud skutecne numericky nebo 0-1"
   ]
  },
  {
   "cell_type": "code",
   "execution_count": 44,
   "metadata": {},
   "outputs": [],
   "source": [
    "cols_pred_num.remove('arrival_month')\n",
    "cols_pred_cat.append('arrival_month')"
   ]
  },
  {
   "cell_type": "code",
   "execution_count": 45,
   "metadata": {},
   "outputs": [
    {
     "name": "stdout",
     "output_type": "stream",
     "text": [
      "No other columns with infinity values\n"
     ]
    }
   ],
   "source": [
    "# find columns with infinity values\n",
    "cols_with_inf = []\n",
    "for col in cols_pred_num:\n",
    "    if np.any(np.isinf(data[col])):\n",
    "        cols_with_inf.append(col)\n",
    "        print(f'Column {col} includes infinity values.')\n",
    "\n",
    "# find columns with negative infinity values\n",
    "cols_with_neginf = []\n",
    "for col in cols_pred_num:\n",
    "    if np.any(np.isneginf(data[col])):\n",
    "        cols_with_neginf.append(col)\n",
    "        print(f'Column {col} includes negative infinity values.')\n",
    "print(\"No other columns with infinity values\")"
   ]
  },
  {
   "cell_type": "code",
   "execution_count": 46,
   "metadata": {},
   "outputs": [],
   "source": [
    "def mean_target_encoding(dt, predictor, target, alpha = 0.01):\n",
    "    total_cnt = len(dt)\n",
    "    total_dr = np.mean(dt[target])\n",
    "    dt_grp = dt.groupby(predictor).agg(\n",
    "        categ_dr = (target, np.mean),\n",
    "        categ_cnt = (target, len)\n",
    "    )\n",
    "    \n",
    "    dt_grp['categ_freq'] = dt_grp['categ_cnt'] / total_cnt\n",
    "    dt_grp['categ_encoding'] = (dt_grp['categ_freq'] * dt_grp['categ_dr'] + alpha * total_dr) / (dt_grp['categ_freq'] + alpha)\n",
    "    \n",
    "    return dt_grp[['categ_encoding']].to_dict()['categ_encoding']"
   ]
  },
  {
   "cell_type": "code",
   "execution_count": 48,
   "metadata": {},
   "outputs": [
    {
     "data": {
      "application/vnd.jupyter.widget-view+json": {
       "model_id": "9d2f27f62943445cb14beb4cd0674853",
       "version_major": 2,
       "version_minor": 0
      },
      "text/plain": [
       "  0%|          | 0/4 [00:00<?, ?it/s]"
      ]
     },
     "metadata": {},
     "output_type": "display_data"
    },
    {
     "name": "stderr",
     "output_type": "stream",
     "text": [
      "/var/folders/qt/9ghf87fd40589wf9l6s3w6680000gn/T/ipykernel_74230/3352728915.py:26: UserWarning: Boolean Series key will be reindexed to match DataFrame index.\n",
      "  dt=data[train_mask],\n"
     ]
    },
    {
     "ename": "IndexingError",
     "evalue": "Unalignable boolean Series provided as indexer (index of the boolean Series and of the indexed object do not match).",
     "output_type": "error",
     "traceback": [
      "\u001b[0;31m---------------------------------------------------------------------------\u001b[0m",
      "\u001b[0;31mIndexingError\u001b[0m                             Traceback (most recent call last)",
      "Input \u001b[0;32mIn [48]\u001b[0m, in \u001b[0;36m<cell line: 2>\u001b[0;34m()\u001b[0m\n\u001b[1;32m     23\u001b[0m         cols_pred\u001b[38;5;241m.\u001b[39mremove(pred)\n\u001b[1;32m     24\u001b[0m \u001b[38;5;28;01melse\u001b[39;00m:\n\u001b[1;32m     25\u001b[0m     new_vals \u001b[38;5;241m=\u001b[39m mean_target_encoding(\n\u001b[0;32m---> 26\u001b[0m         dt\u001b[38;5;241m=\u001b[39m\u001b[43mdata\u001b[49m\u001b[43m[\u001b[49m\u001b[43mtrain_mask\u001b[49m\u001b[43m]\u001b[49m, \n\u001b[1;32m     27\u001b[0m         predictor\u001b[38;5;241m=\u001b[39mpred, \n\u001b[1;32m     28\u001b[0m         target\u001b[38;5;241m=\u001b[39mcol_target\n\u001b[1;32m     29\u001b[0m     )\n\u001b[1;32m     31\u001b[0m     additional_values \u001b[38;5;241m=\u001b[39m \u001b[38;5;28mset\u001b[39m(data[data[pred]\u001b[38;5;241m.\u001b[39mnotnull()][pred]\u001b[38;5;241m.\u001b[39munique()) \u001b[38;5;241m-\u001b[39m \u001b[38;5;28mset\u001b[39m(new_vals\u001b[38;5;241m.\u001b[39mkeys())\n\u001b[1;32m     32\u001b[0m     \u001b[38;5;28;01mfor\u001b[39;00m p \u001b[38;5;129;01min\u001b[39;00m additional_values:\n",
      "File \u001b[0;32m/opt/anaconda3/lib/python3.8/site-packages/pandas/core/frame.py:3496\u001b[0m, in \u001b[0;36mDataFrame.__getitem__\u001b[0;34m(self, key)\u001b[0m\n\u001b[1;32m   3494\u001b[0m \u001b[38;5;66;03m# Do we have a (boolean) 1d indexer?\u001b[39;00m\n\u001b[1;32m   3495\u001b[0m \u001b[38;5;28;01mif\u001b[39;00m com\u001b[38;5;241m.\u001b[39mis_bool_indexer(key):\n\u001b[0;32m-> 3496\u001b[0m     \u001b[38;5;28;01mreturn\u001b[39;00m \u001b[38;5;28;43mself\u001b[39;49m\u001b[38;5;241;43m.\u001b[39;49m\u001b[43m_getitem_bool_array\u001b[49m\u001b[43m(\u001b[49m\u001b[43mkey\u001b[49m\u001b[43m)\u001b[49m\n\u001b[1;32m   3498\u001b[0m \u001b[38;5;66;03m# We are left with two options: a single key, and a collection of keys,\u001b[39;00m\n\u001b[1;32m   3499\u001b[0m \u001b[38;5;66;03m# We interpret tuples as collections only for non-MultiIndex\u001b[39;00m\n\u001b[1;32m   3500\u001b[0m is_single_key \u001b[38;5;241m=\u001b[39m \u001b[38;5;28misinstance\u001b[39m(key, \u001b[38;5;28mtuple\u001b[39m) \u001b[38;5;129;01mor\u001b[39;00m \u001b[38;5;129;01mnot\u001b[39;00m is_list_like(key)\n",
      "File \u001b[0;32m/opt/anaconda3/lib/python3.8/site-packages/pandas/core/frame.py:3549\u001b[0m, in \u001b[0;36mDataFrame._getitem_bool_array\u001b[0;34m(self, key)\u001b[0m\n\u001b[1;32m   3543\u001b[0m     \u001b[38;5;28;01mraise\u001b[39;00m \u001b[38;5;167;01mValueError\u001b[39;00m(\n\u001b[1;32m   3544\u001b[0m         \u001b[38;5;124mf\u001b[39m\u001b[38;5;124m\"\u001b[39m\u001b[38;5;124mItem wrong length \u001b[39m\u001b[38;5;132;01m{\u001b[39;00m\u001b[38;5;28mlen\u001b[39m(key)\u001b[38;5;132;01m}\u001b[39;00m\u001b[38;5;124m instead of \u001b[39m\u001b[38;5;132;01m{\u001b[39;00m\u001b[38;5;28mlen\u001b[39m(\u001b[38;5;28mself\u001b[39m\u001b[38;5;241m.\u001b[39mindex)\u001b[38;5;132;01m}\u001b[39;00m\u001b[38;5;124m.\u001b[39m\u001b[38;5;124m\"\u001b[39m\n\u001b[1;32m   3545\u001b[0m     )\n\u001b[1;32m   3547\u001b[0m \u001b[38;5;66;03m# check_bool_indexer will throw exception if Series key cannot\u001b[39;00m\n\u001b[1;32m   3548\u001b[0m \u001b[38;5;66;03m# be reindexed to match DataFrame rows\u001b[39;00m\n\u001b[0;32m-> 3549\u001b[0m key \u001b[38;5;241m=\u001b[39m \u001b[43mcheck_bool_indexer\u001b[49m\u001b[43m(\u001b[49m\u001b[38;5;28;43mself\u001b[39;49m\u001b[38;5;241;43m.\u001b[39;49m\u001b[43mindex\u001b[49m\u001b[43m,\u001b[49m\u001b[43m \u001b[49m\u001b[43mkey\u001b[49m\u001b[43m)\u001b[49m\n\u001b[1;32m   3550\u001b[0m indexer \u001b[38;5;241m=\u001b[39m key\u001b[38;5;241m.\u001b[39mnonzero()[\u001b[38;5;241m0\u001b[39m]\n\u001b[1;32m   3551\u001b[0m \u001b[38;5;28;01mreturn\u001b[39;00m \u001b[38;5;28mself\u001b[39m\u001b[38;5;241m.\u001b[39m_take_with_is_copy(indexer, axis\u001b[38;5;241m=\u001b[39m\u001b[38;5;241m0\u001b[39m)\n",
      "File \u001b[0;32m/opt/anaconda3/lib/python3.8/site-packages/pandas/core/indexing.py:2388\u001b[0m, in \u001b[0;36mcheck_bool_indexer\u001b[0;34m(index, key)\u001b[0m\n\u001b[1;32m   2386\u001b[0m     mask \u001b[38;5;241m=\u001b[39m isna(result\u001b[38;5;241m.\u001b[39m_values)\n\u001b[1;32m   2387\u001b[0m     \u001b[38;5;28;01mif\u001b[39;00m mask\u001b[38;5;241m.\u001b[39many():\n\u001b[0;32m-> 2388\u001b[0m         \u001b[38;5;28;01mraise\u001b[39;00m IndexingError(\n\u001b[1;32m   2389\u001b[0m             \u001b[38;5;124m\"\u001b[39m\u001b[38;5;124mUnalignable boolean Series provided as \u001b[39m\u001b[38;5;124m\"\u001b[39m\n\u001b[1;32m   2390\u001b[0m             \u001b[38;5;124m\"\u001b[39m\u001b[38;5;124mindexer (index of the boolean Series and of \u001b[39m\u001b[38;5;124m\"\u001b[39m\n\u001b[1;32m   2391\u001b[0m             \u001b[38;5;124m\"\u001b[39m\u001b[38;5;124mthe indexed object do not match).\u001b[39m\u001b[38;5;124m\"\u001b[39m\n\u001b[1;32m   2392\u001b[0m         )\n\u001b[1;32m   2393\u001b[0m     \u001b[38;5;28;01mreturn\u001b[39;00m result\u001b[38;5;241m.\u001b[39mastype(\u001b[38;5;28mbool\u001b[39m)\u001b[38;5;241m.\u001b[39m_values\n\u001b[1;32m   2394\u001b[0m \u001b[38;5;28;01mif\u001b[39;00m is_object_dtype(key):\n\u001b[1;32m   2395\u001b[0m     \u001b[38;5;66;03m# key might be object-dtype bool, check_array_indexer needs bool array\u001b[39;00m\n",
      "\u001b[0;31mIndexingError\u001b[0m: Unalignable boolean Series provided as indexer (index of the boolean Series and of the indexed object do not match)."
     ]
    }
   ],
   "source": [
    "\n",
    "# encode categorical predictors\n",
    "for pred in tqdm(cols_pred_cat):\n",
    "    if len(data[pred].unique()) < 5:\n",
    "        dummies = pd.get_dummies(\n",
    "            data[pred], \n",
    "            prefix = pred,\n",
    "            prefix_sep = '_',\n",
    "            dummy_na = True if data[pred].isnull().sum() > 0 else False,\n",
    "            drop_first = False\n",
    "        )\n",
    "        \n",
    "        for d in dummies.columns:\n",
    "            if d in data.columns:\n",
    "                del data[d]\n",
    "                \n",
    "        data = data.join(dummies)\n",
    "        \n",
    "        for col in dummies.columns:\n",
    "            if col not in cols_pred:\n",
    "                cols_pred.append(col)\n",
    "        \n",
    "        if pred in cols_pred:\n",
    "            cols_pred.remove(pred)\n",
    "    else:\n",
    "        new_vals = mean_target_encoding(\n",
    "            dt=data[train_mask], \n",
    "            predictor=pred, \n",
    "            target=col_target\n",
    "        )\n",
    "\n",
    "        additional_values = set(data[data[pred].notnull()][pred].unique()) - set(new_vals.keys())\n",
    "        for p in additional_values:\n",
    "            new_vals[p] = total_dr\n",
    "\n",
    "        data['MTE_' + pred] = data[pred].replace(new_vals)\n",
    "        \n",
    "        if 'MTE_' + pred not in cols_pred:\n",
    "            cols_pred.append('MTE_' + pred)\n",
    "        \n",
    "        if pred in cols_pred:\n",
    "            cols_pred.remove(pred)"
   ]
  },
  {
   "cell_type": "code",
   "execution_count": null,
   "metadata": {},
   "outputs": [],
   "source": []
  }
 ],
 "metadata": {
  "kernelspec": {
   "display_name": "Python 3 (ipykernel)",
   "language": "python",
   "name": "python3"
  },
  "language_info": {
   "codemirror_mode": {
    "name": "ipython",
    "version": 3
   },
   "file_extension": ".py",
   "mimetype": "text/x-python",
   "name": "python",
   "nbconvert_exporter": "python",
   "pygments_lexer": "ipython3",
   "version": "3.8.12"
  },
  "toc": {
   "base_numbering": 1,
   "nav_menu": {},
   "number_sections": true,
   "sideBar": true,
   "skip_h1_title": false,
   "title_cell": "Table of Contents",
   "title_sidebar": "Contents",
   "toc_cell": false,
   "toc_position": {},
   "toc_section_display": true,
   "toc_window_display": false
  },
  "varInspector": {
   "cols": {
    "lenName": 16,
    "lenType": 16,
    "lenVar": 40
   },
   "kernels_config": {
    "python": {
     "delete_cmd_postfix": "",
     "delete_cmd_prefix": "del ",
     "library": "var_list.py",
     "varRefreshCmd": "print(var_dic_list())"
    },
    "r": {
     "delete_cmd_postfix": ") ",
     "delete_cmd_prefix": "rm(",
     "library": "var_list.r",
     "varRefreshCmd": "cat(var_dic_list()) "
    }
   },
   "types_to_exclude": [
    "module",
    "function",
    "builtin_function_or_method",
    "instance",
    "_Feature"
   ],
   "window_display": false
  }
 },
 "nbformat": 4,
 "nbformat_minor": 4
}
